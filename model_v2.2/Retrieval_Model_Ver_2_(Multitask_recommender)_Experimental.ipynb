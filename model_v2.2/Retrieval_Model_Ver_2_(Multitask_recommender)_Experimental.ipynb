{
  "nbformat": 4,
  "nbformat_minor": 0,
  "metadata": {
    "colab": {
      "name": "Retrieval_Model_Ver_2_(Multitask_recommender) Experimental.ipynb",
      "provenance": [],
      "collapsed_sections": [
        "g4bwyBnikR0s",
        "VpzmeDIltZuh",
        "1NxltrVLVPR_",
        "PPdD4CGJY76t"
      ],
      "include_colab_link": true
    },
    "kernelspec": {
      "name": "python3",
      "display_name": "Python 3"
    },
    "language_info": {
      "name": "python"
    },
    "widgets": {
      "application/vnd.jupyter.widget-state+json": {
        "73d571784bdd411894cb65dc7cdc4578": {
          "model_module": "@jupyter-widgets/controls",
          "model_name": "HBoxModel",
          "model_module_version": "1.5.0",
          "state": {
            "_dom_classes": [],
            "_model_module": "@jupyter-widgets/controls",
            "_model_module_version": "1.5.0",
            "_model_name": "HBoxModel",
            "_view_count": null,
            "_view_module": "@jupyter-widgets/controls",
            "_view_module_version": "1.5.0",
            "_view_name": "HBoxView",
            "box_style": "",
            "children": [
              "IPY_MODEL_13bd851e9dbc498d948af68edfcfc5ee",
              "IPY_MODEL_999894f6705e4d34b45444a61e8e55ef",
              "IPY_MODEL_95295f556247406b8cf12d76a462c1a1"
            ],
            "layout": "IPY_MODEL_281dd9eb53064d369c380f3ade1acf66"
          }
        },
        "13bd851e9dbc498d948af68edfcfc5ee": {
          "model_module": "@jupyter-widgets/controls",
          "model_name": "HTMLModel",
          "model_module_version": "1.5.0",
          "state": {
            "_dom_classes": [],
            "_model_module": "@jupyter-widgets/controls",
            "_model_module_version": "1.5.0",
            "_model_name": "HTMLModel",
            "_view_count": null,
            "_view_module": "@jupyter-widgets/controls",
            "_view_module_version": "1.5.0",
            "_view_name": "HTMLView",
            "description": "",
            "description_tooltip": null,
            "layout": "IPY_MODEL_6ef92a171ef24f18acd7e700567de566",
            "placeholder": "​",
            "style": "IPY_MODEL_1287ea2e79a045cf913fbb6be850bc80",
            "value": "Generating splits...: 100%"
          }
        },
        "999894f6705e4d34b45444a61e8e55ef": {
          "model_module": "@jupyter-widgets/controls",
          "model_name": "FloatProgressModel",
          "model_module_version": "1.5.0",
          "state": {
            "_dom_classes": [],
            "_model_module": "@jupyter-widgets/controls",
            "_model_module_version": "1.5.0",
            "_model_name": "FloatProgressModel",
            "_view_count": null,
            "_view_module": "@jupyter-widgets/controls",
            "_view_module_version": "1.5.0",
            "_view_name": "ProgressView",
            "bar_style": "",
            "description": "",
            "description_tooltip": null,
            "layout": "IPY_MODEL_5ecd21e2b2484d1dbb8cb806bb409f81",
            "max": 1,
            "min": 0,
            "orientation": "horizontal",
            "style": "IPY_MODEL_ca74487bebec4453b43191cfb2b97ddd",
            "value": 1
          }
        },
        "95295f556247406b8cf12d76a462c1a1": {
          "model_module": "@jupyter-widgets/controls",
          "model_name": "HTMLModel",
          "model_module_version": "1.5.0",
          "state": {
            "_dom_classes": [],
            "_model_module": "@jupyter-widgets/controls",
            "_model_module_version": "1.5.0",
            "_model_name": "HTMLModel",
            "_view_count": null,
            "_view_module": "@jupyter-widgets/controls",
            "_view_module_version": "1.5.0",
            "_view_name": "HTMLView",
            "description": "",
            "description_tooltip": null,
            "layout": "IPY_MODEL_457effb9e1b6490aa25d255c32efa216",
            "placeholder": "​",
            "style": "IPY_MODEL_4f0eca594dc14f1e8dc2cc40dddfecec",
            "value": " 1/1 [00:08&lt;00:00,  8.32s/ splits]"
          }
        },
        "281dd9eb53064d369c380f3ade1acf66": {
          "model_module": "@jupyter-widgets/base",
          "model_name": "LayoutModel",
          "model_module_version": "1.2.0",
          "state": {
            "_model_module": "@jupyter-widgets/base",
            "_model_module_version": "1.2.0",
            "_model_name": "LayoutModel",
            "_view_count": null,
            "_view_module": "@jupyter-widgets/base",
            "_view_module_version": "1.2.0",
            "_view_name": "LayoutView",
            "align_content": null,
            "align_items": null,
            "align_self": null,
            "border": null,
            "bottom": null,
            "display": null,
            "flex": null,
            "flex_flow": null,
            "grid_area": null,
            "grid_auto_columns": null,
            "grid_auto_flow": null,
            "grid_auto_rows": null,
            "grid_column": null,
            "grid_gap": null,
            "grid_row": null,
            "grid_template_areas": null,
            "grid_template_columns": null,
            "grid_template_rows": null,
            "height": null,
            "justify_content": null,
            "justify_items": null,
            "left": null,
            "margin": null,
            "max_height": null,
            "max_width": null,
            "min_height": null,
            "min_width": null,
            "object_fit": null,
            "object_position": null,
            "order": null,
            "overflow": null,
            "overflow_x": null,
            "overflow_y": null,
            "padding": null,
            "right": null,
            "top": null,
            "visibility": null,
            "width": null
          }
        },
        "6ef92a171ef24f18acd7e700567de566": {
          "model_module": "@jupyter-widgets/base",
          "model_name": "LayoutModel",
          "model_module_version": "1.2.0",
          "state": {
            "_model_module": "@jupyter-widgets/base",
            "_model_module_version": "1.2.0",
            "_model_name": "LayoutModel",
            "_view_count": null,
            "_view_module": "@jupyter-widgets/base",
            "_view_module_version": "1.2.0",
            "_view_name": "LayoutView",
            "align_content": null,
            "align_items": null,
            "align_self": null,
            "border": null,
            "bottom": null,
            "display": null,
            "flex": null,
            "flex_flow": null,
            "grid_area": null,
            "grid_auto_columns": null,
            "grid_auto_flow": null,
            "grid_auto_rows": null,
            "grid_column": null,
            "grid_gap": null,
            "grid_row": null,
            "grid_template_areas": null,
            "grid_template_columns": null,
            "grid_template_rows": null,
            "height": null,
            "justify_content": null,
            "justify_items": null,
            "left": null,
            "margin": null,
            "max_height": null,
            "max_width": null,
            "min_height": null,
            "min_width": null,
            "object_fit": null,
            "object_position": null,
            "order": null,
            "overflow": null,
            "overflow_x": null,
            "overflow_y": null,
            "padding": null,
            "right": null,
            "top": null,
            "visibility": null,
            "width": null
          }
        },
        "1287ea2e79a045cf913fbb6be850bc80": {
          "model_module": "@jupyter-widgets/controls",
          "model_name": "DescriptionStyleModel",
          "model_module_version": "1.5.0",
          "state": {
            "_model_module": "@jupyter-widgets/controls",
            "_model_module_version": "1.5.0",
            "_model_name": "DescriptionStyleModel",
            "_view_count": null,
            "_view_module": "@jupyter-widgets/base",
            "_view_module_version": "1.2.0",
            "_view_name": "StyleView",
            "description_width": ""
          }
        },
        "5ecd21e2b2484d1dbb8cb806bb409f81": {
          "model_module": "@jupyter-widgets/base",
          "model_name": "LayoutModel",
          "model_module_version": "1.2.0",
          "state": {
            "_model_module": "@jupyter-widgets/base",
            "_model_module_version": "1.2.0",
            "_model_name": "LayoutModel",
            "_view_count": null,
            "_view_module": "@jupyter-widgets/base",
            "_view_module_version": "1.2.0",
            "_view_name": "LayoutView",
            "align_content": null,
            "align_items": null,
            "align_self": null,
            "border": null,
            "bottom": null,
            "display": null,
            "flex": null,
            "flex_flow": null,
            "grid_area": null,
            "grid_auto_columns": null,
            "grid_auto_flow": null,
            "grid_auto_rows": null,
            "grid_column": null,
            "grid_gap": null,
            "grid_row": null,
            "grid_template_areas": null,
            "grid_template_columns": null,
            "grid_template_rows": null,
            "height": null,
            "justify_content": null,
            "justify_items": null,
            "left": null,
            "margin": null,
            "max_height": null,
            "max_width": null,
            "min_height": null,
            "min_width": null,
            "object_fit": null,
            "object_position": null,
            "order": null,
            "overflow": null,
            "overflow_x": null,
            "overflow_y": null,
            "padding": null,
            "right": null,
            "top": null,
            "visibility": null,
            "width": null
          }
        },
        "ca74487bebec4453b43191cfb2b97ddd": {
          "model_module": "@jupyter-widgets/controls",
          "model_name": "ProgressStyleModel",
          "model_module_version": "1.5.0",
          "state": {
            "_model_module": "@jupyter-widgets/controls",
            "_model_module_version": "1.5.0",
            "_model_name": "ProgressStyleModel",
            "_view_count": null,
            "_view_module": "@jupyter-widgets/base",
            "_view_module_version": "1.2.0",
            "_view_name": "StyleView",
            "bar_color": null,
            "description_width": ""
          }
        },
        "457effb9e1b6490aa25d255c32efa216": {
          "model_module": "@jupyter-widgets/base",
          "model_name": "LayoutModel",
          "model_module_version": "1.2.0",
          "state": {
            "_model_module": "@jupyter-widgets/base",
            "_model_module_version": "1.2.0",
            "_model_name": "LayoutModel",
            "_view_count": null,
            "_view_module": "@jupyter-widgets/base",
            "_view_module_version": "1.2.0",
            "_view_name": "LayoutView",
            "align_content": null,
            "align_items": null,
            "align_self": null,
            "border": null,
            "bottom": null,
            "display": null,
            "flex": null,
            "flex_flow": null,
            "grid_area": null,
            "grid_auto_columns": null,
            "grid_auto_flow": null,
            "grid_auto_rows": null,
            "grid_column": null,
            "grid_gap": null,
            "grid_row": null,
            "grid_template_areas": null,
            "grid_template_columns": null,
            "grid_template_rows": null,
            "height": null,
            "justify_content": null,
            "justify_items": null,
            "left": null,
            "margin": null,
            "max_height": null,
            "max_width": null,
            "min_height": null,
            "min_width": null,
            "object_fit": null,
            "object_position": null,
            "order": null,
            "overflow": null,
            "overflow_x": null,
            "overflow_y": null,
            "padding": null,
            "right": null,
            "top": null,
            "visibility": null,
            "width": null
          }
        },
        "4f0eca594dc14f1e8dc2cc40dddfecec": {
          "model_module": "@jupyter-widgets/controls",
          "model_name": "DescriptionStyleModel",
          "model_module_version": "1.5.0",
          "state": {
            "_model_module": "@jupyter-widgets/controls",
            "_model_module_version": "1.5.0",
            "_model_name": "DescriptionStyleModel",
            "_view_count": null,
            "_view_module": "@jupyter-widgets/base",
            "_view_module_version": "1.2.0",
            "_view_name": "StyleView",
            "description_width": ""
          }
        },
        "fdc8c36a1c8146e69167d7414f308f51": {
          "model_module": "@jupyter-widgets/controls",
          "model_name": "HBoxModel",
          "model_module_version": "1.5.0",
          "state": {
            "_dom_classes": [],
            "_model_module": "@jupyter-widgets/controls",
            "_model_module_version": "1.5.0",
            "_model_name": "HBoxModel",
            "_view_count": null,
            "_view_module": "@jupyter-widgets/controls",
            "_view_module_version": "1.5.0",
            "_view_name": "HBoxView",
            "box_style": "",
            "children": [
              "IPY_MODEL_a833a274de4b4f8aadb65a55de41ed36",
              "IPY_MODEL_d8691f55c0ff47e0a0158f95f5d4b688",
              "IPY_MODEL_3a905fa8bc3f44ee8e2802e068f5c51d"
            ],
            "layout": "IPY_MODEL_404b1b549d074008bcd2d2f801189e69"
          }
        },
        "a833a274de4b4f8aadb65a55de41ed36": {
          "model_module": "@jupyter-widgets/controls",
          "model_name": "HTMLModel",
          "model_module_version": "1.5.0",
          "state": {
            "_dom_classes": [],
            "_model_module": "@jupyter-widgets/controls",
            "_model_module_version": "1.5.0",
            "_model_name": "HTMLModel",
            "_view_count": null,
            "_view_module": "@jupyter-widgets/controls",
            "_view_module_version": "1.5.0",
            "_view_name": "HTMLView",
            "description": "",
            "description_tooltip": null,
            "layout": "IPY_MODEL_1a8d06982ae04738b610a205877dab9d",
            "placeholder": "​",
            "style": "IPY_MODEL_39f5a3a2857c413da58aee9387b0a2d9",
            "value": "Generating train examples...: "
          }
        },
        "d8691f55c0ff47e0a0158f95f5d4b688": {
          "model_module": "@jupyter-widgets/controls",
          "model_name": "FloatProgressModel",
          "model_module_version": "1.5.0",
          "state": {
            "_dom_classes": [],
            "_model_module": "@jupyter-widgets/controls",
            "_model_module_version": "1.5.0",
            "_model_name": "FloatProgressModel",
            "_view_count": null,
            "_view_module": "@jupyter-widgets/controls",
            "_view_module_version": "1.5.0",
            "_view_name": "ProgressView",
            "bar_style": "info",
            "description": "",
            "description_tooltip": null,
            "layout": "IPY_MODEL_e8140e44e16042c09cc8a97a34b40e45",
            "max": 1,
            "min": 0,
            "orientation": "horizontal",
            "style": "IPY_MODEL_86d69e009d704fd5ab666b60243ef891",
            "value": 1
          }
        },
        "3a905fa8bc3f44ee8e2802e068f5c51d": {
          "model_module": "@jupyter-widgets/controls",
          "model_name": "HTMLModel",
          "model_module_version": "1.5.0",
          "state": {
            "_dom_classes": [],
            "_model_module": "@jupyter-widgets/controls",
            "_model_module_version": "1.5.0",
            "_model_name": "HTMLModel",
            "_view_count": null,
            "_view_module": "@jupyter-widgets/controls",
            "_view_module_version": "1.5.0",
            "_view_name": "HTMLView",
            "description": "",
            "description_tooltip": null,
            "layout": "IPY_MODEL_906c63d7de5c4ed391062ee862e14067",
            "placeholder": "​",
            "style": "IPY_MODEL_af2c54f5dbc848288bba66b84cee0df0",
            "value": " 30311/? [00:07&lt;00:00, 6134.99 examples/s]"
          }
        },
        "404b1b549d074008bcd2d2f801189e69": {
          "model_module": "@jupyter-widgets/base",
          "model_name": "LayoutModel",
          "model_module_version": "1.2.0",
          "state": {
            "_model_module": "@jupyter-widgets/base",
            "_model_module_version": "1.2.0",
            "_model_name": "LayoutModel",
            "_view_count": null,
            "_view_module": "@jupyter-widgets/base",
            "_view_module_version": "1.2.0",
            "_view_name": "LayoutView",
            "align_content": null,
            "align_items": null,
            "align_self": null,
            "border": null,
            "bottom": null,
            "display": null,
            "flex": null,
            "flex_flow": null,
            "grid_area": null,
            "grid_auto_columns": null,
            "grid_auto_flow": null,
            "grid_auto_rows": null,
            "grid_column": null,
            "grid_gap": null,
            "grid_row": null,
            "grid_template_areas": null,
            "grid_template_columns": null,
            "grid_template_rows": null,
            "height": null,
            "justify_content": null,
            "justify_items": null,
            "left": null,
            "margin": null,
            "max_height": null,
            "max_width": null,
            "min_height": null,
            "min_width": null,
            "object_fit": null,
            "object_position": null,
            "order": null,
            "overflow": null,
            "overflow_x": null,
            "overflow_y": null,
            "padding": null,
            "right": null,
            "top": null,
            "visibility": null,
            "width": null
          }
        },
        "1a8d06982ae04738b610a205877dab9d": {
          "model_module": "@jupyter-widgets/base",
          "model_name": "LayoutModel",
          "model_module_version": "1.2.0",
          "state": {
            "_model_module": "@jupyter-widgets/base",
            "_model_module_version": "1.2.0",
            "_model_name": "LayoutModel",
            "_view_count": null,
            "_view_module": "@jupyter-widgets/base",
            "_view_module_version": "1.2.0",
            "_view_name": "LayoutView",
            "align_content": null,
            "align_items": null,
            "align_self": null,
            "border": null,
            "bottom": null,
            "display": null,
            "flex": null,
            "flex_flow": null,
            "grid_area": null,
            "grid_auto_columns": null,
            "grid_auto_flow": null,
            "grid_auto_rows": null,
            "grid_column": null,
            "grid_gap": null,
            "grid_row": null,
            "grid_template_areas": null,
            "grid_template_columns": null,
            "grid_template_rows": null,
            "height": null,
            "justify_content": null,
            "justify_items": null,
            "left": null,
            "margin": null,
            "max_height": null,
            "max_width": null,
            "min_height": null,
            "min_width": null,
            "object_fit": null,
            "object_position": null,
            "order": null,
            "overflow": null,
            "overflow_x": null,
            "overflow_y": null,
            "padding": null,
            "right": null,
            "top": null,
            "visibility": null,
            "width": null
          }
        },
        "39f5a3a2857c413da58aee9387b0a2d9": {
          "model_module": "@jupyter-widgets/controls",
          "model_name": "DescriptionStyleModel",
          "model_module_version": "1.5.0",
          "state": {
            "_model_module": "@jupyter-widgets/controls",
            "_model_module_version": "1.5.0",
            "_model_name": "DescriptionStyleModel",
            "_view_count": null,
            "_view_module": "@jupyter-widgets/base",
            "_view_module_version": "1.2.0",
            "_view_name": "StyleView",
            "description_width": ""
          }
        },
        "e8140e44e16042c09cc8a97a34b40e45": {
          "model_module": "@jupyter-widgets/base",
          "model_name": "LayoutModel",
          "model_module_version": "1.2.0",
          "state": {
            "_model_module": "@jupyter-widgets/base",
            "_model_module_version": "1.2.0",
            "_model_name": "LayoutModel",
            "_view_count": null,
            "_view_module": "@jupyter-widgets/base",
            "_view_module_version": "1.2.0",
            "_view_name": "LayoutView",
            "align_content": null,
            "align_items": null,
            "align_self": null,
            "border": null,
            "bottom": null,
            "display": null,
            "flex": null,
            "flex_flow": null,
            "grid_area": null,
            "grid_auto_columns": null,
            "grid_auto_flow": null,
            "grid_auto_rows": null,
            "grid_column": null,
            "grid_gap": null,
            "grid_row": null,
            "grid_template_areas": null,
            "grid_template_columns": null,
            "grid_template_rows": null,
            "height": null,
            "justify_content": null,
            "justify_items": null,
            "left": null,
            "margin": null,
            "max_height": null,
            "max_width": null,
            "min_height": null,
            "min_width": null,
            "object_fit": null,
            "object_position": null,
            "order": null,
            "overflow": null,
            "overflow_x": null,
            "overflow_y": null,
            "padding": null,
            "right": null,
            "top": null,
            "visibility": null,
            "width": "20px"
          }
        },
        "86d69e009d704fd5ab666b60243ef891": {
          "model_module": "@jupyter-widgets/controls",
          "model_name": "ProgressStyleModel",
          "model_module_version": "1.5.0",
          "state": {
            "_model_module": "@jupyter-widgets/controls",
            "_model_module_version": "1.5.0",
            "_model_name": "ProgressStyleModel",
            "_view_count": null,
            "_view_module": "@jupyter-widgets/base",
            "_view_module_version": "1.2.0",
            "_view_name": "StyleView",
            "bar_color": null,
            "description_width": ""
          }
        },
        "906c63d7de5c4ed391062ee862e14067": {
          "model_module": "@jupyter-widgets/base",
          "model_name": "LayoutModel",
          "model_module_version": "1.2.0",
          "state": {
            "_model_module": "@jupyter-widgets/base",
            "_model_module_version": "1.2.0",
            "_model_name": "LayoutModel",
            "_view_count": null,
            "_view_module": "@jupyter-widgets/base",
            "_view_module_version": "1.2.0",
            "_view_name": "LayoutView",
            "align_content": null,
            "align_items": null,
            "align_self": null,
            "border": null,
            "bottom": null,
            "display": null,
            "flex": null,
            "flex_flow": null,
            "grid_area": null,
            "grid_auto_columns": null,
            "grid_auto_flow": null,
            "grid_auto_rows": null,
            "grid_column": null,
            "grid_gap": null,
            "grid_row": null,
            "grid_template_areas": null,
            "grid_template_columns": null,
            "grid_template_rows": null,
            "height": null,
            "justify_content": null,
            "justify_items": null,
            "left": null,
            "margin": null,
            "max_height": null,
            "max_width": null,
            "min_height": null,
            "min_width": null,
            "object_fit": null,
            "object_position": null,
            "order": null,
            "overflow": null,
            "overflow_x": null,
            "overflow_y": null,
            "padding": null,
            "right": null,
            "top": null,
            "visibility": null,
            "width": null
          }
        },
        "af2c54f5dbc848288bba66b84cee0df0": {
          "model_module": "@jupyter-widgets/controls",
          "model_name": "DescriptionStyleModel",
          "model_module_version": "1.5.0",
          "state": {
            "_model_module": "@jupyter-widgets/controls",
            "_model_module_version": "1.5.0",
            "_model_name": "DescriptionStyleModel",
            "_view_count": null,
            "_view_module": "@jupyter-widgets/base",
            "_view_module_version": "1.2.0",
            "_view_name": "StyleView",
            "description_width": ""
          }
        },
        "b935882035f644d8b78283b8ae827dc8": {
          "model_module": "@jupyter-widgets/controls",
          "model_name": "HBoxModel",
          "model_module_version": "1.5.0",
          "state": {
            "_dom_classes": [],
            "_model_module": "@jupyter-widgets/controls",
            "_model_module_version": "1.5.0",
            "_model_name": "HBoxModel",
            "_view_count": null,
            "_view_module": "@jupyter-widgets/controls",
            "_view_module_version": "1.5.0",
            "_view_name": "HBoxView",
            "box_style": "",
            "children": [
              "IPY_MODEL_44a8eaf14fd74ecb8f8db9aa0509c01b",
              "IPY_MODEL_c472ff725ed64781832ba5331f18da79",
              "IPY_MODEL_ce62aee6f57b4e489c0c6f44f1ab9f43"
            ],
            "layout": "IPY_MODEL_44431043d3ed4d36bc2c9b45552f1cbe"
          }
        },
        "44a8eaf14fd74ecb8f8db9aa0509c01b": {
          "model_module": "@jupyter-widgets/controls",
          "model_name": "HTMLModel",
          "model_module_version": "1.5.0",
          "state": {
            "_dom_classes": [],
            "_model_module": "@jupyter-widgets/controls",
            "_model_module_version": "1.5.0",
            "_model_name": "HTMLModel",
            "_view_count": null,
            "_view_module": "@jupyter-widgets/controls",
            "_view_module_version": "1.5.0",
            "_view_name": "HTMLView",
            "description": "",
            "description_tooltip": null,
            "layout": "IPY_MODEL_e24665307951432b9ffdcc582a4bea84",
            "placeholder": "​",
            "style": "IPY_MODEL_e818c2f3273445768b6e56b49cc52af2",
            "value": "Shuffling /root/tensorflow_datasets/userfeatures/1.0.0.incomplete2S8L9E/userfeatures-train.tfrecord*...:  20%"
          }
        },
        "c472ff725ed64781832ba5331f18da79": {
          "model_module": "@jupyter-widgets/controls",
          "model_name": "FloatProgressModel",
          "model_module_version": "1.5.0",
          "state": {
            "_dom_classes": [],
            "_model_module": "@jupyter-widgets/controls",
            "_model_module_version": "1.5.0",
            "_model_name": "FloatProgressModel",
            "_view_count": null,
            "_view_module": "@jupyter-widgets/controls",
            "_view_module_version": "1.5.0",
            "_view_name": "ProgressView",
            "bar_style": "",
            "description": "",
            "description_tooltip": null,
            "layout": "IPY_MODEL_cc355f3df8e94c21a2b031d034fb14b9",
            "max": 30762,
            "min": 0,
            "orientation": "horizontal",
            "style": "IPY_MODEL_77797326c3cf443a9785739ca7d641e8",
            "value": 30762
          }
        },
        "ce62aee6f57b4e489c0c6f44f1ab9f43": {
          "model_module": "@jupyter-widgets/controls",
          "model_name": "HTMLModel",
          "model_module_version": "1.5.0",
          "state": {
            "_dom_classes": [],
            "_model_module": "@jupyter-widgets/controls",
            "_model_module_version": "1.5.0",
            "_model_name": "HTMLModel",
            "_view_count": null,
            "_view_module": "@jupyter-widgets/controls",
            "_view_module_version": "1.5.0",
            "_view_name": "HTMLView",
            "description": "",
            "description_tooltip": null,
            "layout": "IPY_MODEL_d94f9c9a43674e15836bdfa2711fb88b",
            "placeholder": "​",
            "style": "IPY_MODEL_3afd459148d94afd97832baf665762e5",
            "value": " 6280/30762 [00:00&lt;00:00, 62791.23 examples/s]"
          }
        },
        "44431043d3ed4d36bc2c9b45552f1cbe": {
          "model_module": "@jupyter-widgets/base",
          "model_name": "LayoutModel",
          "model_module_version": "1.2.0",
          "state": {
            "_model_module": "@jupyter-widgets/base",
            "_model_module_version": "1.2.0",
            "_model_name": "LayoutModel",
            "_view_count": null,
            "_view_module": "@jupyter-widgets/base",
            "_view_module_version": "1.2.0",
            "_view_name": "LayoutView",
            "align_content": null,
            "align_items": null,
            "align_self": null,
            "border": null,
            "bottom": null,
            "display": null,
            "flex": null,
            "flex_flow": null,
            "grid_area": null,
            "grid_auto_columns": null,
            "grid_auto_flow": null,
            "grid_auto_rows": null,
            "grid_column": null,
            "grid_gap": null,
            "grid_row": null,
            "grid_template_areas": null,
            "grid_template_columns": null,
            "grid_template_rows": null,
            "height": null,
            "justify_content": null,
            "justify_items": null,
            "left": null,
            "margin": null,
            "max_height": null,
            "max_width": null,
            "min_height": null,
            "min_width": null,
            "object_fit": null,
            "object_position": null,
            "order": null,
            "overflow": null,
            "overflow_x": null,
            "overflow_y": null,
            "padding": null,
            "right": null,
            "top": null,
            "visibility": null,
            "width": null
          }
        },
        "e24665307951432b9ffdcc582a4bea84": {
          "model_module": "@jupyter-widgets/base",
          "model_name": "LayoutModel",
          "model_module_version": "1.2.0",
          "state": {
            "_model_module": "@jupyter-widgets/base",
            "_model_module_version": "1.2.0",
            "_model_name": "LayoutModel",
            "_view_count": null,
            "_view_module": "@jupyter-widgets/base",
            "_view_module_version": "1.2.0",
            "_view_name": "LayoutView",
            "align_content": null,
            "align_items": null,
            "align_self": null,
            "border": null,
            "bottom": null,
            "display": null,
            "flex": null,
            "flex_flow": null,
            "grid_area": null,
            "grid_auto_columns": null,
            "grid_auto_flow": null,
            "grid_auto_rows": null,
            "grid_column": null,
            "grid_gap": null,
            "grid_row": null,
            "grid_template_areas": null,
            "grid_template_columns": null,
            "grid_template_rows": null,
            "height": null,
            "justify_content": null,
            "justify_items": null,
            "left": null,
            "margin": null,
            "max_height": null,
            "max_width": null,
            "min_height": null,
            "min_width": null,
            "object_fit": null,
            "object_position": null,
            "order": null,
            "overflow": null,
            "overflow_x": null,
            "overflow_y": null,
            "padding": null,
            "right": null,
            "top": null,
            "visibility": null,
            "width": null
          }
        },
        "e818c2f3273445768b6e56b49cc52af2": {
          "model_module": "@jupyter-widgets/controls",
          "model_name": "DescriptionStyleModel",
          "model_module_version": "1.5.0",
          "state": {
            "_model_module": "@jupyter-widgets/controls",
            "_model_module_version": "1.5.0",
            "_model_name": "DescriptionStyleModel",
            "_view_count": null,
            "_view_module": "@jupyter-widgets/base",
            "_view_module_version": "1.2.0",
            "_view_name": "StyleView",
            "description_width": ""
          }
        },
        "cc355f3df8e94c21a2b031d034fb14b9": {
          "model_module": "@jupyter-widgets/base",
          "model_name": "LayoutModel",
          "model_module_version": "1.2.0",
          "state": {
            "_model_module": "@jupyter-widgets/base",
            "_model_module_version": "1.2.0",
            "_model_name": "LayoutModel",
            "_view_count": null,
            "_view_module": "@jupyter-widgets/base",
            "_view_module_version": "1.2.0",
            "_view_name": "LayoutView",
            "align_content": null,
            "align_items": null,
            "align_self": null,
            "border": null,
            "bottom": null,
            "display": null,
            "flex": null,
            "flex_flow": null,
            "grid_area": null,
            "grid_auto_columns": null,
            "grid_auto_flow": null,
            "grid_auto_rows": null,
            "grid_column": null,
            "grid_gap": null,
            "grid_row": null,
            "grid_template_areas": null,
            "grid_template_columns": null,
            "grid_template_rows": null,
            "height": null,
            "justify_content": null,
            "justify_items": null,
            "left": null,
            "margin": null,
            "max_height": null,
            "max_width": null,
            "min_height": null,
            "min_width": null,
            "object_fit": null,
            "object_position": null,
            "order": null,
            "overflow": null,
            "overflow_x": null,
            "overflow_y": null,
            "padding": null,
            "right": null,
            "top": null,
            "visibility": null,
            "width": null
          }
        },
        "77797326c3cf443a9785739ca7d641e8": {
          "model_module": "@jupyter-widgets/controls",
          "model_name": "ProgressStyleModel",
          "model_module_version": "1.5.0",
          "state": {
            "_model_module": "@jupyter-widgets/controls",
            "_model_module_version": "1.5.0",
            "_model_name": "ProgressStyleModel",
            "_view_count": null,
            "_view_module": "@jupyter-widgets/base",
            "_view_module_version": "1.2.0",
            "_view_name": "StyleView",
            "bar_color": null,
            "description_width": ""
          }
        },
        "d94f9c9a43674e15836bdfa2711fb88b": {
          "model_module": "@jupyter-widgets/base",
          "model_name": "LayoutModel",
          "model_module_version": "1.2.0",
          "state": {
            "_model_module": "@jupyter-widgets/base",
            "_model_module_version": "1.2.0",
            "_model_name": "LayoutModel",
            "_view_count": null,
            "_view_module": "@jupyter-widgets/base",
            "_view_module_version": "1.2.0",
            "_view_name": "LayoutView",
            "align_content": null,
            "align_items": null,
            "align_self": null,
            "border": null,
            "bottom": null,
            "display": null,
            "flex": null,
            "flex_flow": null,
            "grid_area": null,
            "grid_auto_columns": null,
            "grid_auto_flow": null,
            "grid_auto_rows": null,
            "grid_column": null,
            "grid_gap": null,
            "grid_row": null,
            "grid_template_areas": null,
            "grid_template_columns": null,
            "grid_template_rows": null,
            "height": null,
            "justify_content": null,
            "justify_items": null,
            "left": null,
            "margin": null,
            "max_height": null,
            "max_width": null,
            "min_height": null,
            "min_width": null,
            "object_fit": null,
            "object_position": null,
            "order": null,
            "overflow": null,
            "overflow_x": null,
            "overflow_y": null,
            "padding": null,
            "right": null,
            "top": null,
            "visibility": null,
            "width": null
          }
        },
        "3afd459148d94afd97832baf665762e5": {
          "model_module": "@jupyter-widgets/controls",
          "model_name": "DescriptionStyleModel",
          "model_module_version": "1.5.0",
          "state": {
            "_model_module": "@jupyter-widgets/controls",
            "_model_module_version": "1.5.0",
            "_model_name": "DescriptionStyleModel",
            "_view_count": null,
            "_view_module": "@jupyter-widgets/base",
            "_view_module_version": "1.2.0",
            "_view_name": "StyleView",
            "description_width": ""
          }
        },
        "5d77fa73b55a4d0f90c23f79432ad451": {
          "model_module": "@jupyter-widgets/controls",
          "model_name": "HBoxModel",
          "model_module_version": "1.5.0",
          "state": {
            "_dom_classes": [],
            "_model_module": "@jupyter-widgets/controls",
            "_model_module_version": "1.5.0",
            "_model_name": "HBoxModel",
            "_view_count": null,
            "_view_module": "@jupyter-widgets/controls",
            "_view_module_version": "1.5.0",
            "_view_name": "HBoxView",
            "box_style": "",
            "children": [
              "IPY_MODEL_2d7810f4c71e415e8446d07c09b1d71a",
              "IPY_MODEL_b67cafd426014aec81859dc40918730b",
              "IPY_MODEL_11bdfa60668e4de485e04c9f8cde23e5"
            ],
            "layout": "IPY_MODEL_6ed313fc58e04a0981919d5d3a9f2ff0"
          }
        },
        "2d7810f4c71e415e8446d07c09b1d71a": {
          "model_module": "@jupyter-widgets/controls",
          "model_name": "HTMLModel",
          "model_module_version": "1.5.0",
          "state": {
            "_dom_classes": [],
            "_model_module": "@jupyter-widgets/controls",
            "_model_module_version": "1.5.0",
            "_model_name": "HTMLModel",
            "_view_count": null,
            "_view_module": "@jupyter-widgets/controls",
            "_view_module_version": "1.5.0",
            "_view_name": "HTMLView",
            "description": "",
            "description_tooltip": null,
            "layout": "IPY_MODEL_0d7a8a18429a48a78dfdcc92d7244da1",
            "placeholder": "​",
            "style": "IPY_MODEL_694e2108527d4bd0b06e0e40a7c8bf8b",
            "value": "Generating splits...: 100%"
          }
        },
        "b67cafd426014aec81859dc40918730b": {
          "model_module": "@jupyter-widgets/controls",
          "model_name": "FloatProgressModel",
          "model_module_version": "1.5.0",
          "state": {
            "_dom_classes": [],
            "_model_module": "@jupyter-widgets/controls",
            "_model_module_version": "1.5.0",
            "_model_name": "FloatProgressModel",
            "_view_count": null,
            "_view_module": "@jupyter-widgets/controls",
            "_view_module_version": "1.5.0",
            "_view_name": "ProgressView",
            "bar_style": "",
            "description": "",
            "description_tooltip": null,
            "layout": "IPY_MODEL_53a6820d08d34e16a753aee36f0728b2",
            "max": 1,
            "min": 0,
            "orientation": "horizontal",
            "style": "IPY_MODEL_19333dbd487a41dc96ab2403334513c4",
            "value": 1
          }
        },
        "11bdfa60668e4de485e04c9f8cde23e5": {
          "model_module": "@jupyter-widgets/controls",
          "model_name": "HTMLModel",
          "model_module_version": "1.5.0",
          "state": {
            "_dom_classes": [],
            "_model_module": "@jupyter-widgets/controls",
            "_model_module_version": "1.5.0",
            "_model_name": "HTMLModel",
            "_view_count": null,
            "_view_module": "@jupyter-widgets/controls",
            "_view_module_version": "1.5.0",
            "_view_name": "HTMLView",
            "description": "",
            "description_tooltip": null,
            "layout": "IPY_MODEL_6a886758160848ccb94f334eb4657f81",
            "placeholder": "​",
            "style": "IPY_MODEL_1e4dc42cdbf144be83ca6e7a9a5e66d1",
            "value": " 1/1 [00:00&lt;00:00,  4.80 splits/s]"
          }
        },
        "6ed313fc58e04a0981919d5d3a9f2ff0": {
          "model_module": "@jupyter-widgets/base",
          "model_name": "LayoutModel",
          "model_module_version": "1.2.0",
          "state": {
            "_model_module": "@jupyter-widgets/base",
            "_model_module_version": "1.2.0",
            "_model_name": "LayoutModel",
            "_view_count": null,
            "_view_module": "@jupyter-widgets/base",
            "_view_module_version": "1.2.0",
            "_view_name": "LayoutView",
            "align_content": null,
            "align_items": null,
            "align_self": null,
            "border": null,
            "bottom": null,
            "display": null,
            "flex": null,
            "flex_flow": null,
            "grid_area": null,
            "grid_auto_columns": null,
            "grid_auto_flow": null,
            "grid_auto_rows": null,
            "grid_column": null,
            "grid_gap": null,
            "grid_row": null,
            "grid_template_areas": null,
            "grid_template_columns": null,
            "grid_template_rows": null,
            "height": null,
            "justify_content": null,
            "justify_items": null,
            "left": null,
            "margin": null,
            "max_height": null,
            "max_width": null,
            "min_height": null,
            "min_width": null,
            "object_fit": null,
            "object_position": null,
            "order": null,
            "overflow": null,
            "overflow_x": null,
            "overflow_y": null,
            "padding": null,
            "right": null,
            "top": null,
            "visibility": null,
            "width": null
          }
        },
        "0d7a8a18429a48a78dfdcc92d7244da1": {
          "model_module": "@jupyter-widgets/base",
          "model_name": "LayoutModel",
          "model_module_version": "1.2.0",
          "state": {
            "_model_module": "@jupyter-widgets/base",
            "_model_module_version": "1.2.0",
            "_model_name": "LayoutModel",
            "_view_count": null,
            "_view_module": "@jupyter-widgets/base",
            "_view_module_version": "1.2.0",
            "_view_name": "LayoutView",
            "align_content": null,
            "align_items": null,
            "align_self": null,
            "border": null,
            "bottom": null,
            "display": null,
            "flex": null,
            "flex_flow": null,
            "grid_area": null,
            "grid_auto_columns": null,
            "grid_auto_flow": null,
            "grid_auto_rows": null,
            "grid_column": null,
            "grid_gap": null,
            "grid_row": null,
            "grid_template_areas": null,
            "grid_template_columns": null,
            "grid_template_rows": null,
            "height": null,
            "justify_content": null,
            "justify_items": null,
            "left": null,
            "margin": null,
            "max_height": null,
            "max_width": null,
            "min_height": null,
            "min_width": null,
            "object_fit": null,
            "object_position": null,
            "order": null,
            "overflow": null,
            "overflow_x": null,
            "overflow_y": null,
            "padding": null,
            "right": null,
            "top": null,
            "visibility": null,
            "width": null
          }
        },
        "694e2108527d4bd0b06e0e40a7c8bf8b": {
          "model_module": "@jupyter-widgets/controls",
          "model_name": "DescriptionStyleModel",
          "model_module_version": "1.5.0",
          "state": {
            "_model_module": "@jupyter-widgets/controls",
            "_model_module_version": "1.5.0",
            "_model_name": "DescriptionStyleModel",
            "_view_count": null,
            "_view_module": "@jupyter-widgets/base",
            "_view_module_version": "1.2.0",
            "_view_name": "StyleView",
            "description_width": ""
          }
        },
        "53a6820d08d34e16a753aee36f0728b2": {
          "model_module": "@jupyter-widgets/base",
          "model_name": "LayoutModel",
          "model_module_version": "1.2.0",
          "state": {
            "_model_module": "@jupyter-widgets/base",
            "_model_module_version": "1.2.0",
            "_model_name": "LayoutModel",
            "_view_count": null,
            "_view_module": "@jupyter-widgets/base",
            "_view_module_version": "1.2.0",
            "_view_name": "LayoutView",
            "align_content": null,
            "align_items": null,
            "align_self": null,
            "border": null,
            "bottom": null,
            "display": null,
            "flex": null,
            "flex_flow": null,
            "grid_area": null,
            "grid_auto_columns": null,
            "grid_auto_flow": null,
            "grid_auto_rows": null,
            "grid_column": null,
            "grid_gap": null,
            "grid_row": null,
            "grid_template_areas": null,
            "grid_template_columns": null,
            "grid_template_rows": null,
            "height": null,
            "justify_content": null,
            "justify_items": null,
            "left": null,
            "margin": null,
            "max_height": null,
            "max_width": null,
            "min_height": null,
            "min_width": null,
            "object_fit": null,
            "object_position": null,
            "order": null,
            "overflow": null,
            "overflow_x": null,
            "overflow_y": null,
            "padding": null,
            "right": null,
            "top": null,
            "visibility": null,
            "width": null
          }
        },
        "19333dbd487a41dc96ab2403334513c4": {
          "model_module": "@jupyter-widgets/controls",
          "model_name": "ProgressStyleModel",
          "model_module_version": "1.5.0",
          "state": {
            "_model_module": "@jupyter-widgets/controls",
            "_model_module_version": "1.5.0",
            "_model_name": "ProgressStyleModel",
            "_view_count": null,
            "_view_module": "@jupyter-widgets/base",
            "_view_module_version": "1.2.0",
            "_view_name": "StyleView",
            "bar_color": null,
            "description_width": ""
          }
        },
        "6a886758160848ccb94f334eb4657f81": {
          "model_module": "@jupyter-widgets/base",
          "model_name": "LayoutModel",
          "model_module_version": "1.2.0",
          "state": {
            "_model_module": "@jupyter-widgets/base",
            "_model_module_version": "1.2.0",
            "_model_name": "LayoutModel",
            "_view_count": null,
            "_view_module": "@jupyter-widgets/base",
            "_view_module_version": "1.2.0",
            "_view_name": "LayoutView",
            "align_content": null,
            "align_items": null,
            "align_self": null,
            "border": null,
            "bottom": null,
            "display": null,
            "flex": null,
            "flex_flow": null,
            "grid_area": null,
            "grid_auto_columns": null,
            "grid_auto_flow": null,
            "grid_auto_rows": null,
            "grid_column": null,
            "grid_gap": null,
            "grid_row": null,
            "grid_template_areas": null,
            "grid_template_columns": null,
            "grid_template_rows": null,
            "height": null,
            "justify_content": null,
            "justify_items": null,
            "left": null,
            "margin": null,
            "max_height": null,
            "max_width": null,
            "min_height": null,
            "min_width": null,
            "object_fit": null,
            "object_position": null,
            "order": null,
            "overflow": null,
            "overflow_x": null,
            "overflow_y": null,
            "padding": null,
            "right": null,
            "top": null,
            "visibility": null,
            "width": null
          }
        },
        "1e4dc42cdbf144be83ca6e7a9a5e66d1": {
          "model_module": "@jupyter-widgets/controls",
          "model_name": "DescriptionStyleModel",
          "model_module_version": "1.5.0",
          "state": {
            "_model_module": "@jupyter-widgets/controls",
            "_model_module_version": "1.5.0",
            "_model_name": "DescriptionStyleModel",
            "_view_count": null,
            "_view_module": "@jupyter-widgets/base",
            "_view_module_version": "1.2.0",
            "_view_name": "StyleView",
            "description_width": ""
          }
        },
        "02cb09b0a9c44c5b825bb90d5986e3bb": {
          "model_module": "@jupyter-widgets/controls",
          "model_name": "HBoxModel",
          "model_module_version": "1.5.0",
          "state": {
            "_dom_classes": [],
            "_model_module": "@jupyter-widgets/controls",
            "_model_module_version": "1.5.0",
            "_model_name": "HBoxModel",
            "_view_count": null,
            "_view_module": "@jupyter-widgets/controls",
            "_view_module_version": "1.5.0",
            "_view_name": "HBoxView",
            "box_style": "",
            "children": [
              "IPY_MODEL_ca9b4c88d51440978407976756fa9284",
              "IPY_MODEL_8a4550dcbda845e698553d4fd645217f",
              "IPY_MODEL_2c0efee974bc4165a5133fcab3050cde"
            ],
            "layout": "IPY_MODEL_9ebbdad364894dbabd4eeea76a2d55f7"
          }
        },
        "ca9b4c88d51440978407976756fa9284": {
          "model_module": "@jupyter-widgets/controls",
          "model_name": "HTMLModel",
          "model_module_version": "1.5.0",
          "state": {
            "_dom_classes": [],
            "_model_module": "@jupyter-widgets/controls",
            "_model_module_version": "1.5.0",
            "_model_name": "HTMLModel",
            "_view_count": null,
            "_view_module": "@jupyter-widgets/controls",
            "_view_module_version": "1.5.0",
            "_view_name": "HTMLView",
            "description": "",
            "description_tooltip": null,
            "layout": "IPY_MODEL_7a02f14c119346928cf4c27f9ace240d",
            "placeholder": "​",
            "style": "IPY_MODEL_8da28af99dda4f42abd9cde9ca0abed6",
            "value": "Generating train examples...: "
          }
        },
        "8a4550dcbda845e698553d4fd645217f": {
          "model_module": "@jupyter-widgets/controls",
          "model_name": "FloatProgressModel",
          "model_module_version": "1.5.0",
          "state": {
            "_dom_classes": [],
            "_model_module": "@jupyter-widgets/controls",
            "_model_module_version": "1.5.0",
            "_model_name": "FloatProgressModel",
            "_view_count": null,
            "_view_module": "@jupyter-widgets/controls",
            "_view_module_version": "1.5.0",
            "_view_name": "ProgressView",
            "bar_style": "info",
            "description": "",
            "description_tooltip": null,
            "layout": "IPY_MODEL_f9599ce3900946d4a00f098f359fec6f",
            "max": 1,
            "min": 0,
            "orientation": "horizontal",
            "style": "IPY_MODEL_002f0ec81cec40989e5295cc7dc0b0dd",
            "value": 1
          }
        },
        "2c0efee974bc4165a5133fcab3050cde": {
          "model_module": "@jupyter-widgets/controls",
          "model_name": "HTMLModel",
          "model_module_version": "1.5.0",
          "state": {
            "_dom_classes": [],
            "_model_module": "@jupyter-widgets/controls",
            "_model_module_version": "1.5.0",
            "_model_name": "HTMLModel",
            "_view_count": null,
            "_view_module": "@jupyter-widgets/controls",
            "_view_module_version": "1.5.0",
            "_view_name": "HTMLView",
            "description": "",
            "description_tooltip": null,
            "layout": "IPY_MODEL_c2f2a3500d09470ea600d00d6d60c0c2",
            "placeholder": "​",
            "style": "IPY_MODEL_3afb28ef58084101a56ee5ea69e1af33",
            "value": " 0/? [00:00&lt;?, ? examples/s]"
          }
        },
        "9ebbdad364894dbabd4eeea76a2d55f7": {
          "model_module": "@jupyter-widgets/base",
          "model_name": "LayoutModel",
          "model_module_version": "1.2.0",
          "state": {
            "_model_module": "@jupyter-widgets/base",
            "_model_module_version": "1.2.0",
            "_model_name": "LayoutModel",
            "_view_count": null,
            "_view_module": "@jupyter-widgets/base",
            "_view_module_version": "1.2.0",
            "_view_name": "LayoutView",
            "align_content": null,
            "align_items": null,
            "align_self": null,
            "border": null,
            "bottom": null,
            "display": null,
            "flex": null,
            "flex_flow": null,
            "grid_area": null,
            "grid_auto_columns": null,
            "grid_auto_flow": null,
            "grid_auto_rows": null,
            "grid_column": null,
            "grid_gap": null,
            "grid_row": null,
            "grid_template_areas": null,
            "grid_template_columns": null,
            "grid_template_rows": null,
            "height": null,
            "justify_content": null,
            "justify_items": null,
            "left": null,
            "margin": null,
            "max_height": null,
            "max_width": null,
            "min_height": null,
            "min_width": null,
            "object_fit": null,
            "object_position": null,
            "order": null,
            "overflow": null,
            "overflow_x": null,
            "overflow_y": null,
            "padding": null,
            "right": null,
            "top": null,
            "visibility": null,
            "width": null
          }
        },
        "7a02f14c119346928cf4c27f9ace240d": {
          "model_module": "@jupyter-widgets/base",
          "model_name": "LayoutModel",
          "model_module_version": "1.2.0",
          "state": {
            "_model_module": "@jupyter-widgets/base",
            "_model_module_version": "1.2.0",
            "_model_name": "LayoutModel",
            "_view_count": null,
            "_view_module": "@jupyter-widgets/base",
            "_view_module_version": "1.2.0",
            "_view_name": "LayoutView",
            "align_content": null,
            "align_items": null,
            "align_self": null,
            "border": null,
            "bottom": null,
            "display": null,
            "flex": null,
            "flex_flow": null,
            "grid_area": null,
            "grid_auto_columns": null,
            "grid_auto_flow": null,
            "grid_auto_rows": null,
            "grid_column": null,
            "grid_gap": null,
            "grid_row": null,
            "grid_template_areas": null,
            "grid_template_columns": null,
            "grid_template_rows": null,
            "height": null,
            "justify_content": null,
            "justify_items": null,
            "left": null,
            "margin": null,
            "max_height": null,
            "max_width": null,
            "min_height": null,
            "min_width": null,
            "object_fit": null,
            "object_position": null,
            "order": null,
            "overflow": null,
            "overflow_x": null,
            "overflow_y": null,
            "padding": null,
            "right": null,
            "top": null,
            "visibility": null,
            "width": null
          }
        },
        "8da28af99dda4f42abd9cde9ca0abed6": {
          "model_module": "@jupyter-widgets/controls",
          "model_name": "DescriptionStyleModel",
          "model_module_version": "1.5.0",
          "state": {
            "_model_module": "@jupyter-widgets/controls",
            "_model_module_version": "1.5.0",
            "_model_name": "DescriptionStyleModel",
            "_view_count": null,
            "_view_module": "@jupyter-widgets/base",
            "_view_module_version": "1.2.0",
            "_view_name": "StyleView",
            "description_width": ""
          }
        },
        "f9599ce3900946d4a00f098f359fec6f": {
          "model_module": "@jupyter-widgets/base",
          "model_name": "LayoutModel",
          "model_module_version": "1.2.0",
          "state": {
            "_model_module": "@jupyter-widgets/base",
            "_model_module_version": "1.2.0",
            "_model_name": "LayoutModel",
            "_view_count": null,
            "_view_module": "@jupyter-widgets/base",
            "_view_module_version": "1.2.0",
            "_view_name": "LayoutView",
            "align_content": null,
            "align_items": null,
            "align_self": null,
            "border": null,
            "bottom": null,
            "display": null,
            "flex": null,
            "flex_flow": null,
            "grid_area": null,
            "grid_auto_columns": null,
            "grid_auto_flow": null,
            "grid_auto_rows": null,
            "grid_column": null,
            "grid_gap": null,
            "grid_row": null,
            "grid_template_areas": null,
            "grid_template_columns": null,
            "grid_template_rows": null,
            "height": null,
            "justify_content": null,
            "justify_items": null,
            "left": null,
            "margin": null,
            "max_height": null,
            "max_width": null,
            "min_height": null,
            "min_width": null,
            "object_fit": null,
            "object_position": null,
            "order": null,
            "overflow": null,
            "overflow_x": null,
            "overflow_y": null,
            "padding": null,
            "right": null,
            "top": null,
            "visibility": null,
            "width": "20px"
          }
        },
        "002f0ec81cec40989e5295cc7dc0b0dd": {
          "model_module": "@jupyter-widgets/controls",
          "model_name": "ProgressStyleModel",
          "model_module_version": "1.5.0",
          "state": {
            "_model_module": "@jupyter-widgets/controls",
            "_model_module_version": "1.5.0",
            "_model_name": "ProgressStyleModel",
            "_view_count": null,
            "_view_module": "@jupyter-widgets/base",
            "_view_module_version": "1.2.0",
            "_view_name": "StyleView",
            "bar_color": null,
            "description_width": ""
          }
        },
        "c2f2a3500d09470ea600d00d6d60c0c2": {
          "model_module": "@jupyter-widgets/base",
          "model_name": "LayoutModel",
          "model_module_version": "1.2.0",
          "state": {
            "_model_module": "@jupyter-widgets/base",
            "_model_module_version": "1.2.0",
            "_model_name": "LayoutModel",
            "_view_count": null,
            "_view_module": "@jupyter-widgets/base",
            "_view_module_version": "1.2.0",
            "_view_name": "LayoutView",
            "align_content": null,
            "align_items": null,
            "align_self": null,
            "border": null,
            "bottom": null,
            "display": null,
            "flex": null,
            "flex_flow": null,
            "grid_area": null,
            "grid_auto_columns": null,
            "grid_auto_flow": null,
            "grid_auto_rows": null,
            "grid_column": null,
            "grid_gap": null,
            "grid_row": null,
            "grid_template_areas": null,
            "grid_template_columns": null,
            "grid_template_rows": null,
            "height": null,
            "justify_content": null,
            "justify_items": null,
            "left": null,
            "margin": null,
            "max_height": null,
            "max_width": null,
            "min_height": null,
            "min_width": null,
            "object_fit": null,
            "object_position": null,
            "order": null,
            "overflow": null,
            "overflow_x": null,
            "overflow_y": null,
            "padding": null,
            "right": null,
            "top": null,
            "visibility": null,
            "width": null
          }
        },
        "3afb28ef58084101a56ee5ea69e1af33": {
          "model_module": "@jupyter-widgets/controls",
          "model_name": "DescriptionStyleModel",
          "model_module_version": "1.5.0",
          "state": {
            "_model_module": "@jupyter-widgets/controls",
            "_model_module_version": "1.5.0",
            "_model_name": "DescriptionStyleModel",
            "_view_count": null,
            "_view_module": "@jupyter-widgets/base",
            "_view_module_version": "1.2.0",
            "_view_name": "StyleView",
            "description_width": ""
          }
        },
        "b02eb6c1b42446b1b767d14992070faa": {
          "model_module": "@jupyter-widgets/controls",
          "model_name": "HBoxModel",
          "model_module_version": "1.5.0",
          "state": {
            "_dom_classes": [],
            "_model_module": "@jupyter-widgets/controls",
            "_model_module_version": "1.5.0",
            "_model_name": "HBoxModel",
            "_view_count": null,
            "_view_module": "@jupyter-widgets/controls",
            "_view_module_version": "1.5.0",
            "_view_name": "HBoxView",
            "box_style": "",
            "children": [
              "IPY_MODEL_12fd85d1f3e14fc0a154ef50333371a6",
              "IPY_MODEL_13a651afcac84bab91700204c10765bc",
              "IPY_MODEL_6f2e269dc9784031a017ffc50e05ffda"
            ],
            "layout": "IPY_MODEL_96edcd1bb77d4caba526246ea5213c7b"
          }
        },
        "12fd85d1f3e14fc0a154ef50333371a6": {
          "model_module": "@jupyter-widgets/controls",
          "model_name": "HTMLModel",
          "model_module_version": "1.5.0",
          "state": {
            "_dom_classes": [],
            "_model_module": "@jupyter-widgets/controls",
            "_model_module_version": "1.5.0",
            "_model_name": "HTMLModel",
            "_view_count": null,
            "_view_module": "@jupyter-widgets/controls",
            "_view_module_version": "1.5.0",
            "_view_name": "HTMLView",
            "description": "",
            "description_tooltip": null,
            "layout": "IPY_MODEL_2b47a43a66cc4e73b92aff9c239b20b1",
            "placeholder": "​",
            "style": "IPY_MODEL_661935f3431f40ecaab54486b76026cf",
            "value": "Shuffling /root/tensorflow_datasets/wishembedding/1.0.0.incomplete4NSTYB/wishembedding-train.tfrecord*...:   0%"
          }
        },
        "13a651afcac84bab91700204c10765bc": {
          "model_module": "@jupyter-widgets/controls",
          "model_name": "FloatProgressModel",
          "model_module_version": "1.5.0",
          "state": {
            "_dom_classes": [],
            "_model_module": "@jupyter-widgets/controls",
            "_model_module_version": "1.5.0",
            "_model_name": "FloatProgressModel",
            "_view_count": null,
            "_view_module": "@jupyter-widgets/controls",
            "_view_module_version": "1.5.0",
            "_view_name": "ProgressView",
            "bar_style": "",
            "description": "",
            "description_tooltip": null,
            "layout": "IPY_MODEL_2ec2961368f844d0aaa6961eeb42534d",
            "max": 121,
            "min": 0,
            "orientation": "horizontal",
            "style": "IPY_MODEL_8532e5eccb3d46a19a35e0c927cb7262",
            "value": 121
          }
        },
        "6f2e269dc9784031a017ffc50e05ffda": {
          "model_module": "@jupyter-widgets/controls",
          "model_name": "HTMLModel",
          "model_module_version": "1.5.0",
          "state": {
            "_dom_classes": [],
            "_model_module": "@jupyter-widgets/controls",
            "_model_module_version": "1.5.0",
            "_model_name": "HTMLModel",
            "_view_count": null,
            "_view_module": "@jupyter-widgets/controls",
            "_view_module_version": "1.5.0",
            "_view_name": "HTMLView",
            "description": "",
            "description_tooltip": null,
            "layout": "IPY_MODEL_317e0321fa0145f6961a6195af5584b1",
            "placeholder": "​",
            "style": "IPY_MODEL_b86f4ccb3694425b8fb5a06a09f585cf",
            "value": " 0/121 [00:00&lt;?, ? examples/s]"
          }
        },
        "96edcd1bb77d4caba526246ea5213c7b": {
          "model_module": "@jupyter-widgets/base",
          "model_name": "LayoutModel",
          "model_module_version": "1.2.0",
          "state": {
            "_model_module": "@jupyter-widgets/base",
            "_model_module_version": "1.2.0",
            "_model_name": "LayoutModel",
            "_view_count": null,
            "_view_module": "@jupyter-widgets/base",
            "_view_module_version": "1.2.0",
            "_view_name": "LayoutView",
            "align_content": null,
            "align_items": null,
            "align_self": null,
            "border": null,
            "bottom": null,
            "display": null,
            "flex": null,
            "flex_flow": null,
            "grid_area": null,
            "grid_auto_columns": null,
            "grid_auto_flow": null,
            "grid_auto_rows": null,
            "grid_column": null,
            "grid_gap": null,
            "grid_row": null,
            "grid_template_areas": null,
            "grid_template_columns": null,
            "grid_template_rows": null,
            "height": null,
            "justify_content": null,
            "justify_items": null,
            "left": null,
            "margin": null,
            "max_height": null,
            "max_width": null,
            "min_height": null,
            "min_width": null,
            "object_fit": null,
            "object_position": null,
            "order": null,
            "overflow": null,
            "overflow_x": null,
            "overflow_y": null,
            "padding": null,
            "right": null,
            "top": null,
            "visibility": null,
            "width": null
          }
        },
        "2b47a43a66cc4e73b92aff9c239b20b1": {
          "model_module": "@jupyter-widgets/base",
          "model_name": "LayoutModel",
          "model_module_version": "1.2.0",
          "state": {
            "_model_module": "@jupyter-widgets/base",
            "_model_module_version": "1.2.0",
            "_model_name": "LayoutModel",
            "_view_count": null,
            "_view_module": "@jupyter-widgets/base",
            "_view_module_version": "1.2.0",
            "_view_name": "LayoutView",
            "align_content": null,
            "align_items": null,
            "align_self": null,
            "border": null,
            "bottom": null,
            "display": null,
            "flex": null,
            "flex_flow": null,
            "grid_area": null,
            "grid_auto_columns": null,
            "grid_auto_flow": null,
            "grid_auto_rows": null,
            "grid_column": null,
            "grid_gap": null,
            "grid_row": null,
            "grid_template_areas": null,
            "grid_template_columns": null,
            "grid_template_rows": null,
            "height": null,
            "justify_content": null,
            "justify_items": null,
            "left": null,
            "margin": null,
            "max_height": null,
            "max_width": null,
            "min_height": null,
            "min_width": null,
            "object_fit": null,
            "object_position": null,
            "order": null,
            "overflow": null,
            "overflow_x": null,
            "overflow_y": null,
            "padding": null,
            "right": null,
            "top": null,
            "visibility": null,
            "width": null
          }
        },
        "661935f3431f40ecaab54486b76026cf": {
          "model_module": "@jupyter-widgets/controls",
          "model_name": "DescriptionStyleModel",
          "model_module_version": "1.5.0",
          "state": {
            "_model_module": "@jupyter-widgets/controls",
            "_model_module_version": "1.5.0",
            "_model_name": "DescriptionStyleModel",
            "_view_count": null,
            "_view_module": "@jupyter-widgets/base",
            "_view_module_version": "1.2.0",
            "_view_name": "StyleView",
            "description_width": ""
          }
        },
        "2ec2961368f844d0aaa6961eeb42534d": {
          "model_module": "@jupyter-widgets/base",
          "model_name": "LayoutModel",
          "model_module_version": "1.2.0",
          "state": {
            "_model_module": "@jupyter-widgets/base",
            "_model_module_version": "1.2.0",
            "_model_name": "LayoutModel",
            "_view_count": null,
            "_view_module": "@jupyter-widgets/base",
            "_view_module_version": "1.2.0",
            "_view_name": "LayoutView",
            "align_content": null,
            "align_items": null,
            "align_self": null,
            "border": null,
            "bottom": null,
            "display": null,
            "flex": null,
            "flex_flow": null,
            "grid_area": null,
            "grid_auto_columns": null,
            "grid_auto_flow": null,
            "grid_auto_rows": null,
            "grid_column": null,
            "grid_gap": null,
            "grid_row": null,
            "grid_template_areas": null,
            "grid_template_columns": null,
            "grid_template_rows": null,
            "height": null,
            "justify_content": null,
            "justify_items": null,
            "left": null,
            "margin": null,
            "max_height": null,
            "max_width": null,
            "min_height": null,
            "min_width": null,
            "object_fit": null,
            "object_position": null,
            "order": null,
            "overflow": null,
            "overflow_x": null,
            "overflow_y": null,
            "padding": null,
            "right": null,
            "top": null,
            "visibility": null,
            "width": null
          }
        },
        "8532e5eccb3d46a19a35e0c927cb7262": {
          "model_module": "@jupyter-widgets/controls",
          "model_name": "ProgressStyleModel",
          "model_module_version": "1.5.0",
          "state": {
            "_model_module": "@jupyter-widgets/controls",
            "_model_module_version": "1.5.0",
            "_model_name": "ProgressStyleModel",
            "_view_count": null,
            "_view_module": "@jupyter-widgets/base",
            "_view_module_version": "1.2.0",
            "_view_name": "StyleView",
            "bar_color": null,
            "description_width": ""
          }
        },
        "317e0321fa0145f6961a6195af5584b1": {
          "model_module": "@jupyter-widgets/base",
          "model_name": "LayoutModel",
          "model_module_version": "1.2.0",
          "state": {
            "_model_module": "@jupyter-widgets/base",
            "_model_module_version": "1.2.0",
            "_model_name": "LayoutModel",
            "_view_count": null,
            "_view_module": "@jupyter-widgets/base",
            "_view_module_version": "1.2.0",
            "_view_name": "LayoutView",
            "align_content": null,
            "align_items": null,
            "align_self": null,
            "border": null,
            "bottom": null,
            "display": null,
            "flex": null,
            "flex_flow": null,
            "grid_area": null,
            "grid_auto_columns": null,
            "grid_auto_flow": null,
            "grid_auto_rows": null,
            "grid_column": null,
            "grid_gap": null,
            "grid_row": null,
            "grid_template_areas": null,
            "grid_template_columns": null,
            "grid_template_rows": null,
            "height": null,
            "justify_content": null,
            "justify_items": null,
            "left": null,
            "margin": null,
            "max_height": null,
            "max_width": null,
            "min_height": null,
            "min_width": null,
            "object_fit": null,
            "object_position": null,
            "order": null,
            "overflow": null,
            "overflow_x": null,
            "overflow_y": null,
            "padding": null,
            "right": null,
            "top": null,
            "visibility": null,
            "width": null
          }
        },
        "b86f4ccb3694425b8fb5a06a09f585cf": {
          "model_module": "@jupyter-widgets/controls",
          "model_name": "DescriptionStyleModel",
          "model_module_version": "1.5.0",
          "state": {
            "_model_module": "@jupyter-widgets/controls",
            "_model_module_version": "1.5.0",
            "_model_name": "DescriptionStyleModel",
            "_view_count": null,
            "_view_module": "@jupyter-widgets/base",
            "_view_module_version": "1.2.0",
            "_view_name": "StyleView",
            "description_width": ""
          }
        }
      }
    }
  },
  "cells": [
    {
      "cell_type": "markdown",
      "metadata": {
        "id": "view-in-github",
        "colab_type": "text"
      },
      "source": [
        "<a href=\"https://colab.research.google.com/github/louis-not/Notogo-ML/blob/main/model_v2.2/Retrieval_Model_Ver_2_(Multitask_recommender)_Experimental.ipynb\" target=\"_parent\"><img src=\"https://colab.research.google.com/assets/colab-badge.svg\" alt=\"Open In Colab\"/></a>"
      ]
    },
    {
      "cell_type": "markdown",
      "source": [
        "## IMPORT"
      ],
      "metadata": {
        "id": "vfabl-zJjVaw"
      }
    },
    {
      "cell_type": "code",
      "source": [
        "!pip install -q tensorflow-recommenders\n",
        "!pip install -q --upgrade tensorflow-datasets"
      ],
      "metadata": {
        "id": "MZJcWjNgjcJ8",
        "colab": {
          "base_uri": "https://localhost:8080/"
        },
        "outputId": "b1f455f3-41f1-4e06-c91e-fa74a608d527"
      },
      "execution_count": 1,
      "outputs": [
        {
          "output_type": "stream",
          "name": "stdout",
          "text": [
            "\u001b[K     |████████████████████████████████| 85 kB 2.8 MB/s \n",
            "\u001b[K     |████████████████████████████████| 462 kB 37.7 MB/s \n",
            "\u001b[K     |████████████████████████████████| 4.2 MB 5.2 MB/s \n",
            "\u001b[?25h"
          ]
        }
      ]
    },
    {
      "cell_type": "code",
      "source": [
        "import os\n",
        "import pprint\n",
        "import tempfile\n",
        "\n",
        "from typing import Dict, Text\n",
        "\n",
        "import numpy as np\n",
        "import tensorflow as tf\n",
        "import tensorflow_datasets as tfds\n",
        "\n",
        "import pandas as pd\n",
        "\n",
        "import tensorflow_recommenders as tfrs\n",
        "\n",
        "# getting data\n",
        "from google.colab import auth\n",
        "import gspread\n",
        "from google.auth import default\n",
        "from gspread_dataframe import get_as_dataframe, set_with_dataframe\n",
        "\n",
        "auth.authenticate_user()\n",
        "creds, _ = default()\n",
        "gc = gspread.authorize(creds)"
      ],
      "metadata": {
        "id": "zc0yadWJjXf1"
      },
      "execution_count": 2,
      "outputs": []
    },
    {
      "cell_type": "code",
      "source": [
        "from google.colab import drive\n",
        "drive.mount('/content/drive')"
      ],
      "metadata": {
        "colab": {
          "base_uri": "https://localhost:8080/"
        },
        "id": "aeZnN2VW7z6z",
        "outputId": "cf2f5341-298a-4b09-d83b-2743b733dfd1"
      },
      "execution_count": 3,
      "outputs": [
        {
          "output_type": "stream",
          "name": "stdout",
          "text": [
            "Mounted at /content/drive\n"
          ]
        }
      ]
    },
    {
      "cell_type": "code",
      "source": [
        "cd /content/drive/MyDrive/Bangkit/Capstone/ML/ML-GH/Notogo-ML/\"model_v2.1\""
      ],
      "metadata": {
        "colab": {
          "base_uri": "https://localhost:8080/"
        },
        "id": "w53xOMLQkuvE",
        "outputId": "fc6cb4b1-4cfa-4613-f855-45eb473281ba"
      },
      "execution_count": 4,
      "outputs": [
        {
          "output_type": "stream",
          "name": "stdout",
          "text": [
            "/content/drive/MyDrive/Bangkit/Capstone/ML/ML-GH/Notogo-ML/model_v2.1\n"
          ]
        }
      ]
    },
    {
      "cell_type": "code",
      "source": [
        "print(os.getcwd())"
      ],
      "metadata": {
        "colab": {
          "base_uri": "https://localhost:8080/"
        },
        "id": "ylsxRIzFk4h8",
        "outputId": "45cc9019-c989-46fc-ba0b-bc78cebcee26"
      },
      "execution_count": 5,
      "outputs": [
        {
          "output_type": "stream",
          "name": "stdout",
          "text": [
            "/content/drive/MyDrive/Bangkit/Capstone/ML/ML-GH/Notogo-ML/model_v2.1\n"
          ]
        }
      ]
    },
    {
      "cell_type": "markdown",
      "source": [
        "## Preparing the dataset"
      ],
      "metadata": {
        "id": "g4bwyBnikR0s"
      }
    },
    {
      "cell_type": "code",
      "source": [
        "import userFeatures\n",
        "builder = tfds.builder('Userfeatures')\n",
        "userFeatureDs = tfds.load('Userfeatures',split='train')"
      ],
      "metadata": {
        "colab": {
          "base_uri": "https://localhost:8080/",
          "height": 0,
          "referenced_widgets": [
            "73d571784bdd411894cb65dc7cdc4578",
            "13bd851e9dbc498d948af68edfcfc5ee",
            "999894f6705e4d34b45444a61e8e55ef",
            "95295f556247406b8cf12d76a462c1a1",
            "281dd9eb53064d369c380f3ade1acf66",
            "6ef92a171ef24f18acd7e700567de566",
            "1287ea2e79a045cf913fbb6be850bc80",
            "5ecd21e2b2484d1dbb8cb806bb409f81",
            "ca74487bebec4453b43191cfb2b97ddd",
            "457effb9e1b6490aa25d255c32efa216",
            "4f0eca594dc14f1e8dc2cc40dddfecec",
            "fdc8c36a1c8146e69167d7414f308f51",
            "a833a274de4b4f8aadb65a55de41ed36",
            "d8691f55c0ff47e0a0158f95f5d4b688",
            "3a905fa8bc3f44ee8e2802e068f5c51d",
            "404b1b549d074008bcd2d2f801189e69",
            "1a8d06982ae04738b610a205877dab9d",
            "39f5a3a2857c413da58aee9387b0a2d9",
            "e8140e44e16042c09cc8a97a34b40e45",
            "86d69e009d704fd5ab666b60243ef891",
            "906c63d7de5c4ed391062ee862e14067",
            "af2c54f5dbc848288bba66b84cee0df0",
            "b935882035f644d8b78283b8ae827dc8",
            "44a8eaf14fd74ecb8f8db9aa0509c01b",
            "c472ff725ed64781832ba5331f18da79",
            "ce62aee6f57b4e489c0c6f44f1ab9f43",
            "44431043d3ed4d36bc2c9b45552f1cbe",
            "e24665307951432b9ffdcc582a4bea84",
            "e818c2f3273445768b6e56b49cc52af2",
            "cc355f3df8e94c21a2b031d034fb14b9",
            "77797326c3cf443a9785739ca7d641e8",
            "d94f9c9a43674e15836bdfa2711fb88b",
            "3afd459148d94afd97832baf665762e5"
          ]
        },
        "id": "rY9WTfBdm7RS",
        "outputId": "f7d6d4dd-f980-4a37-9364-06b1051a53ca"
      },
      "execution_count": 6,
      "outputs": [
        {
          "output_type": "stream",
          "name": "stdout",
          "text": [
            "\u001b[1mDownloading and preparing dataset Unknown size (download: Unknown size, generated: Unknown size, total: Unknown size) to /root/tensorflow_datasets/userfeatures/1.0.0...\u001b[0m\n"
          ]
        },
        {
          "output_type": "stream",
          "name": "stderr",
          "text": [
            "WARNING:google.auth._default:No project ID could be determined. Consider running `gcloud config set project` or setting the GOOGLE_CLOUD_PROJECT environment variable\n"
          ]
        },
        {
          "output_type": "display_data",
          "data": {
            "text/plain": [
              "Generating splits...:   0%|          | 0/1 [00:00<?, ? splits/s]"
            ],
            "application/vnd.jupyter.widget-view+json": {
              "version_major": 2,
              "version_minor": 0,
              "model_id": "73d571784bdd411894cb65dc7cdc4578"
            }
          },
          "metadata": {}
        },
        {
          "output_type": "display_data",
          "data": {
            "text/plain": [
              "Generating train examples...: 0 examples [00:00, ? examples/s]"
            ],
            "application/vnd.jupyter.widget-view+json": {
              "version_major": 2,
              "version_minor": 0,
              "model_id": "fdc8c36a1c8146e69167d7414f308f51"
            }
          },
          "metadata": {}
        },
        {
          "output_type": "display_data",
          "data": {
            "text/plain": [
              "Shuffling /root/tensorflow_datasets/userfeatures/1.0.0.incomplete2S8L9E/userfeatures-train.tfrecord*...:   0%|…"
            ],
            "application/vnd.jupyter.widget-view+json": {
              "version_major": 2,
              "version_minor": 0,
              "model_id": "b935882035f644d8b78283b8ae827dc8"
            }
          },
          "metadata": {}
        },
        {
          "output_type": "stream",
          "name": "stdout",
          "text": [
            "\u001b[1mDataset userfeatures downloaded and prepared to /root/tensorflow_datasets/userfeatures/1.0.0. Subsequent calls will reuse this data.\u001b[0m\n"
          ]
        }
      ]
    },
    {
      "cell_type": "code",
      "source": [
        "import wishEmbedding\n",
        "builder = tfds.builder('Wishembedding')\n",
        "wishEmbeddingDs = tfds.load('Wishembedding',split='train')"
      ],
      "metadata": {
        "colab": {
          "base_uri": "https://localhost:8080/",
          "height": 0,
          "referenced_widgets": [
            "5d77fa73b55a4d0f90c23f79432ad451",
            "2d7810f4c71e415e8446d07c09b1d71a",
            "b67cafd426014aec81859dc40918730b",
            "11bdfa60668e4de485e04c9f8cde23e5",
            "6ed313fc58e04a0981919d5d3a9f2ff0",
            "0d7a8a18429a48a78dfdcc92d7244da1",
            "694e2108527d4bd0b06e0e40a7c8bf8b",
            "53a6820d08d34e16a753aee36f0728b2",
            "19333dbd487a41dc96ab2403334513c4",
            "6a886758160848ccb94f334eb4657f81",
            "1e4dc42cdbf144be83ca6e7a9a5e66d1",
            "02cb09b0a9c44c5b825bb90d5986e3bb",
            "ca9b4c88d51440978407976756fa9284",
            "8a4550dcbda845e698553d4fd645217f",
            "2c0efee974bc4165a5133fcab3050cde",
            "9ebbdad364894dbabd4eeea76a2d55f7",
            "7a02f14c119346928cf4c27f9ace240d",
            "8da28af99dda4f42abd9cde9ca0abed6",
            "f9599ce3900946d4a00f098f359fec6f",
            "002f0ec81cec40989e5295cc7dc0b0dd",
            "c2f2a3500d09470ea600d00d6d60c0c2",
            "3afb28ef58084101a56ee5ea69e1af33",
            "b02eb6c1b42446b1b767d14992070faa",
            "12fd85d1f3e14fc0a154ef50333371a6",
            "13a651afcac84bab91700204c10765bc",
            "6f2e269dc9784031a017ffc50e05ffda",
            "96edcd1bb77d4caba526246ea5213c7b",
            "2b47a43a66cc4e73b92aff9c239b20b1",
            "661935f3431f40ecaab54486b76026cf",
            "2ec2961368f844d0aaa6961eeb42534d",
            "8532e5eccb3d46a19a35e0c927cb7262",
            "317e0321fa0145f6961a6195af5584b1",
            "b86f4ccb3694425b8fb5a06a09f585cf"
          ]
        },
        "id": "KE_CXF__nPmg",
        "outputId": "848e9d1c-816d-4db5-c0a4-9ad761ad3d72"
      },
      "execution_count": 7,
      "outputs": [
        {
          "output_type": "stream",
          "name": "stdout",
          "text": [
            "\u001b[1mDownloading and preparing dataset Unknown size (download: Unknown size, generated: Unknown size, total: Unknown size) to /root/tensorflow_datasets/wishembedding/1.0.0...\u001b[0m\n"
          ]
        },
        {
          "output_type": "stream",
          "name": "stderr",
          "text": [
            "WARNING:google.auth._default:No project ID could be determined. Consider running `gcloud config set project` or setting the GOOGLE_CLOUD_PROJECT environment variable\n"
          ]
        },
        {
          "output_type": "display_data",
          "data": {
            "text/plain": [
              "Generating splits...:   0%|          | 0/1 [00:00<?, ? splits/s]"
            ],
            "application/vnd.jupyter.widget-view+json": {
              "version_major": 2,
              "version_minor": 0,
              "model_id": "5d77fa73b55a4d0f90c23f79432ad451"
            }
          },
          "metadata": {}
        },
        {
          "output_type": "display_data",
          "data": {
            "text/plain": [
              "Generating train examples...: 0 examples [00:00, ? examples/s]"
            ],
            "application/vnd.jupyter.widget-view+json": {
              "version_major": 2,
              "version_minor": 0,
              "model_id": "02cb09b0a9c44c5b825bb90d5986e3bb"
            }
          },
          "metadata": {}
        },
        {
          "output_type": "display_data",
          "data": {
            "text/plain": [
              "Shuffling /root/tensorflow_datasets/wishembedding/1.0.0.incomplete4NSTYB/wishembedding-train.tfrecord*...:   0…"
            ],
            "application/vnd.jupyter.widget-view+json": {
              "version_major": 2,
              "version_minor": 0,
              "model_id": "b02eb6c1b42446b1b767d14992070faa"
            }
          },
          "metadata": {}
        },
        {
          "output_type": "stream",
          "name": "stdout",
          "text": [
            "\u001b[1mDataset wishembedding downloaded and prepared to /root/tensorflow_datasets/wishembedding/1.0.0. Subsequent calls will reuse this data.\u001b[0m\n"
          ]
        }
      ]
    },
    {
      "cell_type": "code",
      "source": [
        "ratings = userFeatureDs.map(lambda x: {\n",
        "    \"location_name\": x[\"location_name\"],\n",
        "    \"user_id\": x[\"user_id\"],\n",
        "    \"add\" : x[\"add\"],\n",
        "    \"like\" : x['like']\n",
        "})\n",
        "locations = wishEmbeddingDs.map(lambda x: x[\"location_name\"])"
      ],
      "metadata": {
        "id": "huWx0o8PnUGg"
      },
      "execution_count": 8,
      "outputs": []
    },
    {
      "cell_type": "code",
      "source": [
        "for x in ratings.take(2).as_numpy_iterator():\n",
        "  pprint.pprint(x)"
      ],
      "metadata": {
        "colab": {
          "base_uri": "https://localhost:8080/"
        },
        "id": "u9I0OIcQ33NY",
        "outputId": "86b06d57-7c1b-4b49-8561-f1d30fcf941e"
      },
      "execution_count": 9,
      "outputs": [
        {
          "output_type": "stream",
          "name": "stdout",
          "text": [
            "{'add': 0, 'like': 1, 'location_name': b'JAKARTA', 'user_id': b'93'}\n",
            "{'add': 0, 'like': 1, 'location_name': b'DUBAI', 'user_id': b'112'}\n"
          ]
        }
      ]
    },
    {
      "cell_type": "code",
      "source": [
        "tf.random.set_seed(42)\n",
        "\n",
        "NUM_DATA = ratings.__len__().numpy()\n",
        "\n",
        "shuffled = ratings.shuffle(NUM_DATA, seed=42, reshuffle_each_iteration=False)\n",
        "\n",
        "trainset_size = 0.8 * NUM_DATA\n",
        "\n",
        "train = shuffled.take(trainset_size)\n",
        "test = shuffled.skip(trainset_size).take(NUM_DATA - trainset_size)\n",
        "\n",
        "location_name = locations.batch(1000)\n",
        "user_ids = ratings.batch(1000).map(lambda x: x[\"user_id\"])\n",
        "\n",
        "unique_location_name = np.unique(np.concatenate(list(location_name)))\n",
        "unique_user_ids = np.unique(np.concatenate(list(user_ids)))"
      ],
      "metadata": {
        "id": "fwnbwMsGrgJP"
      },
      "execution_count": 10,
      "outputs": []
    },
    {
      "cell_type": "code",
      "source": [
        "cached_train = train.shuffle(NUM_DATA).batch(512).cache()\n",
        "cached_test = test.batch(256).cache()"
      ],
      "metadata": {
        "id": "K24GIoe492R0"
      },
      "execution_count": 11,
      "outputs": []
    },
    {
      "cell_type": "markdown",
      "source": [
        "## MODEL"
      ],
      "metadata": {
        "id": "VpzmeDIltZuh"
      }
    },
    {
      "cell_type": "markdown",
      "source": [
        "There are two critical parts to multi-task recommenders:\n",
        "\n",
        "1. They optimize for two or more objectives, and so have two or more losses.\n",
        "2. They share variables between the tasks, allowing for transfer learning."
      ],
      "metadata": {
        "id": "7-ZYWHH7thiT"
      }
    },
    {
      "cell_type": "code",
      "source": [
        "class NoToGoModel(tfrs.models.Model):\n",
        "\n",
        "  def __init__(self, rating_weight: float, like_weight: float,retrieval_weight: float) -> None:\n",
        "    # We take the loss weights in the constructor: this allows us to instantiate\n",
        "    # several model objects with different loss weights.\n",
        "\n",
        "    super().__init__()\n",
        "\n",
        "    embedding_dimension = 32\n",
        "\n",
        "    # User and movie models.\n",
        "    self.location_model: tf.keras.layers.Layer = tf.keras.Sequential([\n",
        "      tf.keras.layers.StringLookup(\n",
        "        vocabulary=unique_location_name, mask_token=None),\n",
        "      tf.keras.layers.Embedding(len(unique_location_name) + 1, embedding_dimension),\n",
        "      tf.keras.layers.Dense(16, activation=\"relu\")\n",
        "    ])\n",
        "\n",
        "    self.user_model: tf.keras.layers.Layer = tf.keras.Sequential([\n",
        "      tf.keras.layers.StringLookup(\n",
        "        vocabulary=unique_user_ids, mask_token=None),\n",
        "      tf.keras.layers.Embedding(len(unique_user_ids) + 1, embedding_dimension),\n",
        "      tf.keras.layers.Dense(16, activation=\"relu\")\n",
        "    ])\n",
        "\n",
        "    # A small model to take in user and movie embeddings and predict ratings.\n",
        "    # We can make this as complicated as we want as long as we output a scalar\n",
        "    # as our prediction.\n",
        "    self.rating_model = tf.keras.Sequential([\n",
        "        tf.keras.layers.Dense(8, activation=\"relu\"),\n",
        "        tf.keras.layers.Dense(16, activation=\"relu\"),\n",
        "        tf.keras.layers.Dense(1, activation = \"sigmoid\"),\n",
        "    ])\n",
        "\n",
        "    self.like_model = tf.keras.Sequential([\n",
        "        tf.keras.layers.Dense(16, activation=\"relu\"),\n",
        "        tf.keras.layers.Dense(32, activation=\"relu\"),\n",
        "        tf.keras.layers.Dense(1, activation = \"sigmoid\"),\n",
        "    ])\n",
        "\n",
        "    # The tasks.\n",
        "    self.rating_task: tf.keras.layers.Layer = tfrs.tasks.Ranking(\n",
        "        loss=tf.keras.losses.MeanSquaredError(),\n",
        "        metrics=[tf.keras.metrics.RootMeanSquaredError()],\n",
        "    )\n",
        "\n",
        "    self.like_task: tf.keras.layers.Layer = tfrs.tasks.Ranking(\n",
        "        loss=tf.keras.losses.MeanSquaredError(),\n",
        "        metrics=[tf.keras.metrics.RootMeanSquaredError()],\n",
        "    )\n",
        "    self.retrieval_task: tf.keras.layers.Layer = tfrs.tasks.Retrieval(\n",
        "        metrics=tfrs.metrics.FactorizedTopK(\n",
        "            candidates=locations.batch(128).map(self.location_model)\n",
        "        )\n",
        "    )\n",
        "\n",
        "    # The loss weights.\n",
        "    self.rating_weight = rating_weight\n",
        "    self.retrieval_weight = retrieval_weight\n",
        "    self.like_weight = like_weight\n",
        "\n",
        "  def call(self, features: Dict[Text, tf.Tensor]) -> tf.Tensor:\n",
        "    # We pick out the user features and pass them into the user model.\n",
        "    user_embeddings = self.user_model(features[\"user_id\"])\n",
        "    # And pick out the movie features and pass them into the movie model.\n",
        "    location_embeddings = self.location_model(features[\"location_name\"])\n",
        "    \n",
        "    return (\n",
        "        user_embeddings,\n",
        "        location_embeddings,\n",
        "        # We apply the multi-layered rating model to a concatentation of\n",
        "        # user and movie embeddings.\n",
        "        self.rating_model(\n",
        "            tf.concat([user_embeddings,location_embeddings], axis=1)\n",
        "        ),\n",
        "        self.like_model(\n",
        "            tf.concat([user_embeddings,location_embeddings], axis=1)\n",
        "        ),\n",
        "    )\n",
        "\n",
        "  def compute_loss(self, features: Dict[Text, tf.Tensor], training=False) -> tf.Tensor:\n",
        "\n",
        "    ratings = features.pop(\"add\",\"like\")\n",
        "    like = features.pop(\"like\", \"add\")\n",
        "\n",
        "    user_embeddings, location_embeddings, rating_predictions, like_predictions = self(features)\n",
        "\n",
        "    # We compute the loss for each task.\n",
        "    rating_loss = self.rating_task(\n",
        "        labels=ratings,\n",
        "        predictions=rating_predictions,\n",
        "    )\n",
        "\n",
        "    like_loss = self.like_task(\n",
        "        labels=like,\n",
        "        predictions=like_predictions,\n",
        "    )\n",
        "    retrieval_loss = self.retrieval_task(user_embeddings, location_embeddings)\n",
        "\n",
        "    # And combine them using the loss weights.\n",
        "    return (self.rating_weight * rating_loss\n",
        "            + self.retrieval_weight * retrieval_loss + like_loss*self.like_weight)"
      ],
      "metadata": {
        "id": "SWJfk6gdtyvT"
      },
      "execution_count": 12,
      "outputs": []
    },
    {
      "cell_type": "markdown",
      "source": [
        "### SKIP"
      ],
      "metadata": {
        "id": "1NxltrVLVPR_"
      }
    },
    {
      "cell_type": "code",
      "source": [
        "testModel = tf.keras.Sequential([\n",
        "      tf.keras.layers.StringLookup(\n",
        "        vocabulary=unique_location_name, mask_token=None),\n",
        "      tf.keras.layers.Embedding(len(unique_location_name) + 1, 32),\n",
        "      tf.keras.layers.Dense(32, activation=\"relu\")\n",
        "])"
      ],
      "metadata": {
        "id": "-RV72MCPVQ-B"
      },
      "execution_count": 13,
      "outputs": []
    },
    {
      "cell_type": "code",
      "source": [
        "cek = tf.keras.layers.StringLookup(vocabulary=unique_location_name, mask_token=None)"
      ],
      "metadata": {
        "id": "b4DWPnMvVyiX"
      },
      "execution_count": 14,
      "outputs": []
    },
    {
      "cell_type": "code",
      "source": [
        "unique_location_name"
      ],
      "metadata": {
        "colab": {
          "base_uri": "https://localhost:8080/"
        },
        "id": "sX32kdeyXi8k",
        "outputId": "584bd568-88a2-423e-ec7c-f237c351b141"
      },
      "execution_count": 15,
      "outputs": [
        {
          "output_type": "execute_result",
          "data": {
            "text/plain": [
              "array([b'AIR TERJUN SIPISO-PISO', b'AKIHABARA', b'ALASKA',\n",
              "       b'AMERIKA SERIKAT', b'ANCOL', b'ASIA TIMUR', b'BALI',\n",
              "       b'BALI TOWER', b'BANDUNG', b'BANGKA BELITUNG', b'BHUTAN',\n",
              "       b'BRANCHSTO BSD', b'CANDI BOROBUDUR', b'CANDI PRAMBANAN',\n",
              "       b'CANGGU', b'CAPADOCIA', b'DANAU SALAR DE UYUNI', b'DANAU TOBA',\n",
              "       b'DENMARK', b'DIENG', b'DISNEY SEA', b'DISNEYLAND PARIS', b'DUBAI',\n",
              "       b'DUFAN', b'EROPA', b'ES KRIM RAGUSA', b'EUROPE',\n",
              "       b'GAMPLONG STUDIO', b'GEOPARK CILETUH', b'GUA GONG',\n",
              "       b'GUA TABUHAN', b'GUMUK PASIR PARANGKUSUMO', b'GUNUNG',\n",
              "       b'GUNUNG AGUNG', b'GUNUNG BROMO', b'GUNUNG FUJI', b'GUNUNG GEDE',\n",
              "       b'GUNUNG PANGRANGO', b'GUNUNG PARANG', b'GUNUNG RINJANI',\n",
              "       b'GUNUNG SEMERU', b'INDONESIA', b'ISRAEL', b'JAKARTA',\n",
              "       b'JAWA BARAT', b'JEPANG', b'JERMAN', b'KATULAMPA RAFTING BOGOR',\n",
              "       b'KENDARI', b'KOREA SELATAN', b'LABUAN BAJO', b'LAMPUNG',\n",
              "       b'LOMBOK', b'LONDON', b'MALANG', b'MALAYSIA', b'MALDIVES',\n",
              "       b'MALIOBORO', b'MALL PAKUWON', b'MARINA BAY STREET CIRCUIT',\n",
              "       b'MEDAN', b'MEKKAH', b'MUSEUM ANGKUT', b'MUSEUM GEOLOGI BANDUNG',\n",
              "       b'MUSEUM GHIBLI', b'MUSEUM IPTEK', b'MUSEUM LOUVRE',\n",
              "       b'MUSEUM MACAN', b'MUSEUM MOJA', b'MUSEUM NASIONAL',\n",
              "       b'MUSEUM NASIONAL IMERSIFA', b'NEW YORK', b'NEW ZEALAND',\n",
              "       b'NUSA DUA', b'NUSA PENIDA', b'NUSA TENGGARA BARAT',\n",
              "       b'NUSAWIRU PARACENTER', b'PALEMBANG', b'PANGANDARAN',\n",
              "       b'PANTAI ANCOL', b'PANTAI KLAYAR', b'PANTAI KUTA',\n",
              "       b'PANTAI SELATAN', b'PANTAI TELENGRIA', b'PANTAI WATU KARUNG',\n",
              "       b'PEMANDIAN AIR PANAS CIATER', b'PERANCIS', b'PERPUSNAS',\n",
              "       b'PONOROGO', b'PRANCIS', b'PULAU KOMODO', b'PULAU PAHAWANG',\n",
              "       b'PULAU SERIBU', b'RAJA AMPAT', b'REYKJAVIK', b'SINGAPURA',\n",
              "       b'SLOVENIA', b'SOLO', b'SUDIRMAN STREET BANDUNG', b'SUMBAR',\n",
              "       b'SURABAYA', b'SWISS', b'SWITZERLAND', b'TAMAN MEKARSARI',\n",
              "       b'TAMAN STRAWBERRY KADUDAMPIT', b'TANGERANG', b'TAPANULI TENGAH',\n",
              "       b'TAWANGMANGU', b'TEBING CITATAH', b'TEGAL', b'THAILAND', b'TOKYO',\n",
              "       b'TOKYO ', b'UJUNG KULON', b'UNIVERSAL STUDIO SINGAPORE',\n",
              "       b'WAKATOBI', b'WALT DISNEY WORLD FLORIDA', b'WATERBOM BALI',\n",
              "       b'YERUSALEM', b'YOGYAKARTA'], dtype=object)"
            ]
          },
          "metadata": {},
          "execution_count": 15
        }
      ]
    },
    {
      "cell_type": "code",
      "source": [
        "cek(tf.constant([['GUNUNG BROMO','DANAU TOBA']])) # 0 means out of vocabulary"
      ],
      "metadata": {
        "colab": {
          "base_uri": "https://localhost:8080/"
        },
        "id": "v1mmjGcCWKIF",
        "outputId": "f733fb20-6130-46c1-82c0-dd4f8e87eb46"
      },
      "execution_count": 16,
      "outputs": [
        {
          "output_type": "execute_result",
          "data": {
            "text/plain": [
              "<tf.Tensor: shape=(1, 2), dtype=int64, numpy=array([[35, 18]])>"
            ]
          },
          "metadata": {},
          "execution_count": 16
        }
      ]
    },
    {
      "cell_type": "markdown",
      "source": [
        "### Rating-specialized model\n",
        "\n",
        "Depending on the weights we assign, the model will encode a different balance of the tasks. Let's start with a model that only considers ratings."
      ],
      "metadata": {
        "id": "2ML-UKVYYMc3"
      }
    },
    {
      "cell_type": "code",
      "source": [
        "model = NoToGoModel(rating_weight=1.0, retrieval_weight=0.0)\n",
        "model.compile(optimizer=tf.keras.optimizers.Adagrad(0.1))"
      ],
      "metadata": {
        "id": "QGP_6PjqYNxV",
        "colab": {
          "base_uri": "https://localhost:8080/",
          "height": 190
        },
        "outputId": "eb61080c-29f2-41ca-d01b-f6430f79f81a"
      },
      "execution_count": 17,
      "outputs": [
        {
          "output_type": "error",
          "ename": "TypeError",
          "evalue": "ignored",
          "traceback": [
            "\u001b[0;31m---------------------------------------------------------------------------\u001b[0m",
            "\u001b[0;31mTypeError\u001b[0m                                 Traceback (most recent call last)",
            "\u001b[0;32m<ipython-input-17-3dea3e6c0af0>\u001b[0m in \u001b[0;36m<module>\u001b[0;34m()\u001b[0m\n\u001b[0;32m----> 1\u001b[0;31m \u001b[0mmodel\u001b[0m \u001b[0;34m=\u001b[0m \u001b[0mNoToGoModel\u001b[0m\u001b[0;34m(\u001b[0m\u001b[0mrating_weight\u001b[0m\u001b[0;34m=\u001b[0m\u001b[0;36m1.0\u001b[0m\u001b[0;34m,\u001b[0m \u001b[0mretrieval_weight\u001b[0m\u001b[0;34m=\u001b[0m\u001b[0;36m0.0\u001b[0m\u001b[0;34m)\u001b[0m\u001b[0;34m\u001b[0m\u001b[0;34m\u001b[0m\u001b[0m\n\u001b[0m\u001b[1;32m      2\u001b[0m \u001b[0mmodel\u001b[0m\u001b[0;34m.\u001b[0m\u001b[0mcompile\u001b[0m\u001b[0;34m(\u001b[0m\u001b[0moptimizer\u001b[0m\u001b[0;34m=\u001b[0m\u001b[0mtf\u001b[0m\u001b[0;34m.\u001b[0m\u001b[0mkeras\u001b[0m\u001b[0;34m.\u001b[0m\u001b[0moptimizers\u001b[0m\u001b[0;34m.\u001b[0m\u001b[0mAdagrad\u001b[0m\u001b[0;34m(\u001b[0m\u001b[0;36m0.1\u001b[0m\u001b[0;34m)\u001b[0m\u001b[0;34m)\u001b[0m\u001b[0;34m\u001b[0m\u001b[0;34m\u001b[0m\u001b[0m\n",
            "\u001b[0;31mTypeError\u001b[0m: __init__() missing 1 required positional argument: 'like_weight'"
          ]
        }
      ]
    },
    {
      "cell_type": "code",
      "source": [
        ""
      ],
      "metadata": {
        "id": "0srnK1mcYXgx"
      },
      "execution_count": null,
      "outputs": []
    },
    {
      "cell_type": "code",
      "source": [
        "model.fit(cached_train, epochs=3)\n",
        "metrics = model.evaluate(cached_test, return_dict=True)\n",
        "\n",
        "print(f\"Retrieval top-100 accuracy: {metrics['factorized_top_k/top_100_categorical_accuracy']:.3f}.\")\n",
        "print(f\"Ranking RMSE: {metrics['root_mean_squared_error']:.3f}.\")"
      ],
      "metadata": {
        "id": "ZyI_1blbYomX"
      },
      "execution_count": null,
      "outputs": []
    },
    {
      "cell_type": "markdown",
      "source": [
        "### Retrieval-specialized model\n",
        "\n",
        "Let's now try a model that focuses on retrieval only."
      ],
      "metadata": {
        "id": "PPdD4CGJY76t"
      }
    },
    {
      "cell_type": "code",
      "source": [
        "model = NoToGoModel(rating_weight=0.0, like_weight = 0, retrieval_weight=1.0)\n",
        "model.compile(optimizer=tf.keras.optimizers.Adagrad(0.1))"
      ],
      "metadata": {
        "id": "BfiJ8dCWY8PI"
      },
      "execution_count": 13,
      "outputs": []
    },
    {
      "cell_type": "code",
      "source": [
        "model.fit(cached_train, epochs=50)\n",
        "metrics = model.evaluate(cached_test, return_dict=True)\n",
        "\n",
        "print(f\"Retrieval top-100 accuracy: {metrics['factorized_top_k/top_100_categorical_accuracy']:.3f}.\")\n",
        "print(f\"Ranking RMSE: {metrics['root_mean_squared_error']:.3f}.\")"
      ],
      "metadata": {
        "colab": {
          "base_uri": "https://localhost:8080/"
        },
        "id": "3dGpsHhDY-nK",
        "outputId": "de39d13c-9f06-41ef-e730-48ac58cf56da"
      },
      "execution_count": 14,
      "outputs": [
        {
          "output_type": "stream",
          "name": "stdout",
          "text": [
            "Epoch 1/50\n",
            "49/49 [==============================] - 7s 63ms/step - root_mean_squared_error: 0.4978 - factorized_top_k/top_1_categorical_accuracy: 0.2236 - factorized_top_k/top_5_categorical_accuracy: 0.4333 - factorized_top_k/top_10_categorical_accuracy: 0.5305 - factorized_top_k/top_50_categorical_accuracy: 0.7488 - factorized_top_k/top_100_categorical_accuracy: 0.9229 - loss: 3070.9923 - regularization_loss: 0.0000e+00 - total_loss: 3070.9923\n",
            "Epoch 2/50\n",
            "49/49 [==============================] - 3s 62ms/step - root_mean_squared_error: 0.4978 - factorized_top_k/top_1_categorical_accuracy: 0.6409 - factorized_top_k/top_5_categorical_accuracy: 0.8646 - factorized_top_k/top_10_categorical_accuracy: 0.9569 - factorized_top_k/top_50_categorical_accuracy: 0.9985 - factorized_top_k/top_100_categorical_accuracy: 1.0000 - loss: 3070.8770 - regularization_loss: 0.0000e+00 - total_loss: 3070.8770\n",
            "Epoch 3/50\n",
            "49/49 [==============================] - 3s 62ms/step - root_mean_squared_error: 0.4979 - factorized_top_k/top_1_categorical_accuracy: 0.6957 - factorized_top_k/top_5_categorical_accuracy: 0.8642 - factorized_top_k/top_10_categorical_accuracy: 0.9615 - factorized_top_k/top_50_categorical_accuracy: 0.9998 - factorized_top_k/top_100_categorical_accuracy: 1.0000 - loss: 3070.8503 - regularization_loss: 0.0000e+00 - total_loss: 3070.8503\n",
            "Epoch 4/50\n",
            "49/49 [==============================] - 3s 61ms/step - root_mean_squared_error: 0.4978 - factorized_top_k/top_1_categorical_accuracy: 0.7351 - factorized_top_k/top_5_categorical_accuracy: 0.8978 - factorized_top_k/top_10_categorical_accuracy: 0.9581 - factorized_top_k/top_50_categorical_accuracy: 0.9963 - factorized_top_k/top_100_categorical_accuracy: 1.0000 - loss: 3070.8306 - regularization_loss: 0.0000e+00 - total_loss: 3070.8306\n",
            "Epoch 5/50\n",
            "49/49 [==============================] - 3s 62ms/step - root_mean_squared_error: 0.4977 - factorized_top_k/top_1_categorical_accuracy: 0.3011 - factorized_top_k/top_5_categorical_accuracy: 0.7950 - factorized_top_k/top_10_categorical_accuracy: 0.9456 - factorized_top_k/top_50_categorical_accuracy: 0.9989 - factorized_top_k/top_100_categorical_accuracy: 1.0000 - loss: 3070.8086 - regularization_loss: 0.0000e+00 - total_loss: 3070.8086\n",
            "Epoch 6/50\n",
            "49/49 [==============================] - 3s 63ms/step - root_mean_squared_error: 0.4974 - factorized_top_k/top_1_categorical_accuracy: 0.7118 - factorized_top_k/top_5_categorical_accuracy: 0.8385 - factorized_top_k/top_10_categorical_accuracy: 0.9598 - factorized_top_k/top_50_categorical_accuracy: 0.9994 - factorized_top_k/top_100_categorical_accuracy: 1.0000 - loss: 3070.7921 - regularization_loss: 0.0000e+00 - total_loss: 3070.7921\n",
            "Epoch 7/50\n",
            "49/49 [==============================] - 3s 63ms/step - root_mean_squared_error: 0.4974 - factorized_top_k/top_1_categorical_accuracy: 0.7706 - factorized_top_k/top_5_categorical_accuracy: 0.8178 - factorized_top_k/top_10_categorical_accuracy: 0.9431 - factorized_top_k/top_50_categorical_accuracy: 0.9985 - factorized_top_k/top_100_categorical_accuracy: 1.0000 - loss: 3070.7595 - regularization_loss: 0.0000e+00 - total_loss: 3070.7595\n",
            "Epoch 8/50\n",
            "49/49 [==============================] - 3s 62ms/step - root_mean_squared_error: 0.4974 - factorized_top_k/top_1_categorical_accuracy: 0.7495 - factorized_top_k/top_5_categorical_accuracy: 0.7772 - factorized_top_k/top_10_categorical_accuracy: 0.8822 - factorized_top_k/top_50_categorical_accuracy: 0.9980 - factorized_top_k/top_100_categorical_accuracy: 0.9998 - loss: 3070.7289 - regularization_loss: 0.0000e+00 - total_loss: 3070.7289\n",
            "Epoch 9/50\n",
            "49/49 [==============================] - 3s 63ms/step - root_mean_squared_error: 0.4973 - factorized_top_k/top_1_categorical_accuracy: 0.7600 - factorized_top_k/top_5_categorical_accuracy: 0.7790 - factorized_top_k/top_10_categorical_accuracy: 0.8853 - factorized_top_k/top_50_categorical_accuracy: 0.9926 - factorized_top_k/top_100_categorical_accuracy: 1.0000 - loss: 3070.6787 - regularization_loss: 0.0000e+00 - total_loss: 3070.6787\n",
            "Epoch 10/50\n",
            "49/49 [==============================] - 3s 63ms/step - root_mean_squared_error: 0.4974 - factorized_top_k/top_1_categorical_accuracy: 0.7130 - factorized_top_k/top_5_categorical_accuracy: 0.7590 - factorized_top_k/top_10_categorical_accuracy: 0.8492 - factorized_top_k/top_50_categorical_accuracy: 0.9901 - factorized_top_k/top_100_categorical_accuracy: 0.9991 - loss: 3070.6436 - regularization_loss: 0.0000e+00 - total_loss: 3070.6436\n",
            "Epoch 11/50\n",
            "49/49 [==============================] - 3s 64ms/step - root_mean_squared_error: 0.4982 - factorized_top_k/top_1_categorical_accuracy: 0.7493 - factorized_top_k/top_5_categorical_accuracy: 0.7594 - factorized_top_k/top_10_categorical_accuracy: 0.8606 - factorized_top_k/top_50_categorical_accuracy: 0.9959 - factorized_top_k/top_100_categorical_accuracy: 1.0000 - loss: 3070.6082 - regularization_loss: 0.0000e+00 - total_loss: 3070.6082\n",
            "Epoch 12/50\n",
            "49/49 [==============================] - 3s 64ms/step - root_mean_squared_error: 0.4982 - factorized_top_k/top_1_categorical_accuracy: 0.7223 - factorized_top_k/top_5_categorical_accuracy: 0.7635 - factorized_top_k/top_10_categorical_accuracy: 0.8736 - factorized_top_k/top_50_categorical_accuracy: 0.9945 - factorized_top_k/top_100_categorical_accuracy: 1.0000 - loss: 3070.5962 - regularization_loss: 0.0000e+00 - total_loss: 3070.5962\n",
            "Epoch 13/50\n",
            "49/49 [==============================] - 3s 66ms/step - root_mean_squared_error: 0.4982 - factorized_top_k/top_1_categorical_accuracy: 0.7123 - factorized_top_k/top_5_categorical_accuracy: 0.7267 - factorized_top_k/top_10_categorical_accuracy: 0.8772 - factorized_top_k/top_50_categorical_accuracy: 0.9947 - factorized_top_k/top_100_categorical_accuracy: 1.0000 - loss: 3070.5472 - regularization_loss: 0.0000e+00 - total_loss: 3070.5472\n",
            "Epoch 14/50\n",
            "49/49 [==============================] - 3s 67ms/step - root_mean_squared_error: 0.4982 - factorized_top_k/top_1_categorical_accuracy: 0.6969 - factorized_top_k/top_5_categorical_accuracy: 0.7090 - factorized_top_k/top_10_categorical_accuracy: 0.8818 - factorized_top_k/top_50_categorical_accuracy: 0.9947 - factorized_top_k/top_100_categorical_accuracy: 1.0000 - loss: 3070.5332 - regularization_loss: 0.0000e+00 - total_loss: 3070.5332\n",
            "Epoch 15/50\n",
            "49/49 [==============================] - 3s 66ms/step - root_mean_squared_error: 0.4982 - factorized_top_k/top_1_categorical_accuracy: 0.6538 - factorized_top_k/top_5_categorical_accuracy: 0.6679 - factorized_top_k/top_10_categorical_accuracy: 0.8819 - factorized_top_k/top_50_categorical_accuracy: 0.9944 - factorized_top_k/top_100_categorical_accuracy: 1.0000 - loss: 3070.5082 - regularization_loss: 0.0000e+00 - total_loss: 3070.5082\n",
            "Epoch 16/50\n",
            "49/49 [==============================] - 3s 66ms/step - root_mean_squared_error: 0.4983 - factorized_top_k/top_1_categorical_accuracy: 0.5862 - factorized_top_k/top_5_categorical_accuracy: 0.6031 - factorized_top_k/top_10_categorical_accuracy: 0.8800 - factorized_top_k/top_50_categorical_accuracy: 0.9915 - factorized_top_k/top_100_categorical_accuracy: 1.0000 - loss: 3070.4857 - regularization_loss: 0.0000e+00 - total_loss: 3070.4857\n",
            "Epoch 17/50\n",
            "49/49 [==============================] - 3s 63ms/step - root_mean_squared_error: 0.4983 - factorized_top_k/top_1_categorical_accuracy: 0.4369 - factorized_top_k/top_5_categorical_accuracy: 0.4895 - factorized_top_k/top_10_categorical_accuracy: 0.8774 - factorized_top_k/top_50_categorical_accuracy: 0.9930 - factorized_top_k/top_100_categorical_accuracy: 1.0000 - loss: 3070.4502 - regularization_loss: 0.0000e+00 - total_loss: 3070.4502\n",
            "Epoch 18/50\n",
            "49/49 [==============================] - 3s 66ms/step - root_mean_squared_error: 0.4982 - factorized_top_k/top_1_categorical_accuracy: 0.4004 - factorized_top_k/top_5_categorical_accuracy: 0.4238 - factorized_top_k/top_10_categorical_accuracy: 0.8261 - factorized_top_k/top_50_categorical_accuracy: 0.9873 - factorized_top_k/top_100_categorical_accuracy: 1.0000 - loss: 3070.3736 - regularization_loss: 0.0000e+00 - total_loss: 3070.3736\n",
            "Epoch 19/50\n",
            "49/49 [==============================] - 3s 66ms/step - root_mean_squared_error: 0.4981 - factorized_top_k/top_1_categorical_accuracy: 0.2720 - factorized_top_k/top_5_categorical_accuracy: 0.2987 - factorized_top_k/top_10_categorical_accuracy: 0.7637 - factorized_top_k/top_50_categorical_accuracy: 0.9809 - factorized_top_k/top_100_categorical_accuracy: 0.9998 - loss: 3070.3528 - regularization_loss: 0.0000e+00 - total_loss: 3070.3528\n",
            "Epoch 20/50\n",
            "49/49 [==============================] - 3s 67ms/step - root_mean_squared_error: 0.4980 - factorized_top_k/top_1_categorical_accuracy: 0.1912 - factorized_top_k/top_5_categorical_accuracy: 0.2190 - factorized_top_k/top_10_categorical_accuracy: 0.6385 - factorized_top_k/top_50_categorical_accuracy: 0.9828 - factorized_top_k/top_100_categorical_accuracy: 0.9996 - loss: 3070.2992 - regularization_loss: 0.0000e+00 - total_loss: 3070.2992\n",
            "Epoch 21/50\n",
            "49/49 [==============================] - 4s 78ms/step - root_mean_squared_error: 0.4980 - factorized_top_k/top_1_categorical_accuracy: 0.2439 - factorized_top_k/top_5_categorical_accuracy: 0.2714 - factorized_top_k/top_10_categorical_accuracy: 0.6644 - factorized_top_k/top_50_categorical_accuracy: 0.9831 - factorized_top_k/top_100_categorical_accuracy: 0.9998 - loss: 3070.1883 - regularization_loss: 0.0000e+00 - total_loss: 3070.1883\n",
            "Epoch 22/50\n",
            "49/49 [==============================] - 3s 66ms/step - root_mean_squared_error: 0.4980 - factorized_top_k/top_1_categorical_accuracy: 0.2230 - factorized_top_k/top_5_categorical_accuracy: 0.2521 - factorized_top_k/top_10_categorical_accuracy: 0.6368 - factorized_top_k/top_50_categorical_accuracy: 0.9855 - factorized_top_k/top_100_categorical_accuracy: 1.0000 - loss: 3070.0974 - regularization_loss: 0.0000e+00 - total_loss: 3070.0974\n",
            "Epoch 23/50\n",
            "49/49 [==============================] - 3s 65ms/step - root_mean_squared_error: 0.4980 - factorized_top_k/top_1_categorical_accuracy: 0.2448 - factorized_top_k/top_5_categorical_accuracy: 0.2737 - factorized_top_k/top_10_categorical_accuracy: 0.6327 - factorized_top_k/top_50_categorical_accuracy: 0.9856 - factorized_top_k/top_100_categorical_accuracy: 0.9998 - loss: 3070.0464 - regularization_loss: 0.0000e+00 - total_loss: 3070.0464\n",
            "Epoch 24/50\n",
            "49/49 [==============================] - 3s 65ms/step - root_mean_squared_error: 0.4980 - factorized_top_k/top_1_categorical_accuracy: 0.2617 - factorized_top_k/top_5_categorical_accuracy: 0.2901 - factorized_top_k/top_10_categorical_accuracy: 0.6385 - factorized_top_k/top_50_categorical_accuracy: 0.9868 - factorized_top_k/top_100_categorical_accuracy: 0.9997 - loss: 3069.9709 - regularization_loss: 0.0000e+00 - total_loss: 3069.9709\n",
            "Epoch 25/50\n",
            "49/49 [==============================] - 3s 65ms/step - root_mean_squared_error: 0.4980 - factorized_top_k/top_1_categorical_accuracy: 0.2766 - factorized_top_k/top_5_categorical_accuracy: 0.3039 - factorized_top_k/top_10_categorical_accuracy: 0.6414 - factorized_top_k/top_50_categorical_accuracy: 0.9865 - factorized_top_k/top_100_categorical_accuracy: 0.9997 - loss: 3069.9089 - regularization_loss: 0.0000e+00 - total_loss: 3069.9089\n",
            "Epoch 26/50\n",
            "49/49 [==============================] - 4s 86ms/step - root_mean_squared_error: 0.4980 - factorized_top_k/top_1_categorical_accuracy: 0.2850 - factorized_top_k/top_5_categorical_accuracy: 0.3117 - factorized_top_k/top_10_categorical_accuracy: 0.6439 - factorized_top_k/top_50_categorical_accuracy: 0.9866 - factorized_top_k/top_100_categorical_accuracy: 0.9997 - loss: 3069.8606 - regularization_loss: 0.0000e+00 - total_loss: 3069.8606\n",
            "Epoch 27/50\n",
            "49/49 [==============================] - 3s 65ms/step - root_mean_squared_error: 0.4982 - factorized_top_k/top_1_categorical_accuracy: 0.2693 - factorized_top_k/top_5_categorical_accuracy: 0.2962 - factorized_top_k/top_10_categorical_accuracy: 0.6083 - factorized_top_k/top_50_categorical_accuracy: 0.9802 - factorized_top_k/top_100_categorical_accuracy: 0.9986 - loss: 3069.8209 - regularization_loss: 0.0000e+00 - total_loss: 3069.8209\n",
            "Epoch 28/50\n",
            "49/49 [==============================] - 3s 65ms/step - root_mean_squared_error: 0.4983 - factorized_top_k/top_1_categorical_accuracy: 0.2891 - factorized_top_k/top_5_categorical_accuracy: 0.3154 - factorized_top_k/top_10_categorical_accuracy: 0.6553 - factorized_top_k/top_50_categorical_accuracy: 0.9840 - factorized_top_k/top_100_categorical_accuracy: 1.0000 - loss: 3069.7825 - regularization_loss: 0.0000e+00 - total_loss: 3069.7825\n",
            "Epoch 29/50\n",
            "49/49 [==============================] - 3s 65ms/step - root_mean_squared_error: 0.4984 - factorized_top_k/top_1_categorical_accuracy: 0.2960 - factorized_top_k/top_5_categorical_accuracy: 0.3226 - factorized_top_k/top_10_categorical_accuracy: 0.6559 - factorized_top_k/top_50_categorical_accuracy: 0.9822 - factorized_top_k/top_100_categorical_accuracy: 1.0000 - loss: 3069.7366 - regularization_loss: 0.0000e+00 - total_loss: 3069.7366\n",
            "Epoch 30/50\n",
            "49/49 [==============================] - 3s 65ms/step - root_mean_squared_error: 0.4985 - factorized_top_k/top_1_categorical_accuracy: 0.3056 - factorized_top_k/top_5_categorical_accuracy: 0.3316 - factorized_top_k/top_10_categorical_accuracy: 0.6550 - factorized_top_k/top_50_categorical_accuracy: 0.9738 - factorized_top_k/top_100_categorical_accuracy: 1.0000 - loss: 3069.7175 - regularization_loss: 0.0000e+00 - total_loss: 3069.7175\n",
            "Epoch 31/50\n",
            "49/49 [==============================] - 3s 66ms/step - root_mean_squared_error: 0.4984 - factorized_top_k/top_1_categorical_accuracy: 0.3005 - factorized_top_k/top_5_categorical_accuracy: 0.3268 - factorized_top_k/top_10_categorical_accuracy: 0.6574 - factorized_top_k/top_50_categorical_accuracy: 0.9814 - factorized_top_k/top_100_categorical_accuracy: 0.9998 - loss: 3069.7066 - regularization_loss: 0.0000e+00 - total_loss: 3069.7066\n",
            "Epoch 32/50\n",
            "49/49 [==============================] - 3s 65ms/step - root_mean_squared_error: 0.4984 - factorized_top_k/top_1_categorical_accuracy: 0.3130 - factorized_top_k/top_5_categorical_accuracy: 0.3393 - factorized_top_k/top_10_categorical_accuracy: 0.6790 - factorized_top_k/top_50_categorical_accuracy: 0.9835 - factorized_top_k/top_100_categorical_accuracy: 1.0000 - loss: 3069.6293 - regularization_loss: 0.0000e+00 - total_loss: 3069.6293\n",
            "Epoch 33/50\n",
            "49/49 [==============================] - 3s 63ms/step - root_mean_squared_error: 0.4984 - factorized_top_k/top_1_categorical_accuracy: 0.3142 - factorized_top_k/top_5_categorical_accuracy: 0.3428 - factorized_top_k/top_10_categorical_accuracy: 0.6428 - factorized_top_k/top_50_categorical_accuracy: 0.9798 - factorized_top_k/top_100_categorical_accuracy: 1.0000 - loss: 3069.5953 - regularization_loss: 0.0000e+00 - total_loss: 3069.5953\n",
            "Epoch 34/50\n",
            "49/49 [==============================] - 3s 65ms/step - root_mean_squared_error: 0.4984 - factorized_top_k/top_1_categorical_accuracy: 0.3133 - factorized_top_k/top_5_categorical_accuracy: 0.3393 - factorized_top_k/top_10_categorical_accuracy: 0.6777 - factorized_top_k/top_50_categorical_accuracy: 0.9791 - factorized_top_k/top_100_categorical_accuracy: 0.9999 - loss: 3069.5531 - regularization_loss: 0.0000e+00 - total_loss: 3069.5531\n",
            "Epoch 35/50\n",
            "49/49 [==============================] - 3s 64ms/step - root_mean_squared_error: 0.4984 - factorized_top_k/top_1_categorical_accuracy: 0.3027 - factorized_top_k/top_5_categorical_accuracy: 0.3289 - factorized_top_k/top_10_categorical_accuracy: 0.6356 - factorized_top_k/top_50_categorical_accuracy: 0.9673 - factorized_top_k/top_100_categorical_accuracy: 1.0000 - loss: 3069.5470 - regularization_loss: 0.0000e+00 - total_loss: 3069.5470\n",
            "Epoch 36/50\n",
            "49/49 [==============================] - 3s 64ms/step - root_mean_squared_error: 0.4984 - factorized_top_k/top_1_categorical_accuracy: 0.3032 - factorized_top_k/top_5_categorical_accuracy: 0.3294 - factorized_top_k/top_10_categorical_accuracy: 0.6676 - factorized_top_k/top_50_categorical_accuracy: 0.9647 - factorized_top_k/top_100_categorical_accuracy: 1.0000 - loss: 3069.5099 - regularization_loss: 0.0000e+00 - total_loss: 3069.5099\n",
            "Epoch 37/50\n",
            "49/49 [==============================] - 3s 66ms/step - root_mean_squared_error: 0.4984 - factorized_top_k/top_1_categorical_accuracy: 0.3094 - factorized_top_k/top_5_categorical_accuracy: 0.3359 - factorized_top_k/top_10_categorical_accuracy: 0.6520 - factorized_top_k/top_50_categorical_accuracy: 0.9670 - factorized_top_k/top_100_categorical_accuracy: 1.0000 - loss: 3069.4833 - regularization_loss: 0.0000e+00 - total_loss: 3069.4833\n",
            "Epoch 38/50\n",
            "49/49 [==============================] - 3s 65ms/step - root_mean_squared_error: 0.4983 - factorized_top_k/top_1_categorical_accuracy: 0.3090 - factorized_top_k/top_5_categorical_accuracy: 0.3358 - factorized_top_k/top_10_categorical_accuracy: 0.6621 - factorized_top_k/top_50_categorical_accuracy: 0.9707 - factorized_top_k/top_100_categorical_accuracy: 0.9999 - loss: 3069.4213 - regularization_loss: 0.0000e+00 - total_loss: 3069.4213\n",
            "Epoch 39/50\n",
            "49/49 [==============================] - 3s 66ms/step - root_mean_squared_error: 0.4983 - factorized_top_k/top_1_categorical_accuracy: 0.3084 - factorized_top_k/top_5_categorical_accuracy: 0.3350 - factorized_top_k/top_10_categorical_accuracy: 0.5644 - factorized_top_k/top_50_categorical_accuracy: 0.9707 - factorized_top_k/top_100_categorical_accuracy: 0.9998 - loss: 3069.3964 - regularization_loss: 0.0000e+00 - total_loss: 3069.3964\n",
            "Epoch 40/50\n",
            "49/49 [==============================] - 3s 67ms/step - root_mean_squared_error: 0.4983 - factorized_top_k/top_1_categorical_accuracy: 0.3066 - factorized_top_k/top_5_categorical_accuracy: 0.3340 - factorized_top_k/top_10_categorical_accuracy: 0.5829 - factorized_top_k/top_50_categorical_accuracy: 0.9647 - factorized_top_k/top_100_categorical_accuracy: 0.9997 - loss: 3069.3643 - regularization_loss: 0.0000e+00 - total_loss: 3069.3643\n",
            "Epoch 41/50\n",
            "49/49 [==============================] - 3s 67ms/step - root_mean_squared_error: 0.4983 - factorized_top_k/top_1_categorical_accuracy: 0.3078 - factorized_top_k/top_5_categorical_accuracy: 0.3355 - factorized_top_k/top_10_categorical_accuracy: 0.6640 - factorized_top_k/top_50_categorical_accuracy: 0.9600 - factorized_top_k/top_100_categorical_accuracy: 1.0000 - loss: 3069.3178 - regularization_loss: 0.0000e+00 - total_loss: 3069.3178\n",
            "Epoch 42/50\n",
            "49/49 [==============================] - 3s 66ms/step - root_mean_squared_error: 0.4983 - factorized_top_k/top_1_categorical_accuracy: 0.3062 - factorized_top_k/top_5_categorical_accuracy: 0.3341 - factorized_top_k/top_10_categorical_accuracy: 0.4876 - factorized_top_k/top_50_categorical_accuracy: 0.9599 - factorized_top_k/top_100_categorical_accuracy: 1.0000 - loss: 3069.2845 - regularization_loss: 0.0000e+00 - total_loss: 3069.2845\n",
            "Epoch 43/50\n",
            "49/49 [==============================] - 3s 67ms/step - root_mean_squared_error: 0.4983 - factorized_top_k/top_1_categorical_accuracy: 0.3102 - factorized_top_k/top_5_categorical_accuracy: 0.3379 - factorized_top_k/top_10_categorical_accuracy: 0.4896 - factorized_top_k/top_50_categorical_accuracy: 0.9538 - factorized_top_k/top_100_categorical_accuracy: 1.0000 - loss: 3069.2591 - regularization_loss: 0.0000e+00 - total_loss: 3069.2591\n",
            "Epoch 44/50\n",
            "49/49 [==============================] - 3s 67ms/step - root_mean_squared_error: 0.4984 - factorized_top_k/top_1_categorical_accuracy: 0.3133 - factorized_top_k/top_5_categorical_accuracy: 0.3409 - factorized_top_k/top_10_categorical_accuracy: 0.6571 - factorized_top_k/top_50_categorical_accuracy: 0.9542 - factorized_top_k/top_100_categorical_accuracy: 0.9992 - loss: 3069.2217 - regularization_loss: 0.0000e+00 - total_loss: 3069.2217\n",
            "Epoch 45/50\n",
            "49/49 [==============================] - 3s 69ms/step - root_mean_squared_error: 0.4985 - factorized_top_k/top_1_categorical_accuracy: 0.3161 - factorized_top_k/top_5_categorical_accuracy: 0.3430 - factorized_top_k/top_10_categorical_accuracy: 0.6665 - factorized_top_k/top_50_categorical_accuracy: 0.9620 - factorized_top_k/top_100_categorical_accuracy: 0.9998 - loss: 3069.1806 - regularization_loss: 0.0000e+00 - total_loss: 3069.1806\n",
            "Epoch 46/50\n",
            "49/49 [==============================] - 3s 70ms/step - root_mean_squared_error: 0.4985 - factorized_top_k/top_1_categorical_accuracy: 0.3182 - factorized_top_k/top_5_categorical_accuracy: 0.3454 - factorized_top_k/top_10_categorical_accuracy: 0.6682 - factorized_top_k/top_50_categorical_accuracy: 0.9604 - factorized_top_k/top_100_categorical_accuracy: 0.9994 - loss: 3069.1452 - regularization_loss: 0.0000e+00 - total_loss: 3069.1452\n",
            "Epoch 47/50\n",
            "49/49 [==============================] - 3s 69ms/step - root_mean_squared_error: 0.4985 - factorized_top_k/top_1_categorical_accuracy: 0.3177 - factorized_top_k/top_5_categorical_accuracy: 0.3445 - factorized_top_k/top_10_categorical_accuracy: 0.5666 - factorized_top_k/top_50_categorical_accuracy: 0.9598 - factorized_top_k/top_100_categorical_accuracy: 0.9997 - loss: 3069.1118 - regularization_loss: 0.0000e+00 - total_loss: 3069.1118\n",
            "Epoch 48/50\n",
            "49/49 [==============================] - 3s 70ms/step - root_mean_squared_error: 0.4985 - factorized_top_k/top_1_categorical_accuracy: 0.3207 - factorized_top_k/top_5_categorical_accuracy: 0.3474 - factorized_top_k/top_10_categorical_accuracy: 0.6547 - factorized_top_k/top_50_categorical_accuracy: 0.9624 - factorized_top_k/top_100_categorical_accuracy: 0.9996 - loss: 3069.0837 - regularization_loss: 0.0000e+00 - total_loss: 3069.0837\n",
            "Epoch 49/50\n",
            "49/49 [==============================] - 3s 67ms/step - root_mean_squared_error: 0.4985 - factorized_top_k/top_1_categorical_accuracy: 0.3196 - factorized_top_k/top_5_categorical_accuracy: 0.3456 - factorized_top_k/top_10_categorical_accuracy: 0.6550 - factorized_top_k/top_50_categorical_accuracy: 0.9628 - factorized_top_k/top_100_categorical_accuracy: 0.9998 - loss: 3069.0546 - regularization_loss: 0.0000e+00 - total_loss: 3069.0546\n",
            "Epoch 50/50\n",
            "49/49 [==============================] - 3s 68ms/step - root_mean_squared_error: 0.4985 - factorized_top_k/top_1_categorical_accuracy: 0.3213 - factorized_top_k/top_5_categorical_accuracy: 0.3471 - factorized_top_k/top_10_categorical_accuracy: 0.6165 - factorized_top_k/top_50_categorical_accuracy: 0.9633 - factorized_top_k/top_100_categorical_accuracy: 0.9997 - loss: 3069.0231 - regularization_loss: 0.0000e+00 - total_loss: 3069.0231\n",
            "25/25 [==============================] - 3s 60ms/step - root_mean_squared_error: 0.4983 - factorized_top_k/top_1_categorical_accuracy: 0.3152 - factorized_top_k/top_5_categorical_accuracy: 0.3308 - factorized_top_k/top_10_categorical_accuracy: 0.6279 - factorized_top_k/top_50_categorical_accuracy: 0.9507 - factorized_top_k/top_100_categorical_accuracy: 1.0000 - loss: 1313.8746 - regularization_loss: 0.0000e+00 - total_loss: 1313.8746\n",
            "Retrieval top-100 accuracy: 1.000.\n",
            "Ranking RMSE: 0.498.\n"
          ]
        }
      ]
    },
    {
      "cell_type": "code",
      "source": [
        "model.evaluate(cached_test, return_dict=True)"
      ],
      "metadata": {
        "id": "PBjDkzcUjX4E",
        "outputId": "ebb109eb-6a1a-4b20-c951-e4e69b71d21c",
        "colab": {
          "base_uri": "https://localhost:8080/"
        }
      },
      "execution_count": 15,
      "outputs": [
        {
          "output_type": "stream",
          "name": "stdout",
          "text": [
            "25/25 [==============================] - 1s 58ms/step - root_mean_squared_error: 0.4983 - factorized_top_k/top_1_categorical_accuracy: 0.3152 - factorized_top_k/top_5_categorical_accuracy: 0.3308 - factorized_top_k/top_10_categorical_accuracy: 0.6279 - factorized_top_k/top_50_categorical_accuracy: 0.9507 - factorized_top_k/top_100_categorical_accuracy: 1.0000 - loss: 1313.8746 - regularization_loss: 0.0000e+00 - total_loss: 1313.8746\n"
          ]
        },
        {
          "output_type": "execute_result",
          "data": {
            "text/plain": [
              "{'factorized_top_k/top_100_categorical_accuracy': 1.0,\n",
              " 'factorized_top_k/top_10_categorical_accuracy': 0.6279258728027344,\n",
              " 'factorized_top_k/top_1_categorical_accuracy': 0.31518206000328064,\n",
              " 'factorized_top_k/top_50_categorical_accuracy': 0.9507477283477783,\n",
              " 'factorized_top_k/top_5_categorical_accuracy': 0.33078673481941223,\n",
              " 'loss': 16.856651306152344,\n",
              " 'regularization_loss': 0,\n",
              " 'root_mean_squared_error': 0.4982590079307556,\n",
              " 'total_loss': 16.856651306152344}"
            ]
          },
          "metadata": {},
          "execution_count": 15
        }
      ]
    },
    {
      "cell_type": "code",
      "source": [
        "index = tfrs.layers.factorized_top_k.BruteForce(model.user_model)\n",
        "# recommends movies out of the entire movies dataset.\n",
        "index.index_from_dataset(\n",
        "  tf.data.Dataset.zip((locations.batch(100), locations.batch(100).map(model.location_model)))\n",
        ")\n",
        "\n",
        "# Get recommendations.\n",
        "user_id = \"183\"\n",
        "_, titles = index(tf.constant([user_id]))\n",
        "print(f\"Recommendations for New User : {titles[0, :7]}\")"
      ],
      "metadata": {
        "colab": {
          "base_uri": "https://localhost:8080/"
        },
        "id": "9ik9IDPRr8dX",
        "outputId": "6fadf0fc-b9ee-421c-dc3d-9a56be7494a3"
      },
      "execution_count": 18,
      "outputs": [
        {
          "output_type": "stream",
          "name": "stdout",
          "text": [
            "Recommendations for New User : [b'CANGGU' b'CAPADOCIA' b'SINGAPURA' b'GUA GONG'\n",
            " b'MARINA BAY STREET CIRCUIT' b'GUA TABUHAN' b'MUSEUM MOJA']\n"
          ]
        }
      ]
    },
    {
      "cell_type": "markdown",
      "source": [
        "### Joint model\n",
        "\n",
        "Let's now train a model that assigns positive weights to both tasks."
      ],
      "metadata": {
        "id": "mzsVCjY-ZQy7"
      }
    },
    {
      "cell_type": "code",
      "source": [
        "model = MovielensModel(rating_weight=1.0, retrieval_weight=1.0)\n",
        "model.compile(optimizer=tf.keras.optimizers.Adagrad(0.1))"
      ],
      "metadata": {
        "id": "ss0ZFo-0ZRK-"
      },
      "execution_count": null,
      "outputs": []
    },
    {
      "cell_type": "code",
      "source": [
        "model.fit(cached_train, epochs=3)\n",
        "metrics = model.evaluate(cached_test, return_dict=True)\n",
        "\n",
        "print(f\"Retrieval top-100 accuracy: {metrics['factorized_top_k/top_100_categorical_accuracy']:.3f}.\")\n",
        "print(f\"Ranking RMSE: {metrics['root_mean_squared_error']:.3f}.\")"
      ],
      "metadata": {
        "id": "4bCxEhoFZT8o"
      },
      "execution_count": null,
      "outputs": []
    },
    {
      "cell_type": "markdown",
      "source": [
        "## INTERFACE FOR NEW USER"
      ],
      "metadata": {
        "id": "cDnTAKradwOP"
      }
    },
    {
      "cell_type": "code",
      "source": [
        "worksheetCat = gc.open('capstone_dataset').worksheet('category')\n",
        "rows = worksheetCat.get_all_values()\n",
        "dfCategories = pd.DataFrame.from_records(rows[1:], columns=rows[0])\n",
        "list_categories = [i for i in dfCategories['category'] if i != '']\n",
        "worksheetUserFeat = gc.open('capstone_dataset').worksheet('userFeatures(coldstartsol)')\n",
        "rows = worksheetUserFeat.get_all_values()\n",
        "dfUserFeat = pd.DataFrame.from_records(rows[1:], columns=rows[0])"
      ],
      "metadata": {
        "id": "jNQ7bLGed0Z7"
      },
      "execution_count": 26,
      "outputs": []
    },
    {
      "cell_type": "code",
      "source": [
        "last_user_id = dfUserFeat['user_id'].to_list()\n",
        "last_user_id = int(last_user_id[-1]) + 1 \n",
        "\n",
        "def input_user_data():\n",
        "  user_data = {}\n",
        "  # input_name = input(\"Nama: \")\n",
        "  user_data['user_id'] = str(last_user_id)\n",
        "  last_user_ids = last_user_id + 1\n",
        "  user_categories = list()\n",
        "  for i in list_categories:\n",
        "    input_category = int(input(\"{} ? (1: yes, 0: no) : \".format(i)))\n",
        "    if input_category == 1:\n",
        "      user_categories.append(i)\n",
        "  user_data[\"categories\"] = user_categories\n",
        "  return user_data, last_user_ids\n",
        "user_data, last_user_id = input_user_data()"
      ],
      "metadata": {
        "id": "rTmPsti6mnNe",
        "colab": {
          "base_uri": "https://localhost:8080/"
        },
        "outputId": "bed794c0-cd0e-4c5b-ed4e-ec6e9732cb18"
      },
      "execution_count": 28,
      "outputs": [
        {
          "name": "stdout",
          "output_type": "stream",
          "text": [
            "beach ? (1: yes, 0: no) : 1\n",
            "mountain ? (1: yes, 0: no) : 1\n",
            "lake ? (1: yes, 0: no) : 0\n",
            "zoo ? (1: yes, 0: no) : 0\n",
            "river ? (1: yes, 0: no) : 0\n",
            "conservation ? (1: yes, 0: no) : 0\n",
            "waterpark ? (1: yes, 0: no) : 0\n",
            "waterfall ? (1: yes, 0: no) : 0\n",
            "artGallery ? (1: yes, 0: no) : 1\n",
            "amusementPark ? (1: yes, 0: no) : 0\n",
            "mall ? (1: yes, 0: no) : 1\n",
            "HistoricalPlace ? (1: yes, 0: no) : 1\n",
            "religious ? (1: yes, 0: no) : 0\n",
            "outbond ? (1: yes, 0: no) : 1\n",
            "culinary ? (1: yes, 0: no) : 1\n",
            "photoHunting ? (1: yes, 0: no) : 1\n",
            "sightSeeing ? (1: yes, 0: no) : 1\n",
            "shopping ? (1: yes, 0: no) : 0\n"
          ]
        }
      ]
    },
    {
      "cell_type": "code",
      "source": [
        "def encode_dummy_category(location):\n",
        "  if location == \"beach\":\n",
        "    return 121\n",
        "  if location == \"mountain\":\n",
        "    return 123\n",
        "  if location == \"lake\":\n",
        "    return 124\n",
        "  if location == \"zoo\":\n",
        "    return 125\n",
        "  if location == \"river\":\n",
        "    return 126\n",
        "  if location == \"conservation\":\n",
        "    return 127\n",
        "  if location == \"waterpark\":\n",
        "    return 128\n",
        "  if location == \"waterfall\":\n",
        "    return 129\n",
        "  if location == \"artGallery\":\n",
        "    return 130\n",
        "  if location == \"amusementPark\":\n",
        "    return 131\n",
        "  if location == \"mall\":\n",
        "    return 132\n",
        "  if location == \"HistoricalPlace\":\n",
        "    return 133\n",
        "  if location == \"religious\":\n",
        "    return 134\n",
        "  if location == \"outbond\":\n",
        "    return 135\n",
        "  if location == \"culinary\":\n",
        "    return 136\n",
        "  if location == \"photoHunting\":\n",
        "    return 137\n",
        "  if location == \"sightSeeing\":\n",
        "    return 138\n",
        "  if location == \"shopping\":\n",
        "    return 139"
      ],
      "metadata": {
        "id": "gSkVFHcWtpg-"
      },
      "execution_count": 29,
      "outputs": []
    },
    {
      "cell_type": "code",
      "source": [
        "def create_data_frame(user_data, dfUserFeatcold):\n",
        "  user_id = [user_data['user_id'] for i in list_categories]\n",
        "  like = ['0' for i in list_categories]\n",
        "  categories = list_categories\n",
        "  location = categories\n",
        "  location_id = [encode_dummy_category(i) for i in list_categories]\n",
        "  add = list()\n",
        "  for i in list_categories:\n",
        "    if i in user_data['categories']:\n",
        "      add.append(\"1\")\n",
        "    else:\n",
        "      add.append(\"0\")\n",
        "  data = {'user_id' : user_id, 'like' : like, \"add\" : add, \"category\" : categories, \"location\" : location, \"location_id\" : location_id}\n",
        "  df = pd.DataFrame(data)\n",
        "  df_concat = pd.concat([dfUserFeatcold,df], ignore_index= True)\n",
        "  return df, df_concat   \n"
      ],
      "metadata": {
        "id": "EYFj9hd4qiyZ"
      },
      "execution_count": 30,
      "outputs": []
    },
    {
      "cell_type": "code",
      "source": [
        "df, df_concat = create_data_frame(user_data, dfUserFeat)\n",
        "worksheetUser = gc.open('capstone_dataset').worksheet('userFeatures(coldstartsol)')\n",
        "set_with_dataframe(worksheetUser, df_concat)"
      ],
      "metadata": {
        "id": "tfJda93yuN0S"
      },
      "execution_count": 31,
      "outputs": []
    }
  ]
}