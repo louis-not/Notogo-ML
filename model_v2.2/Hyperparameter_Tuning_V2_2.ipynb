{
  "nbformat": 4,
  "nbformat_minor": 0,
  "metadata": {
    "colab": {
      "name": "Hyperparameter_Tuning_V2_2.ipynb",
      "provenance": [],
      "collapsed_sections": [],
      "authorship_tag": "ABX9TyNO+lp6VHEq9B036sdW1dwq",
      "include_colab_link": true
    },
    "kernelspec": {
      "name": "python3",
      "display_name": "Python 3"
    },
    "language_info": {
      "name": "python"
    },
    "widgets": {
      "application/vnd.jupyter.widget-state+json": {
        "4810ef20234843f49eccbf0910ec9cd2": {
          "model_module": "@jupyter-widgets/controls",
          "model_name": "HBoxModel",
          "model_module_version": "1.5.0",
          "state": {
            "_dom_classes": [],
            "_model_module": "@jupyter-widgets/controls",
            "_model_module_version": "1.5.0",
            "_model_name": "HBoxModel",
            "_view_count": null,
            "_view_module": "@jupyter-widgets/controls",
            "_view_module_version": "1.5.0",
            "_view_name": "HBoxView",
            "box_style": "",
            "children": [
              "IPY_MODEL_bc40e87303824e33938dd5e3c907b41d",
              "IPY_MODEL_5c1d67916e3b47b8b086d66b6171ff66",
              "IPY_MODEL_32d7ec3aa4cc42899b6c584a4af60a92"
            ],
            "layout": "IPY_MODEL_076143588bd444998adacb4a52b99e4b"
          }
        },
        "bc40e87303824e33938dd5e3c907b41d": {
          "model_module": "@jupyter-widgets/controls",
          "model_name": "HTMLModel",
          "model_module_version": "1.5.0",
          "state": {
            "_dom_classes": [],
            "_model_module": "@jupyter-widgets/controls",
            "_model_module_version": "1.5.0",
            "_model_name": "HTMLModel",
            "_view_count": null,
            "_view_module": "@jupyter-widgets/controls",
            "_view_module_version": "1.5.0",
            "_view_name": "HTMLView",
            "description": "",
            "description_tooltip": null,
            "layout": "IPY_MODEL_a53448ab8fe540d3a2fa80759365bff6",
            "placeholder": "​",
            "style": "IPY_MODEL_bdc750fd87ca467ebdb0e12795831a47",
            "value": "Generating splits...: 100%"
          }
        },
        "5c1d67916e3b47b8b086d66b6171ff66": {
          "model_module": "@jupyter-widgets/controls",
          "model_name": "FloatProgressModel",
          "model_module_version": "1.5.0",
          "state": {
            "_dom_classes": [],
            "_model_module": "@jupyter-widgets/controls",
            "_model_module_version": "1.5.0",
            "_model_name": "FloatProgressModel",
            "_view_count": null,
            "_view_module": "@jupyter-widgets/controls",
            "_view_module_version": "1.5.0",
            "_view_name": "ProgressView",
            "bar_style": "",
            "description": "",
            "description_tooltip": null,
            "layout": "IPY_MODEL_d69e2a36a06a4ba482a0deba920d1d44",
            "max": 1,
            "min": 0,
            "orientation": "horizontal",
            "style": "IPY_MODEL_39618492b60f4f01a00608f608e142ef",
            "value": 1
          }
        },
        "32d7ec3aa4cc42899b6c584a4af60a92": {
          "model_module": "@jupyter-widgets/controls",
          "model_name": "HTMLModel",
          "model_module_version": "1.5.0",
          "state": {
            "_dom_classes": [],
            "_model_module": "@jupyter-widgets/controls",
            "_model_module_version": "1.5.0",
            "_model_name": "HTMLModel",
            "_view_count": null,
            "_view_module": "@jupyter-widgets/controls",
            "_view_module_version": "1.5.0",
            "_view_name": "HTMLView",
            "description": "",
            "description_tooltip": null,
            "layout": "IPY_MODEL_50099d642f9d472ca4ce8716dc44a6c3",
            "placeholder": "​",
            "style": "IPY_MODEL_3e0c76cbea7f48768ec931d6f49cb737",
            "value": " 1/1 [00:07&lt;00:00,  7.37s/ splits]"
          }
        },
        "076143588bd444998adacb4a52b99e4b": {
          "model_module": "@jupyter-widgets/base",
          "model_name": "LayoutModel",
          "model_module_version": "1.2.0",
          "state": {
            "_model_module": "@jupyter-widgets/base",
            "_model_module_version": "1.2.0",
            "_model_name": "LayoutModel",
            "_view_count": null,
            "_view_module": "@jupyter-widgets/base",
            "_view_module_version": "1.2.0",
            "_view_name": "LayoutView",
            "align_content": null,
            "align_items": null,
            "align_self": null,
            "border": null,
            "bottom": null,
            "display": null,
            "flex": null,
            "flex_flow": null,
            "grid_area": null,
            "grid_auto_columns": null,
            "grid_auto_flow": null,
            "grid_auto_rows": null,
            "grid_column": null,
            "grid_gap": null,
            "grid_row": null,
            "grid_template_areas": null,
            "grid_template_columns": null,
            "grid_template_rows": null,
            "height": null,
            "justify_content": null,
            "justify_items": null,
            "left": null,
            "margin": null,
            "max_height": null,
            "max_width": null,
            "min_height": null,
            "min_width": null,
            "object_fit": null,
            "object_position": null,
            "order": null,
            "overflow": null,
            "overflow_x": null,
            "overflow_y": null,
            "padding": null,
            "right": null,
            "top": null,
            "visibility": null,
            "width": null
          }
        },
        "a53448ab8fe540d3a2fa80759365bff6": {
          "model_module": "@jupyter-widgets/base",
          "model_name": "LayoutModel",
          "model_module_version": "1.2.0",
          "state": {
            "_model_module": "@jupyter-widgets/base",
            "_model_module_version": "1.2.0",
            "_model_name": "LayoutModel",
            "_view_count": null,
            "_view_module": "@jupyter-widgets/base",
            "_view_module_version": "1.2.0",
            "_view_name": "LayoutView",
            "align_content": null,
            "align_items": null,
            "align_self": null,
            "border": null,
            "bottom": null,
            "display": null,
            "flex": null,
            "flex_flow": null,
            "grid_area": null,
            "grid_auto_columns": null,
            "grid_auto_flow": null,
            "grid_auto_rows": null,
            "grid_column": null,
            "grid_gap": null,
            "grid_row": null,
            "grid_template_areas": null,
            "grid_template_columns": null,
            "grid_template_rows": null,
            "height": null,
            "justify_content": null,
            "justify_items": null,
            "left": null,
            "margin": null,
            "max_height": null,
            "max_width": null,
            "min_height": null,
            "min_width": null,
            "object_fit": null,
            "object_position": null,
            "order": null,
            "overflow": null,
            "overflow_x": null,
            "overflow_y": null,
            "padding": null,
            "right": null,
            "top": null,
            "visibility": null,
            "width": null
          }
        },
        "bdc750fd87ca467ebdb0e12795831a47": {
          "model_module": "@jupyter-widgets/controls",
          "model_name": "DescriptionStyleModel",
          "model_module_version": "1.5.0",
          "state": {
            "_model_module": "@jupyter-widgets/controls",
            "_model_module_version": "1.5.0",
            "_model_name": "DescriptionStyleModel",
            "_view_count": null,
            "_view_module": "@jupyter-widgets/base",
            "_view_module_version": "1.2.0",
            "_view_name": "StyleView",
            "description_width": ""
          }
        },
        "d69e2a36a06a4ba482a0deba920d1d44": {
          "model_module": "@jupyter-widgets/base",
          "model_name": "LayoutModel",
          "model_module_version": "1.2.0",
          "state": {
            "_model_module": "@jupyter-widgets/base",
            "_model_module_version": "1.2.0",
            "_model_name": "LayoutModel",
            "_view_count": null,
            "_view_module": "@jupyter-widgets/base",
            "_view_module_version": "1.2.0",
            "_view_name": "LayoutView",
            "align_content": null,
            "align_items": null,
            "align_self": null,
            "border": null,
            "bottom": null,
            "display": null,
            "flex": null,
            "flex_flow": null,
            "grid_area": null,
            "grid_auto_columns": null,
            "grid_auto_flow": null,
            "grid_auto_rows": null,
            "grid_column": null,
            "grid_gap": null,
            "grid_row": null,
            "grid_template_areas": null,
            "grid_template_columns": null,
            "grid_template_rows": null,
            "height": null,
            "justify_content": null,
            "justify_items": null,
            "left": null,
            "margin": null,
            "max_height": null,
            "max_width": null,
            "min_height": null,
            "min_width": null,
            "object_fit": null,
            "object_position": null,
            "order": null,
            "overflow": null,
            "overflow_x": null,
            "overflow_y": null,
            "padding": null,
            "right": null,
            "top": null,
            "visibility": null,
            "width": null
          }
        },
        "39618492b60f4f01a00608f608e142ef": {
          "model_module": "@jupyter-widgets/controls",
          "model_name": "ProgressStyleModel",
          "model_module_version": "1.5.0",
          "state": {
            "_model_module": "@jupyter-widgets/controls",
            "_model_module_version": "1.5.0",
            "_model_name": "ProgressStyleModel",
            "_view_count": null,
            "_view_module": "@jupyter-widgets/base",
            "_view_module_version": "1.2.0",
            "_view_name": "StyleView",
            "bar_color": null,
            "description_width": ""
          }
        },
        "50099d642f9d472ca4ce8716dc44a6c3": {
          "model_module": "@jupyter-widgets/base",
          "model_name": "LayoutModel",
          "model_module_version": "1.2.0",
          "state": {
            "_model_module": "@jupyter-widgets/base",
            "_model_module_version": "1.2.0",
            "_model_name": "LayoutModel",
            "_view_count": null,
            "_view_module": "@jupyter-widgets/base",
            "_view_module_version": "1.2.0",
            "_view_name": "LayoutView",
            "align_content": null,
            "align_items": null,
            "align_self": null,
            "border": null,
            "bottom": null,
            "display": null,
            "flex": null,
            "flex_flow": null,
            "grid_area": null,
            "grid_auto_columns": null,
            "grid_auto_flow": null,
            "grid_auto_rows": null,
            "grid_column": null,
            "grid_gap": null,
            "grid_row": null,
            "grid_template_areas": null,
            "grid_template_columns": null,
            "grid_template_rows": null,
            "height": null,
            "justify_content": null,
            "justify_items": null,
            "left": null,
            "margin": null,
            "max_height": null,
            "max_width": null,
            "min_height": null,
            "min_width": null,
            "object_fit": null,
            "object_position": null,
            "order": null,
            "overflow": null,
            "overflow_x": null,
            "overflow_y": null,
            "padding": null,
            "right": null,
            "top": null,
            "visibility": null,
            "width": null
          }
        },
        "3e0c76cbea7f48768ec931d6f49cb737": {
          "model_module": "@jupyter-widgets/controls",
          "model_name": "DescriptionStyleModel",
          "model_module_version": "1.5.0",
          "state": {
            "_model_module": "@jupyter-widgets/controls",
            "_model_module_version": "1.5.0",
            "_model_name": "DescriptionStyleModel",
            "_view_count": null,
            "_view_module": "@jupyter-widgets/base",
            "_view_module_version": "1.2.0",
            "_view_name": "StyleView",
            "description_width": ""
          }
        },
        "54674b10a5f64623a3e4487bc28052e3": {
          "model_module": "@jupyter-widgets/controls",
          "model_name": "HBoxModel",
          "model_module_version": "1.5.0",
          "state": {
            "_dom_classes": [],
            "_model_module": "@jupyter-widgets/controls",
            "_model_module_version": "1.5.0",
            "_model_name": "HBoxModel",
            "_view_count": null,
            "_view_module": "@jupyter-widgets/controls",
            "_view_module_version": "1.5.0",
            "_view_name": "HBoxView",
            "box_style": "",
            "children": [
              "IPY_MODEL_2668461908234ed8bd21ed3147039a06",
              "IPY_MODEL_15373dba1fab4a248fb757b754adfda9",
              "IPY_MODEL_bbe2f82b6f39411a87d80254cfc1e9c0"
            ],
            "layout": "IPY_MODEL_4df25ffc488442fabca64cdfa28929e9"
          }
        },
        "2668461908234ed8bd21ed3147039a06": {
          "model_module": "@jupyter-widgets/controls",
          "model_name": "HTMLModel",
          "model_module_version": "1.5.0",
          "state": {
            "_dom_classes": [],
            "_model_module": "@jupyter-widgets/controls",
            "_model_module_version": "1.5.0",
            "_model_name": "HTMLModel",
            "_view_count": null,
            "_view_module": "@jupyter-widgets/controls",
            "_view_module_version": "1.5.0",
            "_view_name": "HTMLView",
            "description": "",
            "description_tooltip": null,
            "layout": "IPY_MODEL_f6271018a5884a4ba1d0bc06b01d4172",
            "placeholder": "​",
            "style": "IPY_MODEL_0c32a38b9c944329a5ee17ff59e222f3",
            "value": "Generating train examples...: "
          }
        },
        "15373dba1fab4a248fb757b754adfda9": {
          "model_module": "@jupyter-widgets/controls",
          "model_name": "FloatProgressModel",
          "model_module_version": "1.5.0",
          "state": {
            "_dom_classes": [],
            "_model_module": "@jupyter-widgets/controls",
            "_model_module_version": "1.5.0",
            "_model_name": "FloatProgressModel",
            "_view_count": null,
            "_view_module": "@jupyter-widgets/controls",
            "_view_module_version": "1.5.0",
            "_view_name": "ProgressView",
            "bar_style": "info",
            "description": "",
            "description_tooltip": null,
            "layout": "IPY_MODEL_3ddb1e914603475093999af636a41881",
            "max": 1,
            "min": 0,
            "orientation": "horizontal",
            "style": "IPY_MODEL_8fbbedd0de5a461398a2f66e22e07e25",
            "value": 1
          }
        },
        "bbe2f82b6f39411a87d80254cfc1e9c0": {
          "model_module": "@jupyter-widgets/controls",
          "model_name": "HTMLModel",
          "model_module_version": "1.5.0",
          "state": {
            "_dom_classes": [],
            "_model_module": "@jupyter-widgets/controls",
            "_model_module_version": "1.5.0",
            "_model_name": "HTMLModel",
            "_view_count": null,
            "_view_module": "@jupyter-widgets/controls",
            "_view_module_version": "1.5.0",
            "_view_name": "HTMLView",
            "description": "",
            "description_tooltip": null,
            "layout": "IPY_MODEL_16ebdc1ad84c43dab66d9903937635be",
            "placeholder": "​",
            "style": "IPY_MODEL_a44aad26400d47628983524bc748871e",
            "value": " 30419/? [00:06&lt;00:00, 5663.84 examples/s]"
          }
        },
        "4df25ffc488442fabca64cdfa28929e9": {
          "model_module": "@jupyter-widgets/base",
          "model_name": "LayoutModel",
          "model_module_version": "1.2.0",
          "state": {
            "_model_module": "@jupyter-widgets/base",
            "_model_module_version": "1.2.0",
            "_model_name": "LayoutModel",
            "_view_count": null,
            "_view_module": "@jupyter-widgets/base",
            "_view_module_version": "1.2.0",
            "_view_name": "LayoutView",
            "align_content": null,
            "align_items": null,
            "align_self": null,
            "border": null,
            "bottom": null,
            "display": null,
            "flex": null,
            "flex_flow": null,
            "grid_area": null,
            "grid_auto_columns": null,
            "grid_auto_flow": null,
            "grid_auto_rows": null,
            "grid_column": null,
            "grid_gap": null,
            "grid_row": null,
            "grid_template_areas": null,
            "grid_template_columns": null,
            "grid_template_rows": null,
            "height": null,
            "justify_content": null,
            "justify_items": null,
            "left": null,
            "margin": null,
            "max_height": null,
            "max_width": null,
            "min_height": null,
            "min_width": null,
            "object_fit": null,
            "object_position": null,
            "order": null,
            "overflow": null,
            "overflow_x": null,
            "overflow_y": null,
            "padding": null,
            "right": null,
            "top": null,
            "visibility": null,
            "width": null
          }
        },
        "f6271018a5884a4ba1d0bc06b01d4172": {
          "model_module": "@jupyter-widgets/base",
          "model_name": "LayoutModel",
          "model_module_version": "1.2.0",
          "state": {
            "_model_module": "@jupyter-widgets/base",
            "_model_module_version": "1.2.0",
            "_model_name": "LayoutModel",
            "_view_count": null,
            "_view_module": "@jupyter-widgets/base",
            "_view_module_version": "1.2.0",
            "_view_name": "LayoutView",
            "align_content": null,
            "align_items": null,
            "align_self": null,
            "border": null,
            "bottom": null,
            "display": null,
            "flex": null,
            "flex_flow": null,
            "grid_area": null,
            "grid_auto_columns": null,
            "grid_auto_flow": null,
            "grid_auto_rows": null,
            "grid_column": null,
            "grid_gap": null,
            "grid_row": null,
            "grid_template_areas": null,
            "grid_template_columns": null,
            "grid_template_rows": null,
            "height": null,
            "justify_content": null,
            "justify_items": null,
            "left": null,
            "margin": null,
            "max_height": null,
            "max_width": null,
            "min_height": null,
            "min_width": null,
            "object_fit": null,
            "object_position": null,
            "order": null,
            "overflow": null,
            "overflow_x": null,
            "overflow_y": null,
            "padding": null,
            "right": null,
            "top": null,
            "visibility": null,
            "width": null
          }
        },
        "0c32a38b9c944329a5ee17ff59e222f3": {
          "model_module": "@jupyter-widgets/controls",
          "model_name": "DescriptionStyleModel",
          "model_module_version": "1.5.0",
          "state": {
            "_model_module": "@jupyter-widgets/controls",
            "_model_module_version": "1.5.0",
            "_model_name": "DescriptionStyleModel",
            "_view_count": null,
            "_view_module": "@jupyter-widgets/base",
            "_view_module_version": "1.2.0",
            "_view_name": "StyleView",
            "description_width": ""
          }
        },
        "3ddb1e914603475093999af636a41881": {
          "model_module": "@jupyter-widgets/base",
          "model_name": "LayoutModel",
          "model_module_version": "1.2.0",
          "state": {
            "_model_module": "@jupyter-widgets/base",
            "_model_module_version": "1.2.0",
            "_model_name": "LayoutModel",
            "_view_count": null,
            "_view_module": "@jupyter-widgets/base",
            "_view_module_version": "1.2.0",
            "_view_name": "LayoutView",
            "align_content": null,
            "align_items": null,
            "align_self": null,
            "border": null,
            "bottom": null,
            "display": null,
            "flex": null,
            "flex_flow": null,
            "grid_area": null,
            "grid_auto_columns": null,
            "grid_auto_flow": null,
            "grid_auto_rows": null,
            "grid_column": null,
            "grid_gap": null,
            "grid_row": null,
            "grid_template_areas": null,
            "grid_template_columns": null,
            "grid_template_rows": null,
            "height": null,
            "justify_content": null,
            "justify_items": null,
            "left": null,
            "margin": null,
            "max_height": null,
            "max_width": null,
            "min_height": null,
            "min_width": null,
            "object_fit": null,
            "object_position": null,
            "order": null,
            "overflow": null,
            "overflow_x": null,
            "overflow_y": null,
            "padding": null,
            "right": null,
            "top": null,
            "visibility": null,
            "width": "20px"
          }
        },
        "8fbbedd0de5a461398a2f66e22e07e25": {
          "model_module": "@jupyter-widgets/controls",
          "model_name": "ProgressStyleModel",
          "model_module_version": "1.5.0",
          "state": {
            "_model_module": "@jupyter-widgets/controls",
            "_model_module_version": "1.5.0",
            "_model_name": "ProgressStyleModel",
            "_view_count": null,
            "_view_module": "@jupyter-widgets/base",
            "_view_module_version": "1.2.0",
            "_view_name": "StyleView",
            "bar_color": null,
            "description_width": ""
          }
        },
        "16ebdc1ad84c43dab66d9903937635be": {
          "model_module": "@jupyter-widgets/base",
          "model_name": "LayoutModel",
          "model_module_version": "1.2.0",
          "state": {
            "_model_module": "@jupyter-widgets/base",
            "_model_module_version": "1.2.0",
            "_model_name": "LayoutModel",
            "_view_count": null,
            "_view_module": "@jupyter-widgets/base",
            "_view_module_version": "1.2.0",
            "_view_name": "LayoutView",
            "align_content": null,
            "align_items": null,
            "align_self": null,
            "border": null,
            "bottom": null,
            "display": null,
            "flex": null,
            "flex_flow": null,
            "grid_area": null,
            "grid_auto_columns": null,
            "grid_auto_flow": null,
            "grid_auto_rows": null,
            "grid_column": null,
            "grid_gap": null,
            "grid_row": null,
            "grid_template_areas": null,
            "grid_template_columns": null,
            "grid_template_rows": null,
            "height": null,
            "justify_content": null,
            "justify_items": null,
            "left": null,
            "margin": null,
            "max_height": null,
            "max_width": null,
            "min_height": null,
            "min_width": null,
            "object_fit": null,
            "object_position": null,
            "order": null,
            "overflow": null,
            "overflow_x": null,
            "overflow_y": null,
            "padding": null,
            "right": null,
            "top": null,
            "visibility": null,
            "width": null
          }
        },
        "a44aad26400d47628983524bc748871e": {
          "model_module": "@jupyter-widgets/controls",
          "model_name": "DescriptionStyleModel",
          "model_module_version": "1.5.0",
          "state": {
            "_model_module": "@jupyter-widgets/controls",
            "_model_module_version": "1.5.0",
            "_model_name": "DescriptionStyleModel",
            "_view_count": null,
            "_view_module": "@jupyter-widgets/base",
            "_view_module_version": "1.2.0",
            "_view_name": "StyleView",
            "description_width": ""
          }
        },
        "4c3ba87614a5441ab42b55b2b3563a89": {
          "model_module": "@jupyter-widgets/controls",
          "model_name": "HBoxModel",
          "model_module_version": "1.5.0",
          "state": {
            "_dom_classes": [],
            "_model_module": "@jupyter-widgets/controls",
            "_model_module_version": "1.5.0",
            "_model_name": "HBoxModel",
            "_view_count": null,
            "_view_module": "@jupyter-widgets/controls",
            "_view_module_version": "1.5.0",
            "_view_name": "HBoxView",
            "box_style": "",
            "children": [
              "IPY_MODEL_73512578776841fabe0b9564e21c178f",
              "IPY_MODEL_1e2bf770141c488b9200ba52f246a962",
              "IPY_MODEL_006e96a040ac41aebd4885ea76d2ac87"
            ],
            "layout": "IPY_MODEL_a823af61c98a45cd9a8108b06eee8871"
          }
        },
        "73512578776841fabe0b9564e21c178f": {
          "model_module": "@jupyter-widgets/controls",
          "model_name": "HTMLModel",
          "model_module_version": "1.5.0",
          "state": {
            "_dom_classes": [],
            "_model_module": "@jupyter-widgets/controls",
            "_model_module_version": "1.5.0",
            "_model_name": "HTMLModel",
            "_view_count": null,
            "_view_module": "@jupyter-widgets/controls",
            "_view_module_version": "1.5.0",
            "_view_name": "HTMLView",
            "description": "",
            "description_tooltip": null,
            "layout": "IPY_MODEL_13b6c19084994fab879b1b1689af450c",
            "placeholder": "​",
            "style": "IPY_MODEL_93cc6f68c490479bb5a204ded659f231",
            "value": "Shuffling /root/tensorflow_datasets/userfeatures/1.0.0.incomplete3699XW/userfeatures-train.tfrecord*...:  92%"
          }
        },
        "1e2bf770141c488b9200ba52f246a962": {
          "model_module": "@jupyter-widgets/controls",
          "model_name": "FloatProgressModel",
          "model_module_version": "1.5.0",
          "state": {
            "_dom_classes": [],
            "_model_module": "@jupyter-widgets/controls",
            "_model_module_version": "1.5.0",
            "_model_name": "FloatProgressModel",
            "_view_count": null,
            "_view_module": "@jupyter-widgets/controls",
            "_view_module_version": "1.5.0",
            "_view_name": "ProgressView",
            "bar_style": "",
            "description": "",
            "description_tooltip": null,
            "layout": "IPY_MODEL_c2a9ddbf7c8d476e8a33b2785fe3c7ab",
            "max": 30762,
            "min": 0,
            "orientation": "horizontal",
            "style": "IPY_MODEL_99d62c26101948e4b07c6e93670013cc",
            "value": 30762
          }
        },
        "006e96a040ac41aebd4885ea76d2ac87": {
          "model_module": "@jupyter-widgets/controls",
          "model_name": "HTMLModel",
          "model_module_version": "1.5.0",
          "state": {
            "_dom_classes": [],
            "_model_module": "@jupyter-widgets/controls",
            "_model_module_version": "1.5.0",
            "_model_name": "HTMLModel",
            "_view_count": null,
            "_view_module": "@jupyter-widgets/controls",
            "_view_module_version": "1.5.0",
            "_view_name": "HTMLView",
            "description": "",
            "description_tooltip": null,
            "layout": "IPY_MODEL_3fadabe47bff4c05863b247b6042d98e",
            "placeholder": "​",
            "style": "IPY_MODEL_7b1773f7eb57495082dbce90d259c88d",
            "value": " 28327/30762 [00:00&lt;00:00, 165034.65 examples/s]"
          }
        },
        "a823af61c98a45cd9a8108b06eee8871": {
          "model_module": "@jupyter-widgets/base",
          "model_name": "LayoutModel",
          "model_module_version": "1.2.0",
          "state": {
            "_model_module": "@jupyter-widgets/base",
            "_model_module_version": "1.2.0",
            "_model_name": "LayoutModel",
            "_view_count": null,
            "_view_module": "@jupyter-widgets/base",
            "_view_module_version": "1.2.0",
            "_view_name": "LayoutView",
            "align_content": null,
            "align_items": null,
            "align_self": null,
            "border": null,
            "bottom": null,
            "display": null,
            "flex": null,
            "flex_flow": null,
            "grid_area": null,
            "grid_auto_columns": null,
            "grid_auto_flow": null,
            "grid_auto_rows": null,
            "grid_column": null,
            "grid_gap": null,
            "grid_row": null,
            "grid_template_areas": null,
            "grid_template_columns": null,
            "grid_template_rows": null,
            "height": null,
            "justify_content": null,
            "justify_items": null,
            "left": null,
            "margin": null,
            "max_height": null,
            "max_width": null,
            "min_height": null,
            "min_width": null,
            "object_fit": null,
            "object_position": null,
            "order": null,
            "overflow": null,
            "overflow_x": null,
            "overflow_y": null,
            "padding": null,
            "right": null,
            "top": null,
            "visibility": null,
            "width": null
          }
        },
        "13b6c19084994fab879b1b1689af450c": {
          "model_module": "@jupyter-widgets/base",
          "model_name": "LayoutModel",
          "model_module_version": "1.2.0",
          "state": {
            "_model_module": "@jupyter-widgets/base",
            "_model_module_version": "1.2.0",
            "_model_name": "LayoutModel",
            "_view_count": null,
            "_view_module": "@jupyter-widgets/base",
            "_view_module_version": "1.2.0",
            "_view_name": "LayoutView",
            "align_content": null,
            "align_items": null,
            "align_self": null,
            "border": null,
            "bottom": null,
            "display": null,
            "flex": null,
            "flex_flow": null,
            "grid_area": null,
            "grid_auto_columns": null,
            "grid_auto_flow": null,
            "grid_auto_rows": null,
            "grid_column": null,
            "grid_gap": null,
            "grid_row": null,
            "grid_template_areas": null,
            "grid_template_columns": null,
            "grid_template_rows": null,
            "height": null,
            "justify_content": null,
            "justify_items": null,
            "left": null,
            "margin": null,
            "max_height": null,
            "max_width": null,
            "min_height": null,
            "min_width": null,
            "object_fit": null,
            "object_position": null,
            "order": null,
            "overflow": null,
            "overflow_x": null,
            "overflow_y": null,
            "padding": null,
            "right": null,
            "top": null,
            "visibility": null,
            "width": null
          }
        },
        "93cc6f68c490479bb5a204ded659f231": {
          "model_module": "@jupyter-widgets/controls",
          "model_name": "DescriptionStyleModel",
          "model_module_version": "1.5.0",
          "state": {
            "_model_module": "@jupyter-widgets/controls",
            "_model_module_version": "1.5.0",
            "_model_name": "DescriptionStyleModel",
            "_view_count": null,
            "_view_module": "@jupyter-widgets/base",
            "_view_module_version": "1.2.0",
            "_view_name": "StyleView",
            "description_width": ""
          }
        },
        "c2a9ddbf7c8d476e8a33b2785fe3c7ab": {
          "model_module": "@jupyter-widgets/base",
          "model_name": "LayoutModel",
          "model_module_version": "1.2.0",
          "state": {
            "_model_module": "@jupyter-widgets/base",
            "_model_module_version": "1.2.0",
            "_model_name": "LayoutModel",
            "_view_count": null,
            "_view_module": "@jupyter-widgets/base",
            "_view_module_version": "1.2.0",
            "_view_name": "LayoutView",
            "align_content": null,
            "align_items": null,
            "align_self": null,
            "border": null,
            "bottom": null,
            "display": null,
            "flex": null,
            "flex_flow": null,
            "grid_area": null,
            "grid_auto_columns": null,
            "grid_auto_flow": null,
            "grid_auto_rows": null,
            "grid_column": null,
            "grid_gap": null,
            "grid_row": null,
            "grid_template_areas": null,
            "grid_template_columns": null,
            "grid_template_rows": null,
            "height": null,
            "justify_content": null,
            "justify_items": null,
            "left": null,
            "margin": null,
            "max_height": null,
            "max_width": null,
            "min_height": null,
            "min_width": null,
            "object_fit": null,
            "object_position": null,
            "order": null,
            "overflow": null,
            "overflow_x": null,
            "overflow_y": null,
            "padding": null,
            "right": null,
            "top": null,
            "visibility": null,
            "width": null
          }
        },
        "99d62c26101948e4b07c6e93670013cc": {
          "model_module": "@jupyter-widgets/controls",
          "model_name": "ProgressStyleModel",
          "model_module_version": "1.5.0",
          "state": {
            "_model_module": "@jupyter-widgets/controls",
            "_model_module_version": "1.5.0",
            "_model_name": "ProgressStyleModel",
            "_view_count": null,
            "_view_module": "@jupyter-widgets/base",
            "_view_module_version": "1.2.0",
            "_view_name": "StyleView",
            "bar_color": null,
            "description_width": ""
          }
        },
        "3fadabe47bff4c05863b247b6042d98e": {
          "model_module": "@jupyter-widgets/base",
          "model_name": "LayoutModel",
          "model_module_version": "1.2.0",
          "state": {
            "_model_module": "@jupyter-widgets/base",
            "_model_module_version": "1.2.0",
            "_model_name": "LayoutModel",
            "_view_count": null,
            "_view_module": "@jupyter-widgets/base",
            "_view_module_version": "1.2.0",
            "_view_name": "LayoutView",
            "align_content": null,
            "align_items": null,
            "align_self": null,
            "border": null,
            "bottom": null,
            "display": null,
            "flex": null,
            "flex_flow": null,
            "grid_area": null,
            "grid_auto_columns": null,
            "grid_auto_flow": null,
            "grid_auto_rows": null,
            "grid_column": null,
            "grid_gap": null,
            "grid_row": null,
            "grid_template_areas": null,
            "grid_template_columns": null,
            "grid_template_rows": null,
            "height": null,
            "justify_content": null,
            "justify_items": null,
            "left": null,
            "margin": null,
            "max_height": null,
            "max_width": null,
            "min_height": null,
            "min_width": null,
            "object_fit": null,
            "object_position": null,
            "order": null,
            "overflow": null,
            "overflow_x": null,
            "overflow_y": null,
            "padding": null,
            "right": null,
            "top": null,
            "visibility": null,
            "width": null
          }
        },
        "7b1773f7eb57495082dbce90d259c88d": {
          "model_module": "@jupyter-widgets/controls",
          "model_name": "DescriptionStyleModel",
          "model_module_version": "1.5.0",
          "state": {
            "_model_module": "@jupyter-widgets/controls",
            "_model_module_version": "1.5.0",
            "_model_name": "DescriptionStyleModel",
            "_view_count": null,
            "_view_module": "@jupyter-widgets/base",
            "_view_module_version": "1.2.0",
            "_view_name": "StyleView",
            "description_width": ""
          }
        },
        "dac6931375b14dff95cec42e1c3de412": {
          "model_module": "@jupyter-widgets/controls",
          "model_name": "HBoxModel",
          "model_module_version": "1.5.0",
          "state": {
            "_dom_classes": [],
            "_model_module": "@jupyter-widgets/controls",
            "_model_module_version": "1.5.0",
            "_model_name": "HBoxModel",
            "_view_count": null,
            "_view_module": "@jupyter-widgets/controls",
            "_view_module_version": "1.5.0",
            "_view_name": "HBoxView",
            "box_style": "",
            "children": [
              "IPY_MODEL_390c9e26f5a04329af2ddfe11d353987",
              "IPY_MODEL_815ab9b32a7f4cc88a6ff31317c48180",
              "IPY_MODEL_a132e64cf8124646be736558ae390dc2"
            ],
            "layout": "IPY_MODEL_087b183a4eb04f8d8070f5e23dbcd428"
          }
        },
        "390c9e26f5a04329af2ddfe11d353987": {
          "model_module": "@jupyter-widgets/controls",
          "model_name": "HTMLModel",
          "model_module_version": "1.5.0",
          "state": {
            "_dom_classes": [],
            "_model_module": "@jupyter-widgets/controls",
            "_model_module_version": "1.5.0",
            "_model_name": "HTMLModel",
            "_view_count": null,
            "_view_module": "@jupyter-widgets/controls",
            "_view_module_version": "1.5.0",
            "_view_name": "HTMLView",
            "description": "",
            "description_tooltip": null,
            "layout": "IPY_MODEL_bc0a4484d28c4a60bce28a4da52738ed",
            "placeholder": "​",
            "style": "IPY_MODEL_4358e69fc3034b9cb3117cc8ad71ba7e",
            "value": "Generating splits...: 100%"
          }
        },
        "815ab9b32a7f4cc88a6ff31317c48180": {
          "model_module": "@jupyter-widgets/controls",
          "model_name": "FloatProgressModel",
          "model_module_version": "1.5.0",
          "state": {
            "_dom_classes": [],
            "_model_module": "@jupyter-widgets/controls",
            "_model_module_version": "1.5.0",
            "_model_name": "FloatProgressModel",
            "_view_count": null,
            "_view_module": "@jupyter-widgets/controls",
            "_view_module_version": "1.5.0",
            "_view_name": "ProgressView",
            "bar_style": "",
            "description": "",
            "description_tooltip": null,
            "layout": "IPY_MODEL_6c7ffc42b7b74b6e873b4648a4a979ed",
            "max": 1,
            "min": 0,
            "orientation": "horizontal",
            "style": "IPY_MODEL_076b6135eea64b75b5358cf818e4c635",
            "value": 1
          }
        },
        "a132e64cf8124646be736558ae390dc2": {
          "model_module": "@jupyter-widgets/controls",
          "model_name": "HTMLModel",
          "model_module_version": "1.5.0",
          "state": {
            "_dom_classes": [],
            "_model_module": "@jupyter-widgets/controls",
            "_model_module_version": "1.5.0",
            "_model_name": "HTMLModel",
            "_view_count": null,
            "_view_module": "@jupyter-widgets/controls",
            "_view_module_version": "1.5.0",
            "_view_name": "HTMLView",
            "description": "",
            "description_tooltip": null,
            "layout": "IPY_MODEL_0cbb02b192e54963992a0b536b291bab",
            "placeholder": "​",
            "style": "IPY_MODEL_1abc6fa5d2ed4b54afb390aa0171b3e5",
            "value": " 1/1 [00:00&lt;00:00,  4.62 splits/s]"
          }
        },
        "087b183a4eb04f8d8070f5e23dbcd428": {
          "model_module": "@jupyter-widgets/base",
          "model_name": "LayoutModel",
          "model_module_version": "1.2.0",
          "state": {
            "_model_module": "@jupyter-widgets/base",
            "_model_module_version": "1.2.0",
            "_model_name": "LayoutModel",
            "_view_count": null,
            "_view_module": "@jupyter-widgets/base",
            "_view_module_version": "1.2.0",
            "_view_name": "LayoutView",
            "align_content": null,
            "align_items": null,
            "align_self": null,
            "border": null,
            "bottom": null,
            "display": null,
            "flex": null,
            "flex_flow": null,
            "grid_area": null,
            "grid_auto_columns": null,
            "grid_auto_flow": null,
            "grid_auto_rows": null,
            "grid_column": null,
            "grid_gap": null,
            "grid_row": null,
            "grid_template_areas": null,
            "grid_template_columns": null,
            "grid_template_rows": null,
            "height": null,
            "justify_content": null,
            "justify_items": null,
            "left": null,
            "margin": null,
            "max_height": null,
            "max_width": null,
            "min_height": null,
            "min_width": null,
            "object_fit": null,
            "object_position": null,
            "order": null,
            "overflow": null,
            "overflow_x": null,
            "overflow_y": null,
            "padding": null,
            "right": null,
            "top": null,
            "visibility": null,
            "width": null
          }
        },
        "bc0a4484d28c4a60bce28a4da52738ed": {
          "model_module": "@jupyter-widgets/base",
          "model_name": "LayoutModel",
          "model_module_version": "1.2.0",
          "state": {
            "_model_module": "@jupyter-widgets/base",
            "_model_module_version": "1.2.0",
            "_model_name": "LayoutModel",
            "_view_count": null,
            "_view_module": "@jupyter-widgets/base",
            "_view_module_version": "1.2.0",
            "_view_name": "LayoutView",
            "align_content": null,
            "align_items": null,
            "align_self": null,
            "border": null,
            "bottom": null,
            "display": null,
            "flex": null,
            "flex_flow": null,
            "grid_area": null,
            "grid_auto_columns": null,
            "grid_auto_flow": null,
            "grid_auto_rows": null,
            "grid_column": null,
            "grid_gap": null,
            "grid_row": null,
            "grid_template_areas": null,
            "grid_template_columns": null,
            "grid_template_rows": null,
            "height": null,
            "justify_content": null,
            "justify_items": null,
            "left": null,
            "margin": null,
            "max_height": null,
            "max_width": null,
            "min_height": null,
            "min_width": null,
            "object_fit": null,
            "object_position": null,
            "order": null,
            "overflow": null,
            "overflow_x": null,
            "overflow_y": null,
            "padding": null,
            "right": null,
            "top": null,
            "visibility": null,
            "width": null
          }
        },
        "4358e69fc3034b9cb3117cc8ad71ba7e": {
          "model_module": "@jupyter-widgets/controls",
          "model_name": "DescriptionStyleModel",
          "model_module_version": "1.5.0",
          "state": {
            "_model_module": "@jupyter-widgets/controls",
            "_model_module_version": "1.5.0",
            "_model_name": "DescriptionStyleModel",
            "_view_count": null,
            "_view_module": "@jupyter-widgets/base",
            "_view_module_version": "1.2.0",
            "_view_name": "StyleView",
            "description_width": ""
          }
        },
        "6c7ffc42b7b74b6e873b4648a4a979ed": {
          "model_module": "@jupyter-widgets/base",
          "model_name": "LayoutModel",
          "model_module_version": "1.2.0",
          "state": {
            "_model_module": "@jupyter-widgets/base",
            "_model_module_version": "1.2.0",
            "_model_name": "LayoutModel",
            "_view_count": null,
            "_view_module": "@jupyter-widgets/base",
            "_view_module_version": "1.2.0",
            "_view_name": "LayoutView",
            "align_content": null,
            "align_items": null,
            "align_self": null,
            "border": null,
            "bottom": null,
            "display": null,
            "flex": null,
            "flex_flow": null,
            "grid_area": null,
            "grid_auto_columns": null,
            "grid_auto_flow": null,
            "grid_auto_rows": null,
            "grid_column": null,
            "grid_gap": null,
            "grid_row": null,
            "grid_template_areas": null,
            "grid_template_columns": null,
            "grid_template_rows": null,
            "height": null,
            "justify_content": null,
            "justify_items": null,
            "left": null,
            "margin": null,
            "max_height": null,
            "max_width": null,
            "min_height": null,
            "min_width": null,
            "object_fit": null,
            "object_position": null,
            "order": null,
            "overflow": null,
            "overflow_x": null,
            "overflow_y": null,
            "padding": null,
            "right": null,
            "top": null,
            "visibility": null,
            "width": null
          }
        },
        "076b6135eea64b75b5358cf818e4c635": {
          "model_module": "@jupyter-widgets/controls",
          "model_name": "ProgressStyleModel",
          "model_module_version": "1.5.0",
          "state": {
            "_model_module": "@jupyter-widgets/controls",
            "_model_module_version": "1.5.0",
            "_model_name": "ProgressStyleModel",
            "_view_count": null,
            "_view_module": "@jupyter-widgets/base",
            "_view_module_version": "1.2.0",
            "_view_name": "StyleView",
            "bar_color": null,
            "description_width": ""
          }
        },
        "0cbb02b192e54963992a0b536b291bab": {
          "model_module": "@jupyter-widgets/base",
          "model_name": "LayoutModel",
          "model_module_version": "1.2.0",
          "state": {
            "_model_module": "@jupyter-widgets/base",
            "_model_module_version": "1.2.0",
            "_model_name": "LayoutModel",
            "_view_count": null,
            "_view_module": "@jupyter-widgets/base",
            "_view_module_version": "1.2.0",
            "_view_name": "LayoutView",
            "align_content": null,
            "align_items": null,
            "align_self": null,
            "border": null,
            "bottom": null,
            "display": null,
            "flex": null,
            "flex_flow": null,
            "grid_area": null,
            "grid_auto_columns": null,
            "grid_auto_flow": null,
            "grid_auto_rows": null,
            "grid_column": null,
            "grid_gap": null,
            "grid_row": null,
            "grid_template_areas": null,
            "grid_template_columns": null,
            "grid_template_rows": null,
            "height": null,
            "justify_content": null,
            "justify_items": null,
            "left": null,
            "margin": null,
            "max_height": null,
            "max_width": null,
            "min_height": null,
            "min_width": null,
            "object_fit": null,
            "object_position": null,
            "order": null,
            "overflow": null,
            "overflow_x": null,
            "overflow_y": null,
            "padding": null,
            "right": null,
            "top": null,
            "visibility": null,
            "width": null
          }
        },
        "1abc6fa5d2ed4b54afb390aa0171b3e5": {
          "model_module": "@jupyter-widgets/controls",
          "model_name": "DescriptionStyleModel",
          "model_module_version": "1.5.0",
          "state": {
            "_model_module": "@jupyter-widgets/controls",
            "_model_module_version": "1.5.0",
            "_model_name": "DescriptionStyleModel",
            "_view_count": null,
            "_view_module": "@jupyter-widgets/base",
            "_view_module_version": "1.2.0",
            "_view_name": "StyleView",
            "description_width": ""
          }
        },
        "8868d851dcbf4c56b965919b6532dffd": {
          "model_module": "@jupyter-widgets/controls",
          "model_name": "HBoxModel",
          "model_module_version": "1.5.0",
          "state": {
            "_dom_classes": [],
            "_model_module": "@jupyter-widgets/controls",
            "_model_module_version": "1.5.0",
            "_model_name": "HBoxModel",
            "_view_count": null,
            "_view_module": "@jupyter-widgets/controls",
            "_view_module_version": "1.5.0",
            "_view_name": "HBoxView",
            "box_style": "",
            "children": [
              "IPY_MODEL_38e6b83e7bc241b7be3631c297784679",
              "IPY_MODEL_52ce359dcc7b45498e637a5c678e769c",
              "IPY_MODEL_13c7fd48b7f842038bd3b08371882fc0"
            ],
            "layout": "IPY_MODEL_77a089f0f9534e0dae79dbc3a5eaaf52"
          }
        },
        "38e6b83e7bc241b7be3631c297784679": {
          "model_module": "@jupyter-widgets/controls",
          "model_name": "HTMLModel",
          "model_module_version": "1.5.0",
          "state": {
            "_dom_classes": [],
            "_model_module": "@jupyter-widgets/controls",
            "_model_module_version": "1.5.0",
            "_model_name": "HTMLModel",
            "_view_count": null,
            "_view_module": "@jupyter-widgets/controls",
            "_view_module_version": "1.5.0",
            "_view_name": "HTMLView",
            "description": "",
            "description_tooltip": null,
            "layout": "IPY_MODEL_809523f56c40443185243c6609d70a69",
            "placeholder": "​",
            "style": "IPY_MODEL_02e9990198944b98a88bace292b7c2a1",
            "value": "Generating train examples...: "
          }
        },
        "52ce359dcc7b45498e637a5c678e769c": {
          "model_module": "@jupyter-widgets/controls",
          "model_name": "FloatProgressModel",
          "model_module_version": "1.5.0",
          "state": {
            "_dom_classes": [],
            "_model_module": "@jupyter-widgets/controls",
            "_model_module_version": "1.5.0",
            "_model_name": "FloatProgressModel",
            "_view_count": null,
            "_view_module": "@jupyter-widgets/controls",
            "_view_module_version": "1.5.0",
            "_view_name": "ProgressView",
            "bar_style": "info",
            "description": "",
            "description_tooltip": null,
            "layout": "IPY_MODEL_ac73818c4a514d0e8f038e61be441623",
            "max": 1,
            "min": 0,
            "orientation": "horizontal",
            "style": "IPY_MODEL_07abc309f3c84c92ad5e6fa68d19ef42",
            "value": 1
          }
        },
        "13c7fd48b7f842038bd3b08371882fc0": {
          "model_module": "@jupyter-widgets/controls",
          "model_name": "HTMLModel",
          "model_module_version": "1.5.0",
          "state": {
            "_dom_classes": [],
            "_model_module": "@jupyter-widgets/controls",
            "_model_module_version": "1.5.0",
            "_model_name": "HTMLModel",
            "_view_count": null,
            "_view_module": "@jupyter-widgets/controls",
            "_view_module_version": "1.5.0",
            "_view_name": "HTMLView",
            "description": "",
            "description_tooltip": null,
            "layout": "IPY_MODEL_49c7408ad11441dd90e27fb92dd086dc",
            "placeholder": "​",
            "style": "IPY_MODEL_09ed70d286084ea7a78222e5d883cbb1",
            "value": " 0/? [00:00&lt;?, ? examples/s]"
          }
        },
        "77a089f0f9534e0dae79dbc3a5eaaf52": {
          "model_module": "@jupyter-widgets/base",
          "model_name": "LayoutModel",
          "model_module_version": "1.2.0",
          "state": {
            "_model_module": "@jupyter-widgets/base",
            "_model_module_version": "1.2.0",
            "_model_name": "LayoutModel",
            "_view_count": null,
            "_view_module": "@jupyter-widgets/base",
            "_view_module_version": "1.2.0",
            "_view_name": "LayoutView",
            "align_content": null,
            "align_items": null,
            "align_self": null,
            "border": null,
            "bottom": null,
            "display": null,
            "flex": null,
            "flex_flow": null,
            "grid_area": null,
            "grid_auto_columns": null,
            "grid_auto_flow": null,
            "grid_auto_rows": null,
            "grid_column": null,
            "grid_gap": null,
            "grid_row": null,
            "grid_template_areas": null,
            "grid_template_columns": null,
            "grid_template_rows": null,
            "height": null,
            "justify_content": null,
            "justify_items": null,
            "left": null,
            "margin": null,
            "max_height": null,
            "max_width": null,
            "min_height": null,
            "min_width": null,
            "object_fit": null,
            "object_position": null,
            "order": null,
            "overflow": null,
            "overflow_x": null,
            "overflow_y": null,
            "padding": null,
            "right": null,
            "top": null,
            "visibility": null,
            "width": null
          }
        },
        "809523f56c40443185243c6609d70a69": {
          "model_module": "@jupyter-widgets/base",
          "model_name": "LayoutModel",
          "model_module_version": "1.2.0",
          "state": {
            "_model_module": "@jupyter-widgets/base",
            "_model_module_version": "1.2.0",
            "_model_name": "LayoutModel",
            "_view_count": null,
            "_view_module": "@jupyter-widgets/base",
            "_view_module_version": "1.2.0",
            "_view_name": "LayoutView",
            "align_content": null,
            "align_items": null,
            "align_self": null,
            "border": null,
            "bottom": null,
            "display": null,
            "flex": null,
            "flex_flow": null,
            "grid_area": null,
            "grid_auto_columns": null,
            "grid_auto_flow": null,
            "grid_auto_rows": null,
            "grid_column": null,
            "grid_gap": null,
            "grid_row": null,
            "grid_template_areas": null,
            "grid_template_columns": null,
            "grid_template_rows": null,
            "height": null,
            "justify_content": null,
            "justify_items": null,
            "left": null,
            "margin": null,
            "max_height": null,
            "max_width": null,
            "min_height": null,
            "min_width": null,
            "object_fit": null,
            "object_position": null,
            "order": null,
            "overflow": null,
            "overflow_x": null,
            "overflow_y": null,
            "padding": null,
            "right": null,
            "top": null,
            "visibility": null,
            "width": null
          }
        },
        "02e9990198944b98a88bace292b7c2a1": {
          "model_module": "@jupyter-widgets/controls",
          "model_name": "DescriptionStyleModel",
          "model_module_version": "1.5.0",
          "state": {
            "_model_module": "@jupyter-widgets/controls",
            "_model_module_version": "1.5.0",
            "_model_name": "DescriptionStyleModel",
            "_view_count": null,
            "_view_module": "@jupyter-widgets/base",
            "_view_module_version": "1.2.0",
            "_view_name": "StyleView",
            "description_width": ""
          }
        },
        "ac73818c4a514d0e8f038e61be441623": {
          "model_module": "@jupyter-widgets/base",
          "model_name": "LayoutModel",
          "model_module_version": "1.2.0",
          "state": {
            "_model_module": "@jupyter-widgets/base",
            "_model_module_version": "1.2.0",
            "_model_name": "LayoutModel",
            "_view_count": null,
            "_view_module": "@jupyter-widgets/base",
            "_view_module_version": "1.2.0",
            "_view_name": "LayoutView",
            "align_content": null,
            "align_items": null,
            "align_self": null,
            "border": null,
            "bottom": null,
            "display": null,
            "flex": null,
            "flex_flow": null,
            "grid_area": null,
            "grid_auto_columns": null,
            "grid_auto_flow": null,
            "grid_auto_rows": null,
            "grid_column": null,
            "grid_gap": null,
            "grid_row": null,
            "grid_template_areas": null,
            "grid_template_columns": null,
            "grid_template_rows": null,
            "height": null,
            "justify_content": null,
            "justify_items": null,
            "left": null,
            "margin": null,
            "max_height": null,
            "max_width": null,
            "min_height": null,
            "min_width": null,
            "object_fit": null,
            "object_position": null,
            "order": null,
            "overflow": null,
            "overflow_x": null,
            "overflow_y": null,
            "padding": null,
            "right": null,
            "top": null,
            "visibility": null,
            "width": "20px"
          }
        },
        "07abc309f3c84c92ad5e6fa68d19ef42": {
          "model_module": "@jupyter-widgets/controls",
          "model_name": "ProgressStyleModel",
          "model_module_version": "1.5.0",
          "state": {
            "_model_module": "@jupyter-widgets/controls",
            "_model_module_version": "1.5.0",
            "_model_name": "ProgressStyleModel",
            "_view_count": null,
            "_view_module": "@jupyter-widgets/base",
            "_view_module_version": "1.2.0",
            "_view_name": "StyleView",
            "bar_color": null,
            "description_width": ""
          }
        },
        "49c7408ad11441dd90e27fb92dd086dc": {
          "model_module": "@jupyter-widgets/base",
          "model_name": "LayoutModel",
          "model_module_version": "1.2.0",
          "state": {
            "_model_module": "@jupyter-widgets/base",
            "_model_module_version": "1.2.0",
            "_model_name": "LayoutModel",
            "_view_count": null,
            "_view_module": "@jupyter-widgets/base",
            "_view_module_version": "1.2.0",
            "_view_name": "LayoutView",
            "align_content": null,
            "align_items": null,
            "align_self": null,
            "border": null,
            "bottom": null,
            "display": null,
            "flex": null,
            "flex_flow": null,
            "grid_area": null,
            "grid_auto_columns": null,
            "grid_auto_flow": null,
            "grid_auto_rows": null,
            "grid_column": null,
            "grid_gap": null,
            "grid_row": null,
            "grid_template_areas": null,
            "grid_template_columns": null,
            "grid_template_rows": null,
            "height": null,
            "justify_content": null,
            "justify_items": null,
            "left": null,
            "margin": null,
            "max_height": null,
            "max_width": null,
            "min_height": null,
            "min_width": null,
            "object_fit": null,
            "object_position": null,
            "order": null,
            "overflow": null,
            "overflow_x": null,
            "overflow_y": null,
            "padding": null,
            "right": null,
            "top": null,
            "visibility": null,
            "width": null
          }
        },
        "09ed70d286084ea7a78222e5d883cbb1": {
          "model_module": "@jupyter-widgets/controls",
          "model_name": "DescriptionStyleModel",
          "model_module_version": "1.5.0",
          "state": {
            "_model_module": "@jupyter-widgets/controls",
            "_model_module_version": "1.5.0",
            "_model_name": "DescriptionStyleModel",
            "_view_count": null,
            "_view_module": "@jupyter-widgets/base",
            "_view_module_version": "1.2.0",
            "_view_name": "StyleView",
            "description_width": ""
          }
        },
        "b67bf0bb01c143ee92f39b085480121c": {
          "model_module": "@jupyter-widgets/controls",
          "model_name": "HBoxModel",
          "model_module_version": "1.5.0",
          "state": {
            "_dom_classes": [],
            "_model_module": "@jupyter-widgets/controls",
            "_model_module_version": "1.5.0",
            "_model_name": "HBoxModel",
            "_view_count": null,
            "_view_module": "@jupyter-widgets/controls",
            "_view_module_version": "1.5.0",
            "_view_name": "HBoxView",
            "box_style": "",
            "children": [
              "IPY_MODEL_233c937ee862440f8e256d02ac5cc8f5",
              "IPY_MODEL_024921c0f0c84dc4b1287645c6f91c60",
              "IPY_MODEL_1eab5c4db28940048128b6256b9f5676"
            ],
            "layout": "IPY_MODEL_e4d98a95dac1482f9bd6ce087a5d57eb"
          }
        },
        "233c937ee862440f8e256d02ac5cc8f5": {
          "model_module": "@jupyter-widgets/controls",
          "model_name": "HTMLModel",
          "model_module_version": "1.5.0",
          "state": {
            "_dom_classes": [],
            "_model_module": "@jupyter-widgets/controls",
            "_model_module_version": "1.5.0",
            "_model_name": "HTMLModel",
            "_view_count": null,
            "_view_module": "@jupyter-widgets/controls",
            "_view_module_version": "1.5.0",
            "_view_name": "HTMLView",
            "description": "",
            "description_tooltip": null,
            "layout": "IPY_MODEL_73eeb640b52f46af9faa74a687259585",
            "placeholder": "​",
            "style": "IPY_MODEL_f166cef70ab340d893a1afc646a2ce14",
            "value": "Shuffling /root/tensorflow_datasets/wishembedding/1.0.0.incompleteXUW5HS/wishembedding-train.tfrecord*...:   0%"
          }
        },
        "024921c0f0c84dc4b1287645c6f91c60": {
          "model_module": "@jupyter-widgets/controls",
          "model_name": "FloatProgressModel",
          "model_module_version": "1.5.0",
          "state": {
            "_dom_classes": [],
            "_model_module": "@jupyter-widgets/controls",
            "_model_module_version": "1.5.0",
            "_model_name": "FloatProgressModel",
            "_view_count": null,
            "_view_module": "@jupyter-widgets/controls",
            "_view_module_version": "1.5.0",
            "_view_name": "ProgressView",
            "bar_style": "",
            "description": "",
            "description_tooltip": null,
            "layout": "IPY_MODEL_eaa95d266f5444f5b4203b39d9c01ea1",
            "max": 121,
            "min": 0,
            "orientation": "horizontal",
            "style": "IPY_MODEL_efa1e347018446cbbffa578246eb9442",
            "value": 121
          }
        },
        "1eab5c4db28940048128b6256b9f5676": {
          "model_module": "@jupyter-widgets/controls",
          "model_name": "HTMLModel",
          "model_module_version": "1.5.0",
          "state": {
            "_dom_classes": [],
            "_model_module": "@jupyter-widgets/controls",
            "_model_module_version": "1.5.0",
            "_model_name": "HTMLModel",
            "_view_count": null,
            "_view_module": "@jupyter-widgets/controls",
            "_view_module_version": "1.5.0",
            "_view_name": "HTMLView",
            "description": "",
            "description_tooltip": null,
            "layout": "IPY_MODEL_baa38a9d9efc4fdf9e8e02609d5471cc",
            "placeholder": "​",
            "style": "IPY_MODEL_213d656b228d47119d87040f1cd00aac",
            "value": " 0/121 [00:00&lt;?, ? examples/s]"
          }
        },
        "e4d98a95dac1482f9bd6ce087a5d57eb": {
          "model_module": "@jupyter-widgets/base",
          "model_name": "LayoutModel",
          "model_module_version": "1.2.0",
          "state": {
            "_model_module": "@jupyter-widgets/base",
            "_model_module_version": "1.2.0",
            "_model_name": "LayoutModel",
            "_view_count": null,
            "_view_module": "@jupyter-widgets/base",
            "_view_module_version": "1.2.0",
            "_view_name": "LayoutView",
            "align_content": null,
            "align_items": null,
            "align_self": null,
            "border": null,
            "bottom": null,
            "display": null,
            "flex": null,
            "flex_flow": null,
            "grid_area": null,
            "grid_auto_columns": null,
            "grid_auto_flow": null,
            "grid_auto_rows": null,
            "grid_column": null,
            "grid_gap": null,
            "grid_row": null,
            "grid_template_areas": null,
            "grid_template_columns": null,
            "grid_template_rows": null,
            "height": null,
            "justify_content": null,
            "justify_items": null,
            "left": null,
            "margin": null,
            "max_height": null,
            "max_width": null,
            "min_height": null,
            "min_width": null,
            "object_fit": null,
            "object_position": null,
            "order": null,
            "overflow": null,
            "overflow_x": null,
            "overflow_y": null,
            "padding": null,
            "right": null,
            "top": null,
            "visibility": null,
            "width": null
          }
        },
        "73eeb640b52f46af9faa74a687259585": {
          "model_module": "@jupyter-widgets/base",
          "model_name": "LayoutModel",
          "model_module_version": "1.2.0",
          "state": {
            "_model_module": "@jupyter-widgets/base",
            "_model_module_version": "1.2.0",
            "_model_name": "LayoutModel",
            "_view_count": null,
            "_view_module": "@jupyter-widgets/base",
            "_view_module_version": "1.2.0",
            "_view_name": "LayoutView",
            "align_content": null,
            "align_items": null,
            "align_self": null,
            "border": null,
            "bottom": null,
            "display": null,
            "flex": null,
            "flex_flow": null,
            "grid_area": null,
            "grid_auto_columns": null,
            "grid_auto_flow": null,
            "grid_auto_rows": null,
            "grid_column": null,
            "grid_gap": null,
            "grid_row": null,
            "grid_template_areas": null,
            "grid_template_columns": null,
            "grid_template_rows": null,
            "height": null,
            "justify_content": null,
            "justify_items": null,
            "left": null,
            "margin": null,
            "max_height": null,
            "max_width": null,
            "min_height": null,
            "min_width": null,
            "object_fit": null,
            "object_position": null,
            "order": null,
            "overflow": null,
            "overflow_x": null,
            "overflow_y": null,
            "padding": null,
            "right": null,
            "top": null,
            "visibility": null,
            "width": null
          }
        },
        "f166cef70ab340d893a1afc646a2ce14": {
          "model_module": "@jupyter-widgets/controls",
          "model_name": "DescriptionStyleModel",
          "model_module_version": "1.5.0",
          "state": {
            "_model_module": "@jupyter-widgets/controls",
            "_model_module_version": "1.5.0",
            "_model_name": "DescriptionStyleModel",
            "_view_count": null,
            "_view_module": "@jupyter-widgets/base",
            "_view_module_version": "1.2.0",
            "_view_name": "StyleView",
            "description_width": ""
          }
        },
        "eaa95d266f5444f5b4203b39d9c01ea1": {
          "model_module": "@jupyter-widgets/base",
          "model_name": "LayoutModel",
          "model_module_version": "1.2.0",
          "state": {
            "_model_module": "@jupyter-widgets/base",
            "_model_module_version": "1.2.0",
            "_model_name": "LayoutModel",
            "_view_count": null,
            "_view_module": "@jupyter-widgets/base",
            "_view_module_version": "1.2.0",
            "_view_name": "LayoutView",
            "align_content": null,
            "align_items": null,
            "align_self": null,
            "border": null,
            "bottom": null,
            "display": null,
            "flex": null,
            "flex_flow": null,
            "grid_area": null,
            "grid_auto_columns": null,
            "grid_auto_flow": null,
            "grid_auto_rows": null,
            "grid_column": null,
            "grid_gap": null,
            "grid_row": null,
            "grid_template_areas": null,
            "grid_template_columns": null,
            "grid_template_rows": null,
            "height": null,
            "justify_content": null,
            "justify_items": null,
            "left": null,
            "margin": null,
            "max_height": null,
            "max_width": null,
            "min_height": null,
            "min_width": null,
            "object_fit": null,
            "object_position": null,
            "order": null,
            "overflow": null,
            "overflow_x": null,
            "overflow_y": null,
            "padding": null,
            "right": null,
            "top": null,
            "visibility": null,
            "width": null
          }
        },
        "efa1e347018446cbbffa578246eb9442": {
          "model_module": "@jupyter-widgets/controls",
          "model_name": "ProgressStyleModel",
          "model_module_version": "1.5.0",
          "state": {
            "_model_module": "@jupyter-widgets/controls",
            "_model_module_version": "1.5.0",
            "_model_name": "ProgressStyleModel",
            "_view_count": null,
            "_view_module": "@jupyter-widgets/base",
            "_view_module_version": "1.2.0",
            "_view_name": "StyleView",
            "bar_color": null,
            "description_width": ""
          }
        },
        "baa38a9d9efc4fdf9e8e02609d5471cc": {
          "model_module": "@jupyter-widgets/base",
          "model_name": "LayoutModel",
          "model_module_version": "1.2.0",
          "state": {
            "_model_module": "@jupyter-widgets/base",
            "_model_module_version": "1.2.0",
            "_model_name": "LayoutModel",
            "_view_count": null,
            "_view_module": "@jupyter-widgets/base",
            "_view_module_version": "1.2.0",
            "_view_name": "LayoutView",
            "align_content": null,
            "align_items": null,
            "align_self": null,
            "border": null,
            "bottom": null,
            "display": null,
            "flex": null,
            "flex_flow": null,
            "grid_area": null,
            "grid_auto_columns": null,
            "grid_auto_flow": null,
            "grid_auto_rows": null,
            "grid_column": null,
            "grid_gap": null,
            "grid_row": null,
            "grid_template_areas": null,
            "grid_template_columns": null,
            "grid_template_rows": null,
            "height": null,
            "justify_content": null,
            "justify_items": null,
            "left": null,
            "margin": null,
            "max_height": null,
            "max_width": null,
            "min_height": null,
            "min_width": null,
            "object_fit": null,
            "object_position": null,
            "order": null,
            "overflow": null,
            "overflow_x": null,
            "overflow_y": null,
            "padding": null,
            "right": null,
            "top": null,
            "visibility": null,
            "width": null
          }
        },
        "213d656b228d47119d87040f1cd00aac": {
          "model_module": "@jupyter-widgets/controls",
          "model_name": "DescriptionStyleModel",
          "model_module_version": "1.5.0",
          "state": {
            "_model_module": "@jupyter-widgets/controls",
            "_model_module_version": "1.5.0",
            "_model_name": "DescriptionStyleModel",
            "_view_count": null,
            "_view_module": "@jupyter-widgets/base",
            "_view_module_version": "1.2.0",
            "_view_name": "StyleView",
            "description_width": ""
          }
        }
      }
    }
  },
  "cells": [
    {
      "cell_type": "markdown",
      "metadata": {
        "id": "view-in-github",
        "colab_type": "text"
      },
      "source": [
        "<a href=\"https://colab.research.google.com/github/louis-not/Notogo-ML/blob/main/model_v2.2/Hyperparameter_Tuning_V2_2.ipynb\" target=\"_parent\"><img src=\"https://colab.research.google.com/assets/colab-badge.svg\" alt=\"Open In Colab\"/></a>"
      ]
    },
    {
      "cell_type": "markdown",
      "source": [
        "# RUN"
      ],
      "metadata": {
        "id": "vefTsc5fFQyA"
      }
    },
    {
      "cell_type": "markdown",
      "source": [
        "## Import Module"
      ],
      "metadata": {
        "id": "ok4qU_x8FS88"
      }
    },
    {
      "cell_type": "markdown",
      "source": [
        "### For Optimization"
      ],
      "metadata": {
        "id": "Qeli9d1_HZuV"
      }
    },
    {
      "cell_type": "code",
      "execution_count": null,
      "metadata": {
        "colab": {
          "base_uri": "https://localhost:8080/"
        },
        "id": "qf8_odwpFK7h",
        "outputId": "f75c8865-b2aa-4e9c-ce55-a7ad752321a6"
      },
      "outputs": [
        {
          "output_type": "stream",
          "name": "stdout",
          "text": [
            "Looking in indexes: https://pypi.org/simple, https://us-python.pkg.dev/colab-wheels/public/simple/\n",
            "Requirement already satisfied: bayesian-optimization in /usr/local/lib/python3.7/dist-packages (1.2.0)\n",
            "Requirement already satisfied: scipy>=0.14.0 in /usr/local/lib/python3.7/dist-packages (from bayesian-optimization) (1.4.1)\n",
            "Requirement already satisfied: scikit-learn>=0.18.0 in /usr/local/lib/python3.7/dist-packages (from bayesian-optimization) (1.0.2)\n",
            "Requirement already satisfied: numpy>=1.9.0 in /usr/local/lib/python3.7/dist-packages (from bayesian-optimization) (1.21.6)\n",
            "Requirement already satisfied: threadpoolctl>=2.0.0 in /usr/local/lib/python3.7/dist-packages (from scikit-learn>=0.18.0->bayesian-optimization) (3.1.0)\n",
            "Requirement already satisfied: joblib>=0.11 in /usr/local/lib/python3.7/dist-packages (from scikit-learn>=0.18.0->bayesian-optimization) (1.1.0)\n"
          ]
        }
      ],
      "source": [
        "!pip install bayesian-optimization"
      ]
    },
    {
      "cell_type": "code",
      "source": [
        "import numpy as np\n",
        "from bayes_opt import BayesianOptimization"
      ],
      "metadata": {
        "id": "azJpfYKVFqAx"
      },
      "execution_count": null,
      "outputs": []
    },
    {
      "cell_type": "markdown",
      "source": [
        "### For Model"
      ],
      "metadata": {
        "id": "rBkrVaLnHcJQ"
      }
    },
    {
      "cell_type": "code",
      "source": [
        "!pip install -q tensorflow-recommenders\n",
        "!pip install -q --upgrade tensorflow-datasets"
      ],
      "metadata": {
        "colab": {
          "base_uri": "https://localhost:8080/"
        },
        "id": "hEW3GMi-Hd2t",
        "outputId": "c473da56-3d5c-4045-c3f8-a029f8335db1"
      },
      "execution_count": null,
      "outputs": [
        {
          "output_type": "stream",
          "name": "stdout",
          "text": [
            "\u001b[K     |████████████████████████████████| 85 kB 2.2 MB/s \n",
            "\u001b[K     |████████████████████████████████| 462 kB 32.6 MB/s \n",
            "\u001b[K     |████████████████████████████████| 4.2 MB 4.5 MB/s \n",
            "\u001b[?25h"
          ]
        }
      ]
    },
    {
      "cell_type": "code",
      "source": [
        "import os\n",
        "import pprint\n",
        "import tempfile\n",
        "\n",
        "from typing import Dict, Text\n",
        "\n",
        "import numpy as np\n",
        "import tensorflow as tf\n",
        "import tensorflow_datasets as tfds\n",
        "\n",
        "import pandas as pd\n",
        "\n",
        "import tensorflow_recommenders as tfrs\n",
        "\n",
        "# getting data\n",
        "from google.colab import auth\n",
        "import gspread\n",
        "from google.auth import default\n",
        "from gspread_dataframe import get_as_dataframe, set_with_dataframe\n",
        "\n",
        "auth.authenticate_user()\n",
        "creds, _ = default()\n",
        "gc = gspread.authorize(creds)"
      ],
      "metadata": {
        "id": "T6wKbeSgHez5"
      },
      "execution_count": null,
      "outputs": []
    },
    {
      "cell_type": "code",
      "source": [
        "from google.colab import drive\n",
        "drive.mount('/content/drive')"
      ],
      "metadata": {
        "colab": {
          "base_uri": "https://localhost:8080/"
        },
        "id": "IM7urDz9HhF-",
        "outputId": "12075e76-825f-425b-af57-c59bd8f71280"
      },
      "execution_count": null,
      "outputs": [
        {
          "output_type": "stream",
          "name": "stdout",
          "text": [
            "Mounted at /content/drive\n"
          ]
        }
      ]
    },
    {
      "cell_type": "code",
      "source": [
        "cd /content/drive/MyDrive/Bangkit/Capstone/ML/ML-GH/Notogo-ML/\"model_v2.2\""
      ],
      "metadata": {
        "colab": {
          "base_uri": "https://localhost:8080/"
        },
        "id": "2nYmz6uLHh7s",
        "outputId": "1616c6ea-c5ed-4c41-b592-be4e9aea3bb7"
      },
      "execution_count": null,
      "outputs": [
        {
          "output_type": "stream",
          "name": "stdout",
          "text": [
            "/content/drive/MyDrive/Bangkit/Capstone/ML/ML-GH/Notogo-ML/model_v2.2\n"
          ]
        }
      ]
    },
    {
      "cell_type": "code",
      "source": [
        "print(os.getcwd())"
      ],
      "metadata": {
        "colab": {
          "base_uri": "https://localhost:8080/"
        },
        "id": "Bc9_TBL6Hiw4",
        "outputId": "d18ce4f3-3880-4a7e-99f0-d3ac8ae8400e"
      },
      "execution_count": null,
      "outputs": [
        {
          "output_type": "stream",
          "name": "stdout",
          "text": [
            "/content/drive/MyDrive/Bangkit/Capstone/ML/ML-GH/Notogo-ML/model_v2.2\n"
          ]
        }
      ]
    },
    {
      "cell_type": "markdown",
      "source": [
        "## Retrieval Model"
      ],
      "metadata": {
        "id": "dBhlZ8h1H0XU"
      }
    },
    {
      "cell_type": "markdown",
      "source": [
        "### Preparing Dataset"
      ],
      "metadata": {
        "id": "kqmGi4IrIAGn"
      }
    },
    {
      "cell_type": "code",
      "source": [
        "import userFeatures\n",
        "builder = tfds.builder('Userfeatures')\n",
        "userFeatureDs = tfds.load('Userfeatures',split='train')\n",
        "\n",
        "import wishEmbedding\n",
        "builder = tfds.builder('Wishembedding')\n",
        "wishEmbeddingDs = tfds.load('Wishembedding',split='train')\n",
        "\n",
        "ratings = userFeatureDs.map(lambda x: {\n",
        "    \"location_name\": x[\"location_name\"],\n",
        "    \"user_id\": x[\"user_id\"],\n",
        "    \"add\" : x[\"add\"],\n",
        "    \"like\" : x['like']\n",
        "})\n",
        "locations = wishEmbeddingDs.map(lambda x: x[\"location_name\"])\n",
        "\n",
        "for x in ratings.take(2).as_numpy_iterator():\n",
        "  pprint.pprint(x)"
      ],
      "metadata": {
        "colab": {
          "base_uri": "https://localhost:8080/",
          "height": 185,
          "referenced_widgets": [
            "4810ef20234843f49eccbf0910ec9cd2",
            "bc40e87303824e33938dd5e3c907b41d",
            "5c1d67916e3b47b8b086d66b6171ff66",
            "32d7ec3aa4cc42899b6c584a4af60a92",
            "076143588bd444998adacb4a52b99e4b",
            "a53448ab8fe540d3a2fa80759365bff6",
            "bdc750fd87ca467ebdb0e12795831a47",
            "d69e2a36a06a4ba482a0deba920d1d44",
            "39618492b60f4f01a00608f608e142ef",
            "50099d642f9d472ca4ce8716dc44a6c3",
            "3e0c76cbea7f48768ec931d6f49cb737",
            "54674b10a5f64623a3e4487bc28052e3",
            "2668461908234ed8bd21ed3147039a06",
            "15373dba1fab4a248fb757b754adfda9",
            "bbe2f82b6f39411a87d80254cfc1e9c0",
            "4df25ffc488442fabca64cdfa28929e9",
            "f6271018a5884a4ba1d0bc06b01d4172",
            "0c32a38b9c944329a5ee17ff59e222f3",
            "3ddb1e914603475093999af636a41881",
            "8fbbedd0de5a461398a2f66e22e07e25",
            "16ebdc1ad84c43dab66d9903937635be",
            "a44aad26400d47628983524bc748871e",
            "4c3ba87614a5441ab42b55b2b3563a89",
            "73512578776841fabe0b9564e21c178f",
            "1e2bf770141c488b9200ba52f246a962",
            "006e96a040ac41aebd4885ea76d2ac87",
            "a823af61c98a45cd9a8108b06eee8871",
            "13b6c19084994fab879b1b1689af450c",
            "93cc6f68c490479bb5a204ded659f231",
            "c2a9ddbf7c8d476e8a33b2785fe3c7ab",
            "99d62c26101948e4b07c6e93670013cc",
            "3fadabe47bff4c05863b247b6042d98e",
            "7b1773f7eb57495082dbce90d259c88d",
            "dac6931375b14dff95cec42e1c3de412",
            "390c9e26f5a04329af2ddfe11d353987",
            "815ab9b32a7f4cc88a6ff31317c48180",
            "a132e64cf8124646be736558ae390dc2",
            "087b183a4eb04f8d8070f5e23dbcd428",
            "bc0a4484d28c4a60bce28a4da52738ed",
            "4358e69fc3034b9cb3117cc8ad71ba7e",
            "6c7ffc42b7b74b6e873b4648a4a979ed",
            "076b6135eea64b75b5358cf818e4c635",
            "0cbb02b192e54963992a0b536b291bab",
            "1abc6fa5d2ed4b54afb390aa0171b3e5",
            "8868d851dcbf4c56b965919b6532dffd",
            "38e6b83e7bc241b7be3631c297784679",
            "52ce359dcc7b45498e637a5c678e769c",
            "13c7fd48b7f842038bd3b08371882fc0",
            "77a089f0f9534e0dae79dbc3a5eaaf52",
            "809523f56c40443185243c6609d70a69",
            "02e9990198944b98a88bace292b7c2a1",
            "ac73818c4a514d0e8f038e61be441623",
            "07abc309f3c84c92ad5e6fa68d19ef42",
            "49c7408ad11441dd90e27fb92dd086dc",
            "09ed70d286084ea7a78222e5d883cbb1",
            "b67bf0bb01c143ee92f39b085480121c",
            "233c937ee862440f8e256d02ac5cc8f5",
            "024921c0f0c84dc4b1287645c6f91c60",
            "1eab5c4db28940048128b6256b9f5676",
            "e4d98a95dac1482f9bd6ce087a5d57eb",
            "73eeb640b52f46af9faa74a687259585",
            "f166cef70ab340d893a1afc646a2ce14",
            "eaa95d266f5444f5b4203b39d9c01ea1",
            "efa1e347018446cbbffa578246eb9442",
            "baa38a9d9efc4fdf9e8e02609d5471cc",
            "213d656b228d47119d87040f1cd00aac"
          ]
        },
        "id": "tXscpvWNH1tt",
        "outputId": "c17358b3-1e6e-4776-b2e8-ee96cf6ba067"
      },
      "execution_count": null,
      "outputs": [
        {
          "output_type": "stream",
          "name": "stdout",
          "text": [
            "\u001b[1mDownloading and preparing dataset Unknown size (download: Unknown size, generated: Unknown size, total: Unknown size) to /root/tensorflow_datasets/userfeatures/1.0.0...\u001b[0m\n"
          ]
        },
        {
          "output_type": "stream",
          "name": "stderr",
          "text": [
            "WARNING:google.auth._default:No project ID could be determined. Consider running `gcloud config set project` or setting the GOOGLE_CLOUD_PROJECT environment variable\n"
          ]
        },
        {
          "output_type": "display_data",
          "data": {
            "text/plain": [
              "Generating splits...:   0%|          | 0/1 [00:00<?, ? splits/s]"
            ],
            "application/vnd.jupyter.widget-view+json": {
              "version_major": 2,
              "version_minor": 0,
              "model_id": "4810ef20234843f49eccbf0910ec9cd2"
            }
          },
          "metadata": {}
        },
        {
          "output_type": "display_data",
          "data": {
            "text/plain": [
              "Generating train examples...: 0 examples [00:00, ? examples/s]"
            ],
            "application/vnd.jupyter.widget-view+json": {
              "version_major": 2,
              "version_minor": 0,
              "model_id": "54674b10a5f64623a3e4487bc28052e3"
            }
          },
          "metadata": {}
        },
        {
          "output_type": "display_data",
          "data": {
            "text/plain": [
              "Shuffling /root/tensorflow_datasets/userfeatures/1.0.0.incomplete3699XW/userfeatures-train.tfrecord*...:   0%|…"
            ],
            "application/vnd.jupyter.widget-view+json": {
              "version_major": 2,
              "version_minor": 0,
              "model_id": "4c3ba87614a5441ab42b55b2b3563a89"
            }
          },
          "metadata": {}
        },
        {
          "output_type": "stream",
          "name": "stdout",
          "text": [
            "\u001b[1mDataset userfeatures downloaded and prepared to /root/tensorflow_datasets/userfeatures/1.0.0. Subsequent calls will reuse this data.\u001b[0m\n",
            "\u001b[1mDownloading and preparing dataset Unknown size (download: Unknown size, generated: Unknown size, total: Unknown size) to /root/tensorflow_datasets/wishembedding/1.0.0...\u001b[0m\n"
          ]
        },
        {
          "output_type": "stream",
          "name": "stderr",
          "text": [
            "WARNING:google.auth._default:No project ID could be determined. Consider running `gcloud config set project` or setting the GOOGLE_CLOUD_PROJECT environment variable\n"
          ]
        },
        {
          "output_type": "display_data",
          "data": {
            "text/plain": [
              "Generating splits...:   0%|          | 0/1 [00:00<?, ? splits/s]"
            ],
            "application/vnd.jupyter.widget-view+json": {
              "version_major": 2,
              "version_minor": 0,
              "model_id": "dac6931375b14dff95cec42e1c3de412"
            }
          },
          "metadata": {}
        },
        {
          "output_type": "display_data",
          "data": {
            "text/plain": [
              "Generating train examples...: 0 examples [00:00, ? examples/s]"
            ],
            "application/vnd.jupyter.widget-view+json": {
              "version_major": 2,
              "version_minor": 0,
              "model_id": "8868d851dcbf4c56b965919b6532dffd"
            }
          },
          "metadata": {}
        },
        {
          "output_type": "display_data",
          "data": {
            "text/plain": [
              "Shuffling /root/tensorflow_datasets/wishembedding/1.0.0.incompleteXUW5HS/wishembedding-train.tfrecord*...:   0…"
            ],
            "application/vnd.jupyter.widget-view+json": {
              "version_major": 2,
              "version_minor": 0,
              "model_id": "b67bf0bb01c143ee92f39b085480121c"
            }
          },
          "metadata": {}
        },
        {
          "output_type": "stream",
          "name": "stdout",
          "text": [
            "\u001b[1mDataset wishembedding downloaded and prepared to /root/tensorflow_datasets/wishembedding/1.0.0. Subsequent calls will reuse this data.\u001b[0m\n",
            "{'add': 0, 'like': 1, 'location_name': b'JAKARTA', 'user_id': b'93'}\n",
            "{'add': 0, 'like': 1, 'location_name': b'DUBAI', 'user_id': b'112'}\n"
          ]
        }
      ]
    },
    {
      "cell_type": "code",
      "source": [
        "tf.random.set_seed(42)\n",
        "\n",
        "NUM_DATA = ratings.__len__().numpy()\n",
        "\n",
        "shuffled = ratings.shuffle(NUM_DATA, seed=42, reshuffle_each_iteration=False)\n",
        "\n",
        "trainset_size = 0.8 * NUM_DATA\n",
        "\n",
        "train = shuffled.take(trainset_size)\n",
        "test = shuffled.skip(trainset_size).take(NUM_DATA - trainset_size)\n",
        "\n",
        "location_name = locations.batch(1000)\n",
        "user_ids = ratings.batch(1000).map(lambda x: x[\"user_id\"])\n",
        "\n",
        "unique_location_name = np.unique(np.concatenate(list(location_name)))\n",
        "unique_user_ids = np.unique(np.concatenate(list(user_ids)))\n",
        "\n",
        "cached_train = train.shuffle(NUM_DATA).batch(512).cache()\n",
        "cached_test = test.batch(256).cache()"
      ],
      "metadata": {
        "id": "5tdY2ztlH8S1"
      },
      "execution_count": null,
      "outputs": []
    },
    {
      "cell_type": "markdown",
      "source": [
        "### Model\n",
        "change this if needed for a different model"
      ],
      "metadata": {
        "id": "9qY_AFEMIaNX"
      }
    },
    {
      "cell_type": "code",
      "source": [
        "class NoToGoModel(tfrs.models.Model):\n",
        "\n",
        "  def __init__(self, rating_weight: float, like_weight: float,retrieval_weight: float, \n",
        "               BATCH_SIZE, EMB_DIM\n",
        "               ) -> None:\n",
        "    # We take the loss weights in the constructor: this allows us to instantiate\n",
        "    # several model objects with different loss weights.\n",
        "\n",
        "    super().__init__()\n",
        "\n",
        "    embedding_dimension = int(EMB_DIM)\n",
        "\n",
        "    # User and movie models.\n",
        "    self.location_model: tf.keras.layers.Layer = tf.keras.Sequential([\n",
        "      tf.keras.layers.StringLookup(\n",
        "        vocabulary=unique_location_name, mask_token=None),\n",
        "      tf.keras.layers.Embedding(len(unique_location_name) + 1, embedding_dimension),\n",
        "      tf.keras.layers.Dense(16, activation=\"relu\")\n",
        "    ])\n",
        "\n",
        "    self.user_model: tf.keras.layers.Layer = tf.keras.Sequential([\n",
        "      tf.keras.layers.StringLookup(\n",
        "        vocabulary=unique_user_ids, mask_token=None),\n",
        "      tf.keras.layers.Embedding(len(unique_user_ids) + 1, embedding_dimension),\n",
        "      tf.keras.layers.Dense(16, activation=\"relu\")\n",
        "    ])\n",
        "\n",
        "    # A small model to take in user and movie embeddings and predict ratings.\n",
        "    # We can make this as complicated as we want as long as we output a scalar\n",
        "    # as our prediction.\n",
        "    self.rating_model = tf.keras.Sequential([\n",
        "        tf.keras.layers.Dense(8, activation=\"relu\"),\n",
        "        tf.keras.layers.Dense(16, activation=\"relu\"),\n",
        "        tf.keras.layers.Dense(1, activation = \"sigmoid\"),\n",
        "    ])\n",
        "\n",
        "    self.like_model = tf.keras.Sequential([\n",
        "        tf.keras.layers.Dense(16, activation=\"relu\"),\n",
        "        tf.keras.layers.Dense(32, activation=\"relu\"),\n",
        "        tf.keras.layers.Dense(1, activation = \"sigmoid\"),\n",
        "    ])\n",
        "\n",
        "    # The tasks.\n",
        "    self.rating_task: tf.keras.layers.Layer = tfrs.tasks.Ranking(\n",
        "        loss=tf.keras.losses.MeanSquaredError(),\n",
        "        metrics=[tf.keras.metrics.RootMeanSquaredError()],\n",
        "    )\n",
        "\n",
        "    self.like_task: tf.keras.layers.Layer = tfrs.tasks.Ranking(\n",
        "        loss=tf.keras.losses.MeanSquaredError(),\n",
        "        metrics=[tf.keras.metrics.RootMeanSquaredError()],\n",
        "    )\n",
        "    self.retrieval_task: tf.keras.layers.Layer = tfrs.tasks.Retrieval(\n",
        "        metrics=tfrs.metrics.FactorizedTopK(\n",
        "            candidates=locations.batch(BATCH_SIZE).map(self.location_model)\n",
        "        )\n",
        "    )\n",
        "\n",
        "    # The loss weights.\n",
        "    self.rating_weight = rating_weight\n",
        "    self.retrieval_weight = retrieval_weight\n",
        "    self.like_weight = like_weight\n",
        "\n",
        "  def call(self, features: Dict[Text, tf.Tensor]) -> tf.Tensor:\n",
        "    # We pick out the user features and pass them into the user model.\n",
        "    user_embeddings = self.user_model(features[\"user_id\"])\n",
        "    # And pick out the movie features and pass them into the movie model.\n",
        "    location_embeddings = self.location_model(features[\"location_name\"])\n",
        "    \n",
        "    return (\n",
        "        user_embeddings,\n",
        "        location_embeddings,\n",
        "        # We apply the multi-layered rating model to a concatentation of\n",
        "        # user and movie embeddings.\n",
        "        self.rating_model(\n",
        "            tf.concat([user_embeddings,location_embeddings], axis=1)\n",
        "        ),\n",
        "        self.like_model(\n",
        "            tf.concat([user_embeddings,location_embeddings], axis=1)\n",
        "        ),\n",
        "    )\n",
        "\n",
        "  def compute_loss(self, features: Dict[Text, tf.Tensor], training=False) -> tf.Tensor:\n",
        "\n",
        "    ratings = features.pop(\"add\",\"like\")\n",
        "    like = features.pop(\"like\", \"add\")\n",
        "\n",
        "    user_embeddings, location_embeddings, rating_predictions, like_predictions = self(features)\n",
        "\n",
        "    # We compute the loss for each task.\n",
        "    rating_loss = self.rating_task(\n",
        "        labels=ratings,\n",
        "        predictions=rating_predictions,\n",
        "    )\n",
        "\n",
        "    like_loss = self.like_task(\n",
        "        labels=like,\n",
        "        predictions=like_predictions,\n",
        "    )\n",
        "    retrieval_loss = self.retrieval_task(user_embeddings, location_embeddings)\n",
        "\n",
        "    # And combine them using the loss weights.\n",
        "    return (self.rating_weight * rating_loss\n",
        "            + self.retrieval_weight * retrieval_loss + like_loss*self.like_weight)"
      ],
      "metadata": {
        "id": "m-MfMixCIeMe"
      },
      "execution_count": null,
      "outputs": []
    },
    {
      "cell_type": "markdown",
      "source": [
        "## Bayes Optimization"
      ],
      "metadata": {
        "id": "vSTe2pJpFVKh"
      }
    },
    {
      "cell_type": "code",
      "source": [
        "def black_box(lr,emb_dim, epoch):\n",
        "  \"\"\"black box function for optimization used for Retrieval-specialized model\"\"\"\n",
        "  METRIC = 'factorized_top_k/top_1_categorical_accuracy'\n",
        "  batch = 180\n",
        "\n",
        "\n",
        "  # Initialize model\n",
        "  model = NoToGoModel(rating_weight=0.0, like_weight = 0, retrieval_weight=1.0,\n",
        "                      BATCH_SIZE=batch, EMB_DIM=emb_dim)\n",
        "  model.compile(optimizer=tf.keras.optimizers.Adagrad(lr))\n",
        "\n",
        "  # training model\n",
        "  model.fit(cached_train, epochs=int(epoch), verbose=0)\n",
        "  result = model.evaluate(cached_train, return_dict=True, verbose=0)\n",
        "\n",
        "  return result[METRIC]"
      ],
      "metadata": {
        "id": "lh5Q7GJtFW_c"
      },
      "execution_count": null,
      "outputs": []
    },
    {
      "cell_type": "code",
      "source": [
        "param_bounds = {\n",
        "    # 'batch' : (150, 200),\n",
        "    'lr' : (0.001,0.1),\n",
        "    'emb_dim' : (16, 128),\n",
        "    'epoch' : (5, 25)\n",
        "}\n",
        "\n",
        "optimizer = BayesianOptimization(\n",
        "    f=black_box,\n",
        "    pbounds=param_bounds,\n",
        "    random_state=1,\n",
        ")"
      ],
      "metadata": {
        "id": "dw8SJzqtF0hN"
      },
      "execution_count": null,
      "outputs": []
    },
    {
      "cell_type": "code",
      "source": [
        "optimizer.maximize(\n",
        "    init_points=2, #How many steps of random exploration you want to perform. Random exploration can help by diversifying the exploration space.\n",
        "    n_iter=50, #How many steps of bayesian optimization you want to perform. The more steps the more likely to find a good maximum you are.\n",
        ")"
      ],
      "metadata": {
        "colab": {
          "base_uri": "https://localhost:8080/"
        },
        "id": "EqzK_E5aF9jN",
        "outputId": "8b08a8b6-19bf-414f-a81c-b26496b1e7a1"
      },
      "execution_count": null,
      "outputs": [
        {
          "output_type": "stream",
          "name": "stdout",
          "text": [
            "|   iter    |  target   |  emb_dim  |   epoch   |    lr     |\n",
            "-------------------------------------------------------------\n",
            "| \u001b[0m 1       \u001b[0m | \u001b[0m 0.00768 \u001b[0m | \u001b[0m 62.71   \u001b[0m | \u001b[0m 19.41   \u001b[0m | \u001b[0m 0.001011\u001b[0m |\n",
            "| \u001b[95m 2       \u001b[0m | \u001b[95m 0.01126 \u001b[0m | \u001b[95m 49.86   \u001b[0m | \u001b[95m 7.935   \u001b[0m | \u001b[95m 0.01014 \u001b[0m |\n",
            "| \u001b[95m 3       \u001b[0m | \u001b[95m 0.2441  \u001b[0m | \u001b[95m 50.12   \u001b[0m | \u001b[95m 7.721   \u001b[0m | \u001b[95m 0.05658 \u001b[0m |\n",
            "| \u001b[0m 4       \u001b[0m | \u001b[0m 0.0104  \u001b[0m | \u001b[0m 75.62   \u001b[0m | \u001b[0m 20.75   \u001b[0m | \u001b[0m 0.01832 \u001b[0m |\n",
            "| \u001b[95m 5       \u001b[0m | \u001b[95m 0.7548  \u001b[0m | \u001b[95m 82.73   \u001b[0m | \u001b[95m 10.22   \u001b[0m | \u001b[95m 0.07493 \u001b[0m |\n",
            "| \u001b[95m 6       \u001b[0m | \u001b[95m 0.7947  \u001b[0m | \u001b[95m 41.48   \u001b[0m | \u001b[95m 8.112   \u001b[0m | \u001b[95m 0.09478 \u001b[0m |\n",
            "| \u001b[0m 7       \u001b[0m | \u001b[0m 0.009021\u001b[0m | \u001b[0m 41.84   \u001b[0m | \u001b[0m 7.695   \u001b[0m | \u001b[0m 0.05743 \u001b[0m |\n",
            "| \u001b[0m 8       \u001b[0m | \u001b[0m 0.2844  \u001b[0m | \u001b[0m 41.37   \u001b[0m | \u001b[0m 8.098   \u001b[0m | \u001b[0m 0.058   \u001b[0m |\n",
            "| \u001b[0m 9       \u001b[0m | \u001b[0m 0.2262  \u001b[0m | \u001b[0m 123.0   \u001b[0m | \u001b[0m 18.28   \u001b[0m | \u001b[0m 0.0476  \u001b[0m |\n",
            "| \u001b[0m 10      \u001b[0m | \u001b[0m 0.7433  \u001b[0m | \u001b[0m 70.74   \u001b[0m | \u001b[0m 21.82   \u001b[0m | \u001b[0m 0.09793 \u001b[0m |\n",
            "| \u001b[0m 11      \u001b[0m | \u001b[0m 0.1297  \u001b[0m | \u001b[0m 52.12   \u001b[0m | \u001b[0m 20.27   \u001b[0m | \u001b[0m 0.08584 \u001b[0m |\n",
            "| \u001b[0m 12      \u001b[0m | \u001b[0m 0.3073  \u001b[0m | \u001b[0m 111.8   \u001b[0m | \u001b[0m 19.39   \u001b[0m | \u001b[0m 0.09129 \u001b[0m |\n",
            "| \u001b[0m 13      \u001b[0m | \u001b[0m 0.02056 \u001b[0m | \u001b[0m 91.84   \u001b[0m | \u001b[0m 15.96   \u001b[0m | \u001b[0m 0.03894 \u001b[0m |\n",
            "| \u001b[0m 14      \u001b[0m | \u001b[0m 0.0117  \u001b[0m | \u001b[0m 31.76   \u001b[0m | \u001b[0m 7.788   \u001b[0m | \u001b[0m 0.03237 \u001b[0m |\n",
            "| \u001b[0m 15      \u001b[0m | \u001b[0m 0.009265\u001b[0m | \u001b[0m 46.69   \u001b[0m | \u001b[0m 20.29   \u001b[0m | \u001b[0m 0.00762 \u001b[0m |\n",
            "| \u001b[0m 16      \u001b[0m | \u001b[0m 0.04328 \u001b[0m | \u001b[0m 82.71   \u001b[0m | \u001b[0m 10.09   \u001b[0m | \u001b[0m 0.03929 \u001b[0m |\n",
            "| \u001b[0m 17      \u001b[0m | \u001b[0m 0.009793\u001b[0m | \u001b[0m 83.0    \u001b[0m | \u001b[0m 7.254   \u001b[0m | \u001b[0m 0.01256 \u001b[0m |\n",
            "| \u001b[0m 18      \u001b[0m | \u001b[0m 0.3732  \u001b[0m | \u001b[0m 84.73   \u001b[0m | \u001b[0m 16.15   \u001b[0m | \u001b[0m 0.06571 \u001b[0m |\n",
            "| \u001b[0m 19      \u001b[0m | \u001b[0m 0.01016 \u001b[0m | \u001b[0m 50.06   \u001b[0m | \u001b[0m 7.854   \u001b[0m | \u001b[0m 0.009629\u001b[0m |\n",
            "| \u001b[0m 20      \u001b[0m | \u001b[0m 0.644   \u001b[0m | \u001b[0m 70.75   \u001b[0m | \u001b[0m 21.84   \u001b[0m | \u001b[0m 0.09999 \u001b[0m |\n",
            "| \u001b[0m 21      \u001b[0m | \u001b[0m 0.174   \u001b[0m | \u001b[0m 84.83   \u001b[0m | \u001b[0m 16.14   \u001b[0m | \u001b[0m 0.05929 \u001b[0m |\n",
            "| \u001b[0m 22      \u001b[0m | \u001b[0m 0.01016 \u001b[0m | \u001b[0m 41.6    \u001b[0m | \u001b[0m 8.002   \u001b[0m | \u001b[0m 0.01473 \u001b[0m |\n",
            "| \u001b[0m 23      \u001b[0m | \u001b[0m 0.07542 \u001b[0m | \u001b[0m 82.77   \u001b[0m | \u001b[0m 10.37   \u001b[0m | \u001b[0m 0.05586 \u001b[0m |\n",
            "| \u001b[0m 24      \u001b[0m | \u001b[0m 0.2714  \u001b[0m | \u001b[0m 41.76   \u001b[0m | \u001b[0m 6.296   \u001b[0m | \u001b[0m 0.07068 \u001b[0m |\n",
            "| \u001b[0m 25      \u001b[0m | \u001b[0m 0.5906  \u001b[0m | \u001b[0m 41.49   \u001b[0m | \u001b[0m 8.064   \u001b[0m | \u001b[0m 0.08234 \u001b[0m |\n",
            "| \u001b[0m 26      \u001b[0m | \u001b[0m 0.7013  \u001b[0m | \u001b[0m 41.56   \u001b[0m | \u001b[0m 8.157   \u001b[0m | \u001b[0m 0.0994  \u001b[0m |\n",
            "| \u001b[0m 27      \u001b[0m | \u001b[0m 0.009265\u001b[0m | \u001b[0m 110.0   \u001b[0m | \u001b[0m 13.37   \u001b[0m | \u001b[0m 0.03031 \u001b[0m |\n",
            "| \u001b[0m 28      \u001b[0m | \u001b[0m 0.01044 \u001b[0m | \u001b[0m 41.55   \u001b[0m | \u001b[0m 8.137   \u001b[0m | \u001b[0m 0.02808 \u001b[0m |\n",
            "| \u001b[0m 29      \u001b[0m | \u001b[0m 0.01252 \u001b[0m | \u001b[0m 70.66   \u001b[0m | \u001b[0m 21.88   \u001b[0m | \u001b[0m 0.006097\u001b[0m |\n",
            "| \u001b[0m 30      \u001b[0m | \u001b[0m 0.008574\u001b[0m | \u001b[0m 20.82   \u001b[0m | \u001b[0m 13.3    \u001b[0m | \u001b[0m 0.001524\u001b[0m |\n",
            "| \u001b[0m 31      \u001b[0m | \u001b[0m 0.07562 \u001b[0m | \u001b[0m 41.52   \u001b[0m | \u001b[0m 8.202   \u001b[0m | \u001b[0m 0.05519 \u001b[0m |\n",
            "| \u001b[0m 32      \u001b[0m | \u001b[0m 0.01235 \u001b[0m | \u001b[0m 70.79   \u001b[0m | \u001b[0m 21.99   \u001b[0m | \u001b[0m 0.03133 \u001b[0m |\n",
            "| \u001b[0m 33      \u001b[0m | \u001b[0m 0.08639 \u001b[0m | \u001b[0m 70.7    \u001b[0m | \u001b[0m 21.83   \u001b[0m | \u001b[0m 0.0517  \u001b[0m |\n",
            "| \u001b[0m 34      \u001b[0m | \u001b[0m 0.01052 \u001b[0m | \u001b[0m 27.56   \u001b[0m | \u001b[0m 6.143   \u001b[0m | \u001b[0m 0.03759 \u001b[0m |\n",
            "| \u001b[0m 35      \u001b[0m | \u001b[0m 0.01032 \u001b[0m | \u001b[0m 64.93   \u001b[0m | \u001b[0m 8.869   \u001b[0m | \u001b[0m 0.008501\u001b[0m |\n",
            "| \u001b[0m 36      \u001b[0m | \u001b[0m 0.02849 \u001b[0m | \u001b[0m 70.83   \u001b[0m | \u001b[0m 21.71   \u001b[0m | \u001b[0m 0.03515 \u001b[0m |\n",
            "| \u001b[0m 37      \u001b[0m | \u001b[0m 0.497   \u001b[0m | \u001b[0m 74.29   \u001b[0m | \u001b[0m 21.53   \u001b[0m | \u001b[0m 0.07915 \u001b[0m |\n",
            "| \u001b[0m 38      \u001b[0m | \u001b[0m 0.05795 \u001b[0m | \u001b[0m 111.9   \u001b[0m | \u001b[0m 19.35   \u001b[0m | \u001b[0m 0.04814 \u001b[0m |\n",
            "| \u001b[0m 39      \u001b[0m | \u001b[0m 0.7628  \u001b[0m | \u001b[0m 41.61   \u001b[0m | \u001b[0m 8.099   \u001b[0m | \u001b[0m 0.08446 \u001b[0m |\n",
            "| \u001b[0m 40      \u001b[0m | \u001b[0m 0.02731 \u001b[0m | \u001b[0m 84.71   \u001b[0m | \u001b[0m 16.26   \u001b[0m | \u001b[0m 0.05081 \u001b[0m |\n",
            "| \u001b[0m 41      \u001b[0m | \u001b[0m 0.01296 \u001b[0m | \u001b[0m 71.41   \u001b[0m | \u001b[0m 22.07   \u001b[0m | \u001b[0m 0.00487 \u001b[0m |\n",
            "| \u001b[0m 42      \u001b[0m | \u001b[0m 0.009671\u001b[0m | \u001b[0m 44.53   \u001b[0m | \u001b[0m 21.91   \u001b[0m | \u001b[0m 0.01394 \u001b[0m |\n",
            "| \u001b[0m 43      \u001b[0m | \u001b[0m 0.6311  \u001b[0m | \u001b[0m 100.5   \u001b[0m | \u001b[0m 9.728   \u001b[0m | \u001b[0m 0.08764 \u001b[0m |\n",
            "| \u001b[0m 44      \u001b[0m | \u001b[0m 0.7665  \u001b[0m | \u001b[0m 100.5   \u001b[0m | \u001b[0m 9.631   \u001b[0m | \u001b[0m 0.09262 \u001b[0m |\n",
            "| \u001b[0m 45      \u001b[0m | \u001b[0m 0.7336  \u001b[0m | \u001b[0m 106.8   \u001b[0m | \u001b[0m 19.94   \u001b[0m | \u001b[0m 0.08906 \u001b[0m |\n",
            "| \u001b[0m 46      \u001b[0m | \u001b[0m 0.2853  \u001b[0m | \u001b[0m 41.63   \u001b[0m | \u001b[0m 8.091   \u001b[0m | \u001b[0m 0.07537 \u001b[0m |\n",
            "| \u001b[0m 47      \u001b[0m | \u001b[0m 0.01585 \u001b[0m | \u001b[0m 100.5   \u001b[0m | \u001b[0m 9.644   \u001b[0m | \u001b[0m 0.04051 \u001b[0m |\n",
            "| \u001b[0m 48      \u001b[0m | \u001b[0m 0.03141 \u001b[0m | \u001b[0m 41.51   \u001b[0m | \u001b[0m 8.087   \u001b[0m | \u001b[0m 0.03502 \u001b[0m |\n",
            "| \u001b[0m 49      \u001b[0m | \u001b[0m 0.1495  \u001b[0m | \u001b[0m 100.7   \u001b[0m | \u001b[0m 9.68    \u001b[0m | \u001b[0m 0.07711 \u001b[0m |\n",
            "| \u001b[0m 50      \u001b[0m | \u001b[0m 0.2181  \u001b[0m | \u001b[0m 70.76   \u001b[0m | \u001b[0m 21.87   \u001b[0m | \u001b[0m 0.06366 \u001b[0m |\n",
            "| \u001b[0m 51      \u001b[0m | \u001b[0m 0.01638 \u001b[0m | \u001b[0m 41.84   \u001b[0m | \u001b[0m 6.315   \u001b[0m | \u001b[0m 0.03883 \u001b[0m |\n",
            "| \u001b[0m 52      \u001b[0m | \u001b[0m 0.1149  \u001b[0m | \u001b[0m 70.78   \u001b[0m | \u001b[0m 21.8    \u001b[0m | \u001b[0m 0.04552 \u001b[0m |\n",
            "=============================================================\n"
          ]
        }
      ]
    },
    {
      "cell_type": "code",
      "source": [
        "print(optimizer.max)"
      ],
      "metadata": {
        "colab": {
          "base_uri": "https://localhost:8080/"
        },
        "id": "vzXK23dTGFHf",
        "outputId": "99344c97-a638-456c-ecbe-ffb4f5933e67"
      },
      "execution_count": null,
      "outputs": [
        {
          "output_type": "stream",
          "name": "stdout",
          "text": [
            "{'target': 0.7947092652320862, 'params': {'emb_dim': 41.481665216522984, 'epoch': 8.111799947764348, 'lr': 0.09478304165663956}}\n"
          ]
        }
      ]
    },
    {
      "cell_type": "markdown",
      "source": [
        "## Evaluate"
      ],
      "metadata": {
        "id": "xXMBpnz5z65O"
      }
    },
    {
      "cell_type": "code",
      "source": [
        "# Result :\n",
        "batch = 180\n",
        "emb_dim = 41\n",
        "epoch = 8\n",
        "lr = 0.09478"
      ],
      "metadata": {
        "id": "b7b1H0cEzOri"
      },
      "execution_count": null,
      "outputs": []
    },
    {
      "cell_type": "code",
      "source": [
        "model = NoToGoModel(rating_weight=0.0, like_weight = 0, retrieval_weight=1.0,\n",
        "                    BATCH_SIZE=batch, EMB_DIM=emb_dim)\n",
        "model.compile(optimizer=tf.keras.optimizers.Adagrad(lr))\n",
        "\n",
        "# training model\n",
        "model.fit(cached_train, epochs=int(epoch))\n",
        "model.evaluate(cached_train, return_dict=True)"
      ],
      "metadata": {
        "colab": {
          "base_uri": "https://localhost:8080/"
        },
        "id": "QXv6oxU1z1pf",
        "outputId": "32c2e62f-6d35-4249-e1ed-11f56610c9b0"
      },
      "execution_count": null,
      "outputs": [
        {
          "output_type": "stream",
          "name": "stdout",
          "text": [
            "Epoch 1/8\n",
            "49/49 [==============================] - 7s 79ms/step - root_mean_squared_error: 0.5012 - factorized_top_k/top_1_categorical_accuracy: 0.2154 - factorized_top_k/top_5_categorical_accuracy: 0.6207 - factorized_top_k/top_10_categorical_accuracy: 0.7907 - factorized_top_k/top_50_categorical_accuracy: 0.9234 - factorized_top_k/top_100_categorical_accuracy: 0.9802 - loss: 3070.9090 - regularization_loss: 0.0000e+00 - total_loss: 3070.9090\n",
            "Epoch 2/8\n",
            "49/49 [==============================] - 4s 80ms/step - root_mean_squared_error: 0.5011 - factorized_top_k/top_1_categorical_accuracy: 0.2903 - factorized_top_k/top_5_categorical_accuracy: 0.6783 - factorized_top_k/top_10_categorical_accuracy: 0.8558 - factorized_top_k/top_50_categorical_accuracy: 0.9991 - factorized_top_k/top_100_categorical_accuracy: 1.0000 - loss: 3070.8701 - regularization_loss: 0.0000e+00 - total_loss: 3070.8701\n",
            "Epoch 3/8\n",
            "49/49 [==============================] - 4s 76ms/step - root_mean_squared_error: 0.5003 - factorized_top_k/top_1_categorical_accuracy: 0.4382 - factorized_top_k/top_5_categorical_accuracy: 0.8629 - factorized_top_k/top_10_categorical_accuracy: 0.9813 - factorized_top_k/top_50_categorical_accuracy: 0.9975 - factorized_top_k/top_100_categorical_accuracy: 0.9993 - loss: 3070.7900 - regularization_loss: 0.0000e+00 - total_loss: 3070.7900\n",
            "Epoch 4/8\n",
            "49/49 [==============================] - 4s 83ms/step - root_mean_squared_error: 0.5005 - factorized_top_k/top_1_categorical_accuracy: 0.4984 - factorized_top_k/top_5_categorical_accuracy: 0.9476 - factorized_top_k/top_10_categorical_accuracy: 0.9852 - factorized_top_k/top_50_categorical_accuracy: 0.9993 - factorized_top_k/top_100_categorical_accuracy: 0.9999 - loss: 3070.7169 - regularization_loss: 0.0000e+00 - total_loss: 3070.7169\n",
            "Epoch 5/8\n",
            "49/49 [==============================] - 4s 78ms/step - root_mean_squared_error: 0.5004 - factorized_top_k/top_1_categorical_accuracy: 0.4553 - factorized_top_k/top_5_categorical_accuracy: 0.9394 - factorized_top_k/top_10_categorical_accuracy: 0.9794 - factorized_top_k/top_50_categorical_accuracy: 0.9986 - factorized_top_k/top_100_categorical_accuracy: 1.0000 - loss: 3070.6737 - regularization_loss: 0.0000e+00 - total_loss: 3070.6737\n",
            "Epoch 6/8\n",
            "49/49 [==============================] - 4s 79ms/step - root_mean_squared_error: 0.5003 - factorized_top_k/top_1_categorical_accuracy: 0.3888 - factorized_top_k/top_5_categorical_accuracy: 0.9641 - factorized_top_k/top_10_categorical_accuracy: 0.9866 - factorized_top_k/top_50_categorical_accuracy: 1.0000 - factorized_top_k/top_100_categorical_accuracy: 1.0000 - loss: 3070.6403 - regularization_loss: 0.0000e+00 - total_loss: 3070.6403\n",
            "Epoch 7/8\n",
            "49/49 [==============================] - 4s 77ms/step - root_mean_squared_error: 0.5002 - factorized_top_k/top_1_categorical_accuracy: 0.4015 - factorized_top_k/top_5_categorical_accuracy: 0.9865 - factorized_top_k/top_10_categorical_accuracy: 0.9953 - factorized_top_k/top_50_categorical_accuracy: 1.0000 - factorized_top_k/top_100_categorical_accuracy: 1.0000 - loss: 3070.6054 - regularization_loss: 0.0000e+00 - total_loss: 3070.6054\n",
            "Epoch 8/8\n",
            "49/49 [==============================] - 4s 78ms/step - root_mean_squared_error: 0.5003 - factorized_top_k/top_1_categorical_accuracy: 0.3443 - factorized_top_k/top_5_categorical_accuracy: 0.9360 - factorized_top_k/top_10_categorical_accuracy: 0.9421 - factorized_top_k/top_50_categorical_accuracy: 0.9770 - factorized_top_k/top_100_categorical_accuracy: 0.9955 - loss: 3070.5794 - regularization_loss: 0.0000e+00 - total_loss: 3070.5794\n",
            "49/49 [==============================] - 4s 74ms/step - root_mean_squared_error: 0.5000 - factorized_top_k/top_1_categorical_accuracy: 0.4393 - factorized_top_k/top_5_categorical_accuracy: 0.9949 - factorized_top_k/top_10_categorical_accuracy: 0.9951 - factorized_top_k/top_50_categorical_accuracy: 1.0000 - factorized_top_k/top_100_categorical_accuracy: 1.0000 - loss: 3070.5869 - regularization_loss: 0.0000e+00 - total_loss: 3070.5869\n"
          ]
        },
        {
          "output_type": "execute_result",
          "data": {
            "text/plain": [
              "{'factorized_top_k/top_100_categorical_accuracy': 1.0,\n",
              " 'factorized_top_k/top_10_categorical_accuracy': 0.9950830936431885,\n",
              " 'factorized_top_k/top_1_categorical_accuracy': 0.4392701983451843,\n",
              " 'factorized_top_k/top_50_categorical_accuracy': 1.0,\n",
              " 'factorized_top_k/top_5_categorical_accuracy': 0.994920551776886,\n",
              " 'loss': 115.38475036621094,\n",
              " 'regularization_loss': 0,\n",
              " 'root_mean_squared_error': 0.5000376105308533,\n",
              " 'total_loss': 115.38475036621094}"
            ]
          },
          "metadata": {},
          "execution_count": 76
        }
      ]
    },
    {
      "cell_type": "code",
      "source": [
        "model.evaluate(cached_train, return_dict=True)"
      ],
      "metadata": {
        "colab": {
          "base_uri": "https://localhost:8080/"
        },
        "id": "_nFuY6u70F49",
        "outputId": "7d8e9d49-8fdd-46b9-c769-4693e91cc16d"
      },
      "execution_count": null,
      "outputs": [
        {
          "output_type": "stream",
          "name": "stdout",
          "text": [
            "49/49 [==============================] - 4s 76ms/step - root_mean_squared_error: 0.5000 - factorized_top_k/top_1_categorical_accuracy: 0.4393 - factorized_top_k/top_5_categorical_accuracy: 0.9949 - factorized_top_k/top_10_categorical_accuracy: 0.9951 - factorized_top_k/top_50_categorical_accuracy: 1.0000 - factorized_top_k/top_100_categorical_accuracy: 1.0000 - loss: 3070.5869 - regularization_loss: 0.0000e+00 - total_loss: 3070.5869\n"
          ]
        },
        {
          "output_type": "execute_result",
          "data": {
            "text/plain": [
              "{'factorized_top_k/top_100_categorical_accuracy': 1.0,\n",
              " 'factorized_top_k/top_10_categorical_accuracy': 0.9950830936431885,\n",
              " 'factorized_top_k/top_1_categorical_accuracy': 0.4392701983451843,\n",
              " 'factorized_top_k/top_50_categorical_accuracy': 1.0,\n",
              " 'factorized_top_k/top_5_categorical_accuracy': 0.994920551776886,\n",
              " 'loss': 115.38475036621094,\n",
              " 'regularization_loss': 0,\n",
              " 'root_mean_squared_error': 0.5000376105308533,\n",
              " 'total_loss': 115.38475036621094}"
            ]
          },
          "metadata": {},
          "execution_count": 78
        }
      ]
    },
    {
      "cell_type": "code",
      "source": [
        "index = tfrs.layers.factorized_top_k.BruteForce(model.user_model)\n",
        "# recommends movies out of the entire movies dataset.\n",
        "index.index_from_dataset(\n",
        "  tf.data.Dataset.zip((locations.batch(100), locations.batch(100).map(model.location_model)))\n",
        ")\n",
        "\n",
        "# Get recommendations.\n",
        "user_id = \"183\"\n",
        "_, titles = index(tf.constant([user_id]))\n",
        "print(f\"Recommendations for New User : {titles[0, :7]}\")"
      ],
      "metadata": {
        "colab": {
          "base_uri": "https://localhost:8080/"
        },
        "id": "tWDf_6CN1jQj",
        "outputId": "8f508083-52c5-44cd-ea74-b0ece7e4c6a3"
      },
      "execution_count": null,
      "outputs": [
        {
          "output_type": "stream",
          "name": "stdout",
          "text": [
            "Recommendations for New User : [b'MUSEUM MACAN' b'PULAU SERIBU' b'PRANCIS' b'MEDAN' b'TOKYO'\n",
            " b'BALI TOWER' b'GEOPARK CILETUH']\n"
          ]
        }
      ]
    }
  ]
}