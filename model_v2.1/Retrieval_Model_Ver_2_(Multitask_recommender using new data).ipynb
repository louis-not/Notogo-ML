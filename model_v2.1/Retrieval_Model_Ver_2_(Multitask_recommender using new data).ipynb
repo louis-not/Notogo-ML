{
  "nbformat": 4,
  "nbformat_minor": 0,
  "metadata": {
    "colab": {
      "name": "Retrieval Model Ver 2 (Multitask recommender).ipynb",
      "provenance": [],
      "collapsed_sections": [
        "vfabl-zJjVaw",
        "kKgt18nRZgRQ",
        "g4bwyBnikR0s",
        "1NxltrVLVPR_",
        "cDnTAKradwOP"
      ]
    },
    "kernelspec": {
      "name": "python3",
      "display_name": "Python 3"
    },
    "language_info": {
      "name": "python"
    },
    "widgets": {
      "application/vnd.jupyter.widget-state+json": {
        "3c6909f02d6f447f8b14e2fee28578b6": {
          "model_module": "@jupyter-widgets/controls",
          "model_name": "HBoxModel",
          "model_module_version": "1.5.0",
          "state": {
            "_dom_classes": [],
            "_model_module": "@jupyter-widgets/controls",
            "_model_module_version": "1.5.0",
            "_model_name": "HBoxModel",
            "_view_count": null,
            "_view_module": "@jupyter-widgets/controls",
            "_view_module_version": "1.5.0",
            "_view_name": "HBoxView",
            "box_style": "",
            "children": [
              "IPY_MODEL_7635a185cd6544c0a10e41c1ddb4f6f6",
              "IPY_MODEL_ee5daf24f40b422abf57c95629655c77",
              "IPY_MODEL_4f6c49caab4c47aa9ae3575b3d6df7b9"
            ],
            "layout": "IPY_MODEL_5da3f0d30da14142ac5b598b8d86a4fa"
          }
        },
        "7635a185cd6544c0a10e41c1ddb4f6f6": {
          "model_module": "@jupyter-widgets/controls",
          "model_name": "HTMLModel",
          "model_module_version": "1.5.0",
          "state": {
            "_dom_classes": [],
            "_model_module": "@jupyter-widgets/controls",
            "_model_module_version": "1.5.0",
            "_model_name": "HTMLModel",
            "_view_count": null,
            "_view_module": "@jupyter-widgets/controls",
            "_view_module_version": "1.5.0",
            "_view_name": "HTMLView",
            "description": "",
            "description_tooltip": null,
            "layout": "IPY_MODEL_caf8d1485325472590a7c2ac6f04f399",
            "placeholder": "​",
            "style": "IPY_MODEL_b2b5dd0c1e3b46bba85d42426cfd70b6",
            "value": "Generating splits...: 100%"
          }
        },
        "ee5daf24f40b422abf57c95629655c77": {
          "model_module": "@jupyter-widgets/controls",
          "model_name": "FloatProgressModel",
          "model_module_version": "1.5.0",
          "state": {
            "_dom_classes": [],
            "_model_module": "@jupyter-widgets/controls",
            "_model_module_version": "1.5.0",
            "_model_name": "FloatProgressModel",
            "_view_count": null,
            "_view_module": "@jupyter-widgets/controls",
            "_view_module_version": "1.5.0",
            "_view_name": "ProgressView",
            "bar_style": "",
            "description": "",
            "description_tooltip": null,
            "layout": "IPY_MODEL_e8f63f6c77c0428dbdbd07ed9f580ea1",
            "max": 1,
            "min": 0,
            "orientation": "horizontal",
            "style": "IPY_MODEL_e0f39d8e93f94042af894a8e731ff882",
            "value": 1
          }
        },
        "4f6c49caab4c47aa9ae3575b3d6df7b9": {
          "model_module": "@jupyter-widgets/controls",
          "model_name": "HTMLModel",
          "model_module_version": "1.5.0",
          "state": {
            "_dom_classes": [],
            "_model_module": "@jupyter-widgets/controls",
            "_model_module_version": "1.5.0",
            "_model_name": "HTMLModel",
            "_view_count": null,
            "_view_module": "@jupyter-widgets/controls",
            "_view_module_version": "1.5.0",
            "_view_name": "HTMLView",
            "description": "",
            "description_tooltip": null,
            "layout": "IPY_MODEL_b14e231c2e224081bf3796e3a121ed7e",
            "placeholder": "​",
            "style": "IPY_MODEL_0e0729d9335347d6891ae60000f42f02",
            "value": " 1/1 [00:07&lt;00:00,  7.37s/ splits]"
          }
        },
        "5da3f0d30da14142ac5b598b8d86a4fa": {
          "model_module": "@jupyter-widgets/base",
          "model_name": "LayoutModel",
          "model_module_version": "1.2.0",
          "state": {
            "_model_module": "@jupyter-widgets/base",
            "_model_module_version": "1.2.0",
            "_model_name": "LayoutModel",
            "_view_count": null,
            "_view_module": "@jupyter-widgets/base",
            "_view_module_version": "1.2.0",
            "_view_name": "LayoutView",
            "align_content": null,
            "align_items": null,
            "align_self": null,
            "border": null,
            "bottom": null,
            "display": null,
            "flex": null,
            "flex_flow": null,
            "grid_area": null,
            "grid_auto_columns": null,
            "grid_auto_flow": null,
            "grid_auto_rows": null,
            "grid_column": null,
            "grid_gap": null,
            "grid_row": null,
            "grid_template_areas": null,
            "grid_template_columns": null,
            "grid_template_rows": null,
            "height": null,
            "justify_content": null,
            "justify_items": null,
            "left": null,
            "margin": null,
            "max_height": null,
            "max_width": null,
            "min_height": null,
            "min_width": null,
            "object_fit": null,
            "object_position": null,
            "order": null,
            "overflow": null,
            "overflow_x": null,
            "overflow_y": null,
            "padding": null,
            "right": null,
            "top": null,
            "visibility": null,
            "width": null
          }
        },
        "caf8d1485325472590a7c2ac6f04f399": {
          "model_module": "@jupyter-widgets/base",
          "model_name": "LayoutModel",
          "model_module_version": "1.2.0",
          "state": {
            "_model_module": "@jupyter-widgets/base",
            "_model_module_version": "1.2.0",
            "_model_name": "LayoutModel",
            "_view_count": null,
            "_view_module": "@jupyter-widgets/base",
            "_view_module_version": "1.2.0",
            "_view_name": "LayoutView",
            "align_content": null,
            "align_items": null,
            "align_self": null,
            "border": null,
            "bottom": null,
            "display": null,
            "flex": null,
            "flex_flow": null,
            "grid_area": null,
            "grid_auto_columns": null,
            "grid_auto_flow": null,
            "grid_auto_rows": null,
            "grid_column": null,
            "grid_gap": null,
            "grid_row": null,
            "grid_template_areas": null,
            "grid_template_columns": null,
            "grid_template_rows": null,
            "height": null,
            "justify_content": null,
            "justify_items": null,
            "left": null,
            "margin": null,
            "max_height": null,
            "max_width": null,
            "min_height": null,
            "min_width": null,
            "object_fit": null,
            "object_position": null,
            "order": null,
            "overflow": null,
            "overflow_x": null,
            "overflow_y": null,
            "padding": null,
            "right": null,
            "top": null,
            "visibility": null,
            "width": null
          }
        },
        "b2b5dd0c1e3b46bba85d42426cfd70b6": {
          "model_module": "@jupyter-widgets/controls",
          "model_name": "DescriptionStyleModel",
          "model_module_version": "1.5.0",
          "state": {
            "_model_module": "@jupyter-widgets/controls",
            "_model_module_version": "1.5.0",
            "_model_name": "DescriptionStyleModel",
            "_view_count": null,
            "_view_module": "@jupyter-widgets/base",
            "_view_module_version": "1.2.0",
            "_view_name": "StyleView",
            "description_width": ""
          }
        },
        "e8f63f6c77c0428dbdbd07ed9f580ea1": {
          "model_module": "@jupyter-widgets/base",
          "model_name": "LayoutModel",
          "model_module_version": "1.2.0",
          "state": {
            "_model_module": "@jupyter-widgets/base",
            "_model_module_version": "1.2.0",
            "_model_name": "LayoutModel",
            "_view_count": null,
            "_view_module": "@jupyter-widgets/base",
            "_view_module_version": "1.2.0",
            "_view_name": "LayoutView",
            "align_content": null,
            "align_items": null,
            "align_self": null,
            "border": null,
            "bottom": null,
            "display": null,
            "flex": null,
            "flex_flow": null,
            "grid_area": null,
            "grid_auto_columns": null,
            "grid_auto_flow": null,
            "grid_auto_rows": null,
            "grid_column": null,
            "grid_gap": null,
            "grid_row": null,
            "grid_template_areas": null,
            "grid_template_columns": null,
            "grid_template_rows": null,
            "height": null,
            "justify_content": null,
            "justify_items": null,
            "left": null,
            "margin": null,
            "max_height": null,
            "max_width": null,
            "min_height": null,
            "min_width": null,
            "object_fit": null,
            "object_position": null,
            "order": null,
            "overflow": null,
            "overflow_x": null,
            "overflow_y": null,
            "padding": null,
            "right": null,
            "top": null,
            "visibility": null,
            "width": null
          }
        },
        "e0f39d8e93f94042af894a8e731ff882": {
          "model_module": "@jupyter-widgets/controls",
          "model_name": "ProgressStyleModel",
          "model_module_version": "1.5.0",
          "state": {
            "_model_module": "@jupyter-widgets/controls",
            "_model_module_version": "1.5.0",
            "_model_name": "ProgressStyleModel",
            "_view_count": null,
            "_view_module": "@jupyter-widgets/base",
            "_view_module_version": "1.2.0",
            "_view_name": "StyleView",
            "bar_color": null,
            "description_width": ""
          }
        },
        "b14e231c2e224081bf3796e3a121ed7e": {
          "model_module": "@jupyter-widgets/base",
          "model_name": "LayoutModel",
          "model_module_version": "1.2.0",
          "state": {
            "_model_module": "@jupyter-widgets/base",
            "_model_module_version": "1.2.0",
            "_model_name": "LayoutModel",
            "_view_count": null,
            "_view_module": "@jupyter-widgets/base",
            "_view_module_version": "1.2.0",
            "_view_name": "LayoutView",
            "align_content": null,
            "align_items": null,
            "align_self": null,
            "border": null,
            "bottom": null,
            "display": null,
            "flex": null,
            "flex_flow": null,
            "grid_area": null,
            "grid_auto_columns": null,
            "grid_auto_flow": null,
            "grid_auto_rows": null,
            "grid_column": null,
            "grid_gap": null,
            "grid_row": null,
            "grid_template_areas": null,
            "grid_template_columns": null,
            "grid_template_rows": null,
            "height": null,
            "justify_content": null,
            "justify_items": null,
            "left": null,
            "margin": null,
            "max_height": null,
            "max_width": null,
            "min_height": null,
            "min_width": null,
            "object_fit": null,
            "object_position": null,
            "order": null,
            "overflow": null,
            "overflow_x": null,
            "overflow_y": null,
            "padding": null,
            "right": null,
            "top": null,
            "visibility": null,
            "width": null
          }
        },
        "0e0729d9335347d6891ae60000f42f02": {
          "model_module": "@jupyter-widgets/controls",
          "model_name": "DescriptionStyleModel",
          "model_module_version": "1.5.0",
          "state": {
            "_model_module": "@jupyter-widgets/controls",
            "_model_module_version": "1.5.0",
            "_model_name": "DescriptionStyleModel",
            "_view_count": null,
            "_view_module": "@jupyter-widgets/base",
            "_view_module_version": "1.2.0",
            "_view_name": "StyleView",
            "description_width": ""
          }
        },
        "8a8c9ca06dda4ec4b73b6b5fade670b6": {
          "model_module": "@jupyter-widgets/controls",
          "model_name": "HBoxModel",
          "model_module_version": "1.5.0",
          "state": {
            "_dom_classes": [],
            "_model_module": "@jupyter-widgets/controls",
            "_model_module_version": "1.5.0",
            "_model_name": "HBoxModel",
            "_view_count": null,
            "_view_module": "@jupyter-widgets/controls",
            "_view_module_version": "1.5.0",
            "_view_name": "HBoxView",
            "box_style": "",
            "children": [
              "IPY_MODEL_3e407593f1944e4fb0a1e244b6172313",
              "IPY_MODEL_4b7eac9f7aa5413b84cfdd5ca346a073",
              "IPY_MODEL_33b7004804f04c1593f48e1c126ed2db"
            ],
            "layout": "IPY_MODEL_e08808a165f44fc8a7cdfa63970afdde"
          }
        },
        "3e407593f1944e4fb0a1e244b6172313": {
          "model_module": "@jupyter-widgets/controls",
          "model_name": "HTMLModel",
          "model_module_version": "1.5.0",
          "state": {
            "_dom_classes": [],
            "_model_module": "@jupyter-widgets/controls",
            "_model_module_version": "1.5.0",
            "_model_name": "HTMLModel",
            "_view_count": null,
            "_view_module": "@jupyter-widgets/controls",
            "_view_module_version": "1.5.0",
            "_view_name": "HTMLView",
            "description": "",
            "description_tooltip": null,
            "layout": "IPY_MODEL_b050f0b048a54a0081210fcd96decf2e",
            "placeholder": "​",
            "style": "IPY_MODEL_930b5f3368e04059910eeb1de0677f19",
            "value": "Generating train examples...: "
          }
        },
        "4b7eac9f7aa5413b84cfdd5ca346a073": {
          "model_module": "@jupyter-widgets/controls",
          "model_name": "FloatProgressModel",
          "model_module_version": "1.5.0",
          "state": {
            "_dom_classes": [],
            "_model_module": "@jupyter-widgets/controls",
            "_model_module_version": "1.5.0",
            "_model_name": "FloatProgressModel",
            "_view_count": null,
            "_view_module": "@jupyter-widgets/controls",
            "_view_module_version": "1.5.0",
            "_view_name": "ProgressView",
            "bar_style": "info",
            "description": "",
            "description_tooltip": null,
            "layout": "IPY_MODEL_11eae1a3998f479eb8eee3a7025b6c0a",
            "max": 1,
            "min": 0,
            "orientation": "horizontal",
            "style": "IPY_MODEL_c21d72fd969142408b929421f90a3374",
            "value": 1
          }
        },
        "33b7004804f04c1593f48e1c126ed2db": {
          "model_module": "@jupyter-widgets/controls",
          "model_name": "HTMLModel",
          "model_module_version": "1.5.0",
          "state": {
            "_dom_classes": [],
            "_model_module": "@jupyter-widgets/controls",
            "_model_module_version": "1.5.0",
            "_model_name": "HTMLModel",
            "_view_count": null,
            "_view_module": "@jupyter-widgets/controls",
            "_view_module_version": "1.5.0",
            "_view_name": "HTMLView",
            "description": "",
            "description_tooltip": null,
            "layout": "IPY_MODEL_55362466078441d88fd2ad996c91a643",
            "placeholder": "​",
            "style": "IPY_MODEL_686fb67db2d14dfcb59e9ff834f5bb3f",
            "value": " 27231/? [00:06&lt;00:00, 5723.58 examples/s]"
          }
        },
        "e08808a165f44fc8a7cdfa63970afdde": {
          "model_module": "@jupyter-widgets/base",
          "model_name": "LayoutModel",
          "model_module_version": "1.2.0",
          "state": {
            "_model_module": "@jupyter-widgets/base",
            "_model_module_version": "1.2.0",
            "_model_name": "LayoutModel",
            "_view_count": null,
            "_view_module": "@jupyter-widgets/base",
            "_view_module_version": "1.2.0",
            "_view_name": "LayoutView",
            "align_content": null,
            "align_items": null,
            "align_self": null,
            "border": null,
            "bottom": null,
            "display": null,
            "flex": null,
            "flex_flow": null,
            "grid_area": null,
            "grid_auto_columns": null,
            "grid_auto_flow": null,
            "grid_auto_rows": null,
            "grid_column": null,
            "grid_gap": null,
            "grid_row": null,
            "grid_template_areas": null,
            "grid_template_columns": null,
            "grid_template_rows": null,
            "height": null,
            "justify_content": null,
            "justify_items": null,
            "left": null,
            "margin": null,
            "max_height": null,
            "max_width": null,
            "min_height": null,
            "min_width": null,
            "object_fit": null,
            "object_position": null,
            "order": null,
            "overflow": null,
            "overflow_x": null,
            "overflow_y": null,
            "padding": null,
            "right": null,
            "top": null,
            "visibility": null,
            "width": null
          }
        },
        "b050f0b048a54a0081210fcd96decf2e": {
          "model_module": "@jupyter-widgets/base",
          "model_name": "LayoutModel",
          "model_module_version": "1.2.0",
          "state": {
            "_model_module": "@jupyter-widgets/base",
            "_model_module_version": "1.2.0",
            "_model_name": "LayoutModel",
            "_view_count": null,
            "_view_module": "@jupyter-widgets/base",
            "_view_module_version": "1.2.0",
            "_view_name": "LayoutView",
            "align_content": null,
            "align_items": null,
            "align_self": null,
            "border": null,
            "bottom": null,
            "display": null,
            "flex": null,
            "flex_flow": null,
            "grid_area": null,
            "grid_auto_columns": null,
            "grid_auto_flow": null,
            "grid_auto_rows": null,
            "grid_column": null,
            "grid_gap": null,
            "grid_row": null,
            "grid_template_areas": null,
            "grid_template_columns": null,
            "grid_template_rows": null,
            "height": null,
            "justify_content": null,
            "justify_items": null,
            "left": null,
            "margin": null,
            "max_height": null,
            "max_width": null,
            "min_height": null,
            "min_width": null,
            "object_fit": null,
            "object_position": null,
            "order": null,
            "overflow": null,
            "overflow_x": null,
            "overflow_y": null,
            "padding": null,
            "right": null,
            "top": null,
            "visibility": null,
            "width": null
          }
        },
        "930b5f3368e04059910eeb1de0677f19": {
          "model_module": "@jupyter-widgets/controls",
          "model_name": "DescriptionStyleModel",
          "model_module_version": "1.5.0",
          "state": {
            "_model_module": "@jupyter-widgets/controls",
            "_model_module_version": "1.5.0",
            "_model_name": "DescriptionStyleModel",
            "_view_count": null,
            "_view_module": "@jupyter-widgets/base",
            "_view_module_version": "1.2.0",
            "_view_name": "StyleView",
            "description_width": ""
          }
        },
        "11eae1a3998f479eb8eee3a7025b6c0a": {
          "model_module": "@jupyter-widgets/base",
          "model_name": "LayoutModel",
          "model_module_version": "1.2.0",
          "state": {
            "_model_module": "@jupyter-widgets/base",
            "_model_module_version": "1.2.0",
            "_model_name": "LayoutModel",
            "_view_count": null,
            "_view_module": "@jupyter-widgets/base",
            "_view_module_version": "1.2.0",
            "_view_name": "LayoutView",
            "align_content": null,
            "align_items": null,
            "align_self": null,
            "border": null,
            "bottom": null,
            "display": null,
            "flex": null,
            "flex_flow": null,
            "grid_area": null,
            "grid_auto_columns": null,
            "grid_auto_flow": null,
            "grid_auto_rows": null,
            "grid_column": null,
            "grid_gap": null,
            "grid_row": null,
            "grid_template_areas": null,
            "grid_template_columns": null,
            "grid_template_rows": null,
            "height": null,
            "justify_content": null,
            "justify_items": null,
            "left": null,
            "margin": null,
            "max_height": null,
            "max_width": null,
            "min_height": null,
            "min_width": null,
            "object_fit": null,
            "object_position": null,
            "order": null,
            "overflow": null,
            "overflow_x": null,
            "overflow_y": null,
            "padding": null,
            "right": null,
            "top": null,
            "visibility": null,
            "width": "20px"
          }
        },
        "c21d72fd969142408b929421f90a3374": {
          "model_module": "@jupyter-widgets/controls",
          "model_name": "ProgressStyleModel",
          "model_module_version": "1.5.0",
          "state": {
            "_model_module": "@jupyter-widgets/controls",
            "_model_module_version": "1.5.0",
            "_model_name": "ProgressStyleModel",
            "_view_count": null,
            "_view_module": "@jupyter-widgets/base",
            "_view_module_version": "1.2.0",
            "_view_name": "StyleView",
            "bar_color": null,
            "description_width": ""
          }
        },
        "55362466078441d88fd2ad996c91a643": {
          "model_module": "@jupyter-widgets/base",
          "model_name": "LayoutModel",
          "model_module_version": "1.2.0",
          "state": {
            "_model_module": "@jupyter-widgets/base",
            "_model_module_version": "1.2.0",
            "_model_name": "LayoutModel",
            "_view_count": null,
            "_view_module": "@jupyter-widgets/base",
            "_view_module_version": "1.2.0",
            "_view_name": "LayoutView",
            "align_content": null,
            "align_items": null,
            "align_self": null,
            "border": null,
            "bottom": null,
            "display": null,
            "flex": null,
            "flex_flow": null,
            "grid_area": null,
            "grid_auto_columns": null,
            "grid_auto_flow": null,
            "grid_auto_rows": null,
            "grid_column": null,
            "grid_gap": null,
            "grid_row": null,
            "grid_template_areas": null,
            "grid_template_columns": null,
            "grid_template_rows": null,
            "height": null,
            "justify_content": null,
            "justify_items": null,
            "left": null,
            "margin": null,
            "max_height": null,
            "max_width": null,
            "min_height": null,
            "min_width": null,
            "object_fit": null,
            "object_position": null,
            "order": null,
            "overflow": null,
            "overflow_x": null,
            "overflow_y": null,
            "padding": null,
            "right": null,
            "top": null,
            "visibility": null,
            "width": null
          }
        },
        "686fb67db2d14dfcb59e9ff834f5bb3f": {
          "model_module": "@jupyter-widgets/controls",
          "model_name": "DescriptionStyleModel",
          "model_module_version": "1.5.0",
          "state": {
            "_model_module": "@jupyter-widgets/controls",
            "_model_module_version": "1.5.0",
            "_model_name": "DescriptionStyleModel",
            "_view_count": null,
            "_view_module": "@jupyter-widgets/base",
            "_view_module_version": "1.2.0",
            "_view_name": "StyleView",
            "description_width": ""
          }
        },
        "97bebdc0b5a3495282986a4708e13bea": {
          "model_module": "@jupyter-widgets/controls",
          "model_name": "HBoxModel",
          "model_module_version": "1.5.0",
          "state": {
            "_dom_classes": [],
            "_model_module": "@jupyter-widgets/controls",
            "_model_module_version": "1.5.0",
            "_model_name": "HBoxModel",
            "_view_count": null,
            "_view_module": "@jupyter-widgets/controls",
            "_view_module_version": "1.5.0",
            "_view_name": "HBoxView",
            "box_style": "",
            "children": [
              "IPY_MODEL_2dd26c9632834d0f8875ba7a474f874b",
              "IPY_MODEL_132b3c626c48439fac7f994e167e82aa",
              "IPY_MODEL_80455fe9354f420191a9bc67205880a8"
            ],
            "layout": "IPY_MODEL_afec76d4eef348f8ad789d3e82fe69e8"
          }
        },
        "2dd26c9632834d0f8875ba7a474f874b": {
          "model_module": "@jupyter-widgets/controls",
          "model_name": "HTMLModel",
          "model_module_version": "1.5.0",
          "state": {
            "_dom_classes": [],
            "_model_module": "@jupyter-widgets/controls",
            "_model_module_version": "1.5.0",
            "_model_name": "HTMLModel",
            "_view_count": null,
            "_view_module": "@jupyter-widgets/controls",
            "_view_module_version": "1.5.0",
            "_view_name": "HTMLView",
            "description": "",
            "description_tooltip": null,
            "layout": "IPY_MODEL_806d004b31774c1cb9cff709836d1527",
            "placeholder": "​",
            "style": "IPY_MODEL_d0abe28891654ba197d050772f9a3812",
            "value": "Shuffling /root/tensorflow_datasets/userfeatures/1.0.0.incompleteSP77CI/userfeatures-train.tfrecord*...:  19%"
          }
        },
        "132b3c626c48439fac7f994e167e82aa": {
          "model_module": "@jupyter-widgets/controls",
          "model_name": "FloatProgressModel",
          "model_module_version": "1.5.0",
          "state": {
            "_dom_classes": [],
            "_model_module": "@jupyter-widgets/controls",
            "_model_module_version": "1.5.0",
            "_model_name": "FloatProgressModel",
            "_view_count": null,
            "_view_module": "@jupyter-widgets/controls",
            "_view_module_version": "1.5.0",
            "_view_name": "ProgressView",
            "bar_style": "",
            "description": "",
            "description_tooltip": null,
            "layout": "IPY_MODEL_d8c4dfc1136040369abb0eb495042be3",
            "max": 27468,
            "min": 0,
            "orientation": "horizontal",
            "style": "IPY_MODEL_b2c35effef6b46579a28b2bd23abb58b",
            "value": 27468
          }
        },
        "80455fe9354f420191a9bc67205880a8": {
          "model_module": "@jupyter-widgets/controls",
          "model_name": "HTMLModel",
          "model_module_version": "1.5.0",
          "state": {
            "_dom_classes": [],
            "_model_module": "@jupyter-widgets/controls",
            "_model_module_version": "1.5.0",
            "_model_name": "HTMLModel",
            "_view_count": null,
            "_view_module": "@jupyter-widgets/controls",
            "_view_module_version": "1.5.0",
            "_view_name": "HTMLView",
            "description": "",
            "description_tooltip": null,
            "layout": "IPY_MODEL_6c6c62406a924a599bcf0599fd774d63",
            "placeholder": "​",
            "style": "IPY_MODEL_4b33dc34c68b4e7abf244e28cd403a25",
            "value": " 5233/27468 [00:00&lt;00:00, 52320.94 examples/s]"
          }
        },
        "afec76d4eef348f8ad789d3e82fe69e8": {
          "model_module": "@jupyter-widgets/base",
          "model_name": "LayoutModel",
          "model_module_version": "1.2.0",
          "state": {
            "_model_module": "@jupyter-widgets/base",
            "_model_module_version": "1.2.0",
            "_model_name": "LayoutModel",
            "_view_count": null,
            "_view_module": "@jupyter-widgets/base",
            "_view_module_version": "1.2.0",
            "_view_name": "LayoutView",
            "align_content": null,
            "align_items": null,
            "align_self": null,
            "border": null,
            "bottom": null,
            "display": null,
            "flex": null,
            "flex_flow": null,
            "grid_area": null,
            "grid_auto_columns": null,
            "grid_auto_flow": null,
            "grid_auto_rows": null,
            "grid_column": null,
            "grid_gap": null,
            "grid_row": null,
            "grid_template_areas": null,
            "grid_template_columns": null,
            "grid_template_rows": null,
            "height": null,
            "justify_content": null,
            "justify_items": null,
            "left": null,
            "margin": null,
            "max_height": null,
            "max_width": null,
            "min_height": null,
            "min_width": null,
            "object_fit": null,
            "object_position": null,
            "order": null,
            "overflow": null,
            "overflow_x": null,
            "overflow_y": null,
            "padding": null,
            "right": null,
            "top": null,
            "visibility": null,
            "width": null
          }
        },
        "806d004b31774c1cb9cff709836d1527": {
          "model_module": "@jupyter-widgets/base",
          "model_name": "LayoutModel",
          "model_module_version": "1.2.0",
          "state": {
            "_model_module": "@jupyter-widgets/base",
            "_model_module_version": "1.2.0",
            "_model_name": "LayoutModel",
            "_view_count": null,
            "_view_module": "@jupyter-widgets/base",
            "_view_module_version": "1.2.0",
            "_view_name": "LayoutView",
            "align_content": null,
            "align_items": null,
            "align_self": null,
            "border": null,
            "bottom": null,
            "display": null,
            "flex": null,
            "flex_flow": null,
            "grid_area": null,
            "grid_auto_columns": null,
            "grid_auto_flow": null,
            "grid_auto_rows": null,
            "grid_column": null,
            "grid_gap": null,
            "grid_row": null,
            "grid_template_areas": null,
            "grid_template_columns": null,
            "grid_template_rows": null,
            "height": null,
            "justify_content": null,
            "justify_items": null,
            "left": null,
            "margin": null,
            "max_height": null,
            "max_width": null,
            "min_height": null,
            "min_width": null,
            "object_fit": null,
            "object_position": null,
            "order": null,
            "overflow": null,
            "overflow_x": null,
            "overflow_y": null,
            "padding": null,
            "right": null,
            "top": null,
            "visibility": null,
            "width": null
          }
        },
        "d0abe28891654ba197d050772f9a3812": {
          "model_module": "@jupyter-widgets/controls",
          "model_name": "DescriptionStyleModel",
          "model_module_version": "1.5.0",
          "state": {
            "_model_module": "@jupyter-widgets/controls",
            "_model_module_version": "1.5.0",
            "_model_name": "DescriptionStyleModel",
            "_view_count": null,
            "_view_module": "@jupyter-widgets/base",
            "_view_module_version": "1.2.0",
            "_view_name": "StyleView",
            "description_width": ""
          }
        },
        "d8c4dfc1136040369abb0eb495042be3": {
          "model_module": "@jupyter-widgets/base",
          "model_name": "LayoutModel",
          "model_module_version": "1.2.0",
          "state": {
            "_model_module": "@jupyter-widgets/base",
            "_model_module_version": "1.2.0",
            "_model_name": "LayoutModel",
            "_view_count": null,
            "_view_module": "@jupyter-widgets/base",
            "_view_module_version": "1.2.0",
            "_view_name": "LayoutView",
            "align_content": null,
            "align_items": null,
            "align_self": null,
            "border": null,
            "bottom": null,
            "display": null,
            "flex": null,
            "flex_flow": null,
            "grid_area": null,
            "grid_auto_columns": null,
            "grid_auto_flow": null,
            "grid_auto_rows": null,
            "grid_column": null,
            "grid_gap": null,
            "grid_row": null,
            "grid_template_areas": null,
            "grid_template_columns": null,
            "grid_template_rows": null,
            "height": null,
            "justify_content": null,
            "justify_items": null,
            "left": null,
            "margin": null,
            "max_height": null,
            "max_width": null,
            "min_height": null,
            "min_width": null,
            "object_fit": null,
            "object_position": null,
            "order": null,
            "overflow": null,
            "overflow_x": null,
            "overflow_y": null,
            "padding": null,
            "right": null,
            "top": null,
            "visibility": null,
            "width": null
          }
        },
        "b2c35effef6b46579a28b2bd23abb58b": {
          "model_module": "@jupyter-widgets/controls",
          "model_name": "ProgressStyleModel",
          "model_module_version": "1.5.0",
          "state": {
            "_model_module": "@jupyter-widgets/controls",
            "_model_module_version": "1.5.0",
            "_model_name": "ProgressStyleModel",
            "_view_count": null,
            "_view_module": "@jupyter-widgets/base",
            "_view_module_version": "1.2.0",
            "_view_name": "StyleView",
            "bar_color": null,
            "description_width": ""
          }
        },
        "6c6c62406a924a599bcf0599fd774d63": {
          "model_module": "@jupyter-widgets/base",
          "model_name": "LayoutModel",
          "model_module_version": "1.2.0",
          "state": {
            "_model_module": "@jupyter-widgets/base",
            "_model_module_version": "1.2.0",
            "_model_name": "LayoutModel",
            "_view_count": null,
            "_view_module": "@jupyter-widgets/base",
            "_view_module_version": "1.2.0",
            "_view_name": "LayoutView",
            "align_content": null,
            "align_items": null,
            "align_self": null,
            "border": null,
            "bottom": null,
            "display": null,
            "flex": null,
            "flex_flow": null,
            "grid_area": null,
            "grid_auto_columns": null,
            "grid_auto_flow": null,
            "grid_auto_rows": null,
            "grid_column": null,
            "grid_gap": null,
            "grid_row": null,
            "grid_template_areas": null,
            "grid_template_columns": null,
            "grid_template_rows": null,
            "height": null,
            "justify_content": null,
            "justify_items": null,
            "left": null,
            "margin": null,
            "max_height": null,
            "max_width": null,
            "min_height": null,
            "min_width": null,
            "object_fit": null,
            "object_position": null,
            "order": null,
            "overflow": null,
            "overflow_x": null,
            "overflow_y": null,
            "padding": null,
            "right": null,
            "top": null,
            "visibility": null,
            "width": null
          }
        },
        "4b33dc34c68b4e7abf244e28cd403a25": {
          "model_module": "@jupyter-widgets/controls",
          "model_name": "DescriptionStyleModel",
          "model_module_version": "1.5.0",
          "state": {
            "_model_module": "@jupyter-widgets/controls",
            "_model_module_version": "1.5.0",
            "_model_name": "DescriptionStyleModel",
            "_view_count": null,
            "_view_module": "@jupyter-widgets/base",
            "_view_module_version": "1.2.0",
            "_view_name": "StyleView",
            "description_width": ""
          }
        },
        "5e6e7d902baf4673ae90001f5b5c22e1": {
          "model_module": "@jupyter-widgets/controls",
          "model_name": "HBoxModel",
          "model_module_version": "1.5.0",
          "state": {
            "_dom_classes": [],
            "_model_module": "@jupyter-widgets/controls",
            "_model_module_version": "1.5.0",
            "_model_name": "HBoxModel",
            "_view_count": null,
            "_view_module": "@jupyter-widgets/controls",
            "_view_module_version": "1.5.0",
            "_view_name": "HBoxView",
            "box_style": "",
            "children": [
              "IPY_MODEL_6cef9daaa8ea445c8418af8ba2cf8310",
              "IPY_MODEL_73648371a8264d12aff0e12f56dc7c48",
              "IPY_MODEL_58819b9c4dd2483182087875335f4b49"
            ],
            "layout": "IPY_MODEL_ffe2e6e88b384798973afa6ae3af1cc5"
          }
        },
        "6cef9daaa8ea445c8418af8ba2cf8310": {
          "model_module": "@jupyter-widgets/controls",
          "model_name": "HTMLModel",
          "model_module_version": "1.5.0",
          "state": {
            "_dom_classes": [],
            "_model_module": "@jupyter-widgets/controls",
            "_model_module_version": "1.5.0",
            "_model_name": "HTMLModel",
            "_view_count": null,
            "_view_module": "@jupyter-widgets/controls",
            "_view_module_version": "1.5.0",
            "_view_name": "HTMLView",
            "description": "",
            "description_tooltip": null,
            "layout": "IPY_MODEL_68d8bc048b9a400c83a208784d00e3e8",
            "placeholder": "​",
            "style": "IPY_MODEL_a50f3bdb6c9c4276b0aca25d32dff240",
            "value": "Generating splits...: 100%"
          }
        },
        "73648371a8264d12aff0e12f56dc7c48": {
          "model_module": "@jupyter-widgets/controls",
          "model_name": "FloatProgressModel",
          "model_module_version": "1.5.0",
          "state": {
            "_dom_classes": [],
            "_model_module": "@jupyter-widgets/controls",
            "_model_module_version": "1.5.0",
            "_model_name": "FloatProgressModel",
            "_view_count": null,
            "_view_module": "@jupyter-widgets/controls",
            "_view_module_version": "1.5.0",
            "_view_name": "ProgressView",
            "bar_style": "",
            "description": "",
            "description_tooltip": null,
            "layout": "IPY_MODEL_f7e5dbd4555344628f03f1546bb0b297",
            "max": 1,
            "min": 0,
            "orientation": "horizontal",
            "style": "IPY_MODEL_7c04b0dbb5eb4f5c98de0345e5af0025",
            "value": 1
          }
        },
        "58819b9c4dd2483182087875335f4b49": {
          "model_module": "@jupyter-widgets/controls",
          "model_name": "HTMLModel",
          "model_module_version": "1.5.0",
          "state": {
            "_dom_classes": [],
            "_model_module": "@jupyter-widgets/controls",
            "_model_module_version": "1.5.0",
            "_model_name": "HTMLModel",
            "_view_count": null,
            "_view_module": "@jupyter-widgets/controls",
            "_view_module_version": "1.5.0",
            "_view_name": "HTMLView",
            "description": "",
            "description_tooltip": null,
            "layout": "IPY_MODEL_d4188455a99c44ec84214369e14bc070",
            "placeholder": "​",
            "style": "IPY_MODEL_a1b888ff8f614b06ad980c7038bc35bb",
            "value": " 1/1 [00:00&lt;00:00,  5.13 splits/s]"
          }
        },
        "ffe2e6e88b384798973afa6ae3af1cc5": {
          "model_module": "@jupyter-widgets/base",
          "model_name": "LayoutModel",
          "model_module_version": "1.2.0",
          "state": {
            "_model_module": "@jupyter-widgets/base",
            "_model_module_version": "1.2.0",
            "_model_name": "LayoutModel",
            "_view_count": null,
            "_view_module": "@jupyter-widgets/base",
            "_view_module_version": "1.2.0",
            "_view_name": "LayoutView",
            "align_content": null,
            "align_items": null,
            "align_self": null,
            "border": null,
            "bottom": null,
            "display": null,
            "flex": null,
            "flex_flow": null,
            "grid_area": null,
            "grid_auto_columns": null,
            "grid_auto_flow": null,
            "grid_auto_rows": null,
            "grid_column": null,
            "grid_gap": null,
            "grid_row": null,
            "grid_template_areas": null,
            "grid_template_columns": null,
            "grid_template_rows": null,
            "height": null,
            "justify_content": null,
            "justify_items": null,
            "left": null,
            "margin": null,
            "max_height": null,
            "max_width": null,
            "min_height": null,
            "min_width": null,
            "object_fit": null,
            "object_position": null,
            "order": null,
            "overflow": null,
            "overflow_x": null,
            "overflow_y": null,
            "padding": null,
            "right": null,
            "top": null,
            "visibility": null,
            "width": null
          }
        },
        "68d8bc048b9a400c83a208784d00e3e8": {
          "model_module": "@jupyter-widgets/base",
          "model_name": "LayoutModel",
          "model_module_version": "1.2.0",
          "state": {
            "_model_module": "@jupyter-widgets/base",
            "_model_module_version": "1.2.0",
            "_model_name": "LayoutModel",
            "_view_count": null,
            "_view_module": "@jupyter-widgets/base",
            "_view_module_version": "1.2.0",
            "_view_name": "LayoutView",
            "align_content": null,
            "align_items": null,
            "align_self": null,
            "border": null,
            "bottom": null,
            "display": null,
            "flex": null,
            "flex_flow": null,
            "grid_area": null,
            "grid_auto_columns": null,
            "grid_auto_flow": null,
            "grid_auto_rows": null,
            "grid_column": null,
            "grid_gap": null,
            "grid_row": null,
            "grid_template_areas": null,
            "grid_template_columns": null,
            "grid_template_rows": null,
            "height": null,
            "justify_content": null,
            "justify_items": null,
            "left": null,
            "margin": null,
            "max_height": null,
            "max_width": null,
            "min_height": null,
            "min_width": null,
            "object_fit": null,
            "object_position": null,
            "order": null,
            "overflow": null,
            "overflow_x": null,
            "overflow_y": null,
            "padding": null,
            "right": null,
            "top": null,
            "visibility": null,
            "width": null
          }
        },
        "a50f3bdb6c9c4276b0aca25d32dff240": {
          "model_module": "@jupyter-widgets/controls",
          "model_name": "DescriptionStyleModel",
          "model_module_version": "1.5.0",
          "state": {
            "_model_module": "@jupyter-widgets/controls",
            "_model_module_version": "1.5.0",
            "_model_name": "DescriptionStyleModel",
            "_view_count": null,
            "_view_module": "@jupyter-widgets/base",
            "_view_module_version": "1.2.0",
            "_view_name": "StyleView",
            "description_width": ""
          }
        },
        "f7e5dbd4555344628f03f1546bb0b297": {
          "model_module": "@jupyter-widgets/base",
          "model_name": "LayoutModel",
          "model_module_version": "1.2.0",
          "state": {
            "_model_module": "@jupyter-widgets/base",
            "_model_module_version": "1.2.0",
            "_model_name": "LayoutModel",
            "_view_count": null,
            "_view_module": "@jupyter-widgets/base",
            "_view_module_version": "1.2.0",
            "_view_name": "LayoutView",
            "align_content": null,
            "align_items": null,
            "align_self": null,
            "border": null,
            "bottom": null,
            "display": null,
            "flex": null,
            "flex_flow": null,
            "grid_area": null,
            "grid_auto_columns": null,
            "grid_auto_flow": null,
            "grid_auto_rows": null,
            "grid_column": null,
            "grid_gap": null,
            "grid_row": null,
            "grid_template_areas": null,
            "grid_template_columns": null,
            "grid_template_rows": null,
            "height": null,
            "justify_content": null,
            "justify_items": null,
            "left": null,
            "margin": null,
            "max_height": null,
            "max_width": null,
            "min_height": null,
            "min_width": null,
            "object_fit": null,
            "object_position": null,
            "order": null,
            "overflow": null,
            "overflow_x": null,
            "overflow_y": null,
            "padding": null,
            "right": null,
            "top": null,
            "visibility": null,
            "width": null
          }
        },
        "7c04b0dbb5eb4f5c98de0345e5af0025": {
          "model_module": "@jupyter-widgets/controls",
          "model_name": "ProgressStyleModel",
          "model_module_version": "1.5.0",
          "state": {
            "_model_module": "@jupyter-widgets/controls",
            "_model_module_version": "1.5.0",
            "_model_name": "ProgressStyleModel",
            "_view_count": null,
            "_view_module": "@jupyter-widgets/base",
            "_view_module_version": "1.2.0",
            "_view_name": "StyleView",
            "bar_color": null,
            "description_width": ""
          }
        },
        "d4188455a99c44ec84214369e14bc070": {
          "model_module": "@jupyter-widgets/base",
          "model_name": "LayoutModel",
          "model_module_version": "1.2.0",
          "state": {
            "_model_module": "@jupyter-widgets/base",
            "_model_module_version": "1.2.0",
            "_model_name": "LayoutModel",
            "_view_count": null,
            "_view_module": "@jupyter-widgets/base",
            "_view_module_version": "1.2.0",
            "_view_name": "LayoutView",
            "align_content": null,
            "align_items": null,
            "align_self": null,
            "border": null,
            "bottom": null,
            "display": null,
            "flex": null,
            "flex_flow": null,
            "grid_area": null,
            "grid_auto_columns": null,
            "grid_auto_flow": null,
            "grid_auto_rows": null,
            "grid_column": null,
            "grid_gap": null,
            "grid_row": null,
            "grid_template_areas": null,
            "grid_template_columns": null,
            "grid_template_rows": null,
            "height": null,
            "justify_content": null,
            "justify_items": null,
            "left": null,
            "margin": null,
            "max_height": null,
            "max_width": null,
            "min_height": null,
            "min_width": null,
            "object_fit": null,
            "object_position": null,
            "order": null,
            "overflow": null,
            "overflow_x": null,
            "overflow_y": null,
            "padding": null,
            "right": null,
            "top": null,
            "visibility": null,
            "width": null
          }
        },
        "a1b888ff8f614b06ad980c7038bc35bb": {
          "model_module": "@jupyter-widgets/controls",
          "model_name": "DescriptionStyleModel",
          "model_module_version": "1.5.0",
          "state": {
            "_model_module": "@jupyter-widgets/controls",
            "_model_module_version": "1.5.0",
            "_model_name": "DescriptionStyleModel",
            "_view_count": null,
            "_view_module": "@jupyter-widgets/base",
            "_view_module_version": "1.2.0",
            "_view_name": "StyleView",
            "description_width": ""
          }
        },
        "8c4415fe805c4b73a7c2ab74926bde07": {
          "model_module": "@jupyter-widgets/controls",
          "model_name": "HBoxModel",
          "model_module_version": "1.5.0",
          "state": {
            "_dom_classes": [],
            "_model_module": "@jupyter-widgets/controls",
            "_model_module_version": "1.5.0",
            "_model_name": "HBoxModel",
            "_view_count": null,
            "_view_module": "@jupyter-widgets/controls",
            "_view_module_version": "1.5.0",
            "_view_name": "HBoxView",
            "box_style": "",
            "children": [
              "IPY_MODEL_a34998e9a0a84ea783ae5c2dec00c519",
              "IPY_MODEL_e38e3aedb38e4dcfa3106c9222349802",
              "IPY_MODEL_68ee045b88964675a051c4c3b4e6697e"
            ],
            "layout": "IPY_MODEL_59c0d4349df0491eaa69d9dc11228811"
          }
        },
        "a34998e9a0a84ea783ae5c2dec00c519": {
          "model_module": "@jupyter-widgets/controls",
          "model_name": "HTMLModel",
          "model_module_version": "1.5.0",
          "state": {
            "_dom_classes": [],
            "_model_module": "@jupyter-widgets/controls",
            "_model_module_version": "1.5.0",
            "_model_name": "HTMLModel",
            "_view_count": null,
            "_view_module": "@jupyter-widgets/controls",
            "_view_module_version": "1.5.0",
            "_view_name": "HTMLView",
            "description": "",
            "description_tooltip": null,
            "layout": "IPY_MODEL_015e171bdf07499680e0834d86865f23",
            "placeholder": "​",
            "style": "IPY_MODEL_f6fb0649b8694bae8ae5e8de6bcefc1e",
            "value": "Generating train examples...: "
          }
        },
        "e38e3aedb38e4dcfa3106c9222349802": {
          "model_module": "@jupyter-widgets/controls",
          "model_name": "FloatProgressModel",
          "model_module_version": "1.5.0",
          "state": {
            "_dom_classes": [],
            "_model_module": "@jupyter-widgets/controls",
            "_model_module_version": "1.5.0",
            "_model_name": "FloatProgressModel",
            "_view_count": null,
            "_view_module": "@jupyter-widgets/controls",
            "_view_module_version": "1.5.0",
            "_view_name": "ProgressView",
            "bar_style": "info",
            "description": "",
            "description_tooltip": null,
            "layout": "IPY_MODEL_b28f57aea1074127ad047a0592e3dcd8",
            "max": 1,
            "min": 0,
            "orientation": "horizontal",
            "style": "IPY_MODEL_4c182d9a15bb49beac5e958d237e08df",
            "value": 1
          }
        },
        "68ee045b88964675a051c4c3b4e6697e": {
          "model_module": "@jupyter-widgets/controls",
          "model_name": "HTMLModel",
          "model_module_version": "1.5.0",
          "state": {
            "_dom_classes": [],
            "_model_module": "@jupyter-widgets/controls",
            "_model_module_version": "1.5.0",
            "_model_name": "HTMLModel",
            "_view_count": null,
            "_view_module": "@jupyter-widgets/controls",
            "_view_module_version": "1.5.0",
            "_view_name": "HTMLView",
            "description": "",
            "description_tooltip": null,
            "layout": "IPY_MODEL_2c147862a4864566bac9ae06865f6cb7",
            "placeholder": "​",
            "style": "IPY_MODEL_375bc4839fd94d80b719374f9305ca0e",
            "value": " 0/? [00:00&lt;?, ? examples/s]"
          }
        },
        "59c0d4349df0491eaa69d9dc11228811": {
          "model_module": "@jupyter-widgets/base",
          "model_name": "LayoutModel",
          "model_module_version": "1.2.0",
          "state": {
            "_model_module": "@jupyter-widgets/base",
            "_model_module_version": "1.2.0",
            "_model_name": "LayoutModel",
            "_view_count": null,
            "_view_module": "@jupyter-widgets/base",
            "_view_module_version": "1.2.0",
            "_view_name": "LayoutView",
            "align_content": null,
            "align_items": null,
            "align_self": null,
            "border": null,
            "bottom": null,
            "display": null,
            "flex": null,
            "flex_flow": null,
            "grid_area": null,
            "grid_auto_columns": null,
            "grid_auto_flow": null,
            "grid_auto_rows": null,
            "grid_column": null,
            "grid_gap": null,
            "grid_row": null,
            "grid_template_areas": null,
            "grid_template_columns": null,
            "grid_template_rows": null,
            "height": null,
            "justify_content": null,
            "justify_items": null,
            "left": null,
            "margin": null,
            "max_height": null,
            "max_width": null,
            "min_height": null,
            "min_width": null,
            "object_fit": null,
            "object_position": null,
            "order": null,
            "overflow": null,
            "overflow_x": null,
            "overflow_y": null,
            "padding": null,
            "right": null,
            "top": null,
            "visibility": null,
            "width": null
          }
        },
        "015e171bdf07499680e0834d86865f23": {
          "model_module": "@jupyter-widgets/base",
          "model_name": "LayoutModel",
          "model_module_version": "1.2.0",
          "state": {
            "_model_module": "@jupyter-widgets/base",
            "_model_module_version": "1.2.0",
            "_model_name": "LayoutModel",
            "_view_count": null,
            "_view_module": "@jupyter-widgets/base",
            "_view_module_version": "1.2.0",
            "_view_name": "LayoutView",
            "align_content": null,
            "align_items": null,
            "align_self": null,
            "border": null,
            "bottom": null,
            "display": null,
            "flex": null,
            "flex_flow": null,
            "grid_area": null,
            "grid_auto_columns": null,
            "grid_auto_flow": null,
            "grid_auto_rows": null,
            "grid_column": null,
            "grid_gap": null,
            "grid_row": null,
            "grid_template_areas": null,
            "grid_template_columns": null,
            "grid_template_rows": null,
            "height": null,
            "justify_content": null,
            "justify_items": null,
            "left": null,
            "margin": null,
            "max_height": null,
            "max_width": null,
            "min_height": null,
            "min_width": null,
            "object_fit": null,
            "object_position": null,
            "order": null,
            "overflow": null,
            "overflow_x": null,
            "overflow_y": null,
            "padding": null,
            "right": null,
            "top": null,
            "visibility": null,
            "width": null
          }
        },
        "f6fb0649b8694bae8ae5e8de6bcefc1e": {
          "model_module": "@jupyter-widgets/controls",
          "model_name": "DescriptionStyleModel",
          "model_module_version": "1.5.0",
          "state": {
            "_model_module": "@jupyter-widgets/controls",
            "_model_module_version": "1.5.0",
            "_model_name": "DescriptionStyleModel",
            "_view_count": null,
            "_view_module": "@jupyter-widgets/base",
            "_view_module_version": "1.2.0",
            "_view_name": "StyleView",
            "description_width": ""
          }
        },
        "b28f57aea1074127ad047a0592e3dcd8": {
          "model_module": "@jupyter-widgets/base",
          "model_name": "LayoutModel",
          "model_module_version": "1.2.0",
          "state": {
            "_model_module": "@jupyter-widgets/base",
            "_model_module_version": "1.2.0",
            "_model_name": "LayoutModel",
            "_view_count": null,
            "_view_module": "@jupyter-widgets/base",
            "_view_module_version": "1.2.0",
            "_view_name": "LayoutView",
            "align_content": null,
            "align_items": null,
            "align_self": null,
            "border": null,
            "bottom": null,
            "display": null,
            "flex": null,
            "flex_flow": null,
            "grid_area": null,
            "grid_auto_columns": null,
            "grid_auto_flow": null,
            "grid_auto_rows": null,
            "grid_column": null,
            "grid_gap": null,
            "grid_row": null,
            "grid_template_areas": null,
            "grid_template_columns": null,
            "grid_template_rows": null,
            "height": null,
            "justify_content": null,
            "justify_items": null,
            "left": null,
            "margin": null,
            "max_height": null,
            "max_width": null,
            "min_height": null,
            "min_width": null,
            "object_fit": null,
            "object_position": null,
            "order": null,
            "overflow": null,
            "overflow_x": null,
            "overflow_y": null,
            "padding": null,
            "right": null,
            "top": null,
            "visibility": null,
            "width": "20px"
          }
        },
        "4c182d9a15bb49beac5e958d237e08df": {
          "model_module": "@jupyter-widgets/controls",
          "model_name": "ProgressStyleModel",
          "model_module_version": "1.5.0",
          "state": {
            "_model_module": "@jupyter-widgets/controls",
            "_model_module_version": "1.5.0",
            "_model_name": "ProgressStyleModel",
            "_view_count": null,
            "_view_module": "@jupyter-widgets/base",
            "_view_module_version": "1.2.0",
            "_view_name": "StyleView",
            "bar_color": null,
            "description_width": ""
          }
        },
        "2c147862a4864566bac9ae06865f6cb7": {
          "model_module": "@jupyter-widgets/base",
          "model_name": "LayoutModel",
          "model_module_version": "1.2.0",
          "state": {
            "_model_module": "@jupyter-widgets/base",
            "_model_module_version": "1.2.0",
            "_model_name": "LayoutModel",
            "_view_count": null,
            "_view_module": "@jupyter-widgets/base",
            "_view_module_version": "1.2.0",
            "_view_name": "LayoutView",
            "align_content": null,
            "align_items": null,
            "align_self": null,
            "border": null,
            "bottom": null,
            "display": null,
            "flex": null,
            "flex_flow": null,
            "grid_area": null,
            "grid_auto_columns": null,
            "grid_auto_flow": null,
            "grid_auto_rows": null,
            "grid_column": null,
            "grid_gap": null,
            "grid_row": null,
            "grid_template_areas": null,
            "grid_template_columns": null,
            "grid_template_rows": null,
            "height": null,
            "justify_content": null,
            "justify_items": null,
            "left": null,
            "margin": null,
            "max_height": null,
            "max_width": null,
            "min_height": null,
            "min_width": null,
            "object_fit": null,
            "object_position": null,
            "order": null,
            "overflow": null,
            "overflow_x": null,
            "overflow_y": null,
            "padding": null,
            "right": null,
            "top": null,
            "visibility": null,
            "width": null
          }
        },
        "375bc4839fd94d80b719374f9305ca0e": {
          "model_module": "@jupyter-widgets/controls",
          "model_name": "DescriptionStyleModel",
          "model_module_version": "1.5.0",
          "state": {
            "_model_module": "@jupyter-widgets/controls",
            "_model_module_version": "1.5.0",
            "_model_name": "DescriptionStyleModel",
            "_view_count": null,
            "_view_module": "@jupyter-widgets/base",
            "_view_module_version": "1.2.0",
            "_view_name": "StyleView",
            "description_width": ""
          }
        },
        "e7d70e1c77c649778446d9efd2d35141": {
          "model_module": "@jupyter-widgets/controls",
          "model_name": "HBoxModel",
          "model_module_version": "1.5.0",
          "state": {
            "_dom_classes": [],
            "_model_module": "@jupyter-widgets/controls",
            "_model_module_version": "1.5.0",
            "_model_name": "HBoxModel",
            "_view_count": null,
            "_view_module": "@jupyter-widgets/controls",
            "_view_module_version": "1.5.0",
            "_view_name": "HBoxView",
            "box_style": "",
            "children": [
              "IPY_MODEL_2dd037e985e24faf99976077f7a896f7",
              "IPY_MODEL_b3b092bbc6f449679009805f90ba02c0",
              "IPY_MODEL_4087c69f69ad432e8e746640771532ef"
            ],
            "layout": "IPY_MODEL_5a437687bfed4a53a84d4735f3842fa0"
          }
        },
        "2dd037e985e24faf99976077f7a896f7": {
          "model_module": "@jupyter-widgets/controls",
          "model_name": "HTMLModel",
          "model_module_version": "1.5.0",
          "state": {
            "_dom_classes": [],
            "_model_module": "@jupyter-widgets/controls",
            "_model_module_version": "1.5.0",
            "_model_name": "HTMLModel",
            "_view_count": null,
            "_view_module": "@jupyter-widgets/controls",
            "_view_module_version": "1.5.0",
            "_view_name": "HTMLView",
            "description": "",
            "description_tooltip": null,
            "layout": "IPY_MODEL_e22a9744ac5a43df90fb95375ba7cb75",
            "placeholder": "​",
            "style": "IPY_MODEL_6df2d992e2704aa2992608b9fcb5f3f6",
            "value": "Shuffling /root/tensorflow_datasets/wishembedding/1.0.0.incomplete88MPF4/wishembedding-train.tfrecord*...:   0%"
          }
        },
        "b3b092bbc6f449679009805f90ba02c0": {
          "model_module": "@jupyter-widgets/controls",
          "model_name": "FloatProgressModel",
          "model_module_version": "1.5.0",
          "state": {
            "_dom_classes": [],
            "_model_module": "@jupyter-widgets/controls",
            "_model_module_version": "1.5.0",
            "_model_name": "FloatProgressModel",
            "_view_count": null,
            "_view_module": "@jupyter-widgets/controls",
            "_view_module_version": "1.5.0",
            "_view_name": "ProgressView",
            "bar_style": "",
            "description": "",
            "description_tooltip": null,
            "layout": "IPY_MODEL_268fb8e78ca244f7847b853ed6c14d11",
            "max": 121,
            "min": 0,
            "orientation": "horizontal",
            "style": "IPY_MODEL_68fa542c6c094cdd861452d902a59009",
            "value": 121
          }
        },
        "4087c69f69ad432e8e746640771532ef": {
          "model_module": "@jupyter-widgets/controls",
          "model_name": "HTMLModel",
          "model_module_version": "1.5.0",
          "state": {
            "_dom_classes": [],
            "_model_module": "@jupyter-widgets/controls",
            "_model_module_version": "1.5.0",
            "_model_name": "HTMLModel",
            "_view_count": null,
            "_view_module": "@jupyter-widgets/controls",
            "_view_module_version": "1.5.0",
            "_view_name": "HTMLView",
            "description": "",
            "description_tooltip": null,
            "layout": "IPY_MODEL_4eb99cc974f54cf3a621d2f74c90f5ed",
            "placeholder": "​",
            "style": "IPY_MODEL_1a3173aa61764275b32ad8c3d7e88af8",
            "value": " 0/121 [00:00&lt;?, ? examples/s]"
          }
        },
        "5a437687bfed4a53a84d4735f3842fa0": {
          "model_module": "@jupyter-widgets/base",
          "model_name": "LayoutModel",
          "model_module_version": "1.2.0",
          "state": {
            "_model_module": "@jupyter-widgets/base",
            "_model_module_version": "1.2.0",
            "_model_name": "LayoutModel",
            "_view_count": null,
            "_view_module": "@jupyter-widgets/base",
            "_view_module_version": "1.2.0",
            "_view_name": "LayoutView",
            "align_content": null,
            "align_items": null,
            "align_self": null,
            "border": null,
            "bottom": null,
            "display": null,
            "flex": null,
            "flex_flow": null,
            "grid_area": null,
            "grid_auto_columns": null,
            "grid_auto_flow": null,
            "grid_auto_rows": null,
            "grid_column": null,
            "grid_gap": null,
            "grid_row": null,
            "grid_template_areas": null,
            "grid_template_columns": null,
            "grid_template_rows": null,
            "height": null,
            "justify_content": null,
            "justify_items": null,
            "left": null,
            "margin": null,
            "max_height": null,
            "max_width": null,
            "min_height": null,
            "min_width": null,
            "object_fit": null,
            "object_position": null,
            "order": null,
            "overflow": null,
            "overflow_x": null,
            "overflow_y": null,
            "padding": null,
            "right": null,
            "top": null,
            "visibility": null,
            "width": null
          }
        },
        "e22a9744ac5a43df90fb95375ba7cb75": {
          "model_module": "@jupyter-widgets/base",
          "model_name": "LayoutModel",
          "model_module_version": "1.2.0",
          "state": {
            "_model_module": "@jupyter-widgets/base",
            "_model_module_version": "1.2.0",
            "_model_name": "LayoutModel",
            "_view_count": null,
            "_view_module": "@jupyter-widgets/base",
            "_view_module_version": "1.2.0",
            "_view_name": "LayoutView",
            "align_content": null,
            "align_items": null,
            "align_self": null,
            "border": null,
            "bottom": null,
            "display": null,
            "flex": null,
            "flex_flow": null,
            "grid_area": null,
            "grid_auto_columns": null,
            "grid_auto_flow": null,
            "grid_auto_rows": null,
            "grid_column": null,
            "grid_gap": null,
            "grid_row": null,
            "grid_template_areas": null,
            "grid_template_columns": null,
            "grid_template_rows": null,
            "height": null,
            "justify_content": null,
            "justify_items": null,
            "left": null,
            "margin": null,
            "max_height": null,
            "max_width": null,
            "min_height": null,
            "min_width": null,
            "object_fit": null,
            "object_position": null,
            "order": null,
            "overflow": null,
            "overflow_x": null,
            "overflow_y": null,
            "padding": null,
            "right": null,
            "top": null,
            "visibility": null,
            "width": null
          }
        },
        "6df2d992e2704aa2992608b9fcb5f3f6": {
          "model_module": "@jupyter-widgets/controls",
          "model_name": "DescriptionStyleModel",
          "model_module_version": "1.5.0",
          "state": {
            "_model_module": "@jupyter-widgets/controls",
            "_model_module_version": "1.5.0",
            "_model_name": "DescriptionStyleModel",
            "_view_count": null,
            "_view_module": "@jupyter-widgets/base",
            "_view_module_version": "1.2.0",
            "_view_name": "StyleView",
            "description_width": ""
          }
        },
        "268fb8e78ca244f7847b853ed6c14d11": {
          "model_module": "@jupyter-widgets/base",
          "model_name": "LayoutModel",
          "model_module_version": "1.2.0",
          "state": {
            "_model_module": "@jupyter-widgets/base",
            "_model_module_version": "1.2.0",
            "_model_name": "LayoutModel",
            "_view_count": null,
            "_view_module": "@jupyter-widgets/base",
            "_view_module_version": "1.2.0",
            "_view_name": "LayoutView",
            "align_content": null,
            "align_items": null,
            "align_self": null,
            "border": null,
            "bottom": null,
            "display": null,
            "flex": null,
            "flex_flow": null,
            "grid_area": null,
            "grid_auto_columns": null,
            "grid_auto_flow": null,
            "grid_auto_rows": null,
            "grid_column": null,
            "grid_gap": null,
            "grid_row": null,
            "grid_template_areas": null,
            "grid_template_columns": null,
            "grid_template_rows": null,
            "height": null,
            "justify_content": null,
            "justify_items": null,
            "left": null,
            "margin": null,
            "max_height": null,
            "max_width": null,
            "min_height": null,
            "min_width": null,
            "object_fit": null,
            "object_position": null,
            "order": null,
            "overflow": null,
            "overflow_x": null,
            "overflow_y": null,
            "padding": null,
            "right": null,
            "top": null,
            "visibility": null,
            "width": null
          }
        },
        "68fa542c6c094cdd861452d902a59009": {
          "model_module": "@jupyter-widgets/controls",
          "model_name": "ProgressStyleModel",
          "model_module_version": "1.5.0",
          "state": {
            "_model_module": "@jupyter-widgets/controls",
            "_model_module_version": "1.5.0",
            "_model_name": "ProgressStyleModel",
            "_view_count": null,
            "_view_module": "@jupyter-widgets/base",
            "_view_module_version": "1.2.0",
            "_view_name": "StyleView",
            "bar_color": null,
            "description_width": ""
          }
        },
        "4eb99cc974f54cf3a621d2f74c90f5ed": {
          "model_module": "@jupyter-widgets/base",
          "model_name": "LayoutModel",
          "model_module_version": "1.2.0",
          "state": {
            "_model_module": "@jupyter-widgets/base",
            "_model_module_version": "1.2.0",
            "_model_name": "LayoutModel",
            "_view_count": null,
            "_view_module": "@jupyter-widgets/base",
            "_view_module_version": "1.2.0",
            "_view_name": "LayoutView",
            "align_content": null,
            "align_items": null,
            "align_self": null,
            "border": null,
            "bottom": null,
            "display": null,
            "flex": null,
            "flex_flow": null,
            "grid_area": null,
            "grid_auto_columns": null,
            "grid_auto_flow": null,
            "grid_auto_rows": null,
            "grid_column": null,
            "grid_gap": null,
            "grid_row": null,
            "grid_template_areas": null,
            "grid_template_columns": null,
            "grid_template_rows": null,
            "height": null,
            "justify_content": null,
            "justify_items": null,
            "left": null,
            "margin": null,
            "max_height": null,
            "max_width": null,
            "min_height": null,
            "min_width": null,
            "object_fit": null,
            "object_position": null,
            "order": null,
            "overflow": null,
            "overflow_x": null,
            "overflow_y": null,
            "padding": null,
            "right": null,
            "top": null,
            "visibility": null,
            "width": null
          }
        },
        "1a3173aa61764275b32ad8c3d7e88af8": {
          "model_module": "@jupyter-widgets/controls",
          "model_name": "DescriptionStyleModel",
          "model_module_version": "1.5.0",
          "state": {
            "_model_module": "@jupyter-widgets/controls",
            "_model_module_version": "1.5.0",
            "_model_name": "DescriptionStyleModel",
            "_view_count": null,
            "_view_module": "@jupyter-widgets/base",
            "_view_module_version": "1.2.0",
            "_view_name": "StyleView",
            "description_width": ""
          }
        }
      }
    }
  },
  "cells": [
    {
      "cell_type": "markdown",
      "source": [
        "## IMPORT"
      ],
      "metadata": {
        "id": "vfabl-zJjVaw"
      }
    },
    {
      "cell_type": "code",
      "source": [
        "!pip install -q tensorflow-recommenders\n",
        "!pip install -q --upgrade tensorflow-datasets"
      ],
      "metadata": {
        "id": "MZJcWjNgjcJ8",
        "colab": {
          "base_uri": "https://localhost:8080/"
        },
        "outputId": "7ca925b5-1c9a-4468-e14e-c716c69ae3c5"
      },
      "execution_count": 1,
      "outputs": [
        {
          "output_type": "stream",
          "name": "stdout",
          "text": [
            "\u001b[K     |████████████████████████████████| 85 kB 4.2 MB/s \n",
            "\u001b[K     |████████████████████████████████| 462 kB 43.8 MB/s \n",
            "\u001b[K     |████████████████████████████████| 4.2 MB 21.8 MB/s \n",
            "\u001b[?25h"
          ]
        }
      ]
    },
    {
      "cell_type": "code",
      "source": [
        "import os\n",
        "import pprint\n",
        "import tempfile\n",
        "\n",
        "from typing import Dict, Text\n",
        "\n",
        "import numpy as np\n",
        "import tensorflow as tf\n",
        "import tensorflow_datasets as tfds\n",
        "\n",
        "import pandas as pd\n",
        "\n",
        "import tensorflow_recommenders as tfrs\n",
        "\n",
        "# getting data\n",
        "from google.colab import auth\n",
        "import gspread\n",
        "from google.auth import default\n",
        "from gspread_dataframe import get_as_dataframe, set_with_dataframe\n",
        "\n",
        "auth.authenticate_user()\n",
        "creds, _ = default()\n",
        "gc = gspread.authorize(creds)"
      ],
      "metadata": {
        "id": "zc0yadWJjXf1"
      },
      "execution_count": 2,
      "outputs": []
    },
    {
      "cell_type": "code",
      "source": [
        "cd /content/drive/Othercomputers/My Laptop/Bangkit/Capstone/Recommender system/Notogo-ML/model_v2.0 "
      ],
      "metadata": {
        "colab": {
          "base_uri": "https://localhost:8080/"
        },
        "id": "w53xOMLQkuvE",
        "outputId": "09f3f4cb-1989-4523-d3b6-b8cf87f7890b"
      },
      "execution_count": 3,
      "outputs": [
        {
          "output_type": "stream",
          "name": "stdout",
          "text": [
            "/content/drive/Othercomputers/My Laptop/Bangkit/Capstone/Recommender system/Notogo-ML/model_v2.0\n"
          ]
        }
      ]
    },
    {
      "cell_type": "code",
      "source": [
        "print(os.getcwd())"
      ],
      "metadata": {
        "colab": {
          "base_uri": "https://localhost:8080/"
        },
        "id": "ylsxRIzFk4h8",
        "outputId": "9f1b0992-7007-4b20-aff7-ef64d4ce5ba6"
      },
      "execution_count": 4,
      "outputs": [
        {
          "output_type": "stream",
          "name": "stdout",
          "text": [
            "/content/drive/Othercomputers/My Laptop/Bangkit/Capstone/Recommender system/Notogo-ML/model_v2.0\n"
          ]
        }
      ]
    },
    {
      "cell_type": "markdown",
      "source": [
        "## LOAD DATA FROM MYSQL"
      ],
      "metadata": {
        "id": "kKgt18nRZgRQ"
      }
    },
    {
      "cell_type": "code",
      "source": [
        "from sqlalchemy import create_engine\n",
        "import pymysql\n",
        "import pandas as pd\n",
        "\n",
        "# db_connection = 'mysql+pymysql://root:@localhost/notogo_database'\n",
        "# conn = create_engine(db_connection)\n",
        "\n",
        "# df = pd.read_sql(\"select * from tab_name\", conn)\n",
        "\n",
        "db_connect =pymysql.connect(host='127.0.0.1',user='root',password='',db='notogo_database')\n",
        "\n",
        "# df=pd.read_sql_query(\"SELECT * FROM 'YOUR_TABLENAME' \",conn)"
      ],
      "metadata": {
        "colab": {
          "base_uri": "https://localhost:8080/",
          "height": 454
        },
        "id": "7mpZbWjjaFvR",
        "outputId": "d74f1b20-821f-4d74-ad11-d3bd51e9069b"
      },
      "execution_count": 16,
      "outputs": [
        {
          "output_type": "error",
          "ename": "OperationalError",
          "evalue": "ignored",
          "traceback": [
            "\u001b[0;31m---------------------------------------------------------------------------\u001b[0m",
            "\u001b[0;31mConnectionRefusedError\u001b[0m                    Traceback (most recent call last)",
            "\u001b[0;32m/usr/local/lib/python3.7/dist-packages/pymysql/connections.py\u001b[0m in \u001b[0;36mconnect\u001b[0;34m(self, sock)\u001b[0m\n\u001b[1;32m    613\u001b[0m                             sock = socket.create_connection(\n\u001b[0;32m--> 614\u001b[0;31m                                 \u001b[0;34m(\u001b[0m\u001b[0mself\u001b[0m\u001b[0;34m.\u001b[0m\u001b[0mhost\u001b[0m\u001b[0;34m,\u001b[0m \u001b[0mself\u001b[0m\u001b[0;34m.\u001b[0m\u001b[0mport\u001b[0m\u001b[0;34m)\u001b[0m\u001b[0;34m,\u001b[0m \u001b[0mself\u001b[0m\u001b[0;34m.\u001b[0m\u001b[0mconnect_timeout\u001b[0m\u001b[0;34m,\u001b[0m \u001b[0;34m**\u001b[0m\u001b[0mkwargs\u001b[0m\u001b[0;34m\u001b[0m\u001b[0;34m\u001b[0m\u001b[0m\n\u001b[0m\u001b[1;32m    615\u001b[0m                             )\n",
            "\u001b[0;32m/usr/lib/python3.7/socket.py\u001b[0m in \u001b[0;36mcreate_connection\u001b[0;34m(address, timeout, source_address)\u001b[0m\n\u001b[1;32m    727\u001b[0m         \u001b[0;32mtry\u001b[0m\u001b[0;34m:\u001b[0m\u001b[0;34m\u001b[0m\u001b[0;34m\u001b[0m\u001b[0m\n\u001b[0;32m--> 728\u001b[0;31m             \u001b[0;32mraise\u001b[0m \u001b[0merr\u001b[0m\u001b[0;34m\u001b[0m\u001b[0;34m\u001b[0m\u001b[0m\n\u001b[0m\u001b[1;32m    729\u001b[0m         \u001b[0;32mfinally\u001b[0m\u001b[0;34m:\u001b[0m\u001b[0;34m\u001b[0m\u001b[0;34m\u001b[0m\u001b[0m\n",
            "\u001b[0;32m/usr/lib/python3.7/socket.py\u001b[0m in \u001b[0;36mcreate_connection\u001b[0;34m(address, timeout, source_address)\u001b[0m\n\u001b[1;32m    715\u001b[0m                 \u001b[0msock\u001b[0m\u001b[0;34m.\u001b[0m\u001b[0mbind\u001b[0m\u001b[0;34m(\u001b[0m\u001b[0msource_address\u001b[0m\u001b[0;34m)\u001b[0m\u001b[0;34m\u001b[0m\u001b[0;34m\u001b[0m\u001b[0m\n\u001b[0;32m--> 716\u001b[0;31m             \u001b[0msock\u001b[0m\u001b[0;34m.\u001b[0m\u001b[0mconnect\u001b[0m\u001b[0;34m(\u001b[0m\u001b[0msa\u001b[0m\u001b[0;34m)\u001b[0m\u001b[0;34m\u001b[0m\u001b[0;34m\u001b[0m\u001b[0m\n\u001b[0m\u001b[1;32m    717\u001b[0m             \u001b[0;31m# Break explicitly a reference cycle\u001b[0m\u001b[0;34m\u001b[0m\u001b[0;34m\u001b[0m\u001b[0;34m\u001b[0m\u001b[0m\n",
            "\u001b[0;31mConnectionRefusedError\u001b[0m: [Errno 111] Connection refused",
            "\nDuring handling of the above exception, another exception occurred:\n",
            "\u001b[0;31mOperationalError\u001b[0m                          Traceback (most recent call last)",
            "\u001b[0;32m<ipython-input-16-df9c8f0f8169>\u001b[0m in \u001b[0;36m<module>\u001b[0;34m()\u001b[0m\n\u001b[1;32m      8\u001b[0m \u001b[0;31m# df = pd.read_sql(\"select * from tab_name\", conn)\u001b[0m\u001b[0;34m\u001b[0m\u001b[0;34m\u001b[0m\u001b[0;34m\u001b[0m\u001b[0m\n\u001b[1;32m      9\u001b[0m \u001b[0;34m\u001b[0m\u001b[0m\n\u001b[0;32m---> 10\u001b[0;31m \u001b[0mdb_connect\u001b[0m \u001b[0;34m=\u001b[0m\u001b[0mpymysql\u001b[0m\u001b[0;34m.\u001b[0m\u001b[0mconnect\u001b[0m\u001b[0;34m(\u001b[0m\u001b[0mhost\u001b[0m\u001b[0;34m=\u001b[0m\u001b[0;34m'127.0.0.1'\u001b[0m\u001b[0;34m,\u001b[0m\u001b[0muser\u001b[0m\u001b[0;34m=\u001b[0m\u001b[0;34m'root'\u001b[0m\u001b[0;34m,\u001b[0m\u001b[0mpassword\u001b[0m\u001b[0;34m=\u001b[0m\u001b[0;34m''\u001b[0m\u001b[0;34m,\u001b[0m\u001b[0mdb\u001b[0m\u001b[0;34m=\u001b[0m\u001b[0;34m'notogo_database'\u001b[0m\u001b[0;34m)\u001b[0m\u001b[0;34m\u001b[0m\u001b[0;34m\u001b[0m\u001b[0m\n\u001b[0m\u001b[1;32m     11\u001b[0m \u001b[0;34m\u001b[0m\u001b[0m\n\u001b[1;32m     12\u001b[0m \u001b[0;31m# df=pd.read_sql_query(\"SELECT * FROM 'YOUR_TABLENAME' \",conn)\u001b[0m\u001b[0;34m\u001b[0m\u001b[0;34m\u001b[0m\u001b[0;34m\u001b[0m\u001b[0m\n",
            "\u001b[0;32m/usr/local/lib/python3.7/dist-packages/pymysql/connections.py\u001b[0m in \u001b[0;36m__init__\u001b[0;34m(self, user, password, host, database, unix_socket, port, charset, sql_mode, read_default_file, conv, use_unicode, client_flag, cursorclass, init_command, connect_timeout, read_default_group, autocommit, local_infile, max_allowed_packet, defer_connect, auth_plugin_map, read_timeout, write_timeout, bind_address, binary_prefix, program_name, server_public_key, ssl, ssl_ca, ssl_cert, ssl_disabled, ssl_key, ssl_verify_cert, ssl_verify_identity, compress, named_pipe, passwd, db)\u001b[0m\n\u001b[1;32m    351\u001b[0m             \u001b[0mself\u001b[0m\u001b[0;34m.\u001b[0m\u001b[0m_sock\u001b[0m \u001b[0;34m=\u001b[0m \u001b[0;32mNone\u001b[0m\u001b[0;34m\u001b[0m\u001b[0;34m\u001b[0m\u001b[0m\n\u001b[1;32m    352\u001b[0m         \u001b[0;32melse\u001b[0m\u001b[0;34m:\u001b[0m\u001b[0;34m\u001b[0m\u001b[0;34m\u001b[0m\u001b[0m\n\u001b[0;32m--> 353\u001b[0;31m             \u001b[0mself\u001b[0m\u001b[0;34m.\u001b[0m\u001b[0mconnect\u001b[0m\u001b[0;34m(\u001b[0m\u001b[0;34m)\u001b[0m\u001b[0;34m\u001b[0m\u001b[0;34m\u001b[0m\u001b[0m\n\u001b[0m\u001b[1;32m    354\u001b[0m \u001b[0;34m\u001b[0m\u001b[0m\n\u001b[1;32m    355\u001b[0m     \u001b[0;32mdef\u001b[0m \u001b[0m__enter__\u001b[0m\u001b[0;34m(\u001b[0m\u001b[0mself\u001b[0m\u001b[0;34m)\u001b[0m\u001b[0;34m:\u001b[0m\u001b[0;34m\u001b[0m\u001b[0;34m\u001b[0m\u001b[0m\n",
            "\u001b[0;32m/usr/local/lib/python3.7/dist-packages/pymysql/connections.py\u001b[0m in \u001b[0;36mconnect\u001b[0;34m(self, sock)\u001b[0m\n\u001b[1;32m    662\u001b[0m                 \u001b[0;32mif\u001b[0m \u001b[0mDEBUG\u001b[0m\u001b[0;34m:\u001b[0m\u001b[0;34m\u001b[0m\u001b[0;34m\u001b[0m\u001b[0m\n\u001b[1;32m    663\u001b[0m                     \u001b[0mprint\u001b[0m\u001b[0;34m(\u001b[0m\u001b[0mexc\u001b[0m\u001b[0;34m.\u001b[0m\u001b[0mtraceback\u001b[0m\u001b[0;34m)\u001b[0m\u001b[0;34m\u001b[0m\u001b[0;34m\u001b[0m\u001b[0m\n\u001b[0;32m--> 664\u001b[0;31m                 \u001b[0;32mraise\u001b[0m \u001b[0mexc\u001b[0m\u001b[0;34m\u001b[0m\u001b[0;34m\u001b[0m\u001b[0m\n\u001b[0m\u001b[1;32m    665\u001b[0m \u001b[0;34m\u001b[0m\u001b[0m\n\u001b[1;32m    666\u001b[0m             \u001b[0;31m# If e is neither DatabaseError or IOError, It's a bug.\u001b[0m\u001b[0;34m\u001b[0m\u001b[0;34m\u001b[0m\u001b[0;34m\u001b[0m\u001b[0m\n",
            "\u001b[0;31mOperationalError\u001b[0m: (2003, \"Can't connect to MySQL server on '127.0.0.1' ([Errno 111] Connection refused)\")"
          ]
        }
      ]
    },
    {
      "cell_type": "code",
      "source": [
        "!apt-get -y install mysql-server"
      ],
      "metadata": {
        "colab": {
          "base_uri": "https://localhost:8080/"
        },
        "id": "YgmzeeDUkPOM",
        "outputId": "464492b2-60f9-4d91-a844-9e932bcd7364"
      },
      "execution_count": 17,
      "outputs": [
        {
          "output_type": "stream",
          "name": "stdout",
          "text": [
            "Reading package lists... Done\n",
            "Building dependency tree       \n",
            "Reading state information... Done\n",
            "The following package was automatically installed and is no longer required:\n",
            "  libnvidia-common-460\n",
            "Use 'apt autoremove' to remove it.\n",
            "The following additional packages will be installed:\n",
            "  libcgi-fast-perl libcgi-pm-perl libencode-locale-perl libevent-core-2.1-6\n",
            "  libfcgi-perl libhtml-parser-perl libhtml-tagset-perl libhtml-template-perl\n",
            "  libhttp-date-perl libhttp-message-perl libio-html-perl\n",
            "  liblwp-mediatypes-perl libtimedate-perl liburi-perl mysql-client-5.7\n",
            "  mysql-client-core-5.7 mysql-server-5.7 mysql-server-core-5.7\n",
            "Suggested packages:\n",
            "  libdata-dump-perl libipc-sharedcache-perl libwww-perl mailx tinyca\n",
            "The following NEW packages will be installed:\n",
            "  libcgi-fast-perl libcgi-pm-perl libencode-locale-perl libevent-core-2.1-6\n",
            "  libfcgi-perl libhtml-parser-perl libhtml-tagset-perl libhtml-template-perl\n",
            "  libhttp-date-perl libhttp-message-perl libio-html-perl\n",
            "  liblwp-mediatypes-perl libtimedate-perl liburi-perl mysql-client-5.7\n",
            "  mysql-client-core-5.7 mysql-server mysql-server-5.7 mysql-server-core-5.7\n",
            "0 upgraded, 19 newly installed, 0 to remove and 42 not upgraded.\n",
            "Need to get 19.6 MB of archives.\n",
            "After this operation, 155 MB of additional disk space will be used.\n",
            "Get:1 http://archive.ubuntu.com/ubuntu bionic-updates/main amd64 mysql-client-core-5.7 amd64 5.7.38-0ubuntu0.18.04.1 [6,632 kB]\n",
            "Get:2 http://archive.ubuntu.com/ubuntu bionic-updates/main amd64 mysql-client-5.7 amd64 5.7.38-0ubuntu0.18.04.1 [1,942 kB]\n",
            "Get:3 http://archive.ubuntu.com/ubuntu bionic-updates/main amd64 mysql-server-core-5.7 amd64 5.7.38-0ubuntu0.18.04.1 [7,424 kB]\n",
            "Get:4 http://archive.ubuntu.com/ubuntu bionic/main amd64 libevent-core-2.1-6 amd64 2.1.8-stable-4build1 [85.9 kB]\n",
            "Get:5 http://archive.ubuntu.com/ubuntu bionic-updates/main amd64 mysql-server-5.7 amd64 5.7.38-0ubuntu0.18.04.1 [2,905 kB]\n",
            "Get:6 http://archive.ubuntu.com/ubuntu bionic/main amd64 libhtml-tagset-perl all 3.20-3 [12.1 kB]\n",
            "Get:7 http://archive.ubuntu.com/ubuntu bionic/main amd64 liburi-perl all 1.73-1 [77.2 kB]\n",
            "Get:8 http://archive.ubuntu.com/ubuntu bionic/main amd64 libhtml-parser-perl amd64 3.72-3build1 [85.9 kB]\n",
            "Get:9 http://archive.ubuntu.com/ubuntu bionic/main amd64 libcgi-pm-perl all 4.38-1 [185 kB]\n",
            "Get:10 http://archive.ubuntu.com/ubuntu bionic/main amd64 libfcgi-perl amd64 0.78-2build1 [32.8 kB]\n",
            "Get:11 http://archive.ubuntu.com/ubuntu bionic/main amd64 libcgi-fast-perl all 1:2.13-1 [9,940 B]\n",
            "Get:12 http://archive.ubuntu.com/ubuntu bionic/main amd64 libencode-locale-perl all 1.05-1 [12.3 kB]\n",
            "Get:13 http://archive.ubuntu.com/ubuntu bionic/main amd64 libhtml-template-perl all 2.97-1 [59.0 kB]\n",
            "Get:14 http://archive.ubuntu.com/ubuntu bionic/main amd64 libtimedate-perl all 2.3000-2 [37.5 kB]\n",
            "Get:15 http://archive.ubuntu.com/ubuntu bionic/main amd64 libhttp-date-perl all 6.02-1 [10.4 kB]\n",
            "Get:16 http://archive.ubuntu.com/ubuntu bionic/main amd64 libio-html-perl all 1.001-1 [14.9 kB]\n",
            "Get:17 http://archive.ubuntu.com/ubuntu bionic/main amd64 liblwp-mediatypes-perl all 6.02-1 [21.7 kB]\n",
            "Get:18 http://archive.ubuntu.com/ubuntu bionic/main amd64 libhttp-message-perl all 6.14-1 [72.1 kB]\n",
            "Get:19 http://archive.ubuntu.com/ubuntu bionic-updates/main amd64 mysql-server all 5.7.38-0ubuntu0.18.04.1 [9,952 B]\n",
            "Fetched 19.6 MB in 2s (12.0 MB/s)\n",
            "Preconfiguring packages ...\n",
            "Selecting previously unselected package mysql-client-core-5.7.\n",
            "(Reading database ... 155629 files and directories currently installed.)\n",
            "Preparing to unpack .../00-mysql-client-core-5.7_5.7.38-0ubuntu0.18.04.1_amd64.deb ...\n",
            "Unpacking mysql-client-core-5.7 (5.7.38-0ubuntu0.18.04.1) ...\n",
            "Selecting previously unselected package mysql-client-5.7.\n",
            "Preparing to unpack .../01-mysql-client-5.7_5.7.38-0ubuntu0.18.04.1_amd64.deb ...\n",
            "Unpacking mysql-client-5.7 (5.7.38-0ubuntu0.18.04.1) ...\n",
            "Selecting previously unselected package mysql-server-core-5.7.\n",
            "Preparing to unpack .../02-mysql-server-core-5.7_5.7.38-0ubuntu0.18.04.1_amd64.deb ...\n",
            "Unpacking mysql-server-core-5.7 (5.7.38-0ubuntu0.18.04.1) ...\n",
            "Selecting previously unselected package libevent-core-2.1-6:amd64.\n",
            "Preparing to unpack .../03-libevent-core-2.1-6_2.1.8-stable-4build1_amd64.deb ...\n",
            "Unpacking libevent-core-2.1-6:amd64 (2.1.8-stable-4build1) ...\n",
            "Selecting previously unselected package mysql-server-5.7.\n",
            "Preparing to unpack .../04-mysql-server-5.7_5.7.38-0ubuntu0.18.04.1_amd64.deb ...\n",
            "Unpacking mysql-server-5.7 (5.7.38-0ubuntu0.18.04.1) ...\n",
            "Selecting previously unselected package libhtml-tagset-perl.\n",
            "Preparing to unpack .../05-libhtml-tagset-perl_3.20-3_all.deb ...\n",
            "Unpacking libhtml-tagset-perl (3.20-3) ...\n",
            "Selecting previously unselected package liburi-perl.\n",
            "Preparing to unpack .../06-liburi-perl_1.73-1_all.deb ...\n",
            "Unpacking liburi-perl (1.73-1) ...\n",
            "Selecting previously unselected package libhtml-parser-perl.\n",
            "Preparing to unpack .../07-libhtml-parser-perl_3.72-3build1_amd64.deb ...\n",
            "Unpacking libhtml-parser-perl (3.72-3build1) ...\n",
            "Selecting previously unselected package libcgi-pm-perl.\n",
            "Preparing to unpack .../08-libcgi-pm-perl_4.38-1_all.deb ...\n",
            "Unpacking libcgi-pm-perl (4.38-1) ...\n",
            "Selecting previously unselected package libfcgi-perl.\n",
            "Preparing to unpack .../09-libfcgi-perl_0.78-2build1_amd64.deb ...\n",
            "Unpacking libfcgi-perl (0.78-2build1) ...\n",
            "Selecting previously unselected package libcgi-fast-perl.\n",
            "Preparing to unpack .../10-libcgi-fast-perl_1%3a2.13-1_all.deb ...\n",
            "Unpacking libcgi-fast-perl (1:2.13-1) ...\n",
            "Selecting previously unselected package libencode-locale-perl.\n",
            "Preparing to unpack .../11-libencode-locale-perl_1.05-1_all.deb ...\n",
            "Unpacking libencode-locale-perl (1.05-1) ...\n",
            "Selecting previously unselected package libhtml-template-perl.\n",
            "Preparing to unpack .../12-libhtml-template-perl_2.97-1_all.deb ...\n",
            "Unpacking libhtml-template-perl (2.97-1) ...\n",
            "Selecting previously unselected package libtimedate-perl.\n",
            "Preparing to unpack .../13-libtimedate-perl_2.3000-2_all.deb ...\n",
            "Unpacking libtimedate-perl (2.3000-2) ...\n",
            "Selecting previously unselected package libhttp-date-perl.\n",
            "Preparing to unpack .../14-libhttp-date-perl_6.02-1_all.deb ...\n",
            "Unpacking libhttp-date-perl (6.02-1) ...\n",
            "Selecting previously unselected package libio-html-perl.\n",
            "Preparing to unpack .../15-libio-html-perl_1.001-1_all.deb ...\n",
            "Unpacking libio-html-perl (1.001-1) ...\n",
            "Selecting previously unselected package liblwp-mediatypes-perl.\n",
            "Preparing to unpack .../16-liblwp-mediatypes-perl_6.02-1_all.deb ...\n",
            "Unpacking liblwp-mediatypes-perl (6.02-1) ...\n",
            "Selecting previously unselected package libhttp-message-perl.\n",
            "Preparing to unpack .../17-libhttp-message-perl_6.14-1_all.deb ...\n",
            "Unpacking libhttp-message-perl (6.14-1) ...\n",
            "Selecting previously unselected package mysql-server.\n",
            "Preparing to unpack .../18-mysql-server_5.7.38-0ubuntu0.18.04.1_all.deb ...\n",
            "Unpacking mysql-server (5.7.38-0ubuntu0.18.04.1) ...\n",
            "Setting up libhtml-tagset-perl (3.20-3) ...\n",
            "Setting up libevent-core-2.1-6:amd64 (2.1.8-stable-4build1) ...\n",
            "Setting up libencode-locale-perl (1.05-1) ...\n",
            "Setting up mysql-server-core-5.7 (5.7.38-0ubuntu0.18.04.1) ...\n",
            "Setting up libtimedate-perl (2.3000-2) ...\n",
            "Setting up libio-html-perl (1.001-1) ...\n",
            "Setting up liblwp-mediatypes-perl (6.02-1) ...\n",
            "Setting up liburi-perl (1.73-1) ...\n",
            "Setting up libhtml-parser-perl (3.72-3build1) ...\n",
            "Setting up libcgi-pm-perl (4.38-1) ...\n",
            "Setting up mysql-client-core-5.7 (5.7.38-0ubuntu0.18.04.1) ...\n",
            "Setting up libfcgi-perl (0.78-2build1) ...\n",
            "Setting up libhttp-date-perl (6.02-1) ...\n",
            "Setting up libhtml-template-perl (2.97-1) ...\n",
            "Setting up libcgi-fast-perl (1:2.13-1) ...\n",
            "Setting up libhttp-message-perl (6.14-1) ...\n",
            "Setting up mysql-client-5.7 (5.7.38-0ubuntu0.18.04.1) ...\n",
            "Setting up mysql-server-5.7 (5.7.38-0ubuntu0.18.04.1) ...\n",
            "invoke-rc.d: could not determine current runlevel\n",
            "invoke-rc.d: policy-rc.d denied execution of stop.\n",
            "update-alternatives: using /etc/mysql/mysql.cnf to provide /etc/mysql/my.cnf (my.cnf) in auto mode\n",
            "Renaming removed key_buffer and myisam-recover options (if present)\n",
            "Created symlink /etc/systemd/system/multi-user.target.wants/mysql.service → /lib/systemd/system/mysql.service.\n",
            "invoke-rc.d: could not determine current runlevel\n",
            "invoke-rc.d: policy-rc.d denied execution of start.\n",
            "Setting up mysql-server (5.7.38-0ubuntu0.18.04.1) ...\n",
            "Processing triggers for systemd (237-3ubuntu10.53) ...\n",
            "Processing triggers for man-db (2.8.3-2ubuntu0.1) ...\n",
            "Processing triggers for libc-bin (2.27-3ubuntu1.3) ...\n",
            "/sbin/ldconfig.real: /usr/local/lib/python3.7/dist-packages/ideep4py/lib/libmkldnn.so.0 is not a symbolic link\n",
            "\n"
          ]
        }
      ]
    },
    {
      "cell_type": "code",
      "source": [
        "db_connect = sql.connect(host = '127.0.0.1', database = 'notogo_database', user = 'root', password = '')"
      ],
      "metadata": {
        "id": "gpz0SbfKZjzK"
      },
      "execution_count": null,
      "outputs": []
    },
    {
      "cell_type": "code",
      "source": [
        "dataset = tf.data.experimental.SqlDataset(\"mysql\", \"/foo/bar.sqlite3\",\n",
        "                                          \"SELECT name, age FROM people\",\n",
        "                                          (tf.string, tf.int32))"
      ],
      "metadata": {
        "id": "uogFcdeadywS"
      },
      "execution_count": null,
      "outputs": []
    },
    {
      "cell_type": "markdown",
      "source": [
        "## Preparing the dataset"
      ],
      "metadata": {
        "id": "g4bwyBnikR0s"
      }
    },
    {
      "cell_type": "code",
      "source": [
        "import userFeatures\n",
        "builder = tfds.builder('Userfeatures')\n",
        "userFeatureDs = tfds.load('Userfeatures',split='train')"
      ],
      "metadata": {
        "colab": {
          "base_uri": "https://localhost:8080/",
          "referenced_widgets": [
            "3c6909f02d6f447f8b14e2fee28578b6",
            "7635a185cd6544c0a10e41c1ddb4f6f6",
            "ee5daf24f40b422abf57c95629655c77",
            "4f6c49caab4c47aa9ae3575b3d6df7b9",
            "5da3f0d30da14142ac5b598b8d86a4fa",
            "caf8d1485325472590a7c2ac6f04f399",
            "b2b5dd0c1e3b46bba85d42426cfd70b6",
            "e8f63f6c77c0428dbdbd07ed9f580ea1",
            "e0f39d8e93f94042af894a8e731ff882",
            "b14e231c2e224081bf3796e3a121ed7e",
            "0e0729d9335347d6891ae60000f42f02",
            "8a8c9ca06dda4ec4b73b6b5fade670b6",
            "3e407593f1944e4fb0a1e244b6172313",
            "4b7eac9f7aa5413b84cfdd5ca346a073",
            "33b7004804f04c1593f48e1c126ed2db",
            "e08808a165f44fc8a7cdfa63970afdde",
            "b050f0b048a54a0081210fcd96decf2e",
            "930b5f3368e04059910eeb1de0677f19",
            "11eae1a3998f479eb8eee3a7025b6c0a",
            "c21d72fd969142408b929421f90a3374",
            "55362466078441d88fd2ad996c91a643",
            "686fb67db2d14dfcb59e9ff834f5bb3f",
            "97bebdc0b5a3495282986a4708e13bea",
            "2dd26c9632834d0f8875ba7a474f874b",
            "132b3c626c48439fac7f994e167e82aa",
            "80455fe9354f420191a9bc67205880a8",
            "afec76d4eef348f8ad789d3e82fe69e8",
            "806d004b31774c1cb9cff709836d1527",
            "d0abe28891654ba197d050772f9a3812",
            "d8c4dfc1136040369abb0eb495042be3",
            "b2c35effef6b46579a28b2bd23abb58b",
            "6c6c62406a924a599bcf0599fd774d63",
            "4b33dc34c68b4e7abf244e28cd403a25"
          ],
          "height": 72
        },
        "id": "rY9WTfBdm7RS",
        "outputId": "17081008-31eb-4735-e6b7-566c7eaf1b49"
      },
      "execution_count": 5,
      "outputs": [
        {
          "output_type": "stream",
          "name": "stdout",
          "text": [
            "\u001b[1mDownloading and preparing dataset Unknown size (download: Unknown size, generated: Unknown size, total: Unknown size) to /root/tensorflow_datasets/userfeatures/1.0.0...\u001b[0m\n"
          ]
        },
        {
          "output_type": "stream",
          "name": "stderr",
          "text": [
            "WARNING:google.auth._default:No project ID could be determined. Consider running `gcloud config set project` or setting the GOOGLE_CLOUD_PROJECT environment variable\n"
          ]
        },
        {
          "output_type": "display_data",
          "data": {
            "text/plain": [
              "Generating splits...:   0%|          | 0/1 [00:00<?, ? splits/s]"
            ],
            "application/vnd.jupyter.widget-view+json": {
              "version_major": 2,
              "version_minor": 0,
              "model_id": "3c6909f02d6f447f8b14e2fee28578b6"
            }
          },
          "metadata": {}
        },
        {
          "output_type": "display_data",
          "data": {
            "text/plain": [
              "Generating train examples...: 0 examples [00:00, ? examples/s]"
            ],
            "application/vnd.jupyter.widget-view+json": {
              "version_major": 2,
              "version_minor": 0,
              "model_id": "8a8c9ca06dda4ec4b73b6b5fade670b6"
            }
          },
          "metadata": {}
        },
        {
          "output_type": "display_data",
          "data": {
            "text/plain": [
              "Shuffling /root/tensorflow_datasets/userfeatures/1.0.0.incompleteSP77CI/userfeatures-train.tfrecord*...:   0%|…"
            ],
            "application/vnd.jupyter.widget-view+json": {
              "version_major": 2,
              "version_minor": 0,
              "model_id": "97bebdc0b5a3495282986a4708e13bea"
            }
          },
          "metadata": {}
        },
        {
          "output_type": "stream",
          "name": "stdout",
          "text": [
            "\u001b[1mDataset userfeatures downloaded and prepared to /root/tensorflow_datasets/userfeatures/1.0.0. Subsequent calls will reuse this data.\u001b[0m\n"
          ]
        }
      ]
    },
    {
      "cell_type": "code",
      "source": [
        "import wishEmbedding\n",
        "builder = tfds.builder('Wishembedding')\n",
        "wishEmbeddingDs = tfds.load('Wishembedding',split='train')"
      ],
      "metadata": {
        "colab": {
          "base_uri": "https://localhost:8080/",
          "referenced_widgets": [
            "5e6e7d902baf4673ae90001f5b5c22e1",
            "6cef9daaa8ea445c8418af8ba2cf8310",
            "73648371a8264d12aff0e12f56dc7c48",
            "58819b9c4dd2483182087875335f4b49",
            "ffe2e6e88b384798973afa6ae3af1cc5",
            "68d8bc048b9a400c83a208784d00e3e8",
            "a50f3bdb6c9c4276b0aca25d32dff240",
            "f7e5dbd4555344628f03f1546bb0b297",
            "7c04b0dbb5eb4f5c98de0345e5af0025",
            "d4188455a99c44ec84214369e14bc070",
            "a1b888ff8f614b06ad980c7038bc35bb",
            "8c4415fe805c4b73a7c2ab74926bde07",
            "a34998e9a0a84ea783ae5c2dec00c519",
            "e38e3aedb38e4dcfa3106c9222349802",
            "68ee045b88964675a051c4c3b4e6697e",
            "59c0d4349df0491eaa69d9dc11228811",
            "015e171bdf07499680e0834d86865f23",
            "f6fb0649b8694bae8ae5e8de6bcefc1e",
            "b28f57aea1074127ad047a0592e3dcd8",
            "4c182d9a15bb49beac5e958d237e08df",
            "2c147862a4864566bac9ae06865f6cb7",
            "375bc4839fd94d80b719374f9305ca0e",
            "e7d70e1c77c649778446d9efd2d35141",
            "2dd037e985e24faf99976077f7a896f7",
            "b3b092bbc6f449679009805f90ba02c0",
            "4087c69f69ad432e8e746640771532ef",
            "5a437687bfed4a53a84d4735f3842fa0",
            "e22a9744ac5a43df90fb95375ba7cb75",
            "6df2d992e2704aa2992608b9fcb5f3f6",
            "268fb8e78ca244f7847b853ed6c14d11",
            "68fa542c6c094cdd861452d902a59009",
            "4eb99cc974f54cf3a621d2f74c90f5ed",
            "1a3173aa61764275b32ad8c3d7e88af8"
          ],
          "height": 72
        },
        "id": "KE_CXF__nPmg",
        "outputId": "86f09fc3-ef3f-4c50-a4ac-9629b25939ab"
      },
      "execution_count": 6,
      "outputs": [
        {
          "output_type": "stream",
          "name": "stdout",
          "text": [
            "\u001b[1mDownloading and preparing dataset Unknown size (download: Unknown size, generated: Unknown size, total: Unknown size) to /root/tensorflow_datasets/wishembedding/1.0.0...\u001b[0m\n"
          ]
        },
        {
          "output_type": "stream",
          "name": "stderr",
          "text": [
            "WARNING:google.auth._default:No project ID could be determined. Consider running `gcloud config set project` or setting the GOOGLE_CLOUD_PROJECT environment variable\n"
          ]
        },
        {
          "output_type": "display_data",
          "data": {
            "text/plain": [
              "Generating splits...:   0%|          | 0/1 [00:00<?, ? splits/s]"
            ],
            "application/vnd.jupyter.widget-view+json": {
              "version_major": 2,
              "version_minor": 0,
              "model_id": "5e6e7d902baf4673ae90001f5b5c22e1"
            }
          },
          "metadata": {}
        },
        {
          "output_type": "display_data",
          "data": {
            "text/plain": [
              "Generating train examples...: 0 examples [00:00, ? examples/s]"
            ],
            "application/vnd.jupyter.widget-view+json": {
              "version_major": 2,
              "version_minor": 0,
              "model_id": "8c4415fe805c4b73a7c2ab74926bde07"
            }
          },
          "metadata": {}
        },
        {
          "output_type": "display_data",
          "data": {
            "text/plain": [
              "Shuffling /root/tensorflow_datasets/wishembedding/1.0.0.incomplete88MPF4/wishembedding-train.tfrecord*...:   0…"
            ],
            "application/vnd.jupyter.widget-view+json": {
              "version_major": 2,
              "version_minor": 0,
              "model_id": "e7d70e1c77c649778446d9efd2d35141"
            }
          },
          "metadata": {}
        },
        {
          "output_type": "stream",
          "name": "stdout",
          "text": [
            "\u001b[1mDataset wishembedding downloaded and prepared to /root/tensorflow_datasets/wishembedding/1.0.0. Subsequent calls will reuse this data.\u001b[0m\n"
          ]
        }
      ]
    },
    {
      "cell_type": "code",
      "source": [
        "ratings = userFeatureDs.map(lambda x: {\n",
        "    \"location_name\": x[\"location_name\"],\n",
        "    \"user_id\": x[\"user_id\"],\n",
        "    \"add\" : x[\"add\"],\n",
        "    \"like\" : x[\"like\"]\n",
        "})\n",
        "locations = wishEmbeddingDs.map(lambda x: x[\"location_name\"])"
      ],
      "metadata": {
        "id": "huWx0o8PnUGg"
      },
      "execution_count": 7,
      "outputs": []
    },
    {
      "cell_type": "code",
      "source": [
        "for x in ratings.take(2).as_numpy_iterator():\n",
        "  pprint.pprint(x)"
      ],
      "metadata": {
        "colab": {
          "base_uri": "https://localhost:8080/"
        },
        "id": "u9I0OIcQ33NY",
        "outputId": "2e755924-ca50-4bce-f925-5c8e8b478bc2"
      },
      "execution_count": 8,
      "outputs": [
        {
          "output_type": "stream",
          "name": "stdout",
          "text": [
            "{'add': 0, 'like': 1, 'location_name': b'JAKARTA', 'user_id': b'93'}\n",
            "{'add': 0, 'like': 1, 'location_name': b'DUBAI', 'user_id': b'112'}\n"
          ]
        }
      ]
    },
    {
      "cell_type": "code",
      "source": [
        "tf.random.set_seed(42)\n",
        "\n",
        "NUM_DATA = ratings.__len__().numpy()\n",
        "\n",
        "shuffled = ratings.shuffle(NUM_DATA, seed=42, reshuffle_each_iteration=False)\n",
        "\n",
        "trainset_size = 0.8 * NUM_DATA\n",
        "\n",
        "train = shuffled.take(trainset_size)\n",
        "test = shuffled.skip(trainset_size).take(NUM_DATA - trainset_size)\n",
        "\n",
        "location_name = locations.batch(1000)\n",
        "user_ids = ratings.batch(1000).map(lambda x: x[\"user_id\"])\n",
        "\n",
        "unique_location_name = np.unique(np.concatenate(list(location_name)))\n",
        "unique_user_ids = np.unique(np.concatenate(list(user_ids)))"
      ],
      "metadata": {
        "id": "fwnbwMsGrgJP"
      },
      "execution_count": 9,
      "outputs": []
    },
    {
      "cell_type": "markdown",
      "source": [
        "## MODEL"
      ],
      "metadata": {
        "id": "VpzmeDIltZuh"
      }
    },
    {
      "cell_type": "markdown",
      "source": [
        "There are two critical parts to multi-task recommenders:\n",
        "\n",
        "1. They optimize for two or more objectives, and so have two or more losses.\n",
        "2. They share variables between the tasks, allowing for transfer learning."
      ],
      "metadata": {
        "id": "7-ZYWHH7thiT"
      }
    },
    {
      "cell_type": "code",
      "source": [
        "# class NoToGoModel(tfrs.models.Model):\n",
        "\n",
        "#   def __init__(self, rating_weight: float, retrieval_weight: float) -> None:\n",
        "#     # We take the loss weights in the constructor: this allows us to instantiate\n",
        "#     # several model objects with different loss weights.\n",
        "\n",
        "#     super().__init__()\n",
        "\n",
        "#     embedding_dimension = 32\n",
        "\n",
        "#     # User and movie models.\n",
        "#     self.location_model: tf.keras.layers.Layer = tf.keras.Sequential([\n",
        "#       tf.keras.layers.StringLookup(\n",
        "#         vocabulary=unique_location_name, mask_token=None),\n",
        "#       tf.keras.layers.Embedding(len(unique_location_name) + 1, embedding_dimension),\n",
        "#       tf.keras.layers.Dense(32, activation=\"relu\")\n",
        "#     ])\n",
        "#     self.user_model: tf.keras.layers.Layer = tf.keras.Sequential([\n",
        "#       tf.keras.layers.StringLookup(\n",
        "#         vocabulary=unique_user_ids, mask_token=None),\n",
        "#       tf.keras.layers.Embedding(len(unique_user_ids) + 1, embedding_dimension),\n",
        "#       tf.keras.layers.Dense(32, activation=\"relu\")\n",
        "#     ])\n",
        "\n",
        "#     # A small model to take in user and movie embeddings and predict ratings.\n",
        "#     # We can make this as complicated as we want as long as we output a scalar\n",
        "#     # as our prediction.\n",
        "#     self.rating_model = tf.keras.Sequential([\n",
        "#         tf.keras.layers.Dense(16, activation=\"relu\"),\n",
        "#         tf.keras.layers.Dense(64, activation=\"relu\"),\n",
        "#         tf.keras.layers.Dense(1, activation = \"sigmoid\"),\n",
        "#     ])\n",
        "\n",
        "#     # The tasks.\n",
        "#     self.rating_task: tf.keras.layers.Layer = tfrs.tasks.Ranking(\n",
        "#         loss=tf.keras.losses.MeanSquaredError(),\n",
        "#         metrics=[tf.keras.metrics.RootMeanSquaredError()],\n",
        "#     )\n",
        "#     self.retrieval_task: tf.keras.layers.Layer = tfrs.tasks.Retrieval(\n",
        "#         metrics=tfrs.metrics.FactorizedTopK(\n",
        "#             candidates=locations.batch(128).map(self.location_model)\n",
        "#         )\n",
        "#     )\n",
        "\n",
        "#     # The loss weights.\n",
        "#     self.rating_weight = rating_weight\n",
        "#     self.retrieval_weight = retrieval_weight\n",
        "\n",
        "#   def call(self, features: Dict[Text, tf.Tensor]) -> tf.Tensor:\n",
        "#     # We pick out the user features and pass them into the user model.\n",
        "#     user_embeddings = self.user_model(features[\"user_id\"])\n",
        "#     # And pick out the movie features and pass them into the movie model.\n",
        "#     location_embeddings = self.location_model(features[\"location_name\"])\n",
        "    \n",
        "#     return (\n",
        "#         user_embeddings,\n",
        "#         location_embeddings,\n",
        "#         # We apply the multi-layered rating model to a concatentation of\n",
        "#         # user and movie embeddings.\n",
        "#         self.rating_model(\n",
        "#             tf.concat([user_embeddings,location_embeddings], axis=1)\n",
        "#         ),\n",
        "#     )\n",
        "\n",
        "#   def compute_loss(self, features: Dict[Text, tf.Tensor], training=False) -> tf.Tensor:\n",
        "\n",
        "#     ratings = features.pop(\"add\")\n",
        "\n",
        "#     user_embeddings, location_embeddings, rating_predictions = self(features)\n",
        "\n",
        "#     # We compute the loss for each task.\n",
        "#     rating_loss = self.rating_task(\n",
        "#         labels=ratings,\n",
        "#         predictions=rating_predictions,\n",
        "#     )\n",
        "#     retrieval_loss = self.retrieval_task(user_embeddings, location_embeddings)\n",
        "\n",
        "#     # And combine them using the loss weights.\n",
        "#     return (self.rating_weight * rating_loss\n",
        "#             + self.retrieval_weight * retrieval_loss)"
      ],
      "metadata": {
        "id": "SWJfk6gdtyvT"
      },
      "execution_count": null,
      "outputs": []
    },
    {
      "cell_type": "code",
      "source": [
        "class NoToGoModel(tfrs.models.Model):\n",
        "\n",
        "  def __init__(self, rating_weight: float, like_weight: float,retrieval_weight: float) -> None:\n",
        "    # We take the loss weights in the constructor: this allows us to instantiate\n",
        "    # several model objects with different loss weights.\n",
        "\n",
        "    super().__init__()\n",
        "\n",
        "    embedding_dimension = 32\n",
        "\n",
        "    # User and movie models.\n",
        "    self.location_model: tf.keras.layers.Layer = tf.keras.Sequential([\n",
        "      tf.keras.layers.StringLookup(\n",
        "        vocabulary=unique_location_name, mask_token=None),\n",
        "      tf.keras.layers.Embedding(len(unique_location_name) + 1, embedding_dimension),\n",
        "      tf.keras.layers.Dense(16, activation=\"relu\")\n",
        "    ])\n",
        "\n",
        "    self.user_model: tf.keras.layers.Layer = tf.keras.Sequential([\n",
        "      tf.keras.layers.StringLookup(\n",
        "        vocabulary=unique_user_ids, mask_token=None),\n",
        "      tf.keras.layers.Embedding(len(unique_user_ids) + 1, embedding_dimension),\n",
        "      tf.keras.layers.Dense(16, activation=\"relu\")\n",
        "    ])\n",
        "\n",
        "    # A small model to take in user and movie embeddings and predict ratings.\n",
        "    # We can make this as complicated as we want as long as we output a scalar\n",
        "    # as our prediction.\n",
        "    self.rating_model = tf.keras.Sequential([\n",
        "        tf.keras.layers.Dense(8, activation=\"relu\"),\n",
        "        tf.keras.layers.Dense(16, activation=\"relu\"),\n",
        "        tf.keras.layers.Dense(1, activation = \"sigmoid\"),\n",
        "    ])\n",
        "\n",
        "    self.like_model = tf.keras.Sequential([\n",
        "        tf.keras.layers.Dense(16, activation=\"relu\"),\n",
        "        tf.keras.layers.Dense(32, activation=\"relu\"),\n",
        "        tf.keras.layers.Dense(1, activation = \"sigmoid\"),\n",
        "    ])\n",
        "\n",
        "    # The tasks.\n",
        "    self.rating_task: tf.keras.layers.Layer = tfrs.tasks.Ranking(\n",
        "        loss=tf.keras.losses.MeanSquaredError(),\n",
        "        metrics=[tf.keras.metrics.RootMeanSquaredError()],\n",
        "    )\n",
        "\n",
        "    self.like_task: tf.keras.layers.Layer = tfrs.tasks.Ranking(\n",
        "        loss=tf.keras.losses.MeanSquaredError(),\n",
        "        metrics=[tf.keras.metrics.RootMeanSquaredError()],\n",
        "    )\n",
        "    self.retrieval_task: tf.keras.layers.Layer = tfrs.tasks.Retrieval(\n",
        "        metrics=tfrs.metrics.FactorizedTopK(\n",
        "            candidates=locations.batch(128).map(self.location_model)\n",
        "        )\n",
        "    )\n",
        "\n",
        "    # The loss weights.\n",
        "    self.rating_weight = rating_weight\n",
        "    self.retrieval_weight = retrieval_weight\n",
        "    self.like_weight = like_weight\n",
        "\n",
        "  def call(self, features: Dict[Text, tf.Tensor]) -> tf.Tensor:\n",
        "    # We pick out the user features and pass them into the user model.\n",
        "    user_embeddings = self.user_model(features[\"user_id\"])\n",
        "    # And pick out the movie features and pass them into the movie model.\n",
        "    location_embeddings = self.location_model(features[\"location_name\"])\n",
        "    \n",
        "    return (\n",
        "        user_embeddings,\n",
        "        location_embeddings,\n",
        "        # We apply the multi-layered rating model to a concatentation of\n",
        "        # user and movie embeddings.\n",
        "        self.rating_model(\n",
        "            tf.concat([user_embeddings,location_embeddings], axis=1)\n",
        "        ),\n",
        "        self.like_model(\n",
        "            tf.concat([user_embeddings,location_embeddings], axis=1)\n",
        "        ),\n",
        "    )\n",
        "\n",
        "  def compute_loss(self, features: Dict[Text, tf.Tensor], training=False) -> tf.Tensor:\n",
        "\n",
        "    ratings = features.pop(\"add\",\"like\")\n",
        "    like = features.pop(\"like\", \"add\")\n",
        "\n",
        "    user_embeddings, location_embeddings, rating_predictions, like_predictions = self(features)\n",
        "\n",
        "    # We compute the loss for each task.\n",
        "    rating_loss = self.rating_task(\n",
        "        labels=ratings,\n",
        "        predictions=rating_predictions,\n",
        "    )\n",
        "\n",
        "    like_loss = self.like_task(\n",
        "        labels=like,\n",
        "        predictions=like_predictions,\n",
        "    )\n",
        "    retrieval_loss = self.retrieval_task(user_embeddings, location_embeddings)\n",
        "\n",
        "    # And combine them using the loss weights.\n",
        "    return (self.rating_weight * rating_loss\n",
        "            + self.retrieval_weight * retrieval_loss + like_loss*self.like_weight)"
      ],
      "metadata": {
        "id": "w2FZCFQdwrO6"
      },
      "execution_count": 10,
      "outputs": []
    },
    {
      "cell_type": "markdown",
      "source": [
        "### SKIP"
      ],
      "metadata": {
        "id": "1NxltrVLVPR_"
      }
    },
    {
      "cell_type": "code",
      "source": [
        "testModel = tf.keras.Sequential([\n",
        "      tf.keras.layers.StringLookup(\n",
        "        vocabulary=unique_location_name, mask_token=None),\n",
        "      tf.keras.layers.Embedding(len(unique_location_name) + 1, 32),\n",
        "      tf.keras.layers.Dense(32, activation=\"relu\")\n",
        "])"
      ],
      "metadata": {
        "id": "-RV72MCPVQ-B"
      },
      "execution_count": null,
      "outputs": []
    },
    {
      "cell_type": "code",
      "source": [
        "cek = tf.keras.layers.StringLookup(vocabulary=unique_location_name, mask_token=None)"
      ],
      "metadata": {
        "id": "b4DWPnMvVyiX"
      },
      "execution_count": null,
      "outputs": []
    },
    {
      "cell_type": "code",
      "source": [
        "unique_location_name"
      ],
      "metadata": {
        "colab": {
          "base_uri": "https://localhost:8080/"
        },
        "id": "sX32kdeyXi8k",
        "outputId": "b6920c79-dd42-45ad-d46f-3c6461322b42"
      },
      "execution_count": null,
      "outputs": [
        {
          "output_type": "execute_result",
          "data": {
            "text/plain": [
              "array([b'AIR TERJUN SIPISO-PISO', b'AKIHABARA', b'ALASKA',\n",
              "       b'AMERIKA SERIKAT', b'ANCOL', b'ASIA TIMUR', b'BALI',\n",
              "       b'BALI TOWER', b'BANDUNG', b'BANGKA BELITUNG', b'BHUTAN',\n",
              "       b'BRANCHSTO BSD', b'CANDI BOROBUDUR', b'CANDI PRAMBANAN',\n",
              "       b'CANGGU', b'CAPADOCIA', b'DANAU SALAR DE UYUNI', b'DANAU TOBA',\n",
              "       b'DENMARK', b'DIENG', b'DISNEY SEA', b'DISNEYLAND PARIS', b'DUBAI',\n",
              "       b'DUFAN', b'EROPA', b'ES KRIM RAGUSA', b'EUROPE',\n",
              "       b'GAMPLONG STUDIO', b'GEOPARK CILETUH', b'GUA GONG',\n",
              "       b'GUA TABUHAN', b'GUMUK PASIR PARANGKUSUMO', b'GUNUNG',\n",
              "       b'GUNUNG AGUNG', b'GUNUNG BROMO', b'GUNUNG FUJI', b'GUNUNG GEDE',\n",
              "       b'GUNUNG PANGRANGO', b'GUNUNG PARANG', b'GUNUNG RINJANI',\n",
              "       b'GUNUNG SEMERU', b'INDONESIA', b'ISRAEL', b'JAKARTA',\n",
              "       b'JAWA BARAT', b'JEPANG', b'JERMAN', b'KATULAMPA RAFTING BOGOR',\n",
              "       b'KENDARI', b'KOREA SELATAN', b'LABUAN BAJO', b'LAMPUNG',\n",
              "       b'LOMBOK', b'LONDON', b'MALANG', b'MALAYSIA', b'MALDIVES',\n",
              "       b'MALIOBORO', b'MALL PAKUWON', b'MARINA BAY STREET CIRCUIT',\n",
              "       b'MEDAN', b'MEKKAH', b'MUSEUM ANGKUT', b'MUSEUM GEOLOGI BANDUNG',\n",
              "       b'MUSEUM GHIBLI', b'MUSEUM IPTEK', b'MUSEUM LOUVRE',\n",
              "       b'MUSEUM MACAN', b'MUSEUM MOJA', b'MUSEUM NASIONAL',\n",
              "       b'MUSEUM NASIONAL IMERSIFA', b'NEW YORK', b'NEW ZEALAND',\n",
              "       b'NUSA DUA', b'NUSA PENIDA', b'NUSA TENGGARA BARAT',\n",
              "       b'NUSAWIRU PARACENTER', b'PALEMBANG', b'PANGANDARAN',\n",
              "       b'PANTAI ANCOL', b'PANTAI KLAYAR', b'PANTAI KUTA',\n",
              "       b'PANTAI SELATAN', b'PANTAI TELENGRIA', b'PANTAI WATU KARUNG',\n",
              "       b'PEMANDIAN AIR PANAS CIATER', b'PERANCIS', b'PERPUSNAS',\n",
              "       b'PONOROGO', b'PRANCIS', b'PULAU KOMODO', b'PULAU PAHAWANG',\n",
              "       b'PULAU SERIBU', b'RAJA AMPAT', b'REYKJAVIK', b'SINGAPURA',\n",
              "       b'SLOVENIA', b'SOLO', b'SUDIRMAN STREET BANDUNG', b'SUMBAR',\n",
              "       b'SURABAYA', b'SWISS', b'SWITZERLAND', b'TAMAN MEKARSARI',\n",
              "       b'TAMAN STRAWBERRY KADUDAMPIT', b'TANGERANG', b'TAPANULI TENGAH',\n",
              "       b'TAWANGMANGU', b'TEBING CITATAH', b'TEGAL', b'THAILAND', b'TOKYO',\n",
              "       b'TOKYO ', b'UJUNG KULON', b'UNIVERSAL STUDIO SINGAPORE',\n",
              "       b'WAKATOBI', b'WALT DISNEY WORLD FLORIDA', b'WATERBOM BALI',\n",
              "       b'YERUSALEM', b'YOGYAKARTA'], dtype=object)"
            ]
          },
          "metadata": {},
          "execution_count": 20
        }
      ]
    },
    {
      "cell_type": "code",
      "source": [
        "cek(tf.constant([['GUNUNG BROMO','DANAU TOBA']])) # 0 means out of vocabulary"
      ],
      "metadata": {
        "colab": {
          "base_uri": "https://localhost:8080/"
        },
        "id": "v1mmjGcCWKIF",
        "outputId": "3194dd36-a476-40e4-d64d-2b97bc73468a"
      },
      "execution_count": null,
      "outputs": [
        {
          "output_type": "execute_result",
          "data": {
            "text/plain": [
              "<tf.Tensor: shape=(1, 2), dtype=int64, numpy=array([[35, 18]])>"
            ]
          },
          "metadata": {},
          "execution_count": 22
        }
      ]
    },
    {
      "cell_type": "markdown",
      "source": [
        "### Rating-specialized model\n",
        "\n",
        "Depending on the weights we assign, the model will encode a different balance of the tasks. Let's start with a model that only considers ratings."
      ],
      "metadata": {
        "id": "2ML-UKVYYMc3"
      }
    },
    {
      "cell_type": "code",
      "source": [
        "model = NoToGoModel(rating_weight=1.0,like_weight = 0,retrieval_weight=0.0)\n",
        "model.compile(optimizer=tf.keras.optimizers.Adagrad(0.1))"
      ],
      "metadata": {
        "id": "QGP_6PjqYNxV"
      },
      "execution_count": 28,
      "outputs": []
    },
    {
      "cell_type": "code",
      "source": [
        "cached_train = train.shuffle(NUM_DATA).batch(512).cache()\n",
        "cached_test = test.batch(256).cache()"
      ],
      "metadata": {
        "id": "0srnK1mcYXgx"
      },
      "execution_count": 13,
      "outputs": []
    },
    {
      "cell_type": "code",
      "source": [
        "model.fit(cached_train, epochs=3)\n",
        "metrics = model.evaluate(cached_test, return_dict=True)\n",
        "\n",
        "print(f\"Retrieval top-100 accuracy: {metrics['factorized_top_k/top_100_categorical_accuracy']:.3f}.\")\n",
        "print(f\"Ranking RMSE: {metrics['root_mean_squared_error']:.3f}.\")"
      ],
      "metadata": {
        "colab": {
          "base_uri": "https://localhost:8080/"
        },
        "id": "ZyI_1blbYomX",
        "outputId": "43f4f2cd-7b7d-4a25-e878-3683a86f7ff5"
      },
      "execution_count": 29,
      "outputs": [
        {
          "output_type": "stream",
          "name": "stdout",
          "text": [
            "Epoch 1/3\n",
            "43/43 [==============================] - 5s 80ms/step - root_mean_squared_error: 0.0000e+00 - factorized_top_k/top_1_categorical_accuracy: 0.0012 - factorized_top_k/top_5_categorical_accuracy: 0.0315 - factorized_top_k/top_10_categorical_accuracy: 0.0714 - factorized_top_k/top_50_categorical_accuracy: 0.3940 - factorized_top_k/top_100_categorical_accuracy: 0.8136 - loss: 0.2093 - regularization_loss: 0.0000e+00 - total_loss: 0.2093\n",
            "Epoch 2/3\n",
            "43/43 [==============================] - 3s 80ms/step - root_mean_squared_error: 0.0000e+00 - factorized_top_k/top_1_categorical_accuracy: 0.0027 - factorized_top_k/top_5_categorical_accuracy: 0.0353 - factorized_top_k/top_10_categorical_accuracy: 0.0758 - factorized_top_k/top_50_categorical_accuracy: 0.3992 - factorized_top_k/top_100_categorical_accuracy: 0.8233 - loss: 0.2001 - regularization_loss: 0.0000e+00 - total_loss: 0.2001\n",
            "Epoch 3/3\n",
            "43/43 [==============================] - 3s 81ms/step - root_mean_squared_error: 0.0000e+00 - factorized_top_k/top_1_categorical_accuracy: 0.0032 - factorized_top_k/top_5_categorical_accuracy: 0.0362 - factorized_top_k/top_10_categorical_accuracy: 0.0755 - factorized_top_k/top_50_categorical_accuracy: 0.4012 - factorized_top_k/top_100_categorical_accuracy: 0.8242 - loss: 0.1999 - regularization_loss: 0.0000e+00 - total_loss: 0.1999\n",
            "22/22 [==============================] - 2s 73ms/step - root_mean_squared_error: 0.0000e+00 - factorized_top_k/top_1_categorical_accuracy: 0.0058 - factorized_top_k/top_5_categorical_accuracy: 0.0377 - factorized_top_k/top_10_categorical_accuracy: 0.0739 - factorized_top_k/top_50_categorical_accuracy: 0.4001 - factorized_top_k/top_100_categorical_accuracy: 0.8261 - loss: 0.1983 - regularization_loss: 0.0000e+00 - total_loss: 0.1983\n",
            "Retrieval top-100 accuracy: 0.826.\n",
            "Ranking RMSE: 0.000.\n"
          ]
        }
      ]
    },
    {
      "cell_type": "markdown",
      "source": [
        "### Retrieval-specialized model\n",
        "\n",
        "Let's now try a model that focuses on retrieval only."
      ],
      "metadata": {
        "id": "PPdD4CGJY76t"
      }
    },
    {
      "cell_type": "code",
      "source": [
        "model = NoToGoModel(rating_weight=0.0, like_weight = 0, retrieval_weight=1.0)\n",
        "model.compile(optimizer=tf.keras.optimizers.Adagrad(0.1))"
      ],
      "metadata": {
        "id": "BfiJ8dCWY8PI"
      },
      "execution_count": 14,
      "outputs": []
    },
    {
      "cell_type": "code",
      "source": [
        "model.fit(cached_train, epochs=50)\n",
        "metrics = model.evaluate(cached_test, return_dict=True)\n",
        "\n",
        "print(f\"Retrieval top-100 accuracy: {metrics['factorized_top_k/top_100_categorical_accuracy']:.3f}.\")\n",
        "print(f\"Ranking RMSE: {metrics['root_mean_squared_error']:.3f}.\")"
      ],
      "metadata": {
        "colab": {
          "base_uri": "https://localhost:8080/"
        },
        "id": "3dGpsHhDY-nK",
        "outputId": "515c9b52-5fde-4941-c0fb-72e4932d4e66"
      },
      "execution_count": 15,
      "outputs": [
        {
          "output_type": "stream",
          "name": "stdout",
          "text": [
            "Epoch 1/50\n",
            "43/43 [==============================] - 8s 93ms/step - root_mean_squared_error: 0.5029 - factorized_top_k/top_1_categorical_accuracy: 0.1848 - factorized_top_k/top_5_categorical_accuracy: 0.4426 - factorized_top_k/top_10_categorical_accuracy: 0.4906 - factorized_top_k/top_50_categorical_accuracy: 0.6988 - factorized_top_k/top_100_categorical_accuracy: 0.8854 - loss: 3180.3646 - regularization_loss: 0.0000e+00 - total_loss: 3180.3646\n",
            "Epoch 2/50\n",
            "43/43 [==============================] - 7s 168ms/step - root_mean_squared_error: 0.5015 - factorized_top_k/top_1_categorical_accuracy: 0.3514 - factorized_top_k/top_5_categorical_accuracy: 0.7608 - factorized_top_k/top_10_categorical_accuracy: 0.8535 - factorized_top_k/top_50_categorical_accuracy: 0.9992 - factorized_top_k/top_100_categorical_accuracy: 1.0000 - loss: 3180.2920 - regularization_loss: 0.0000e+00 - total_loss: 3180.2920\n",
            "Epoch 3/50\n",
            "43/43 [==============================] - 4s 83ms/step - root_mean_squared_error: 0.5022 - factorized_top_k/top_1_categorical_accuracy: 0.5497 - factorized_top_k/top_5_categorical_accuracy: 0.8185 - factorized_top_k/top_10_categorical_accuracy: 0.8940 - factorized_top_k/top_50_categorical_accuracy: 0.9811 - factorized_top_k/top_100_categorical_accuracy: 1.0000 - loss: 3180.2909 - regularization_loss: 0.0000e+00 - total_loss: 3180.2909\n",
            "Epoch 4/50\n",
            "43/43 [==============================] - 3s 74ms/step - root_mean_squared_error: 0.5026 - factorized_top_k/top_1_categorical_accuracy: 0.6535 - factorized_top_k/top_5_categorical_accuracy: 0.8729 - factorized_top_k/top_10_categorical_accuracy: 0.9078 - factorized_top_k/top_50_categorical_accuracy: 0.9889 - factorized_top_k/top_100_categorical_accuracy: 0.9959 - loss: 3180.2258 - regularization_loss: 0.0000e+00 - total_loss: 3180.2258\n",
            "Epoch 5/50\n",
            "43/43 [==============================] - 3s 73ms/step - root_mean_squared_error: 0.5035 - factorized_top_k/top_1_categorical_accuracy: 0.7865 - factorized_top_k/top_5_categorical_accuracy: 0.8413 - factorized_top_k/top_10_categorical_accuracy: 0.8742 - factorized_top_k/top_50_categorical_accuracy: 0.9895 - factorized_top_k/top_100_categorical_accuracy: 0.9987 - loss: 3180.1918 - regularization_loss: 0.0000e+00 - total_loss: 3180.1918\n",
            "Epoch 6/50\n",
            "43/43 [==============================] - 3s 72ms/step - root_mean_squared_error: 0.5039 - factorized_top_k/top_1_categorical_accuracy: 0.8061 - factorized_top_k/top_5_categorical_accuracy: 0.8270 - factorized_top_k/top_10_categorical_accuracy: 0.9447 - factorized_top_k/top_50_categorical_accuracy: 0.9997 - factorized_top_k/top_100_categorical_accuracy: 1.0000 - loss: 3180.1312 - regularization_loss: 0.0000e+00 - total_loss: 3180.1312\n",
            "Epoch 7/50\n",
            "43/43 [==============================] - 3s 71ms/step - root_mean_squared_error: 0.5041 - factorized_top_k/top_1_categorical_accuracy: 0.7391 - factorized_top_k/top_5_categorical_accuracy: 0.8086 - factorized_top_k/top_10_categorical_accuracy: 0.9293 - factorized_top_k/top_50_categorical_accuracy: 0.9996 - factorized_top_k/top_100_categorical_accuracy: 1.0000 - loss: 3180.0966 - regularization_loss: 0.0000e+00 - total_loss: 3180.0966\n",
            "Epoch 8/50\n",
            "43/43 [==============================] - 3s 74ms/step - root_mean_squared_error: 0.5041 - factorized_top_k/top_1_categorical_accuracy: 0.7995 - factorized_top_k/top_5_categorical_accuracy: 0.8187 - factorized_top_k/top_10_categorical_accuracy: 0.9372 - factorized_top_k/top_50_categorical_accuracy: 0.9993 - factorized_top_k/top_100_categorical_accuracy: 1.0000 - loss: 3180.0426 - regularization_loss: 0.0000e+00 - total_loss: 3180.0426\n",
            "Epoch 9/50\n",
            "43/43 [==============================] - 3s 76ms/step - root_mean_squared_error: 0.5041 - factorized_top_k/top_1_categorical_accuracy: 0.7707 - factorized_top_k/top_5_categorical_accuracy: 0.7951 - factorized_top_k/top_10_categorical_accuracy: 0.9036 - factorized_top_k/top_50_categorical_accuracy: 0.9895 - factorized_top_k/top_100_categorical_accuracy: 0.9978 - loss: 3180.0041 - regularization_loss: 0.0000e+00 - total_loss: 3180.0041\n",
            "Epoch 10/50\n",
            "43/43 [==============================] - 3s 76ms/step - root_mean_squared_error: 0.5044 - factorized_top_k/top_1_categorical_accuracy: 0.7539 - factorized_top_k/top_5_categorical_accuracy: 0.7854 - factorized_top_k/top_10_categorical_accuracy: 0.9221 - factorized_top_k/top_50_categorical_accuracy: 1.0000 - factorized_top_k/top_100_categorical_accuracy: 1.0000 - loss: 3179.9627 - regularization_loss: 0.0000e+00 - total_loss: 3179.9627\n",
            "Epoch 11/50\n",
            "43/43 [==============================] - 3s 75ms/step - root_mean_squared_error: 0.5045 - factorized_top_k/top_1_categorical_accuracy: 0.6053 - factorized_top_k/top_5_categorical_accuracy: 0.7069 - factorized_top_k/top_10_categorical_accuracy: 0.8917 - factorized_top_k/top_50_categorical_accuracy: 1.0000 - factorized_top_k/top_100_categorical_accuracy: 1.0000 - loss: 3179.9423 - regularization_loss: 0.0000e+00 - total_loss: 3179.9423\n",
            "Epoch 12/50\n",
            "43/43 [==============================] - 4s 89ms/step - root_mean_squared_error: 0.5046 - factorized_top_k/top_1_categorical_accuracy: 0.6663 - factorized_top_k/top_5_categorical_accuracy: 0.7602 - factorized_top_k/top_10_categorical_accuracy: 0.9040 - factorized_top_k/top_50_categorical_accuracy: 1.0000 - factorized_top_k/top_100_categorical_accuracy: 1.0000 - loss: 3179.8814 - regularization_loss: 0.0000e+00 - total_loss: 3179.8814\n",
            "Epoch 13/50\n",
            "43/43 [==============================] - 3s 74ms/step - root_mean_squared_error: 0.5048 - factorized_top_k/top_1_categorical_accuracy: 0.6443 - factorized_top_k/top_5_categorical_accuracy: 0.7354 - factorized_top_k/top_10_categorical_accuracy: 0.9101 - factorized_top_k/top_50_categorical_accuracy: 1.0000 - factorized_top_k/top_100_categorical_accuracy: 1.0000 - loss: 3179.8417 - regularization_loss: 0.0000e+00 - total_loss: 3179.8417\n",
            "Epoch 14/50\n",
            "43/43 [==============================] - 3s 73ms/step - root_mean_squared_error: 0.5049 - factorized_top_k/top_1_categorical_accuracy: 0.6564 - factorized_top_k/top_5_categorical_accuracy: 0.7404 - factorized_top_k/top_10_categorical_accuracy: 0.8820 - factorized_top_k/top_50_categorical_accuracy: 0.9999 - factorized_top_k/top_100_categorical_accuracy: 1.0000 - loss: 3179.7837 - regularization_loss: 0.0000e+00 - total_loss: 3179.7837\n",
            "Epoch 15/50\n",
            "43/43 [==============================] - 3s 76ms/step - root_mean_squared_error: 0.5053 - factorized_top_k/top_1_categorical_accuracy: 0.5913 - factorized_top_k/top_5_categorical_accuracy: 0.6960 - factorized_top_k/top_10_categorical_accuracy: 0.8818 - factorized_top_k/top_50_categorical_accuracy: 0.9907 - factorized_top_k/top_100_categorical_accuracy: 0.9997 - loss: 3179.8187 - regularization_loss: 0.0000e+00 - total_loss: 3179.8187\n",
            "Epoch 16/50\n",
            "43/43 [==============================] - 3s 74ms/step - root_mean_squared_error: 0.5055 - factorized_top_k/top_1_categorical_accuracy: 0.5936 - factorized_top_k/top_5_categorical_accuracy: 0.6813 - factorized_top_k/top_10_categorical_accuracy: 0.8936 - factorized_top_k/top_50_categorical_accuracy: 0.9950 - factorized_top_k/top_100_categorical_accuracy: 1.0000 - loss: 3179.7007 - regularization_loss: 0.0000e+00 - total_loss: 3179.7007\n",
            "Epoch 17/50\n",
            "43/43 [==============================] - 3s 74ms/step - root_mean_squared_error: 0.5057 - factorized_top_k/top_1_categorical_accuracy: 0.5916 - factorized_top_k/top_5_categorical_accuracy: 0.6604 - factorized_top_k/top_10_categorical_accuracy: 0.8638 - factorized_top_k/top_50_categorical_accuracy: 0.9917 - factorized_top_k/top_100_categorical_accuracy: 0.9999 - loss: 3179.6336 - regularization_loss: 0.0000e+00 - total_loss: 3179.6336\n",
            "Epoch 18/50\n",
            "43/43 [==============================] - 3s 75ms/step - root_mean_squared_error: 0.5058 - factorized_top_k/top_1_categorical_accuracy: 0.5850 - factorized_top_k/top_5_categorical_accuracy: 0.6796 - factorized_top_k/top_10_categorical_accuracy: 0.8477 - factorized_top_k/top_50_categorical_accuracy: 0.9940 - factorized_top_k/top_100_categorical_accuracy: 1.0000 - loss: 3179.5563 - regularization_loss: 0.0000e+00 - total_loss: 3179.5563\n",
            "Epoch 19/50\n",
            "43/43 [==============================] - 3s 76ms/step - root_mean_squared_error: 0.5058 - factorized_top_k/top_1_categorical_accuracy: 0.5230 - factorized_top_k/top_5_categorical_accuracy: 0.6050 - factorized_top_k/top_10_categorical_accuracy: 0.7325 - factorized_top_k/top_50_categorical_accuracy: 0.9885 - factorized_top_k/top_100_categorical_accuracy: 1.0000 - loss: 3179.4941 - regularization_loss: 0.0000e+00 - total_loss: 3179.4941\n",
            "Epoch 20/50\n",
            "43/43 [==============================] - 3s 74ms/step - root_mean_squared_error: 0.5060 - factorized_top_k/top_1_categorical_accuracy: 0.5112 - factorized_top_k/top_5_categorical_accuracy: 0.5763 - factorized_top_k/top_10_categorical_accuracy: 0.6404 - factorized_top_k/top_50_categorical_accuracy: 0.9972 - factorized_top_k/top_100_categorical_accuracy: 1.0000 - loss: 3179.4607 - regularization_loss: 0.0000e+00 - total_loss: 3179.4607\n",
            "Epoch 21/50\n",
            "43/43 [==============================] - 3s 72ms/step - root_mean_squared_error: 0.5061 - factorized_top_k/top_1_categorical_accuracy: 0.4656 - factorized_top_k/top_5_categorical_accuracy: 0.5495 - factorized_top_k/top_10_categorical_accuracy: 0.6434 - factorized_top_k/top_50_categorical_accuracy: 0.9915 - factorized_top_k/top_100_categorical_accuracy: 0.9998 - loss: 3179.3749 - regularization_loss: 0.0000e+00 - total_loss: 3179.3749\n",
            "Epoch 22/50\n",
            "43/43 [==============================] - 3s 74ms/step - root_mean_squared_error: 0.5062 - factorized_top_k/top_1_categorical_accuracy: 0.4824 - factorized_top_k/top_5_categorical_accuracy: 0.5721 - factorized_top_k/top_10_categorical_accuracy: 0.7070 - factorized_top_k/top_50_categorical_accuracy: 0.9900 - factorized_top_k/top_100_categorical_accuracy: 1.0000 - loss: 3179.3004 - regularization_loss: 0.0000e+00 - total_loss: 3179.3004\n",
            "Epoch 23/50\n",
            "43/43 [==============================] - 3s 74ms/step - root_mean_squared_error: 0.5063 - factorized_top_k/top_1_categorical_accuracy: 0.4726 - factorized_top_k/top_5_categorical_accuracy: 0.5519 - factorized_top_k/top_10_categorical_accuracy: 0.6142 - factorized_top_k/top_50_categorical_accuracy: 0.9905 - factorized_top_k/top_100_categorical_accuracy: 1.0000 - loss: 3179.2200 - regularization_loss: 0.0000e+00 - total_loss: 3179.2200\n",
            "Epoch 24/50\n",
            "43/43 [==============================] - 3s 74ms/step - root_mean_squared_error: 0.5063 - factorized_top_k/top_1_categorical_accuracy: 0.4478 - factorized_top_k/top_5_categorical_accuracy: 0.5352 - factorized_top_k/top_10_categorical_accuracy: 0.5887 - factorized_top_k/top_50_categorical_accuracy: 0.9915 - factorized_top_k/top_100_categorical_accuracy: 1.0000 - loss: 3179.2140 - regularization_loss: 0.0000e+00 - total_loss: 3179.2140\n",
            "Epoch 25/50\n",
            "43/43 [==============================] - 3s 72ms/step - root_mean_squared_error: 0.5064 - factorized_top_k/top_1_categorical_accuracy: 0.4479 - factorized_top_k/top_5_categorical_accuracy: 0.5527 - factorized_top_k/top_10_categorical_accuracy: 0.5962 - factorized_top_k/top_50_categorical_accuracy: 0.9924 - factorized_top_k/top_100_categorical_accuracy: 1.0000 - loss: 3179.1715 - regularization_loss: 0.0000e+00 - total_loss: 3179.1715\n",
            "Epoch 26/50\n",
            "43/43 [==============================] - 3s 75ms/step - root_mean_squared_error: 0.5064 - factorized_top_k/top_1_categorical_accuracy: 0.4259 - factorized_top_k/top_5_categorical_accuracy: 0.5283 - factorized_top_k/top_10_categorical_accuracy: 0.5611 - factorized_top_k/top_50_categorical_accuracy: 0.9942 - factorized_top_k/top_100_categorical_accuracy: 1.0000 - loss: 3179.1539 - regularization_loss: 0.0000e+00 - total_loss: 3179.1539\n",
            "Epoch 27/50\n",
            "43/43 [==============================] - 3s 76ms/step - root_mean_squared_error: 0.5064 - factorized_top_k/top_1_categorical_accuracy: 0.4395 - factorized_top_k/top_5_categorical_accuracy: 0.5586 - factorized_top_k/top_10_categorical_accuracy: 0.5976 - factorized_top_k/top_50_categorical_accuracy: 0.9905 - factorized_top_k/top_100_categorical_accuracy: 1.0000 - loss: 3179.0675 - regularization_loss: 0.0000e+00 - total_loss: 3179.0675\n",
            "Epoch 28/50\n",
            "43/43 [==============================] - 3s 78ms/step - root_mean_squared_error: 0.5064 - factorized_top_k/top_1_categorical_accuracy: 0.4573 - factorized_top_k/top_5_categorical_accuracy: 0.5687 - factorized_top_k/top_10_categorical_accuracy: 0.6160 - factorized_top_k/top_50_categorical_accuracy: 0.9945 - factorized_top_k/top_100_categorical_accuracy: 1.0000 - loss: 3179.0101 - regularization_loss: 0.0000e+00 - total_loss: 3179.0101\n",
            "Epoch 29/50\n",
            "43/43 [==============================] - 3s 80ms/step - root_mean_squared_error: 0.5064 - factorized_top_k/top_1_categorical_accuracy: 0.4487 - factorized_top_k/top_5_categorical_accuracy: 0.5647 - factorized_top_k/top_10_categorical_accuracy: 0.6138 - factorized_top_k/top_50_categorical_accuracy: 0.9947 - factorized_top_k/top_100_categorical_accuracy: 1.0000 - loss: 3178.9731 - regularization_loss: 0.0000e+00 - total_loss: 3178.9731\n",
            "Epoch 30/50\n",
            "43/43 [==============================] - 3s 77ms/step - root_mean_squared_error: 0.5064 - factorized_top_k/top_1_categorical_accuracy: 0.4296 - factorized_top_k/top_5_categorical_accuracy: 0.5567 - factorized_top_k/top_10_categorical_accuracy: 0.6011 - factorized_top_k/top_50_categorical_accuracy: 0.9952 - factorized_top_k/top_100_categorical_accuracy: 1.0000 - loss: 3178.9494 - regularization_loss: 0.0000e+00 - total_loss: 3178.9494\n",
            "Epoch 31/50\n",
            "43/43 [==============================] - 3s 75ms/step - root_mean_squared_error: 0.5063 - factorized_top_k/top_1_categorical_accuracy: 0.4129 - factorized_top_k/top_5_categorical_accuracy: 0.5471 - factorized_top_k/top_10_categorical_accuracy: 0.6106 - factorized_top_k/top_50_categorical_accuracy: 0.9941 - factorized_top_k/top_100_categorical_accuracy: 1.0000 - loss: 3178.9066 - regularization_loss: 0.0000e+00 - total_loss: 3178.9066\n",
            "Epoch 32/50\n",
            "43/43 [==============================] - 3s 77ms/step - root_mean_squared_error: 0.5064 - factorized_top_k/top_1_categorical_accuracy: 0.4099 - factorized_top_k/top_5_categorical_accuracy: 0.5615 - factorized_top_k/top_10_categorical_accuracy: 0.6062 - factorized_top_k/top_50_categorical_accuracy: 0.9879 - factorized_top_k/top_100_categorical_accuracy: 1.0000 - loss: 3178.8747 - regularization_loss: 0.0000e+00 - total_loss: 3178.8747\n",
            "Epoch 33/50\n",
            "43/43 [==============================] - 3s 75ms/step - root_mean_squared_error: 0.5063 - factorized_top_k/top_1_categorical_accuracy: 0.4214 - factorized_top_k/top_5_categorical_accuracy: 0.5658 - factorized_top_k/top_10_categorical_accuracy: 0.6094 - factorized_top_k/top_50_categorical_accuracy: 0.9922 - factorized_top_k/top_100_categorical_accuracy: 1.0000 - loss: 3178.8687 - regularization_loss: 0.0000e+00 - total_loss: 3178.8687\n",
            "Epoch 34/50\n",
            "43/43 [==============================] - 3s 74ms/step - root_mean_squared_error: 0.5063 - factorized_top_k/top_1_categorical_accuracy: 0.4306 - factorized_top_k/top_5_categorical_accuracy: 0.5768 - factorized_top_k/top_10_categorical_accuracy: 0.6201 - factorized_top_k/top_50_categorical_accuracy: 0.9893 - factorized_top_k/top_100_categorical_accuracy: 1.0000 - loss: 3178.8011 - regularization_loss: 0.0000e+00 - total_loss: 3178.8011\n",
            "Epoch 35/50\n",
            "43/43 [==============================] - 3s 75ms/step - root_mean_squared_error: 0.5063 - factorized_top_k/top_1_categorical_accuracy: 0.4150 - factorized_top_k/top_5_categorical_accuracy: 0.5507 - factorized_top_k/top_10_categorical_accuracy: 0.5945 - factorized_top_k/top_50_categorical_accuracy: 0.9917 - factorized_top_k/top_100_categorical_accuracy: 0.9999 - loss: 3178.7754 - regularization_loss: 0.0000e+00 - total_loss: 3178.7754\n",
            "Epoch 36/50\n",
            "43/43 [==============================] - 3s 78ms/step - root_mean_squared_error: 0.5061 - factorized_top_k/top_1_categorical_accuracy: 0.3360 - factorized_top_k/top_5_categorical_accuracy: 0.4690 - factorized_top_k/top_10_categorical_accuracy: 0.5036 - factorized_top_k/top_50_categorical_accuracy: 0.9863 - factorized_top_k/top_100_categorical_accuracy: 1.0000 - loss: 3178.7884 - regularization_loss: 0.0000e+00 - total_loss: 3178.7884\n",
            "Epoch 37/50\n",
            "43/43 [==============================] - 3s 78ms/step - root_mean_squared_error: 0.5060 - factorized_top_k/top_1_categorical_accuracy: 0.3758 - factorized_top_k/top_5_categorical_accuracy: 0.5203 - factorized_top_k/top_10_categorical_accuracy: 0.5497 - factorized_top_k/top_50_categorical_accuracy: 0.9911 - factorized_top_k/top_100_categorical_accuracy: 1.0000 - loss: 3178.6003 - regularization_loss: 0.0000e+00 - total_loss: 3178.6003\n",
            "Epoch 38/50\n",
            "43/43 [==============================] - 5s 111ms/step - root_mean_squared_error: 0.5060 - factorized_top_k/top_1_categorical_accuracy: 0.3580 - factorized_top_k/top_5_categorical_accuracy: 0.4735 - factorized_top_k/top_10_categorical_accuracy: 0.5129 - factorized_top_k/top_50_categorical_accuracy: 0.9778 - factorized_top_k/top_100_categorical_accuracy: 0.9999 - loss: 3178.5766 - regularization_loss: 0.0000e+00 - total_loss: 3178.5766\n",
            "Epoch 39/50\n",
            "43/43 [==============================] - 3s 74ms/step - root_mean_squared_error: 0.5060 - factorized_top_k/top_1_categorical_accuracy: 0.3507 - factorized_top_k/top_5_categorical_accuracy: 0.4724 - factorized_top_k/top_10_categorical_accuracy: 0.5038 - factorized_top_k/top_50_categorical_accuracy: 0.9777 - factorized_top_k/top_100_categorical_accuracy: 1.0000 - loss: 3178.5038 - regularization_loss: 0.0000e+00 - total_loss: 3178.5038\n",
            "Epoch 40/50\n",
            "43/43 [==============================] - 3s 76ms/step - root_mean_squared_error: 0.5059 - factorized_top_k/top_1_categorical_accuracy: 0.3463 - factorized_top_k/top_5_categorical_accuracy: 0.4803 - factorized_top_k/top_10_categorical_accuracy: 0.5141 - factorized_top_k/top_50_categorical_accuracy: 0.9826 - factorized_top_k/top_100_categorical_accuracy: 1.0000 - loss: 3178.4477 - regularization_loss: 0.0000e+00 - total_loss: 3178.4477\n",
            "Epoch 41/50\n",
            "43/43 [==============================] - 3s 74ms/step - root_mean_squared_error: 0.5059 - factorized_top_k/top_1_categorical_accuracy: 0.3585 - factorized_top_k/top_5_categorical_accuracy: 0.4940 - factorized_top_k/top_10_categorical_accuracy: 0.5270 - factorized_top_k/top_50_categorical_accuracy: 0.9828 - factorized_top_k/top_100_categorical_accuracy: 1.0000 - loss: 3178.3683 - regularization_loss: 0.0000e+00 - total_loss: 3178.3683\n",
            "Epoch 42/50\n",
            "43/43 [==============================] - 3s 75ms/step - root_mean_squared_error: 0.5059 - factorized_top_k/top_1_categorical_accuracy: 0.3633 - factorized_top_k/top_5_categorical_accuracy: 0.4906 - factorized_top_k/top_10_categorical_accuracy: 0.5233 - factorized_top_k/top_50_categorical_accuracy: 0.9889 - factorized_top_k/top_100_categorical_accuracy: 1.0000 - loss: 3178.3190 - regularization_loss: 0.0000e+00 - total_loss: 3178.3190\n",
            "Epoch 43/50\n",
            "43/43 [==============================] - 3s 79ms/step - root_mean_squared_error: 0.5060 - factorized_top_k/top_1_categorical_accuracy: 0.3674 - factorized_top_k/top_5_categorical_accuracy: 0.4957 - factorized_top_k/top_10_categorical_accuracy: 0.5221 - factorized_top_k/top_50_categorical_accuracy: 0.9872 - factorized_top_k/top_100_categorical_accuracy: 0.9996 - loss: 3178.2772 - regularization_loss: 0.0000e+00 - total_loss: 3178.2772\n",
            "Epoch 44/50\n",
            "43/43 [==============================] - 3s 73ms/step - root_mean_squared_error: 0.5059 - factorized_top_k/top_1_categorical_accuracy: 0.3614 - factorized_top_k/top_5_categorical_accuracy: 0.4920 - factorized_top_k/top_10_categorical_accuracy: 0.5207 - factorized_top_k/top_50_categorical_accuracy: 0.9881 - factorized_top_k/top_100_categorical_accuracy: 1.0000 - loss: 3178.2344 - regularization_loss: 0.0000e+00 - total_loss: 3178.2344\n",
            "Epoch 45/50\n",
            "43/43 [==============================] - 3s 74ms/step - root_mean_squared_error: 0.5060 - factorized_top_k/top_1_categorical_accuracy: 0.3631 - factorized_top_k/top_5_categorical_accuracy: 0.4928 - factorized_top_k/top_10_categorical_accuracy: 0.5186 - factorized_top_k/top_50_categorical_accuracy: 0.9876 - factorized_top_k/top_100_categorical_accuracy: 1.0000 - loss: 3178.2084 - regularization_loss: 0.0000e+00 - total_loss: 3178.2084\n",
            "Epoch 46/50\n",
            "43/43 [==============================] - 3s 76ms/step - root_mean_squared_error: 0.5059 - factorized_top_k/top_1_categorical_accuracy: 0.3641 - factorized_top_k/top_5_categorical_accuracy: 0.4934 - factorized_top_k/top_10_categorical_accuracy: 0.5217 - factorized_top_k/top_50_categorical_accuracy: 0.9793 - factorized_top_k/top_100_categorical_accuracy: 1.0000 - loss: 3178.1821 - regularization_loss: 0.0000e+00 - total_loss: 3178.1821\n",
            "Epoch 47/50\n",
            "43/43 [==============================] - 3s 76ms/step - root_mean_squared_error: 0.5060 - factorized_top_k/top_1_categorical_accuracy: 0.3741 - factorized_top_k/top_5_categorical_accuracy: 0.5078 - factorized_top_k/top_10_categorical_accuracy: 0.5325 - factorized_top_k/top_50_categorical_accuracy: 0.9765 - factorized_top_k/top_100_categorical_accuracy: 1.0000 - loss: 3178.1379 - regularization_loss: 0.0000e+00 - total_loss: 3178.1379\n",
            "Epoch 48/50\n",
            "43/43 [==============================] - 3s 79ms/step - root_mean_squared_error: 0.5059 - factorized_top_k/top_1_categorical_accuracy: 0.3592 - factorized_top_k/top_5_categorical_accuracy: 0.4897 - factorized_top_k/top_10_categorical_accuracy: 0.5148 - factorized_top_k/top_50_categorical_accuracy: 0.9779 - factorized_top_k/top_100_categorical_accuracy: 1.0000 - loss: 3178.0934 - regularization_loss: 0.0000e+00 - total_loss: 3178.0934\n",
            "Epoch 49/50\n",
            "43/43 [==============================] - 3s 74ms/step - root_mean_squared_error: 0.5059 - factorized_top_k/top_1_categorical_accuracy: 0.3478 - factorized_top_k/top_5_categorical_accuracy: 0.4828 - factorized_top_k/top_10_categorical_accuracy: 0.5093 - factorized_top_k/top_50_categorical_accuracy: 0.9820 - factorized_top_k/top_100_categorical_accuracy: 0.9999 - loss: 3178.0875 - regularization_loss: 0.0000e+00 - total_loss: 3178.0875\n",
            "Epoch 50/50\n",
            "43/43 [==============================] - 3s 74ms/step - root_mean_squared_error: 0.5059 - factorized_top_k/top_1_categorical_accuracy: 0.3624 - factorized_top_k/top_5_categorical_accuracy: 0.4870 - factorized_top_k/top_10_categorical_accuracy: 0.5159 - factorized_top_k/top_50_categorical_accuracy: 0.9886 - factorized_top_k/top_100_categorical_accuracy: 1.0000 - loss: 3178.0245 - regularization_loss: 0.0000e+00 - total_loss: 3178.0245\n",
            "22/22 [==============================] - 3s 71ms/step - root_mean_squared_error: 0.5062 - factorized_top_k/top_1_categorical_accuracy: 0.3494 - factorized_top_k/top_5_categorical_accuracy: 0.4697 - factorized_top_k/top_10_categorical_accuracy: 0.4841 - factorized_top_k/top_50_categorical_accuracy: 1.0000 - factorized_top_k/top_100_categorical_accuracy: 1.0000 - loss: 1347.5984 - regularization_loss: 0.0000e+00 - total_loss: 1347.5984\n",
            "Retrieval top-100 accuracy: 1.000.\n",
            "Ranking RMSE: 0.506.\n"
          ]
        }
      ]
    },
    {
      "cell_type": "code",
      "source": [
        "model.evaluate(cached_test, return_dict=True)"
      ],
      "metadata": {
        "id": "PBjDkzcUjX4E",
        "outputId": "8617caf0-eb3b-451f-a296-9383ec729a70",
        "colab": {
          "base_uri": "https://localhost:8080/"
        }
      },
      "execution_count": 16,
      "outputs": [
        {
          "output_type": "stream",
          "name": "stdout",
          "text": [
            "22/22 [==============================] - 2s 73ms/step - root_mean_squared_error: 0.5062 - factorized_top_k/top_1_categorical_accuracy: 0.3494 - factorized_top_k/top_5_categorical_accuracy: 0.4697 - factorized_top_k/top_10_categorical_accuracy: 0.4841 - factorized_top_k/top_50_categorical_accuracy: 1.0000 - factorized_top_k/top_100_categorical_accuracy: 1.0000 - loss: 1347.5984 - regularization_loss: 0.0000e+00 - total_loss: 1347.5984\n"
          ]
        },
        {
          "output_type": "execute_result",
          "data": {
            "text/plain": [
              "{'factorized_top_k/top_100_categorical_accuracy': 1.0,\n",
              " 'factorized_top_k/top_10_categorical_accuracy': 0.48407062888145447,\n",
              " 'factorized_top_k/top_1_categorical_accuracy': 0.34935373067855835,\n",
              " 'factorized_top_k/top_50_categorical_accuracy': 1.0,\n",
              " 'factorized_top_k/top_5_categorical_accuracy': 0.46968868374824524,\n",
              " 'loss': 559.3197631835938,\n",
              " 'regularization_loss': 0,\n",
              " 'root_mean_squared_error': 0.5062288641929626,\n",
              " 'total_loss': 559.3197631835938}"
            ]
          },
          "metadata": {},
          "execution_count": 16
        }
      ]
    },
    {
      "cell_type": "code",
      "source": [
        "index = tfrs.layers.factorized_top_k.BruteForce(model.user_model)\n",
        "# recommends movies out of the entire movies dataset.\n",
        "index.index_from_dataset(\n",
        "  tf.data.Dataset.zip((locations.batch(100), locations.batch(100).map(model.location_model)))\n",
        ")\n",
        "# Get recommendations.\n",
        "user_id = \"183\"\n",
        "_, titles = index(tf.constant([user_id]))\n",
        "print(f\"Recommendations for Dimas : {titles[0, :7]}\")"
      ],
      "metadata": {
        "colab": {
          "base_uri": "https://localhost:8080/"
        },
        "id": "9ik9IDPRr8dX",
        "outputId": "40757061-4e04-4db2-a6e5-18b6640875d3"
      },
      "execution_count": 17,
      "outputs": [
        {
          "output_type": "stream",
          "name": "stdout",
          "text": [
            "Recommendations for Dimas : [b'ASIA TIMUR' b'JAKARTA' b'BHUTAN' b'BANGKA BELITUNG' b'MALIOBORO'\n",
            " b'MALIOBORO' b'GUNUNG BROMO']\n"
          ]
        }
      ]
    },
    {
      "cell_type": "markdown",
      "source": [
        "### Joint model\n",
        "\n",
        "Let's now train a model that assigns positive weights to both tasks."
      ],
      "metadata": {
        "id": "mzsVCjY-ZQy7"
      }
    },
    {
      "cell_type": "code",
      "source": [
        "model = MovielensModel(rating_weight=1.0, retrieval_weight=1.0)\n",
        "model.compile(optimizer=tf.keras.optimizers.Adagrad(0.1))"
      ],
      "metadata": {
        "id": "ss0ZFo-0ZRK-"
      },
      "execution_count": null,
      "outputs": []
    },
    {
      "cell_type": "code",
      "source": [
        "model.fit(cached_train, epochs=3)\n",
        "metrics = model.evaluate(cached_test, return_dict=True)\n",
        "\n",
        "print(f\"Retrieval top-100 accuracy: {metrics['factorized_top_k/top_100_categorical_accuracy']:.3f}.\")\n",
        "print(f\"Ranking RMSE: {metrics['root_mean_squared_error']:.3f}.\")"
      ],
      "metadata": {
        "colab": {
          "base_uri": "https://localhost:8080/"
        },
        "id": "4bCxEhoFZT8o",
        "outputId": "618ac0c8-7807-4167-abf6-678bfba8a5ae"
      },
      "execution_count": null,
      "outputs": [
        {
          "output_type": "stream",
          "name": "stdout",
          "text": [
            "Epoch 1/3\n",
            "43/43 [==============================] - 4s 69ms/step - root_mean_squared_error: 0.4551 - factorized_top_k/top_1_categorical_accuracy: 0.0099 - factorized_top_k/top_5_categorical_accuracy: 0.0650 - factorized_top_k/top_10_categorical_accuracy: 0.1283 - factorized_top_k/top_50_categorical_accuracy: 0.5032 - factorized_top_k/top_100_categorical_accuracy: 0.8166 - loss: 3176.1545 - regularization_loss: 0.0000e+00 - total_loss: 3176.1545\n",
            "Epoch 2/3\n",
            "43/43 [==============================] - 3s 71ms/step - root_mean_squared_error: 0.4460 - factorized_top_k/top_1_categorical_accuracy: 0.0100 - factorized_top_k/top_5_categorical_accuracy: 0.0776 - factorized_top_k/top_10_categorical_accuracy: 0.2163 - factorized_top_k/top_50_categorical_accuracy: 0.6746 - factorized_top_k/top_100_categorical_accuracy: 0.9475 - loss: 3176.1255 - regularization_loss: 0.0000e+00 - total_loss: 3176.1255\n",
            "Epoch 3/3\n",
            "43/43 [==============================] - 3s 69ms/step - root_mean_squared_error: 0.4460 - factorized_top_k/top_1_categorical_accuracy: 0.1427 - factorized_top_k/top_5_categorical_accuracy: 0.2344 - factorized_top_k/top_10_categorical_accuracy: 0.4920 - factorized_top_k/top_50_categorical_accuracy: 0.8597 - factorized_top_k/top_100_categorical_accuracy: 0.9830 - loss: 3175.7151 - regularization_loss: 0.0000e+00 - total_loss: 3175.7151\n",
            "22/22 [==============================] - 2s 61ms/step - root_mean_squared_error: 0.4467 - factorized_top_k/top_1_categorical_accuracy: 0.1503 - factorized_top_k/top_5_categorical_accuracy: 0.2337 - factorized_top_k/top_10_categorical_accuracy: 0.2616 - factorized_top_k/top_50_categorical_accuracy: 0.8386 - factorized_top_k/top_100_categorical_accuracy: 0.9650 - loss: 1344.1808 - regularization_loss: 0.0000e+00 - total_loss: 1344.1808\n",
            "Retrieval top-100 accuracy: 0.965.\n",
            "Ranking RMSE: 0.447.\n"
          ]
        }
      ]
    },
    {
      "cell_type": "markdown",
      "source": [
        "## INTERFACE FOR NEW USER"
      ],
      "metadata": {
        "id": "cDnTAKradwOP"
      }
    },
    {
      "cell_type": "code",
      "source": [
        "worksheetCat = gc.open('capstone_dataset').worksheet('category')\n",
        "rows = worksheetCat.get_all_values()\n",
        "dfCategories = pd.DataFrame.from_records(rows[1:], columns=rows[0])\n",
        "list_categories = [i for i in dfCategories['category'] if i != '']\n",
        "worksheetUserFeat = gc.open('capstone_dataset').worksheet('userFeatures(coldstartsol)')\n",
        "rows = worksheetUserFeat.get_all_values()\n",
        "dfUserFeat = pd.DataFrame.from_records(rows[1:], columns=rows[0])"
      ],
      "metadata": {
        "id": "jNQ7bLGed0Z7"
      },
      "execution_count": null,
      "outputs": []
    },
    {
      "cell_type": "code",
      "source": [
        "last_user_id = dfUserFeat['user_id'].to_list()\n",
        "last_user_id = int(last_user_id[-1]) + 1 \n",
        "\n",
        "def input_user_data():\n",
        "  user_data = {}\n",
        "  # input_name = input(\"Nama: \")\n",
        "  user_data['user_id'] = str(last_user_id)\n",
        "  last_user_ids = last_user_id + 1\n",
        "  user_categories = list()\n",
        "  for i in list_categories:\n",
        "    input_category = int(input(\"{} ? (1: yes, 0: no) : \".format(i)))\n",
        "    if input_category == 1:\n",
        "      user_categories.append(i)\n",
        "  user_data[\"categories\"] = user_categories\n",
        "  return user_data, last_user_ids\n",
        "user_data, last_user_id = input_user_data()"
      ],
      "metadata": {
        "id": "rTmPsti6mnNe"
      },
      "execution_count": null,
      "outputs": []
    },
    {
      "cell_type": "code",
      "source": [
        "def encode_dummy_category(location):\n",
        "  if location == \"beach\":\n",
        "    return 121\n",
        "  if location == \"mountain\":\n",
        "    return 123\n",
        "  if location == \"lake\":\n",
        "    return 124\n",
        "  if location == \"zoo\":\n",
        "    return 125\n",
        "  if location == \"river\":\n",
        "    return 126\n",
        "  if location == \"conservation\":\n",
        "    return 127\n",
        "  if location == \"waterpark\":\n",
        "    return 128\n",
        "  if location == \"waterfall\":\n",
        "    return 129\n",
        "  if location == \"artGallery\":\n",
        "    return 130\n",
        "  if location == \"amusementPark\":\n",
        "    return 131\n",
        "  if location == \"mall\":\n",
        "    return 132\n",
        "  if location == \"HistoricalPlace\":\n",
        "    return 133\n",
        "  if location == \"religious\":\n",
        "    return 134\n",
        "  if location == \"outbond\":\n",
        "    return 135\n",
        "  if location == \"culinary\":\n",
        "    return 136\n",
        "  if location == \"photoHunting\":\n",
        "    return 137\n",
        "  if location == \"sightSeeing\":\n",
        "    return 138\n",
        "  if location == \"shopping\":\n",
        "    return 139"
      ],
      "metadata": {
        "id": "gSkVFHcWtpg-"
      },
      "execution_count": null,
      "outputs": []
    },
    {
      "cell_type": "code",
      "source": [
        "def create_data_frame(user_data, dfUserFeatcold):\n",
        "  user_id = [user_data['user_id'] for i in list_categories]\n",
        "  like = ['0' for i in list_categories]\n",
        "  categories = list_categories\n",
        "  location = categories\n",
        "  location_id = [encode_dummy_category(i) for i in list_categories]\n",
        "  add = list()\n",
        "  for i in list_categories:\n",
        "    if i in user_data['categories']:\n",
        "      add.append(\"1\")\n",
        "    else:\n",
        "      add.append(\"0\")\n",
        "  data = {'user_id' : user_id, 'like' : like, \"add\" : add, \"category\" : categories, \"location\" : location, \"location_id\" : location_id}\n",
        "  df = pd.DataFrame(data)\n",
        "  df_concat = pd.concat([dfUserFeatcold,df], ignore_index= True)\n",
        "  return df, df_concat   \n"
      ],
      "metadata": {
        "id": "EYFj9hd4qiyZ"
      },
      "execution_count": null,
      "outputs": []
    },
    {
      "cell_type": "code",
      "source": [
        "df, df_concat = create_data_frame(user_data, dfUserFeat)\n",
        "worksheetUser = gc.open('capstone_dataset').worksheet('userFeatures')\n",
        "set_with_dataframe(worksheetUser, df_concat)"
      ],
      "metadata": {
        "id": "tfJda93yuN0S"
      },
      "execution_count": null,
      "outputs": []
    }
  ]
}