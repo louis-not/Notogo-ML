{
  "nbformat": 4,
  "nbformat_minor": 0,
  "metadata": {
    "colab": {
      "name": "Retrieval Model Ver 2 (Multitask recommender).ipynb",
      "provenance": [],
      "collapsed_sections": [
        "vfabl-zJjVaw",
        "g4bwyBnikR0s",
        "VpzmeDIltZuh",
        "1NxltrVLVPR_",
        "PPdD4CGJY76t"
      ]
    },
    "kernelspec": {
      "name": "python3",
      "display_name": "Python 3"
    },
    "language_info": {
      "name": "python"
    },
    "widgets": {
      "application/vnd.jupyter.widget-state+json": {
        "b76fc9c42d8544d097cb7938b37c9f8d": {
          "model_module": "@jupyter-widgets/controls",
          "model_name": "HBoxModel",
          "model_module_version": "1.5.0",
          "state": {
            "_dom_classes": [],
            "_model_module": "@jupyter-widgets/controls",
            "_model_module_version": "1.5.0",
            "_model_name": "HBoxModel",
            "_view_count": null,
            "_view_module": "@jupyter-widgets/controls",
            "_view_module_version": "1.5.0",
            "_view_name": "HBoxView",
            "box_style": "",
            "children": [
              "IPY_MODEL_42267429a2f24b7fa34e5b63e5988c54",
              "IPY_MODEL_e954cf01bc014c9aa871b3262b50e1d8",
              "IPY_MODEL_fbf0e3c2a73c4633bc3028682b0a0100"
            ],
            "layout": "IPY_MODEL_b88b2dfea6ce422f9e164e80f38239f3"
          }
        },
        "42267429a2f24b7fa34e5b63e5988c54": {
          "model_module": "@jupyter-widgets/controls",
          "model_name": "HTMLModel",
          "model_module_version": "1.5.0",
          "state": {
            "_dom_classes": [],
            "_model_module": "@jupyter-widgets/controls",
            "_model_module_version": "1.5.0",
            "_model_name": "HTMLModel",
            "_view_count": null,
            "_view_module": "@jupyter-widgets/controls",
            "_view_module_version": "1.5.0",
            "_view_name": "HTMLView",
            "description": "",
            "description_tooltip": null,
            "layout": "IPY_MODEL_c3bac4e6c2ce4cfc8aa298f736a341e2",
            "placeholder": "​",
            "style": "IPY_MODEL_076a63eecbcc40b281661adabe97f72a",
            "value": "Generating splits...: 100%"
          }
        },
        "e954cf01bc014c9aa871b3262b50e1d8": {
          "model_module": "@jupyter-widgets/controls",
          "model_name": "FloatProgressModel",
          "model_module_version": "1.5.0",
          "state": {
            "_dom_classes": [],
            "_model_module": "@jupyter-widgets/controls",
            "_model_module_version": "1.5.0",
            "_model_name": "FloatProgressModel",
            "_view_count": null,
            "_view_module": "@jupyter-widgets/controls",
            "_view_module_version": "1.5.0",
            "_view_name": "ProgressView",
            "bar_style": "",
            "description": "",
            "description_tooltip": null,
            "layout": "IPY_MODEL_9c85b275d90a4688a5356b68d05fcb8b",
            "max": 1,
            "min": 0,
            "orientation": "horizontal",
            "style": "IPY_MODEL_018bf4bbba6245a99db14e3a93a00536",
            "value": 1
          }
        },
        "fbf0e3c2a73c4633bc3028682b0a0100": {
          "model_module": "@jupyter-widgets/controls",
          "model_name": "HTMLModel",
          "model_module_version": "1.5.0",
          "state": {
            "_dom_classes": [],
            "_model_module": "@jupyter-widgets/controls",
            "_model_module_version": "1.5.0",
            "_model_name": "HTMLModel",
            "_view_count": null,
            "_view_module": "@jupyter-widgets/controls",
            "_view_module_version": "1.5.0",
            "_view_name": "HTMLView",
            "description": "",
            "description_tooltip": null,
            "layout": "IPY_MODEL_25a4d57f54374a6b923c58c8d6b96bf1",
            "placeholder": "​",
            "style": "IPY_MODEL_a7a4557f9a274c03b3679a8b65ed4eb7",
            "value": " 1/1 [00:05&lt;00:00,  5.33s/ splits]"
          }
        },
        "b88b2dfea6ce422f9e164e80f38239f3": {
          "model_module": "@jupyter-widgets/base",
          "model_name": "LayoutModel",
          "model_module_version": "1.2.0",
          "state": {
            "_model_module": "@jupyter-widgets/base",
            "_model_module_version": "1.2.0",
            "_model_name": "LayoutModel",
            "_view_count": null,
            "_view_module": "@jupyter-widgets/base",
            "_view_module_version": "1.2.0",
            "_view_name": "LayoutView",
            "align_content": null,
            "align_items": null,
            "align_self": null,
            "border": null,
            "bottom": null,
            "display": null,
            "flex": null,
            "flex_flow": null,
            "grid_area": null,
            "grid_auto_columns": null,
            "grid_auto_flow": null,
            "grid_auto_rows": null,
            "grid_column": null,
            "grid_gap": null,
            "grid_row": null,
            "grid_template_areas": null,
            "grid_template_columns": null,
            "grid_template_rows": null,
            "height": null,
            "justify_content": null,
            "justify_items": null,
            "left": null,
            "margin": null,
            "max_height": null,
            "max_width": null,
            "min_height": null,
            "min_width": null,
            "object_fit": null,
            "object_position": null,
            "order": null,
            "overflow": null,
            "overflow_x": null,
            "overflow_y": null,
            "padding": null,
            "right": null,
            "top": null,
            "visibility": null,
            "width": null
          }
        },
        "c3bac4e6c2ce4cfc8aa298f736a341e2": {
          "model_module": "@jupyter-widgets/base",
          "model_name": "LayoutModel",
          "model_module_version": "1.2.0",
          "state": {
            "_model_module": "@jupyter-widgets/base",
            "_model_module_version": "1.2.0",
            "_model_name": "LayoutModel",
            "_view_count": null,
            "_view_module": "@jupyter-widgets/base",
            "_view_module_version": "1.2.0",
            "_view_name": "LayoutView",
            "align_content": null,
            "align_items": null,
            "align_self": null,
            "border": null,
            "bottom": null,
            "display": null,
            "flex": null,
            "flex_flow": null,
            "grid_area": null,
            "grid_auto_columns": null,
            "grid_auto_flow": null,
            "grid_auto_rows": null,
            "grid_column": null,
            "grid_gap": null,
            "grid_row": null,
            "grid_template_areas": null,
            "grid_template_columns": null,
            "grid_template_rows": null,
            "height": null,
            "justify_content": null,
            "justify_items": null,
            "left": null,
            "margin": null,
            "max_height": null,
            "max_width": null,
            "min_height": null,
            "min_width": null,
            "object_fit": null,
            "object_position": null,
            "order": null,
            "overflow": null,
            "overflow_x": null,
            "overflow_y": null,
            "padding": null,
            "right": null,
            "top": null,
            "visibility": null,
            "width": null
          }
        },
        "076a63eecbcc40b281661adabe97f72a": {
          "model_module": "@jupyter-widgets/controls",
          "model_name": "DescriptionStyleModel",
          "model_module_version": "1.5.0",
          "state": {
            "_model_module": "@jupyter-widgets/controls",
            "_model_module_version": "1.5.0",
            "_model_name": "DescriptionStyleModel",
            "_view_count": null,
            "_view_module": "@jupyter-widgets/base",
            "_view_module_version": "1.2.0",
            "_view_name": "StyleView",
            "description_width": ""
          }
        },
        "9c85b275d90a4688a5356b68d05fcb8b": {
          "model_module": "@jupyter-widgets/base",
          "model_name": "LayoutModel",
          "model_module_version": "1.2.0",
          "state": {
            "_model_module": "@jupyter-widgets/base",
            "_model_module_version": "1.2.0",
            "_model_name": "LayoutModel",
            "_view_count": null,
            "_view_module": "@jupyter-widgets/base",
            "_view_module_version": "1.2.0",
            "_view_name": "LayoutView",
            "align_content": null,
            "align_items": null,
            "align_self": null,
            "border": null,
            "bottom": null,
            "display": null,
            "flex": null,
            "flex_flow": null,
            "grid_area": null,
            "grid_auto_columns": null,
            "grid_auto_flow": null,
            "grid_auto_rows": null,
            "grid_column": null,
            "grid_gap": null,
            "grid_row": null,
            "grid_template_areas": null,
            "grid_template_columns": null,
            "grid_template_rows": null,
            "height": null,
            "justify_content": null,
            "justify_items": null,
            "left": null,
            "margin": null,
            "max_height": null,
            "max_width": null,
            "min_height": null,
            "min_width": null,
            "object_fit": null,
            "object_position": null,
            "order": null,
            "overflow": null,
            "overflow_x": null,
            "overflow_y": null,
            "padding": null,
            "right": null,
            "top": null,
            "visibility": null,
            "width": null
          }
        },
        "018bf4bbba6245a99db14e3a93a00536": {
          "model_module": "@jupyter-widgets/controls",
          "model_name": "ProgressStyleModel",
          "model_module_version": "1.5.0",
          "state": {
            "_model_module": "@jupyter-widgets/controls",
            "_model_module_version": "1.5.0",
            "_model_name": "ProgressStyleModel",
            "_view_count": null,
            "_view_module": "@jupyter-widgets/base",
            "_view_module_version": "1.2.0",
            "_view_name": "StyleView",
            "bar_color": null,
            "description_width": ""
          }
        },
        "25a4d57f54374a6b923c58c8d6b96bf1": {
          "model_module": "@jupyter-widgets/base",
          "model_name": "LayoutModel",
          "model_module_version": "1.2.0",
          "state": {
            "_model_module": "@jupyter-widgets/base",
            "_model_module_version": "1.2.0",
            "_model_name": "LayoutModel",
            "_view_count": null,
            "_view_module": "@jupyter-widgets/base",
            "_view_module_version": "1.2.0",
            "_view_name": "LayoutView",
            "align_content": null,
            "align_items": null,
            "align_self": null,
            "border": null,
            "bottom": null,
            "display": null,
            "flex": null,
            "flex_flow": null,
            "grid_area": null,
            "grid_auto_columns": null,
            "grid_auto_flow": null,
            "grid_auto_rows": null,
            "grid_column": null,
            "grid_gap": null,
            "grid_row": null,
            "grid_template_areas": null,
            "grid_template_columns": null,
            "grid_template_rows": null,
            "height": null,
            "justify_content": null,
            "justify_items": null,
            "left": null,
            "margin": null,
            "max_height": null,
            "max_width": null,
            "min_height": null,
            "min_width": null,
            "object_fit": null,
            "object_position": null,
            "order": null,
            "overflow": null,
            "overflow_x": null,
            "overflow_y": null,
            "padding": null,
            "right": null,
            "top": null,
            "visibility": null,
            "width": null
          }
        },
        "a7a4557f9a274c03b3679a8b65ed4eb7": {
          "model_module": "@jupyter-widgets/controls",
          "model_name": "DescriptionStyleModel",
          "model_module_version": "1.5.0",
          "state": {
            "_model_module": "@jupyter-widgets/controls",
            "_model_module_version": "1.5.0",
            "_model_name": "DescriptionStyleModel",
            "_view_count": null,
            "_view_module": "@jupyter-widgets/base",
            "_view_module_version": "1.2.0",
            "_view_name": "StyleView",
            "description_width": ""
          }
        },
        "c0ab8531e6c1489b8173cf4117205637": {
          "model_module": "@jupyter-widgets/controls",
          "model_name": "HBoxModel",
          "model_module_version": "1.5.0",
          "state": {
            "_dom_classes": [],
            "_model_module": "@jupyter-widgets/controls",
            "_model_module_version": "1.5.0",
            "_model_name": "HBoxModel",
            "_view_count": null,
            "_view_module": "@jupyter-widgets/controls",
            "_view_module_version": "1.5.0",
            "_view_name": "HBoxView",
            "box_style": "",
            "children": [
              "IPY_MODEL_8946c84d0e804df6b25238b0f173af1b",
              "IPY_MODEL_ad7173726ff545269a80abe98cb32a99",
              "IPY_MODEL_884a2197666041b98ce6c37baa477871"
            ],
            "layout": "IPY_MODEL_c0ec15a252f04c5e839e8c28fbdcce13"
          }
        },
        "8946c84d0e804df6b25238b0f173af1b": {
          "model_module": "@jupyter-widgets/controls",
          "model_name": "HTMLModel",
          "model_module_version": "1.5.0",
          "state": {
            "_dom_classes": [],
            "_model_module": "@jupyter-widgets/controls",
            "_model_module_version": "1.5.0",
            "_model_name": "HTMLModel",
            "_view_count": null,
            "_view_module": "@jupyter-widgets/controls",
            "_view_module_version": "1.5.0",
            "_view_name": "HTMLView",
            "description": "",
            "description_tooltip": null,
            "layout": "IPY_MODEL_b0f33b2f4f5344eebef6e6e4ece8b820",
            "placeholder": "​",
            "style": "IPY_MODEL_9e08f0ee75f04bc2aab9e779ab8ee56a",
            "value": "Generating train examples...: "
          }
        },
        "ad7173726ff545269a80abe98cb32a99": {
          "model_module": "@jupyter-widgets/controls",
          "model_name": "FloatProgressModel",
          "model_module_version": "1.5.0",
          "state": {
            "_dom_classes": [],
            "_model_module": "@jupyter-widgets/controls",
            "_model_module_version": "1.5.0",
            "_model_name": "FloatProgressModel",
            "_view_count": null,
            "_view_module": "@jupyter-widgets/controls",
            "_view_module_version": "1.5.0",
            "_view_name": "ProgressView",
            "bar_style": "info",
            "description": "",
            "description_tooltip": null,
            "layout": "IPY_MODEL_a86ae8aa0628495d962b44405069f7c5",
            "max": 1,
            "min": 0,
            "orientation": "horizontal",
            "style": "IPY_MODEL_76c336824dbf4aaa8684d58df0e9b1ef",
            "value": 1
          }
        },
        "884a2197666041b98ce6c37baa477871": {
          "model_module": "@jupyter-widgets/controls",
          "model_name": "HTMLModel",
          "model_module_version": "1.5.0",
          "state": {
            "_dom_classes": [],
            "_model_module": "@jupyter-widgets/controls",
            "_model_module_version": "1.5.0",
            "_model_name": "HTMLModel",
            "_view_count": null,
            "_view_module": "@jupyter-widgets/controls",
            "_view_module_version": "1.5.0",
            "_view_name": "HTMLView",
            "description": "",
            "description_tooltip": null,
            "layout": "IPY_MODEL_ffe1aea0da9e4ae8ad3891a542eeff2d",
            "placeholder": "​",
            "style": "IPY_MODEL_3b21047f15204b33aa8b1b80233467be",
            "value": " 27127/? [00:05&lt;00:00, 5603.87 examples/s]"
          }
        },
        "c0ec15a252f04c5e839e8c28fbdcce13": {
          "model_module": "@jupyter-widgets/base",
          "model_name": "LayoutModel",
          "model_module_version": "1.2.0",
          "state": {
            "_model_module": "@jupyter-widgets/base",
            "_model_module_version": "1.2.0",
            "_model_name": "LayoutModel",
            "_view_count": null,
            "_view_module": "@jupyter-widgets/base",
            "_view_module_version": "1.2.0",
            "_view_name": "LayoutView",
            "align_content": null,
            "align_items": null,
            "align_self": null,
            "border": null,
            "bottom": null,
            "display": null,
            "flex": null,
            "flex_flow": null,
            "grid_area": null,
            "grid_auto_columns": null,
            "grid_auto_flow": null,
            "grid_auto_rows": null,
            "grid_column": null,
            "grid_gap": null,
            "grid_row": null,
            "grid_template_areas": null,
            "grid_template_columns": null,
            "grid_template_rows": null,
            "height": null,
            "justify_content": null,
            "justify_items": null,
            "left": null,
            "margin": null,
            "max_height": null,
            "max_width": null,
            "min_height": null,
            "min_width": null,
            "object_fit": null,
            "object_position": null,
            "order": null,
            "overflow": null,
            "overflow_x": null,
            "overflow_y": null,
            "padding": null,
            "right": null,
            "top": null,
            "visibility": null,
            "width": null
          }
        },
        "b0f33b2f4f5344eebef6e6e4ece8b820": {
          "model_module": "@jupyter-widgets/base",
          "model_name": "LayoutModel",
          "model_module_version": "1.2.0",
          "state": {
            "_model_module": "@jupyter-widgets/base",
            "_model_module_version": "1.2.0",
            "_model_name": "LayoutModel",
            "_view_count": null,
            "_view_module": "@jupyter-widgets/base",
            "_view_module_version": "1.2.0",
            "_view_name": "LayoutView",
            "align_content": null,
            "align_items": null,
            "align_self": null,
            "border": null,
            "bottom": null,
            "display": null,
            "flex": null,
            "flex_flow": null,
            "grid_area": null,
            "grid_auto_columns": null,
            "grid_auto_flow": null,
            "grid_auto_rows": null,
            "grid_column": null,
            "grid_gap": null,
            "grid_row": null,
            "grid_template_areas": null,
            "grid_template_columns": null,
            "grid_template_rows": null,
            "height": null,
            "justify_content": null,
            "justify_items": null,
            "left": null,
            "margin": null,
            "max_height": null,
            "max_width": null,
            "min_height": null,
            "min_width": null,
            "object_fit": null,
            "object_position": null,
            "order": null,
            "overflow": null,
            "overflow_x": null,
            "overflow_y": null,
            "padding": null,
            "right": null,
            "top": null,
            "visibility": null,
            "width": null
          }
        },
        "9e08f0ee75f04bc2aab9e779ab8ee56a": {
          "model_module": "@jupyter-widgets/controls",
          "model_name": "DescriptionStyleModel",
          "model_module_version": "1.5.0",
          "state": {
            "_model_module": "@jupyter-widgets/controls",
            "_model_module_version": "1.5.0",
            "_model_name": "DescriptionStyleModel",
            "_view_count": null,
            "_view_module": "@jupyter-widgets/base",
            "_view_module_version": "1.2.0",
            "_view_name": "StyleView",
            "description_width": ""
          }
        },
        "a86ae8aa0628495d962b44405069f7c5": {
          "model_module": "@jupyter-widgets/base",
          "model_name": "LayoutModel",
          "model_module_version": "1.2.0",
          "state": {
            "_model_module": "@jupyter-widgets/base",
            "_model_module_version": "1.2.0",
            "_model_name": "LayoutModel",
            "_view_count": null,
            "_view_module": "@jupyter-widgets/base",
            "_view_module_version": "1.2.0",
            "_view_name": "LayoutView",
            "align_content": null,
            "align_items": null,
            "align_self": null,
            "border": null,
            "bottom": null,
            "display": null,
            "flex": null,
            "flex_flow": null,
            "grid_area": null,
            "grid_auto_columns": null,
            "grid_auto_flow": null,
            "grid_auto_rows": null,
            "grid_column": null,
            "grid_gap": null,
            "grid_row": null,
            "grid_template_areas": null,
            "grid_template_columns": null,
            "grid_template_rows": null,
            "height": null,
            "justify_content": null,
            "justify_items": null,
            "left": null,
            "margin": null,
            "max_height": null,
            "max_width": null,
            "min_height": null,
            "min_width": null,
            "object_fit": null,
            "object_position": null,
            "order": null,
            "overflow": null,
            "overflow_x": null,
            "overflow_y": null,
            "padding": null,
            "right": null,
            "top": null,
            "visibility": null,
            "width": "20px"
          }
        },
        "76c336824dbf4aaa8684d58df0e9b1ef": {
          "model_module": "@jupyter-widgets/controls",
          "model_name": "ProgressStyleModel",
          "model_module_version": "1.5.0",
          "state": {
            "_model_module": "@jupyter-widgets/controls",
            "_model_module_version": "1.5.0",
            "_model_name": "ProgressStyleModel",
            "_view_count": null,
            "_view_module": "@jupyter-widgets/base",
            "_view_module_version": "1.2.0",
            "_view_name": "StyleView",
            "bar_color": null,
            "description_width": ""
          }
        },
        "ffe1aea0da9e4ae8ad3891a542eeff2d": {
          "model_module": "@jupyter-widgets/base",
          "model_name": "LayoutModel",
          "model_module_version": "1.2.0",
          "state": {
            "_model_module": "@jupyter-widgets/base",
            "_model_module_version": "1.2.0",
            "_model_name": "LayoutModel",
            "_view_count": null,
            "_view_module": "@jupyter-widgets/base",
            "_view_module_version": "1.2.0",
            "_view_name": "LayoutView",
            "align_content": null,
            "align_items": null,
            "align_self": null,
            "border": null,
            "bottom": null,
            "display": null,
            "flex": null,
            "flex_flow": null,
            "grid_area": null,
            "grid_auto_columns": null,
            "grid_auto_flow": null,
            "grid_auto_rows": null,
            "grid_column": null,
            "grid_gap": null,
            "grid_row": null,
            "grid_template_areas": null,
            "grid_template_columns": null,
            "grid_template_rows": null,
            "height": null,
            "justify_content": null,
            "justify_items": null,
            "left": null,
            "margin": null,
            "max_height": null,
            "max_width": null,
            "min_height": null,
            "min_width": null,
            "object_fit": null,
            "object_position": null,
            "order": null,
            "overflow": null,
            "overflow_x": null,
            "overflow_y": null,
            "padding": null,
            "right": null,
            "top": null,
            "visibility": null,
            "width": null
          }
        },
        "3b21047f15204b33aa8b1b80233467be": {
          "model_module": "@jupyter-widgets/controls",
          "model_name": "DescriptionStyleModel",
          "model_module_version": "1.5.0",
          "state": {
            "_model_module": "@jupyter-widgets/controls",
            "_model_module_version": "1.5.0",
            "_model_name": "DescriptionStyleModel",
            "_view_count": null,
            "_view_module": "@jupyter-widgets/base",
            "_view_module_version": "1.2.0",
            "_view_name": "StyleView",
            "description_width": ""
          }
        },
        "38afd58d7ae044cbbea5af9b73e042dd": {
          "model_module": "@jupyter-widgets/controls",
          "model_name": "HBoxModel",
          "model_module_version": "1.5.0",
          "state": {
            "_dom_classes": [],
            "_model_module": "@jupyter-widgets/controls",
            "_model_module_version": "1.5.0",
            "_model_name": "HBoxModel",
            "_view_count": null,
            "_view_module": "@jupyter-widgets/controls",
            "_view_module_version": "1.5.0",
            "_view_name": "HBoxView",
            "box_style": "",
            "children": [
              "IPY_MODEL_d253e506e0d045d1962b29dc7a97f324",
              "IPY_MODEL_d274fd6aefcd48398e1ad0d1189daaef",
              "IPY_MODEL_81cb74a455054928bdeedfaeea2d27b8"
            ],
            "layout": "IPY_MODEL_26862e0b624543e8a38bf9327e4443e3"
          }
        },
        "d253e506e0d045d1962b29dc7a97f324": {
          "model_module": "@jupyter-widgets/controls",
          "model_name": "HTMLModel",
          "model_module_version": "1.5.0",
          "state": {
            "_dom_classes": [],
            "_model_module": "@jupyter-widgets/controls",
            "_model_module_version": "1.5.0",
            "_model_name": "HTMLModel",
            "_view_count": null,
            "_view_module": "@jupyter-widgets/controls",
            "_view_module_version": "1.5.0",
            "_view_name": "HTMLView",
            "description": "",
            "description_tooltip": null,
            "layout": "IPY_MODEL_d346fb23af2b456a80f38c066cdc7d27",
            "placeholder": "​",
            "style": "IPY_MODEL_eca484aec3c24d94a9795db019d098b9",
            "value": "Shuffling /root/tensorflow_datasets/userfeatures/1.0.0.incompleteL6LTU4/userfeatures-train.tfrecord*...:  37%"
          }
        },
        "d274fd6aefcd48398e1ad0d1189daaef": {
          "model_module": "@jupyter-widgets/controls",
          "model_name": "FloatProgressModel",
          "model_module_version": "1.5.0",
          "state": {
            "_dom_classes": [],
            "_model_module": "@jupyter-widgets/controls",
            "_model_module_version": "1.5.0",
            "_model_name": "FloatProgressModel",
            "_view_count": null,
            "_view_module": "@jupyter-widgets/controls",
            "_view_module_version": "1.5.0",
            "_view_name": "ProgressView",
            "bar_style": "",
            "description": "",
            "description_tooltip": null,
            "layout": "IPY_MODEL_e84f3217c35647ceb563c9ff2e0989f3",
            "max": 27468,
            "min": 0,
            "orientation": "horizontal",
            "style": "IPY_MODEL_6b1b4cc6e298451782917428310a3990",
            "value": 27468
          }
        },
        "81cb74a455054928bdeedfaeea2d27b8": {
          "model_module": "@jupyter-widgets/controls",
          "model_name": "HTMLModel",
          "model_module_version": "1.5.0",
          "state": {
            "_dom_classes": [],
            "_model_module": "@jupyter-widgets/controls",
            "_model_module_version": "1.5.0",
            "_model_name": "HTMLModel",
            "_view_count": null,
            "_view_module": "@jupyter-widgets/controls",
            "_view_module_version": "1.5.0",
            "_view_name": "HTMLView",
            "description": "",
            "description_tooltip": null,
            "layout": "IPY_MODEL_b56551b7391545aa8e051a2e2a4234be",
            "placeholder": "​",
            "style": "IPY_MODEL_08ed86941f5d48ba88a4181f669f3b89",
            "value": " 10276/27468 [00:00&lt;00:00, 102747.11 examples/s]"
          }
        },
        "26862e0b624543e8a38bf9327e4443e3": {
          "model_module": "@jupyter-widgets/base",
          "model_name": "LayoutModel",
          "model_module_version": "1.2.0",
          "state": {
            "_model_module": "@jupyter-widgets/base",
            "_model_module_version": "1.2.0",
            "_model_name": "LayoutModel",
            "_view_count": null,
            "_view_module": "@jupyter-widgets/base",
            "_view_module_version": "1.2.0",
            "_view_name": "LayoutView",
            "align_content": null,
            "align_items": null,
            "align_self": null,
            "border": null,
            "bottom": null,
            "display": null,
            "flex": null,
            "flex_flow": null,
            "grid_area": null,
            "grid_auto_columns": null,
            "grid_auto_flow": null,
            "grid_auto_rows": null,
            "grid_column": null,
            "grid_gap": null,
            "grid_row": null,
            "grid_template_areas": null,
            "grid_template_columns": null,
            "grid_template_rows": null,
            "height": null,
            "justify_content": null,
            "justify_items": null,
            "left": null,
            "margin": null,
            "max_height": null,
            "max_width": null,
            "min_height": null,
            "min_width": null,
            "object_fit": null,
            "object_position": null,
            "order": null,
            "overflow": null,
            "overflow_x": null,
            "overflow_y": null,
            "padding": null,
            "right": null,
            "top": null,
            "visibility": null,
            "width": null
          }
        },
        "d346fb23af2b456a80f38c066cdc7d27": {
          "model_module": "@jupyter-widgets/base",
          "model_name": "LayoutModel",
          "model_module_version": "1.2.0",
          "state": {
            "_model_module": "@jupyter-widgets/base",
            "_model_module_version": "1.2.0",
            "_model_name": "LayoutModel",
            "_view_count": null,
            "_view_module": "@jupyter-widgets/base",
            "_view_module_version": "1.2.0",
            "_view_name": "LayoutView",
            "align_content": null,
            "align_items": null,
            "align_self": null,
            "border": null,
            "bottom": null,
            "display": null,
            "flex": null,
            "flex_flow": null,
            "grid_area": null,
            "grid_auto_columns": null,
            "grid_auto_flow": null,
            "grid_auto_rows": null,
            "grid_column": null,
            "grid_gap": null,
            "grid_row": null,
            "grid_template_areas": null,
            "grid_template_columns": null,
            "grid_template_rows": null,
            "height": null,
            "justify_content": null,
            "justify_items": null,
            "left": null,
            "margin": null,
            "max_height": null,
            "max_width": null,
            "min_height": null,
            "min_width": null,
            "object_fit": null,
            "object_position": null,
            "order": null,
            "overflow": null,
            "overflow_x": null,
            "overflow_y": null,
            "padding": null,
            "right": null,
            "top": null,
            "visibility": null,
            "width": null
          }
        },
        "eca484aec3c24d94a9795db019d098b9": {
          "model_module": "@jupyter-widgets/controls",
          "model_name": "DescriptionStyleModel",
          "model_module_version": "1.5.0",
          "state": {
            "_model_module": "@jupyter-widgets/controls",
            "_model_module_version": "1.5.0",
            "_model_name": "DescriptionStyleModel",
            "_view_count": null,
            "_view_module": "@jupyter-widgets/base",
            "_view_module_version": "1.2.0",
            "_view_name": "StyleView",
            "description_width": ""
          }
        },
        "e84f3217c35647ceb563c9ff2e0989f3": {
          "model_module": "@jupyter-widgets/base",
          "model_name": "LayoutModel",
          "model_module_version": "1.2.0",
          "state": {
            "_model_module": "@jupyter-widgets/base",
            "_model_module_version": "1.2.0",
            "_model_name": "LayoutModel",
            "_view_count": null,
            "_view_module": "@jupyter-widgets/base",
            "_view_module_version": "1.2.0",
            "_view_name": "LayoutView",
            "align_content": null,
            "align_items": null,
            "align_self": null,
            "border": null,
            "bottom": null,
            "display": null,
            "flex": null,
            "flex_flow": null,
            "grid_area": null,
            "grid_auto_columns": null,
            "grid_auto_flow": null,
            "grid_auto_rows": null,
            "grid_column": null,
            "grid_gap": null,
            "grid_row": null,
            "grid_template_areas": null,
            "grid_template_columns": null,
            "grid_template_rows": null,
            "height": null,
            "justify_content": null,
            "justify_items": null,
            "left": null,
            "margin": null,
            "max_height": null,
            "max_width": null,
            "min_height": null,
            "min_width": null,
            "object_fit": null,
            "object_position": null,
            "order": null,
            "overflow": null,
            "overflow_x": null,
            "overflow_y": null,
            "padding": null,
            "right": null,
            "top": null,
            "visibility": null,
            "width": null
          }
        },
        "6b1b4cc6e298451782917428310a3990": {
          "model_module": "@jupyter-widgets/controls",
          "model_name": "ProgressStyleModel",
          "model_module_version": "1.5.0",
          "state": {
            "_model_module": "@jupyter-widgets/controls",
            "_model_module_version": "1.5.0",
            "_model_name": "ProgressStyleModel",
            "_view_count": null,
            "_view_module": "@jupyter-widgets/base",
            "_view_module_version": "1.2.0",
            "_view_name": "StyleView",
            "bar_color": null,
            "description_width": ""
          }
        },
        "b56551b7391545aa8e051a2e2a4234be": {
          "model_module": "@jupyter-widgets/base",
          "model_name": "LayoutModel",
          "model_module_version": "1.2.0",
          "state": {
            "_model_module": "@jupyter-widgets/base",
            "_model_module_version": "1.2.0",
            "_model_name": "LayoutModel",
            "_view_count": null,
            "_view_module": "@jupyter-widgets/base",
            "_view_module_version": "1.2.0",
            "_view_name": "LayoutView",
            "align_content": null,
            "align_items": null,
            "align_self": null,
            "border": null,
            "bottom": null,
            "display": null,
            "flex": null,
            "flex_flow": null,
            "grid_area": null,
            "grid_auto_columns": null,
            "grid_auto_flow": null,
            "grid_auto_rows": null,
            "grid_column": null,
            "grid_gap": null,
            "grid_row": null,
            "grid_template_areas": null,
            "grid_template_columns": null,
            "grid_template_rows": null,
            "height": null,
            "justify_content": null,
            "justify_items": null,
            "left": null,
            "margin": null,
            "max_height": null,
            "max_width": null,
            "min_height": null,
            "min_width": null,
            "object_fit": null,
            "object_position": null,
            "order": null,
            "overflow": null,
            "overflow_x": null,
            "overflow_y": null,
            "padding": null,
            "right": null,
            "top": null,
            "visibility": null,
            "width": null
          }
        },
        "08ed86941f5d48ba88a4181f669f3b89": {
          "model_module": "@jupyter-widgets/controls",
          "model_name": "DescriptionStyleModel",
          "model_module_version": "1.5.0",
          "state": {
            "_model_module": "@jupyter-widgets/controls",
            "_model_module_version": "1.5.0",
            "_model_name": "DescriptionStyleModel",
            "_view_count": null,
            "_view_module": "@jupyter-widgets/base",
            "_view_module_version": "1.2.0",
            "_view_name": "StyleView",
            "description_width": ""
          }
        },
        "cbd0760844dc42f194bb059acdd45aae": {
          "model_module": "@jupyter-widgets/controls",
          "model_name": "HBoxModel",
          "model_module_version": "1.5.0",
          "state": {
            "_dom_classes": [],
            "_model_module": "@jupyter-widgets/controls",
            "_model_module_version": "1.5.0",
            "_model_name": "HBoxModel",
            "_view_count": null,
            "_view_module": "@jupyter-widgets/controls",
            "_view_module_version": "1.5.0",
            "_view_name": "HBoxView",
            "box_style": "",
            "children": [
              "IPY_MODEL_fc3069d405864fa08aa804c19a9ae7a3",
              "IPY_MODEL_c953a468637340aa8a581b0eb882a0d9",
              "IPY_MODEL_ec0d5b82aaac429ea9ac48695a17de11"
            ],
            "layout": "IPY_MODEL_bca220d855bd404a8d2c5ff3efe351c7"
          }
        },
        "fc3069d405864fa08aa804c19a9ae7a3": {
          "model_module": "@jupyter-widgets/controls",
          "model_name": "HTMLModel",
          "model_module_version": "1.5.0",
          "state": {
            "_dom_classes": [],
            "_model_module": "@jupyter-widgets/controls",
            "_model_module_version": "1.5.0",
            "_model_name": "HTMLModel",
            "_view_count": null,
            "_view_module": "@jupyter-widgets/controls",
            "_view_module_version": "1.5.0",
            "_view_name": "HTMLView",
            "description": "",
            "description_tooltip": null,
            "layout": "IPY_MODEL_6ecc89b9826d4e6f99b7c51d7510be23",
            "placeholder": "​",
            "style": "IPY_MODEL_1b1483ea01b74ff9a98517e271a2ecc0",
            "value": "Generating splits...: 100%"
          }
        },
        "c953a468637340aa8a581b0eb882a0d9": {
          "model_module": "@jupyter-widgets/controls",
          "model_name": "FloatProgressModel",
          "model_module_version": "1.5.0",
          "state": {
            "_dom_classes": [],
            "_model_module": "@jupyter-widgets/controls",
            "_model_module_version": "1.5.0",
            "_model_name": "FloatProgressModel",
            "_view_count": null,
            "_view_module": "@jupyter-widgets/controls",
            "_view_module_version": "1.5.0",
            "_view_name": "ProgressView",
            "bar_style": "",
            "description": "",
            "description_tooltip": null,
            "layout": "IPY_MODEL_eeea3034ebf24941bd0b721f0c0bdce6",
            "max": 1,
            "min": 0,
            "orientation": "horizontal",
            "style": "IPY_MODEL_e60abddd923e47e7bde63650f920d417",
            "value": 1
          }
        },
        "ec0d5b82aaac429ea9ac48695a17de11": {
          "model_module": "@jupyter-widgets/controls",
          "model_name": "HTMLModel",
          "model_module_version": "1.5.0",
          "state": {
            "_dom_classes": [],
            "_model_module": "@jupyter-widgets/controls",
            "_model_module_version": "1.5.0",
            "_model_name": "HTMLModel",
            "_view_count": null,
            "_view_module": "@jupyter-widgets/controls",
            "_view_module_version": "1.5.0",
            "_view_name": "HTMLView",
            "description": "",
            "description_tooltip": null,
            "layout": "IPY_MODEL_7e8a728bf66f4f31b7ab927ed77179da",
            "placeholder": "​",
            "style": "IPY_MODEL_b98a65f93d6a496c8b1c8ac6a1c3e4a0",
            "value": " 1/1 [00:00&lt;00:00,  4.68 splits/s]"
          }
        },
        "bca220d855bd404a8d2c5ff3efe351c7": {
          "model_module": "@jupyter-widgets/base",
          "model_name": "LayoutModel",
          "model_module_version": "1.2.0",
          "state": {
            "_model_module": "@jupyter-widgets/base",
            "_model_module_version": "1.2.0",
            "_model_name": "LayoutModel",
            "_view_count": null,
            "_view_module": "@jupyter-widgets/base",
            "_view_module_version": "1.2.0",
            "_view_name": "LayoutView",
            "align_content": null,
            "align_items": null,
            "align_self": null,
            "border": null,
            "bottom": null,
            "display": null,
            "flex": null,
            "flex_flow": null,
            "grid_area": null,
            "grid_auto_columns": null,
            "grid_auto_flow": null,
            "grid_auto_rows": null,
            "grid_column": null,
            "grid_gap": null,
            "grid_row": null,
            "grid_template_areas": null,
            "grid_template_columns": null,
            "grid_template_rows": null,
            "height": null,
            "justify_content": null,
            "justify_items": null,
            "left": null,
            "margin": null,
            "max_height": null,
            "max_width": null,
            "min_height": null,
            "min_width": null,
            "object_fit": null,
            "object_position": null,
            "order": null,
            "overflow": null,
            "overflow_x": null,
            "overflow_y": null,
            "padding": null,
            "right": null,
            "top": null,
            "visibility": null,
            "width": null
          }
        },
        "6ecc89b9826d4e6f99b7c51d7510be23": {
          "model_module": "@jupyter-widgets/base",
          "model_name": "LayoutModel",
          "model_module_version": "1.2.0",
          "state": {
            "_model_module": "@jupyter-widgets/base",
            "_model_module_version": "1.2.0",
            "_model_name": "LayoutModel",
            "_view_count": null,
            "_view_module": "@jupyter-widgets/base",
            "_view_module_version": "1.2.0",
            "_view_name": "LayoutView",
            "align_content": null,
            "align_items": null,
            "align_self": null,
            "border": null,
            "bottom": null,
            "display": null,
            "flex": null,
            "flex_flow": null,
            "grid_area": null,
            "grid_auto_columns": null,
            "grid_auto_flow": null,
            "grid_auto_rows": null,
            "grid_column": null,
            "grid_gap": null,
            "grid_row": null,
            "grid_template_areas": null,
            "grid_template_columns": null,
            "grid_template_rows": null,
            "height": null,
            "justify_content": null,
            "justify_items": null,
            "left": null,
            "margin": null,
            "max_height": null,
            "max_width": null,
            "min_height": null,
            "min_width": null,
            "object_fit": null,
            "object_position": null,
            "order": null,
            "overflow": null,
            "overflow_x": null,
            "overflow_y": null,
            "padding": null,
            "right": null,
            "top": null,
            "visibility": null,
            "width": null
          }
        },
        "1b1483ea01b74ff9a98517e271a2ecc0": {
          "model_module": "@jupyter-widgets/controls",
          "model_name": "DescriptionStyleModel",
          "model_module_version": "1.5.0",
          "state": {
            "_model_module": "@jupyter-widgets/controls",
            "_model_module_version": "1.5.0",
            "_model_name": "DescriptionStyleModel",
            "_view_count": null,
            "_view_module": "@jupyter-widgets/base",
            "_view_module_version": "1.2.0",
            "_view_name": "StyleView",
            "description_width": ""
          }
        },
        "eeea3034ebf24941bd0b721f0c0bdce6": {
          "model_module": "@jupyter-widgets/base",
          "model_name": "LayoutModel",
          "model_module_version": "1.2.0",
          "state": {
            "_model_module": "@jupyter-widgets/base",
            "_model_module_version": "1.2.0",
            "_model_name": "LayoutModel",
            "_view_count": null,
            "_view_module": "@jupyter-widgets/base",
            "_view_module_version": "1.2.0",
            "_view_name": "LayoutView",
            "align_content": null,
            "align_items": null,
            "align_self": null,
            "border": null,
            "bottom": null,
            "display": null,
            "flex": null,
            "flex_flow": null,
            "grid_area": null,
            "grid_auto_columns": null,
            "grid_auto_flow": null,
            "grid_auto_rows": null,
            "grid_column": null,
            "grid_gap": null,
            "grid_row": null,
            "grid_template_areas": null,
            "grid_template_columns": null,
            "grid_template_rows": null,
            "height": null,
            "justify_content": null,
            "justify_items": null,
            "left": null,
            "margin": null,
            "max_height": null,
            "max_width": null,
            "min_height": null,
            "min_width": null,
            "object_fit": null,
            "object_position": null,
            "order": null,
            "overflow": null,
            "overflow_x": null,
            "overflow_y": null,
            "padding": null,
            "right": null,
            "top": null,
            "visibility": null,
            "width": null
          }
        },
        "e60abddd923e47e7bde63650f920d417": {
          "model_module": "@jupyter-widgets/controls",
          "model_name": "ProgressStyleModel",
          "model_module_version": "1.5.0",
          "state": {
            "_model_module": "@jupyter-widgets/controls",
            "_model_module_version": "1.5.0",
            "_model_name": "ProgressStyleModel",
            "_view_count": null,
            "_view_module": "@jupyter-widgets/base",
            "_view_module_version": "1.2.0",
            "_view_name": "StyleView",
            "bar_color": null,
            "description_width": ""
          }
        },
        "7e8a728bf66f4f31b7ab927ed77179da": {
          "model_module": "@jupyter-widgets/base",
          "model_name": "LayoutModel",
          "model_module_version": "1.2.0",
          "state": {
            "_model_module": "@jupyter-widgets/base",
            "_model_module_version": "1.2.0",
            "_model_name": "LayoutModel",
            "_view_count": null,
            "_view_module": "@jupyter-widgets/base",
            "_view_module_version": "1.2.0",
            "_view_name": "LayoutView",
            "align_content": null,
            "align_items": null,
            "align_self": null,
            "border": null,
            "bottom": null,
            "display": null,
            "flex": null,
            "flex_flow": null,
            "grid_area": null,
            "grid_auto_columns": null,
            "grid_auto_flow": null,
            "grid_auto_rows": null,
            "grid_column": null,
            "grid_gap": null,
            "grid_row": null,
            "grid_template_areas": null,
            "grid_template_columns": null,
            "grid_template_rows": null,
            "height": null,
            "justify_content": null,
            "justify_items": null,
            "left": null,
            "margin": null,
            "max_height": null,
            "max_width": null,
            "min_height": null,
            "min_width": null,
            "object_fit": null,
            "object_position": null,
            "order": null,
            "overflow": null,
            "overflow_x": null,
            "overflow_y": null,
            "padding": null,
            "right": null,
            "top": null,
            "visibility": null,
            "width": null
          }
        },
        "b98a65f93d6a496c8b1c8ac6a1c3e4a0": {
          "model_module": "@jupyter-widgets/controls",
          "model_name": "DescriptionStyleModel",
          "model_module_version": "1.5.0",
          "state": {
            "_model_module": "@jupyter-widgets/controls",
            "_model_module_version": "1.5.0",
            "_model_name": "DescriptionStyleModel",
            "_view_count": null,
            "_view_module": "@jupyter-widgets/base",
            "_view_module_version": "1.2.0",
            "_view_name": "StyleView",
            "description_width": ""
          }
        },
        "73f23bf1df8e45f38f0b8fdccb9dab21": {
          "model_module": "@jupyter-widgets/controls",
          "model_name": "HBoxModel",
          "model_module_version": "1.5.0",
          "state": {
            "_dom_classes": [],
            "_model_module": "@jupyter-widgets/controls",
            "_model_module_version": "1.5.0",
            "_model_name": "HBoxModel",
            "_view_count": null,
            "_view_module": "@jupyter-widgets/controls",
            "_view_module_version": "1.5.0",
            "_view_name": "HBoxView",
            "box_style": "",
            "children": [
              "IPY_MODEL_840a359c6ae24d16a5845ff82f850fea",
              "IPY_MODEL_2db71f7e75cb439abe313c85d5045595",
              "IPY_MODEL_4f66b88962fd4cc9a731041221f7a12d"
            ],
            "layout": "IPY_MODEL_1404a24b982043039978fa8181e1be9a"
          }
        },
        "840a359c6ae24d16a5845ff82f850fea": {
          "model_module": "@jupyter-widgets/controls",
          "model_name": "HTMLModel",
          "model_module_version": "1.5.0",
          "state": {
            "_dom_classes": [],
            "_model_module": "@jupyter-widgets/controls",
            "_model_module_version": "1.5.0",
            "_model_name": "HTMLModel",
            "_view_count": null,
            "_view_module": "@jupyter-widgets/controls",
            "_view_module_version": "1.5.0",
            "_view_name": "HTMLView",
            "description": "",
            "description_tooltip": null,
            "layout": "IPY_MODEL_d7efe43a649c4ca18369c37f83bfac89",
            "placeholder": "​",
            "style": "IPY_MODEL_74fef9968fdf4ece8771abd399260f4e",
            "value": "Generating train examples...: "
          }
        },
        "2db71f7e75cb439abe313c85d5045595": {
          "model_module": "@jupyter-widgets/controls",
          "model_name": "FloatProgressModel",
          "model_module_version": "1.5.0",
          "state": {
            "_dom_classes": [],
            "_model_module": "@jupyter-widgets/controls",
            "_model_module_version": "1.5.0",
            "_model_name": "FloatProgressModel",
            "_view_count": null,
            "_view_module": "@jupyter-widgets/controls",
            "_view_module_version": "1.5.0",
            "_view_name": "ProgressView",
            "bar_style": "info",
            "description": "",
            "description_tooltip": null,
            "layout": "IPY_MODEL_b9db4cc0630146a7a3f871bc28b06055",
            "max": 1,
            "min": 0,
            "orientation": "horizontal",
            "style": "IPY_MODEL_61bec40e4a7047b3837f1aed38b410b8",
            "value": 1
          }
        },
        "4f66b88962fd4cc9a731041221f7a12d": {
          "model_module": "@jupyter-widgets/controls",
          "model_name": "HTMLModel",
          "model_module_version": "1.5.0",
          "state": {
            "_dom_classes": [],
            "_model_module": "@jupyter-widgets/controls",
            "_model_module_version": "1.5.0",
            "_model_name": "HTMLModel",
            "_view_count": null,
            "_view_module": "@jupyter-widgets/controls",
            "_view_module_version": "1.5.0",
            "_view_name": "HTMLView",
            "description": "",
            "description_tooltip": null,
            "layout": "IPY_MODEL_52fdbd2426e04ffb9e63310137260b1d",
            "placeholder": "​",
            "style": "IPY_MODEL_59dbc496ba9e414b8d1a3c996fa2f28f",
            "value": " 0/? [00:00&lt;?, ? examples/s]"
          }
        },
        "1404a24b982043039978fa8181e1be9a": {
          "model_module": "@jupyter-widgets/base",
          "model_name": "LayoutModel",
          "model_module_version": "1.2.0",
          "state": {
            "_model_module": "@jupyter-widgets/base",
            "_model_module_version": "1.2.0",
            "_model_name": "LayoutModel",
            "_view_count": null,
            "_view_module": "@jupyter-widgets/base",
            "_view_module_version": "1.2.0",
            "_view_name": "LayoutView",
            "align_content": null,
            "align_items": null,
            "align_self": null,
            "border": null,
            "bottom": null,
            "display": null,
            "flex": null,
            "flex_flow": null,
            "grid_area": null,
            "grid_auto_columns": null,
            "grid_auto_flow": null,
            "grid_auto_rows": null,
            "grid_column": null,
            "grid_gap": null,
            "grid_row": null,
            "grid_template_areas": null,
            "grid_template_columns": null,
            "grid_template_rows": null,
            "height": null,
            "justify_content": null,
            "justify_items": null,
            "left": null,
            "margin": null,
            "max_height": null,
            "max_width": null,
            "min_height": null,
            "min_width": null,
            "object_fit": null,
            "object_position": null,
            "order": null,
            "overflow": null,
            "overflow_x": null,
            "overflow_y": null,
            "padding": null,
            "right": null,
            "top": null,
            "visibility": null,
            "width": null
          }
        },
        "d7efe43a649c4ca18369c37f83bfac89": {
          "model_module": "@jupyter-widgets/base",
          "model_name": "LayoutModel",
          "model_module_version": "1.2.0",
          "state": {
            "_model_module": "@jupyter-widgets/base",
            "_model_module_version": "1.2.0",
            "_model_name": "LayoutModel",
            "_view_count": null,
            "_view_module": "@jupyter-widgets/base",
            "_view_module_version": "1.2.0",
            "_view_name": "LayoutView",
            "align_content": null,
            "align_items": null,
            "align_self": null,
            "border": null,
            "bottom": null,
            "display": null,
            "flex": null,
            "flex_flow": null,
            "grid_area": null,
            "grid_auto_columns": null,
            "grid_auto_flow": null,
            "grid_auto_rows": null,
            "grid_column": null,
            "grid_gap": null,
            "grid_row": null,
            "grid_template_areas": null,
            "grid_template_columns": null,
            "grid_template_rows": null,
            "height": null,
            "justify_content": null,
            "justify_items": null,
            "left": null,
            "margin": null,
            "max_height": null,
            "max_width": null,
            "min_height": null,
            "min_width": null,
            "object_fit": null,
            "object_position": null,
            "order": null,
            "overflow": null,
            "overflow_x": null,
            "overflow_y": null,
            "padding": null,
            "right": null,
            "top": null,
            "visibility": null,
            "width": null
          }
        },
        "74fef9968fdf4ece8771abd399260f4e": {
          "model_module": "@jupyter-widgets/controls",
          "model_name": "DescriptionStyleModel",
          "model_module_version": "1.5.0",
          "state": {
            "_model_module": "@jupyter-widgets/controls",
            "_model_module_version": "1.5.0",
            "_model_name": "DescriptionStyleModel",
            "_view_count": null,
            "_view_module": "@jupyter-widgets/base",
            "_view_module_version": "1.2.0",
            "_view_name": "StyleView",
            "description_width": ""
          }
        },
        "b9db4cc0630146a7a3f871bc28b06055": {
          "model_module": "@jupyter-widgets/base",
          "model_name": "LayoutModel",
          "model_module_version": "1.2.0",
          "state": {
            "_model_module": "@jupyter-widgets/base",
            "_model_module_version": "1.2.0",
            "_model_name": "LayoutModel",
            "_view_count": null,
            "_view_module": "@jupyter-widgets/base",
            "_view_module_version": "1.2.0",
            "_view_name": "LayoutView",
            "align_content": null,
            "align_items": null,
            "align_self": null,
            "border": null,
            "bottom": null,
            "display": null,
            "flex": null,
            "flex_flow": null,
            "grid_area": null,
            "grid_auto_columns": null,
            "grid_auto_flow": null,
            "grid_auto_rows": null,
            "grid_column": null,
            "grid_gap": null,
            "grid_row": null,
            "grid_template_areas": null,
            "grid_template_columns": null,
            "grid_template_rows": null,
            "height": null,
            "justify_content": null,
            "justify_items": null,
            "left": null,
            "margin": null,
            "max_height": null,
            "max_width": null,
            "min_height": null,
            "min_width": null,
            "object_fit": null,
            "object_position": null,
            "order": null,
            "overflow": null,
            "overflow_x": null,
            "overflow_y": null,
            "padding": null,
            "right": null,
            "top": null,
            "visibility": null,
            "width": "20px"
          }
        },
        "61bec40e4a7047b3837f1aed38b410b8": {
          "model_module": "@jupyter-widgets/controls",
          "model_name": "ProgressStyleModel",
          "model_module_version": "1.5.0",
          "state": {
            "_model_module": "@jupyter-widgets/controls",
            "_model_module_version": "1.5.0",
            "_model_name": "ProgressStyleModel",
            "_view_count": null,
            "_view_module": "@jupyter-widgets/base",
            "_view_module_version": "1.2.0",
            "_view_name": "StyleView",
            "bar_color": null,
            "description_width": ""
          }
        },
        "52fdbd2426e04ffb9e63310137260b1d": {
          "model_module": "@jupyter-widgets/base",
          "model_name": "LayoutModel",
          "model_module_version": "1.2.0",
          "state": {
            "_model_module": "@jupyter-widgets/base",
            "_model_module_version": "1.2.0",
            "_model_name": "LayoutModel",
            "_view_count": null,
            "_view_module": "@jupyter-widgets/base",
            "_view_module_version": "1.2.0",
            "_view_name": "LayoutView",
            "align_content": null,
            "align_items": null,
            "align_self": null,
            "border": null,
            "bottom": null,
            "display": null,
            "flex": null,
            "flex_flow": null,
            "grid_area": null,
            "grid_auto_columns": null,
            "grid_auto_flow": null,
            "grid_auto_rows": null,
            "grid_column": null,
            "grid_gap": null,
            "grid_row": null,
            "grid_template_areas": null,
            "grid_template_columns": null,
            "grid_template_rows": null,
            "height": null,
            "justify_content": null,
            "justify_items": null,
            "left": null,
            "margin": null,
            "max_height": null,
            "max_width": null,
            "min_height": null,
            "min_width": null,
            "object_fit": null,
            "object_position": null,
            "order": null,
            "overflow": null,
            "overflow_x": null,
            "overflow_y": null,
            "padding": null,
            "right": null,
            "top": null,
            "visibility": null,
            "width": null
          }
        },
        "59dbc496ba9e414b8d1a3c996fa2f28f": {
          "model_module": "@jupyter-widgets/controls",
          "model_name": "DescriptionStyleModel",
          "model_module_version": "1.5.0",
          "state": {
            "_model_module": "@jupyter-widgets/controls",
            "_model_module_version": "1.5.0",
            "_model_name": "DescriptionStyleModel",
            "_view_count": null,
            "_view_module": "@jupyter-widgets/base",
            "_view_module_version": "1.2.0",
            "_view_name": "StyleView",
            "description_width": ""
          }
        },
        "a0a8788b75134044a945ac278277251c": {
          "model_module": "@jupyter-widgets/controls",
          "model_name": "HBoxModel",
          "model_module_version": "1.5.0",
          "state": {
            "_dom_classes": [],
            "_model_module": "@jupyter-widgets/controls",
            "_model_module_version": "1.5.0",
            "_model_name": "HBoxModel",
            "_view_count": null,
            "_view_module": "@jupyter-widgets/controls",
            "_view_module_version": "1.5.0",
            "_view_name": "HBoxView",
            "box_style": "",
            "children": [
              "IPY_MODEL_56fc219cc57b4f5fa0f6802a58d1d13b",
              "IPY_MODEL_3c841405e2af45c2b53820dcaa1dd7b2",
              "IPY_MODEL_0d682eb7030441abaaf2072542d1139f"
            ],
            "layout": "IPY_MODEL_b2d31d042eee491ab66c08458776c470"
          }
        },
        "56fc219cc57b4f5fa0f6802a58d1d13b": {
          "model_module": "@jupyter-widgets/controls",
          "model_name": "HTMLModel",
          "model_module_version": "1.5.0",
          "state": {
            "_dom_classes": [],
            "_model_module": "@jupyter-widgets/controls",
            "_model_module_version": "1.5.0",
            "_model_name": "HTMLModel",
            "_view_count": null,
            "_view_module": "@jupyter-widgets/controls",
            "_view_module_version": "1.5.0",
            "_view_name": "HTMLView",
            "description": "",
            "description_tooltip": null,
            "layout": "IPY_MODEL_12c9b9c0548f4a90baa00c2f7af2a048",
            "placeholder": "​",
            "style": "IPY_MODEL_42073cfe4e1044f6af0674fed1cfda11",
            "value": "Shuffling /root/tensorflow_datasets/wishembedding/1.0.0.incomplete1GN10E/wishembedding-train.tfrecord*...:   0%"
          }
        },
        "3c841405e2af45c2b53820dcaa1dd7b2": {
          "model_module": "@jupyter-widgets/controls",
          "model_name": "FloatProgressModel",
          "model_module_version": "1.5.0",
          "state": {
            "_dom_classes": [],
            "_model_module": "@jupyter-widgets/controls",
            "_model_module_version": "1.5.0",
            "_model_name": "FloatProgressModel",
            "_view_count": null,
            "_view_module": "@jupyter-widgets/controls",
            "_view_module_version": "1.5.0",
            "_view_name": "ProgressView",
            "bar_style": "",
            "description": "",
            "description_tooltip": null,
            "layout": "IPY_MODEL_4576cea6d0bd4d4083b1583e73e1e42d",
            "max": 121,
            "min": 0,
            "orientation": "horizontal",
            "style": "IPY_MODEL_6ea130c2374b42118d60fbfa2814a04a",
            "value": 121
          }
        },
        "0d682eb7030441abaaf2072542d1139f": {
          "model_module": "@jupyter-widgets/controls",
          "model_name": "HTMLModel",
          "model_module_version": "1.5.0",
          "state": {
            "_dom_classes": [],
            "_model_module": "@jupyter-widgets/controls",
            "_model_module_version": "1.5.0",
            "_model_name": "HTMLModel",
            "_view_count": null,
            "_view_module": "@jupyter-widgets/controls",
            "_view_module_version": "1.5.0",
            "_view_name": "HTMLView",
            "description": "",
            "description_tooltip": null,
            "layout": "IPY_MODEL_d89abce7aa904ac88b6f5459dfa355a0",
            "placeholder": "​",
            "style": "IPY_MODEL_dcfe53178b0746fa9b6ebeb7468f15b5",
            "value": " 0/121 [00:00&lt;?, ? examples/s]"
          }
        },
        "b2d31d042eee491ab66c08458776c470": {
          "model_module": "@jupyter-widgets/base",
          "model_name": "LayoutModel",
          "model_module_version": "1.2.0",
          "state": {
            "_model_module": "@jupyter-widgets/base",
            "_model_module_version": "1.2.0",
            "_model_name": "LayoutModel",
            "_view_count": null,
            "_view_module": "@jupyter-widgets/base",
            "_view_module_version": "1.2.0",
            "_view_name": "LayoutView",
            "align_content": null,
            "align_items": null,
            "align_self": null,
            "border": null,
            "bottom": null,
            "display": null,
            "flex": null,
            "flex_flow": null,
            "grid_area": null,
            "grid_auto_columns": null,
            "grid_auto_flow": null,
            "grid_auto_rows": null,
            "grid_column": null,
            "grid_gap": null,
            "grid_row": null,
            "grid_template_areas": null,
            "grid_template_columns": null,
            "grid_template_rows": null,
            "height": null,
            "justify_content": null,
            "justify_items": null,
            "left": null,
            "margin": null,
            "max_height": null,
            "max_width": null,
            "min_height": null,
            "min_width": null,
            "object_fit": null,
            "object_position": null,
            "order": null,
            "overflow": null,
            "overflow_x": null,
            "overflow_y": null,
            "padding": null,
            "right": null,
            "top": null,
            "visibility": null,
            "width": null
          }
        },
        "12c9b9c0548f4a90baa00c2f7af2a048": {
          "model_module": "@jupyter-widgets/base",
          "model_name": "LayoutModel",
          "model_module_version": "1.2.0",
          "state": {
            "_model_module": "@jupyter-widgets/base",
            "_model_module_version": "1.2.0",
            "_model_name": "LayoutModel",
            "_view_count": null,
            "_view_module": "@jupyter-widgets/base",
            "_view_module_version": "1.2.0",
            "_view_name": "LayoutView",
            "align_content": null,
            "align_items": null,
            "align_self": null,
            "border": null,
            "bottom": null,
            "display": null,
            "flex": null,
            "flex_flow": null,
            "grid_area": null,
            "grid_auto_columns": null,
            "grid_auto_flow": null,
            "grid_auto_rows": null,
            "grid_column": null,
            "grid_gap": null,
            "grid_row": null,
            "grid_template_areas": null,
            "grid_template_columns": null,
            "grid_template_rows": null,
            "height": null,
            "justify_content": null,
            "justify_items": null,
            "left": null,
            "margin": null,
            "max_height": null,
            "max_width": null,
            "min_height": null,
            "min_width": null,
            "object_fit": null,
            "object_position": null,
            "order": null,
            "overflow": null,
            "overflow_x": null,
            "overflow_y": null,
            "padding": null,
            "right": null,
            "top": null,
            "visibility": null,
            "width": null
          }
        },
        "42073cfe4e1044f6af0674fed1cfda11": {
          "model_module": "@jupyter-widgets/controls",
          "model_name": "DescriptionStyleModel",
          "model_module_version": "1.5.0",
          "state": {
            "_model_module": "@jupyter-widgets/controls",
            "_model_module_version": "1.5.0",
            "_model_name": "DescriptionStyleModel",
            "_view_count": null,
            "_view_module": "@jupyter-widgets/base",
            "_view_module_version": "1.2.0",
            "_view_name": "StyleView",
            "description_width": ""
          }
        },
        "4576cea6d0bd4d4083b1583e73e1e42d": {
          "model_module": "@jupyter-widgets/base",
          "model_name": "LayoutModel",
          "model_module_version": "1.2.0",
          "state": {
            "_model_module": "@jupyter-widgets/base",
            "_model_module_version": "1.2.0",
            "_model_name": "LayoutModel",
            "_view_count": null,
            "_view_module": "@jupyter-widgets/base",
            "_view_module_version": "1.2.0",
            "_view_name": "LayoutView",
            "align_content": null,
            "align_items": null,
            "align_self": null,
            "border": null,
            "bottom": null,
            "display": null,
            "flex": null,
            "flex_flow": null,
            "grid_area": null,
            "grid_auto_columns": null,
            "grid_auto_flow": null,
            "grid_auto_rows": null,
            "grid_column": null,
            "grid_gap": null,
            "grid_row": null,
            "grid_template_areas": null,
            "grid_template_columns": null,
            "grid_template_rows": null,
            "height": null,
            "justify_content": null,
            "justify_items": null,
            "left": null,
            "margin": null,
            "max_height": null,
            "max_width": null,
            "min_height": null,
            "min_width": null,
            "object_fit": null,
            "object_position": null,
            "order": null,
            "overflow": null,
            "overflow_x": null,
            "overflow_y": null,
            "padding": null,
            "right": null,
            "top": null,
            "visibility": null,
            "width": null
          }
        },
        "6ea130c2374b42118d60fbfa2814a04a": {
          "model_module": "@jupyter-widgets/controls",
          "model_name": "ProgressStyleModel",
          "model_module_version": "1.5.0",
          "state": {
            "_model_module": "@jupyter-widgets/controls",
            "_model_module_version": "1.5.0",
            "_model_name": "ProgressStyleModel",
            "_view_count": null,
            "_view_module": "@jupyter-widgets/base",
            "_view_module_version": "1.2.0",
            "_view_name": "StyleView",
            "bar_color": null,
            "description_width": ""
          }
        },
        "d89abce7aa904ac88b6f5459dfa355a0": {
          "model_module": "@jupyter-widgets/base",
          "model_name": "LayoutModel",
          "model_module_version": "1.2.0",
          "state": {
            "_model_module": "@jupyter-widgets/base",
            "_model_module_version": "1.2.0",
            "_model_name": "LayoutModel",
            "_view_count": null,
            "_view_module": "@jupyter-widgets/base",
            "_view_module_version": "1.2.0",
            "_view_name": "LayoutView",
            "align_content": null,
            "align_items": null,
            "align_self": null,
            "border": null,
            "bottom": null,
            "display": null,
            "flex": null,
            "flex_flow": null,
            "grid_area": null,
            "grid_auto_columns": null,
            "grid_auto_flow": null,
            "grid_auto_rows": null,
            "grid_column": null,
            "grid_gap": null,
            "grid_row": null,
            "grid_template_areas": null,
            "grid_template_columns": null,
            "grid_template_rows": null,
            "height": null,
            "justify_content": null,
            "justify_items": null,
            "left": null,
            "margin": null,
            "max_height": null,
            "max_width": null,
            "min_height": null,
            "min_width": null,
            "object_fit": null,
            "object_position": null,
            "order": null,
            "overflow": null,
            "overflow_x": null,
            "overflow_y": null,
            "padding": null,
            "right": null,
            "top": null,
            "visibility": null,
            "width": null
          }
        },
        "dcfe53178b0746fa9b6ebeb7468f15b5": {
          "model_module": "@jupyter-widgets/controls",
          "model_name": "DescriptionStyleModel",
          "model_module_version": "1.5.0",
          "state": {
            "_model_module": "@jupyter-widgets/controls",
            "_model_module_version": "1.5.0",
            "_model_name": "DescriptionStyleModel",
            "_view_count": null,
            "_view_module": "@jupyter-widgets/base",
            "_view_module_version": "1.2.0",
            "_view_name": "StyleView",
            "description_width": ""
          }
        }
      }
    }
  },
  "cells": [
    {
      "cell_type": "markdown",
      "source": [
        "## IMPORT"
      ],
      "metadata": {
        "id": "vfabl-zJjVaw"
      }
    },
    {
      "cell_type": "code",
      "source": [
        "!pip install -q tensorflow-recommenders\n",
        "!pip install -q --upgrade tensorflow-datasets"
      ],
      "metadata": {
        "id": "MZJcWjNgjcJ8",
        "colab": {
          "base_uri": "https://localhost:8080/"
        },
        "outputId": "a77c408e-6194-4df3-9f2a-42dfe36a06f9"
      },
      "execution_count": 1,
      "outputs": [
        {
          "output_type": "stream",
          "name": "stdout",
          "text": [
            "\u001b[K     |████████████████████████████████| 85 kB 3.8 MB/s \n",
            "\u001b[K     |████████████████████████████████| 462 kB 56.5 MB/s \n",
            "\u001b[K     |████████████████████████████████| 4.2 MB 18.2 MB/s \n",
            "\u001b[?25h"
          ]
        }
      ]
    },
    {
      "cell_type": "code",
      "source": [
        "import os\n",
        "import pprint\n",
        "import tempfile\n",
        "\n",
        "from typing import Dict, Text\n",
        "\n",
        "import numpy as np\n",
        "import tensorflow as tf\n",
        "import tensorflow_datasets as tfds\n",
        "\n",
        "import pandas as pd\n",
        "\n",
        "import tensorflow_recommenders as tfrs\n",
        "\n",
        "# getting data\n",
        "from google.colab import auth\n",
        "import gspread\n",
        "from google.auth import default\n",
        "from gspread_dataframe import get_as_dataframe, set_with_dataframe\n",
        "\n",
        "auth.authenticate_user()\n",
        "creds, _ = default()\n",
        "gc = gspread.authorize(creds)"
      ],
      "metadata": {
        "id": "zc0yadWJjXf1"
      },
      "execution_count": 2,
      "outputs": []
    },
    {
      "cell_type": "code",
      "source": [
        "cd /content/drive/Othercomputers/My Laptop/Bangkit/Capstone/Recommender system/Notogo-ML/model_v2.0 "
      ],
      "metadata": {
        "colab": {
          "base_uri": "https://localhost:8080/"
        },
        "id": "w53xOMLQkuvE",
        "outputId": "e5d5e810-06a6-42f2-fd39-1f4d11dbc270"
      },
      "execution_count": 3,
      "outputs": [
        {
          "output_type": "stream",
          "name": "stdout",
          "text": [
            "/content/drive/Othercomputers/My Laptop/Bangkit/Capstone/Recommender system/Notogo-ML/model_v2.0\n"
          ]
        }
      ]
    },
    {
      "cell_type": "code",
      "source": [
        "print(os.getcwd())"
      ],
      "metadata": {
        "colab": {
          "base_uri": "https://localhost:8080/"
        },
        "id": "ylsxRIzFk4h8",
        "outputId": "41eb9102-2f2b-46e2-a830-a3a733a8f7dd"
      },
      "execution_count": 4,
      "outputs": [
        {
          "output_type": "stream",
          "name": "stdout",
          "text": [
            "/content/drive/Othercomputers/My Laptop/Bangkit/Capstone/Recommender system/Notogo-ML/model_v2.0\n"
          ]
        }
      ]
    },
    {
      "cell_type": "markdown",
      "source": [
        "## Preparing the dataset"
      ],
      "metadata": {
        "id": "g4bwyBnikR0s"
      }
    },
    {
      "cell_type": "code",
      "source": [
        "import userFeatures\n",
        "builder = tfds.builder('Userfeatures')\n",
        "userFeatureDs = tfds.load('Userfeatures',split='train')"
      ],
      "metadata": {
        "colab": {
          "base_uri": "https://localhost:8080/",
          "height": 0,
          "referenced_widgets": [
            "b76fc9c42d8544d097cb7938b37c9f8d",
            "42267429a2f24b7fa34e5b63e5988c54",
            "e954cf01bc014c9aa871b3262b50e1d8",
            "fbf0e3c2a73c4633bc3028682b0a0100",
            "b88b2dfea6ce422f9e164e80f38239f3",
            "c3bac4e6c2ce4cfc8aa298f736a341e2",
            "076a63eecbcc40b281661adabe97f72a",
            "9c85b275d90a4688a5356b68d05fcb8b",
            "018bf4bbba6245a99db14e3a93a00536",
            "25a4d57f54374a6b923c58c8d6b96bf1",
            "a7a4557f9a274c03b3679a8b65ed4eb7",
            "c0ab8531e6c1489b8173cf4117205637",
            "8946c84d0e804df6b25238b0f173af1b",
            "ad7173726ff545269a80abe98cb32a99",
            "884a2197666041b98ce6c37baa477871",
            "c0ec15a252f04c5e839e8c28fbdcce13",
            "b0f33b2f4f5344eebef6e6e4ece8b820",
            "9e08f0ee75f04bc2aab9e779ab8ee56a",
            "a86ae8aa0628495d962b44405069f7c5",
            "76c336824dbf4aaa8684d58df0e9b1ef",
            "ffe1aea0da9e4ae8ad3891a542eeff2d",
            "3b21047f15204b33aa8b1b80233467be",
            "38afd58d7ae044cbbea5af9b73e042dd",
            "d253e506e0d045d1962b29dc7a97f324",
            "d274fd6aefcd48398e1ad0d1189daaef",
            "81cb74a455054928bdeedfaeea2d27b8",
            "26862e0b624543e8a38bf9327e4443e3",
            "d346fb23af2b456a80f38c066cdc7d27",
            "eca484aec3c24d94a9795db019d098b9",
            "e84f3217c35647ceb563c9ff2e0989f3",
            "6b1b4cc6e298451782917428310a3990",
            "b56551b7391545aa8e051a2e2a4234be",
            "08ed86941f5d48ba88a4181f669f3b89"
          ]
        },
        "id": "rY9WTfBdm7RS",
        "outputId": "72ce3e47-f37d-430c-bd51-e704fcf3b102"
      },
      "execution_count": 5,
      "outputs": [
        {
          "output_type": "stream",
          "name": "stdout",
          "text": [
            "\u001b[1mDownloading and preparing dataset Unknown size (download: Unknown size, generated: Unknown size, total: Unknown size) to /root/tensorflow_datasets/userfeatures/1.0.0...\u001b[0m\n"
          ]
        },
        {
          "output_type": "stream",
          "name": "stderr",
          "text": [
            "WARNING:google.auth._default:No project ID could be determined. Consider running `gcloud config set project` or setting the GOOGLE_CLOUD_PROJECT environment variable\n"
          ]
        },
        {
          "output_type": "display_data",
          "data": {
            "text/plain": [
              "Generating splits...:   0%|          | 0/1 [00:00<?, ? splits/s]"
            ],
            "application/vnd.jupyter.widget-view+json": {
              "version_major": 2,
              "version_minor": 0,
              "model_id": "b76fc9c42d8544d097cb7938b37c9f8d"
            }
          },
          "metadata": {}
        },
        {
          "output_type": "display_data",
          "data": {
            "text/plain": [
              "Generating train examples...: 0 examples [00:00, ? examples/s]"
            ],
            "application/vnd.jupyter.widget-view+json": {
              "version_major": 2,
              "version_minor": 0,
              "model_id": "c0ab8531e6c1489b8173cf4117205637"
            }
          },
          "metadata": {}
        },
        {
          "output_type": "display_data",
          "data": {
            "text/plain": [
              "Shuffling /root/tensorflow_datasets/userfeatures/1.0.0.incompleteL6LTU4/userfeatures-train.tfrecord*...:   0%|…"
            ],
            "application/vnd.jupyter.widget-view+json": {
              "version_major": 2,
              "version_minor": 0,
              "model_id": "38afd58d7ae044cbbea5af9b73e042dd"
            }
          },
          "metadata": {}
        },
        {
          "output_type": "stream",
          "name": "stdout",
          "text": [
            "\u001b[1mDataset userfeatures downloaded and prepared to /root/tensorflow_datasets/userfeatures/1.0.0. Subsequent calls will reuse this data.\u001b[0m\n"
          ]
        }
      ]
    },
    {
      "cell_type": "code",
      "source": [
        "import wishEmbedding\n",
        "builder = tfds.builder('Wishembedding')\n",
        "wishEmbeddingDs = tfds.load('Wishembedding',split='train')"
      ],
      "metadata": {
        "colab": {
          "base_uri": "https://localhost:8080/",
          "height": 0,
          "referenced_widgets": [
            "cbd0760844dc42f194bb059acdd45aae",
            "fc3069d405864fa08aa804c19a9ae7a3",
            "c953a468637340aa8a581b0eb882a0d9",
            "ec0d5b82aaac429ea9ac48695a17de11",
            "bca220d855bd404a8d2c5ff3efe351c7",
            "6ecc89b9826d4e6f99b7c51d7510be23",
            "1b1483ea01b74ff9a98517e271a2ecc0",
            "eeea3034ebf24941bd0b721f0c0bdce6",
            "e60abddd923e47e7bde63650f920d417",
            "7e8a728bf66f4f31b7ab927ed77179da",
            "b98a65f93d6a496c8b1c8ac6a1c3e4a0",
            "73f23bf1df8e45f38f0b8fdccb9dab21",
            "840a359c6ae24d16a5845ff82f850fea",
            "2db71f7e75cb439abe313c85d5045595",
            "4f66b88962fd4cc9a731041221f7a12d",
            "1404a24b982043039978fa8181e1be9a",
            "d7efe43a649c4ca18369c37f83bfac89",
            "74fef9968fdf4ece8771abd399260f4e",
            "b9db4cc0630146a7a3f871bc28b06055",
            "61bec40e4a7047b3837f1aed38b410b8",
            "52fdbd2426e04ffb9e63310137260b1d",
            "59dbc496ba9e414b8d1a3c996fa2f28f",
            "a0a8788b75134044a945ac278277251c",
            "56fc219cc57b4f5fa0f6802a58d1d13b",
            "3c841405e2af45c2b53820dcaa1dd7b2",
            "0d682eb7030441abaaf2072542d1139f",
            "b2d31d042eee491ab66c08458776c470",
            "12c9b9c0548f4a90baa00c2f7af2a048",
            "42073cfe4e1044f6af0674fed1cfda11",
            "4576cea6d0bd4d4083b1583e73e1e42d",
            "6ea130c2374b42118d60fbfa2814a04a",
            "d89abce7aa904ac88b6f5459dfa355a0",
            "dcfe53178b0746fa9b6ebeb7468f15b5"
          ]
        },
        "id": "KE_CXF__nPmg",
        "outputId": "ea7e4ca0-2c2d-4715-f2b4-8df056bacb6a"
      },
      "execution_count": 6,
      "outputs": [
        {
          "output_type": "stream",
          "name": "stdout",
          "text": [
            "\u001b[1mDownloading and preparing dataset Unknown size (download: Unknown size, generated: Unknown size, total: Unknown size) to /root/tensorflow_datasets/wishembedding/1.0.0...\u001b[0m\n"
          ]
        },
        {
          "output_type": "stream",
          "name": "stderr",
          "text": [
            "WARNING:google.auth._default:No project ID could be determined. Consider running `gcloud config set project` or setting the GOOGLE_CLOUD_PROJECT environment variable\n"
          ]
        },
        {
          "output_type": "display_data",
          "data": {
            "text/plain": [
              "Generating splits...:   0%|          | 0/1 [00:00<?, ? splits/s]"
            ],
            "application/vnd.jupyter.widget-view+json": {
              "version_major": 2,
              "version_minor": 0,
              "model_id": "cbd0760844dc42f194bb059acdd45aae"
            }
          },
          "metadata": {}
        },
        {
          "output_type": "display_data",
          "data": {
            "text/plain": [
              "Generating train examples...: 0 examples [00:00, ? examples/s]"
            ],
            "application/vnd.jupyter.widget-view+json": {
              "version_major": 2,
              "version_minor": 0,
              "model_id": "73f23bf1df8e45f38f0b8fdccb9dab21"
            }
          },
          "metadata": {}
        },
        {
          "output_type": "display_data",
          "data": {
            "text/plain": [
              "Shuffling /root/tensorflow_datasets/wishembedding/1.0.0.incomplete1GN10E/wishembedding-train.tfrecord*...:   0…"
            ],
            "application/vnd.jupyter.widget-view+json": {
              "version_major": 2,
              "version_minor": 0,
              "model_id": "a0a8788b75134044a945ac278277251c"
            }
          },
          "metadata": {}
        },
        {
          "output_type": "stream",
          "name": "stdout",
          "text": [
            "\u001b[1mDataset wishembedding downloaded and prepared to /root/tensorflow_datasets/wishembedding/1.0.0. Subsequent calls will reuse this data.\u001b[0m\n"
          ]
        }
      ]
    },
    {
      "cell_type": "code",
      "source": [
        "ratings = userFeatureDs.map(lambda x: {\n",
        "    \"location_name\": x[\"location_name\"],\n",
        "    \"user_id\": x[\"user_id\"],\n",
        "    \"add\" : x[\"add\"]\n",
        "})\n",
        "locations = wishEmbeddingDs.map(lambda x: x[\"location_name\"])"
      ],
      "metadata": {
        "id": "huWx0o8PnUGg"
      },
      "execution_count": 7,
      "outputs": []
    },
    {
      "cell_type": "code",
      "source": [
        "for x in ratings.take(2).as_numpy_iterator():\n",
        "  pprint.pprint(x)"
      ],
      "metadata": {
        "colab": {
          "base_uri": "https://localhost:8080/"
        },
        "id": "u9I0OIcQ33NY",
        "outputId": "49ed6348-a69f-46bc-cdfe-27f768f4a62b"
      },
      "execution_count": 8,
      "outputs": [
        {
          "output_type": "stream",
          "name": "stdout",
          "text": [
            "{'add': 0, 'location_name': b'JAKARTA', 'user_id': b'93'}\n",
            "{'add': 0, 'location_name': b'DUBAI', 'user_id': b'112'}\n"
          ]
        }
      ]
    },
    {
      "cell_type": "code",
      "source": [
        "tf.random.set_seed(42)\n",
        "\n",
        "NUM_DATA = ratings.__len__().numpy()\n",
        "\n",
        "shuffled = ratings.shuffle(NUM_DATA, seed=42, reshuffle_each_iteration=False)\n",
        "\n",
        "trainset_size = 0.8 * NUM_DATA\n",
        "\n",
        "train = shuffled.take(trainset_size)\n",
        "test = shuffled.skip(trainset_size).take(NUM_DATA - trainset_size)\n",
        "\n",
        "location_name = locations.batch(1000)\n",
        "user_ids = ratings.batch(1000).map(lambda x: x[\"user_id\"])\n",
        "\n",
        "unique_location_name = np.unique(np.concatenate(list(location_name)))\n",
        "unique_user_ids = np.unique(np.concatenate(list(user_ids)))"
      ],
      "metadata": {
        "id": "fwnbwMsGrgJP"
      },
      "execution_count": 9,
      "outputs": []
    },
    {
      "cell_type": "markdown",
      "source": [
        "## MODEL"
      ],
      "metadata": {
        "id": "VpzmeDIltZuh"
      }
    },
    {
      "cell_type": "markdown",
      "source": [
        "There are two critical parts to multi-task recommenders:\n",
        "\n",
        "1. They optimize for two or more objectives, and so have two or more losses.\n",
        "2. They share variables between the tasks, allowing for transfer learning."
      ],
      "metadata": {
        "id": "7-ZYWHH7thiT"
      }
    },
    {
      "cell_type": "code",
      "source": [
        "class NoToGoModel(tfrs.models.Model):\n",
        "\n",
        "  def __init__(self, rating_weight: float, retrieval_weight: float) -> None:\n",
        "    # We take the loss weights in the constructor: this allows us to instantiate\n",
        "    # several model objects with different loss weights.\n",
        "\n",
        "    super().__init__()\n",
        "\n",
        "    embedding_dimension = 32\n",
        "\n",
        "    # User and movie models.\n",
        "    self.location_model: tf.keras.layers.Layer = tf.keras.Sequential([\n",
        "      tf.keras.layers.StringLookup(\n",
        "        vocabulary=unique_location_name, mask_token=None),\n",
        "      tf.keras.layers.Embedding(len(unique_location_name) + 1, embedding_dimension),\n",
        "      tf.keras.layers.Dense(32, activation=\"relu\")\n",
        "    ])\n",
        "    self.user_model: tf.keras.layers.Layer = tf.keras.Sequential([\n",
        "      tf.keras.layers.StringLookup(\n",
        "        vocabulary=unique_user_ids, mask_token=None),\n",
        "      tf.keras.layers.Embedding(len(unique_user_ids) + 1, embedding_dimension),\n",
        "      tf.keras.layers.Dense(32, activation=\"relu\")\n",
        "    ])\n",
        "\n",
        "    # A small model to take in user and movie embeddings and predict ratings.\n",
        "    # We can make this as complicated as we want as long as we output a scalar\n",
        "    # as our prediction.\n",
        "    self.rating_model = tf.keras.Sequential([\n",
        "        tf.keras.layers.Dense(16, activation=\"relu\"),\n",
        "        tf.keras.layers.Dense(64, activation=\"relu\"),\n",
        "        tf.keras.layers.Dense(1, activation = \"sigmoid\"),\n",
        "    ])\n",
        "\n",
        "    # The tasks.\n",
        "    self.rating_task: tf.keras.layers.Layer = tfrs.tasks.Ranking(\n",
        "        loss=tf.keras.losses.MeanSquaredError(),\n",
        "        metrics=[tf.keras.metrics.RootMeanSquaredError()],\n",
        "    )\n",
        "    self.retrieval_task: tf.keras.layers.Layer = tfrs.tasks.Retrieval(\n",
        "        metrics=tfrs.metrics.FactorizedTopK(\n",
        "            candidates=locations.batch(128).map(self.location_model)\n",
        "        )\n",
        "    )\n",
        "\n",
        "    # The loss weights.\n",
        "    self.rating_weight = rating_weight\n",
        "    self.retrieval_weight = retrieval_weight\n",
        "\n",
        "  def call(self, features: Dict[Text, tf.Tensor]) -> tf.Tensor:\n",
        "    # We pick out the user features and pass them into the user model.\n",
        "    user_embeddings = self.user_model(features[\"user_id\"])\n",
        "    # And pick out the movie features and pass them into the movie model.\n",
        "    location_embeddings = self.location_model(features[\"location_name\"])\n",
        "    \n",
        "    return (\n",
        "        user_embeddings,\n",
        "        location_embeddings,\n",
        "        # We apply the multi-layered rating model to a concatentation of\n",
        "        # user and movie embeddings.\n",
        "        self.rating_model(\n",
        "            tf.concat([user_embeddings,location_embeddings], axis=1)\n",
        "        ),\n",
        "    )\n",
        "\n",
        "  def compute_loss(self, features: Dict[Text, tf.Tensor], training=False) -> tf.Tensor:\n",
        "\n",
        "    ratings = features.pop(\"add\")\n",
        "\n",
        "    user_embeddings, location_embeddings, rating_predictions = self(features)\n",
        "\n",
        "    # We compute the loss for each task.\n",
        "    rating_loss = self.rating_task(\n",
        "        labels=ratings,\n",
        "        predictions=rating_predictions,\n",
        "    )\n",
        "    retrieval_loss = self.retrieval_task(user_embeddings, location_embeddings)\n",
        "\n",
        "    # And combine them using the loss weights.\n",
        "    return (self.rating_weight * rating_loss\n",
        "            + self.retrieval_weight * retrieval_loss)"
      ],
      "metadata": {
        "id": "SWJfk6gdtyvT"
      },
      "execution_count": 10,
      "outputs": []
    },
    {
      "cell_type": "markdown",
      "source": [
        "### SKIP"
      ],
      "metadata": {
        "id": "1NxltrVLVPR_"
      }
    },
    {
      "cell_type": "code",
      "source": [
        "testModel = tf.keras.Sequential([\n",
        "      tf.keras.layers.StringLookup(\n",
        "        vocabulary=unique_location_name, mask_token=None),\n",
        "      tf.keras.layers.Embedding(len(unique_location_name) + 1, 32),\n",
        "      tf.keras.layers.Dense(32, activation=\"relu\")\n",
        "])"
      ],
      "metadata": {
        "id": "-RV72MCPVQ-B"
      },
      "execution_count": 11,
      "outputs": []
    },
    {
      "cell_type": "code",
      "source": [
        "cek = tf.keras.layers.StringLookup(vocabulary=unique_location_name, mask_token=None)"
      ],
      "metadata": {
        "id": "b4DWPnMvVyiX"
      },
      "execution_count": 12,
      "outputs": []
    },
    {
      "cell_type": "code",
      "source": [
        "unique_location_name"
      ],
      "metadata": {
        "colab": {
          "base_uri": "https://localhost:8080/"
        },
        "id": "sX32kdeyXi8k",
        "outputId": "b6920c79-dd42-45ad-d46f-3c6461322b42"
      },
      "execution_count": null,
      "outputs": [
        {
          "output_type": "execute_result",
          "data": {
            "text/plain": [
              "array([b'AIR TERJUN SIPISO-PISO', b'AKIHABARA', b'ALASKA',\n",
              "       b'AMERIKA SERIKAT', b'ANCOL', b'ASIA TIMUR', b'BALI',\n",
              "       b'BALI TOWER', b'BANDUNG', b'BANGKA BELITUNG', b'BHUTAN',\n",
              "       b'BRANCHSTO BSD', b'CANDI BOROBUDUR', b'CANDI PRAMBANAN',\n",
              "       b'CANGGU', b'CAPADOCIA', b'DANAU SALAR DE UYUNI', b'DANAU TOBA',\n",
              "       b'DENMARK', b'DIENG', b'DISNEY SEA', b'DISNEYLAND PARIS', b'DUBAI',\n",
              "       b'DUFAN', b'EROPA', b'ES KRIM RAGUSA', b'EUROPE',\n",
              "       b'GAMPLONG STUDIO', b'GEOPARK CILETUH', b'GUA GONG',\n",
              "       b'GUA TABUHAN', b'GUMUK PASIR PARANGKUSUMO', b'GUNUNG',\n",
              "       b'GUNUNG AGUNG', b'GUNUNG BROMO', b'GUNUNG FUJI', b'GUNUNG GEDE',\n",
              "       b'GUNUNG PANGRANGO', b'GUNUNG PARANG', b'GUNUNG RINJANI',\n",
              "       b'GUNUNG SEMERU', b'INDONESIA', b'ISRAEL', b'JAKARTA',\n",
              "       b'JAWA BARAT', b'JEPANG', b'JERMAN', b'KATULAMPA RAFTING BOGOR',\n",
              "       b'KENDARI', b'KOREA SELATAN', b'LABUAN BAJO', b'LAMPUNG',\n",
              "       b'LOMBOK', b'LONDON', b'MALANG', b'MALAYSIA', b'MALDIVES',\n",
              "       b'MALIOBORO', b'MALL PAKUWON', b'MARINA BAY STREET CIRCUIT',\n",
              "       b'MEDAN', b'MEKKAH', b'MUSEUM ANGKUT', b'MUSEUM GEOLOGI BANDUNG',\n",
              "       b'MUSEUM GHIBLI', b'MUSEUM IPTEK', b'MUSEUM LOUVRE',\n",
              "       b'MUSEUM MACAN', b'MUSEUM MOJA', b'MUSEUM NASIONAL',\n",
              "       b'MUSEUM NASIONAL IMERSIFA', b'NEW YORK', b'NEW ZEALAND',\n",
              "       b'NUSA DUA', b'NUSA PENIDA', b'NUSA TENGGARA BARAT',\n",
              "       b'NUSAWIRU PARACENTER', b'PALEMBANG', b'PANGANDARAN',\n",
              "       b'PANTAI ANCOL', b'PANTAI KLAYAR', b'PANTAI KUTA',\n",
              "       b'PANTAI SELATAN', b'PANTAI TELENGRIA', b'PANTAI WATU KARUNG',\n",
              "       b'PEMANDIAN AIR PANAS CIATER', b'PERANCIS', b'PERPUSNAS',\n",
              "       b'PONOROGO', b'PRANCIS', b'PULAU KOMODO', b'PULAU PAHAWANG',\n",
              "       b'PULAU SERIBU', b'RAJA AMPAT', b'REYKJAVIK', b'SINGAPURA',\n",
              "       b'SLOVENIA', b'SOLO', b'SUDIRMAN STREET BANDUNG', b'SUMBAR',\n",
              "       b'SURABAYA', b'SWISS', b'SWITZERLAND', b'TAMAN MEKARSARI',\n",
              "       b'TAMAN STRAWBERRY KADUDAMPIT', b'TANGERANG', b'TAPANULI TENGAH',\n",
              "       b'TAWANGMANGU', b'TEBING CITATAH', b'TEGAL', b'THAILAND', b'TOKYO',\n",
              "       b'TOKYO ', b'UJUNG KULON', b'UNIVERSAL STUDIO SINGAPORE',\n",
              "       b'WAKATOBI', b'WALT DISNEY WORLD FLORIDA', b'WATERBOM BALI',\n",
              "       b'YERUSALEM', b'YOGYAKARTA'], dtype=object)"
            ]
          },
          "metadata": {},
          "execution_count": 20
        }
      ]
    },
    {
      "cell_type": "code",
      "source": [
        "cek(tf.constant([['GUNUNG BROMO','DANAU TOBA']])) # 0 means out of vocabulary"
      ],
      "metadata": {
        "colab": {
          "base_uri": "https://localhost:8080/"
        },
        "id": "v1mmjGcCWKIF",
        "outputId": "3194dd36-a476-40e4-d64d-2b97bc73468a"
      },
      "execution_count": null,
      "outputs": [
        {
          "output_type": "execute_result",
          "data": {
            "text/plain": [
              "<tf.Tensor: shape=(1, 2), dtype=int64, numpy=array([[35, 18]])>"
            ]
          },
          "metadata": {},
          "execution_count": 22
        }
      ]
    },
    {
      "cell_type": "markdown",
      "source": [
        "### Rating-specialized model\n",
        "\n",
        "Depending on the weights we assign, the model will encode a different balance of the tasks. Let's start with a model that only considers ratings."
      ],
      "metadata": {
        "id": "2ML-UKVYYMc3"
      }
    },
    {
      "cell_type": "code",
      "source": [
        "model = NoToGoModel(rating_weight=1.0, retrieval_weight=0.0)\n",
        "model.compile(optimizer=tf.keras.optimizers.Adagrad(0.1))"
      ],
      "metadata": {
        "id": "QGP_6PjqYNxV"
      },
      "execution_count": 20,
      "outputs": []
    },
    {
      "cell_type": "code",
      "source": [
        "cached_train = train.shuffle(NUM_DATA).batch(512).cache()\n",
        "cached_test = test.batch(256).cache()"
      ],
      "metadata": {
        "id": "0srnK1mcYXgx"
      },
      "execution_count": 11,
      "outputs": []
    },
    {
      "cell_type": "code",
      "source": [
        "model.fit(cached_train, epochs=3)\n",
        "metrics = model.evaluate(cached_test, return_dict=True)\n",
        "\n",
        "print(f\"Retrieval top-100 accuracy: {metrics['factorized_top_k/top_100_categorical_accuracy']:.3f}.\")\n",
        "print(f\"Ranking RMSE: {metrics['root_mean_squared_error']:.3f}.\")"
      ],
      "metadata": {
        "colab": {
          "base_uri": "https://localhost:8080/"
        },
        "id": "ZyI_1blbYomX",
        "outputId": "7c0f1ce9-f8e5-4bfe-b926-eec113fb009f"
      },
      "execution_count": 15,
      "outputs": [
        {
          "output_type": "stream",
          "name": "stdout",
          "text": [
            "Epoch 1/3\n",
            "43/43 [==============================] - 6s 75ms/step - root_mean_squared_error: 0.4572 - factorized_top_k/top_1_categorical_accuracy: 0.0014 - factorized_top_k/top_5_categorical_accuracy: 0.0373 - factorized_top_k/top_10_categorical_accuracy: 0.0787 - factorized_top_k/top_50_categorical_accuracy: 0.4046 - factorized_top_k/top_100_categorical_accuracy: 0.8098 - loss: 0.2086 - regularization_loss: 0.0000e+00 - total_loss: 0.2086\n",
            "Epoch 2/3\n",
            "43/43 [==============================] - 3s 73ms/step - root_mean_squared_error: 0.4461 - factorized_top_k/top_1_categorical_accuracy: 0.0029 - factorized_top_k/top_5_categorical_accuracy: 0.0390 - factorized_top_k/top_10_categorical_accuracy: 0.0827 - factorized_top_k/top_50_categorical_accuracy: 0.4101 - factorized_top_k/top_100_categorical_accuracy: 0.8152 - loss: 0.1988 - regularization_loss: 0.0000e+00 - total_loss: 0.1988\n",
            "Epoch 3/3\n",
            "43/43 [==============================] - 6s 137ms/step - root_mean_squared_error: 0.4458 - factorized_top_k/top_1_categorical_accuracy: 0.0038 - factorized_top_k/top_5_categorical_accuracy: 0.0393 - factorized_top_k/top_10_categorical_accuracy: 0.0833 - factorized_top_k/top_50_categorical_accuracy: 0.4125 - factorized_top_k/top_100_categorical_accuracy: 0.8164 - loss: 0.1986 - regularization_loss: 0.0000e+00 - total_loss: 0.1986\n",
            "22/22 [==============================] - 4s 94ms/step - root_mean_squared_error: 0.4462 - factorized_top_k/top_1_categorical_accuracy: 0.0069 - factorized_top_k/top_5_categorical_accuracy: 0.0397 - factorized_top_k/top_10_categorical_accuracy: 0.0849 - factorized_top_k/top_50_categorical_accuracy: 0.4137 - factorized_top_k/top_100_categorical_accuracy: 0.8264 - loss: 0.1997 - regularization_loss: 0.0000e+00 - total_loss: 0.1997\n",
            "Retrieval top-100 accuracy: 0.826.\n",
            "Ranking RMSE: 0.446.\n"
          ]
        }
      ]
    },
    {
      "cell_type": "markdown",
      "source": [
        "### Retrieval-specialized model\n",
        "\n",
        "Let's now try a model that focuses on retrieval only."
      ],
      "metadata": {
        "id": "PPdD4CGJY76t"
      }
    },
    {
      "cell_type": "code",
      "source": [
        "model = NoToGoModel(rating_weight=0.0, retrieval_weight=1.0)\n",
        "model.compile(optimizer=tf.keras.optimizers.Adagrad(0.1))"
      ],
      "metadata": {
        "id": "BfiJ8dCWY8PI"
      },
      "execution_count": 12,
      "outputs": []
    },
    {
      "cell_type": "code",
      "source": [
        "model.fit(cached_train, epochs=10)\n",
        "metrics = model.evaluate(cached_test, return_dict=True)\n",
        "\n",
        "print(f\"Retrieval top-100 accuracy: {metrics['factorized_top_k/top_100_categorical_accuracy']:.3f}.\")\n",
        "print(f\"Ranking RMSE: {metrics['root_mean_squared_error']:.3f}.\")"
      ],
      "metadata": {
        "colab": {
          "base_uri": "https://localhost:8080/"
        },
        "id": "3dGpsHhDY-nK",
        "outputId": "bbd26f64-633d-417f-d28d-db04e083074b"
      },
      "execution_count": 13,
      "outputs": [
        {
          "output_type": "stream",
          "name": "stdout",
          "text": [
            "Epoch 1/10\n",
            "43/43 [==============================] - 6s 68ms/step - root_mean_squared_error: 0.5039 - factorized_top_k/top_1_categorical_accuracy: 0.0391 - factorized_top_k/top_5_categorical_accuracy: 0.1327 - factorized_top_k/top_10_categorical_accuracy: 0.2526 - factorized_top_k/top_50_categorical_accuracy: 0.6816 - factorized_top_k/top_100_categorical_accuracy: 0.9046 - loss: 3180.3630 - regularization_loss: 0.0000e+00 - total_loss: 3180.3630\n",
            "Epoch 2/10\n",
            "43/43 [==============================] - 3s 68ms/step - root_mean_squared_error: 0.5034 - factorized_top_k/top_1_categorical_accuracy: 0.2189 - factorized_top_k/top_5_categorical_accuracy: 0.4910 - factorized_top_k/top_10_categorical_accuracy: 0.6025 - factorized_top_k/top_50_categorical_accuracy: 0.9341 - factorized_top_k/top_100_categorical_accuracy: 0.9879 - loss: 3180.2772 - regularization_loss: 0.0000e+00 - total_loss: 3180.2772\n",
            "Epoch 3/10\n",
            "43/43 [==============================] - 3s 68ms/step - root_mean_squared_error: 0.5036 - factorized_top_k/top_1_categorical_accuracy: 0.0622 - factorized_top_k/top_5_categorical_accuracy: 0.3321 - factorized_top_k/top_10_categorical_accuracy: 0.4558 - factorized_top_k/top_50_categorical_accuracy: 0.8539 - factorized_top_k/top_100_categorical_accuracy: 0.9787 - loss: 3180.2192 - regularization_loss: 0.0000e+00 - total_loss: 3180.2192\n",
            "Epoch 4/10\n",
            "43/43 [==============================] - 3s 68ms/step - root_mean_squared_error: 0.5066 - factorized_top_k/top_1_categorical_accuracy: 0.0310 - factorized_top_k/top_5_categorical_accuracy: 0.1008 - factorized_top_k/top_10_categorical_accuracy: 0.1814 - factorized_top_k/top_50_categorical_accuracy: 0.5140 - factorized_top_k/top_100_categorical_accuracy: 0.8717 - loss: 3180.4219 - regularization_loss: 0.0000e+00 - total_loss: 3180.4219\n",
            "Epoch 5/10\n",
            "43/43 [==============================] - 3s 68ms/step - root_mean_squared_error: 0.5055 - factorized_top_k/top_1_categorical_accuracy: 0.1459 - factorized_top_k/top_5_categorical_accuracy: 0.2791 - factorized_top_k/top_10_categorical_accuracy: 0.3911 - factorized_top_k/top_50_categorical_accuracy: 0.7240 - factorized_top_k/top_100_categorical_accuracy: 0.9728 - loss: 3180.0213 - regularization_loss: 0.0000e+00 - total_loss: 3180.0213\n",
            "Epoch 6/10\n",
            "43/43 [==============================] - 3s 67ms/step - root_mean_squared_error: 0.5084 - factorized_top_k/top_1_categorical_accuracy: 0.1893 - factorized_top_k/top_5_categorical_accuracy: 0.3372 - factorized_top_k/top_10_categorical_accuracy: 0.4768 - factorized_top_k/top_50_categorical_accuracy: 0.7690 - factorized_top_k/top_100_categorical_accuracy: 0.9554 - loss: 3179.9128 - regularization_loss: 0.0000e+00 - total_loss: 3179.9128\n",
            "Epoch 7/10\n",
            "43/43 [==============================] - 3s 69ms/step - root_mean_squared_error: 0.5086 - factorized_top_k/top_1_categorical_accuracy: 0.0688 - factorized_top_k/top_5_categorical_accuracy: 0.3772 - factorized_top_k/top_10_categorical_accuracy: 0.4836 - factorized_top_k/top_50_categorical_accuracy: 0.7815 - factorized_top_k/top_100_categorical_accuracy: 0.9599 - loss: 3179.5628 - regularization_loss: 0.0000e+00 - total_loss: 3179.5628\n",
            "Epoch 8/10\n",
            "43/43 [==============================] - 3s 66ms/step - root_mean_squared_error: 0.5103 - factorized_top_k/top_1_categorical_accuracy: 0.2138 - factorized_top_k/top_5_categorical_accuracy: 0.3321 - factorized_top_k/top_10_categorical_accuracy: 0.4165 - factorized_top_k/top_50_categorical_accuracy: 0.7173 - factorized_top_k/top_100_categorical_accuracy: 0.9507 - loss: 3179.0608 - regularization_loss: 0.0000e+00 - total_loss: 3179.0608\n",
            "Epoch 9/10\n",
            "43/43 [==============================] - 3s 67ms/step - root_mean_squared_error: 0.5113 - factorized_top_k/top_1_categorical_accuracy: 0.1438 - factorized_top_k/top_5_categorical_accuracy: 0.2380 - factorized_top_k/top_10_categorical_accuracy: 0.3171 - factorized_top_k/top_50_categorical_accuracy: 0.7265 - factorized_top_k/top_100_categorical_accuracy: 0.9666 - loss: 3178.4977 - regularization_loss: 0.0000e+00 - total_loss: 3178.4977\n",
            "Epoch 10/10\n",
            "43/43 [==============================] - 3s 70ms/step - root_mean_squared_error: 0.5118 - factorized_top_k/top_1_categorical_accuracy: 0.0996 - factorized_top_k/top_5_categorical_accuracy: 0.1741 - factorized_top_k/top_10_categorical_accuracy: 0.2484 - factorized_top_k/top_50_categorical_accuracy: 0.6936 - factorized_top_k/top_100_categorical_accuracy: 0.9659 - loss: 3177.6405 - regularization_loss: 0.0000e+00 - total_loss: 3177.6405\n",
            "22/22 [==============================] - 3s 63ms/step - root_mean_squared_error: 0.5110 - factorized_top_k/top_1_categorical_accuracy: 0.1007 - factorized_top_k/top_5_categorical_accuracy: 0.1453 - factorized_top_k/top_10_categorical_accuracy: 0.2354 - factorized_top_k/top_50_categorical_accuracy: 0.6379 - factorized_top_k/top_100_categorical_accuracy: 0.9454 - loss: 1348.8674 - regularization_loss: 0.0000e+00 - total_loss: 1348.8674\n",
            "Retrieval top-100 accuracy: 0.945.\n",
            "Ranking RMSE: 0.511.\n"
          ]
        }
      ]
    },
    {
      "cell_type": "code",
      "source": [
        "model.evaluate(cached_test, return_dict=True)"
      ],
      "metadata": {
        "id": "PBjDkzcUjX4E",
        "outputId": "970a1eb0-acef-4274-c950-ae31cae6c8de",
        "colab": {
          "base_uri": "https://localhost:8080/"
        }
      },
      "execution_count": 14,
      "outputs": [
        {
          "output_type": "stream",
          "name": "stdout",
          "text": [
            "22/22 [==============================] - 1s 64ms/step - root_mean_squared_error: 0.5110 - factorized_top_k/top_1_categorical_accuracy: 0.1007 - factorized_top_k/top_5_categorical_accuracy: 0.1453 - factorized_top_k/top_10_categorical_accuracy: 0.2354 - factorized_top_k/top_50_categorical_accuracy: 0.6379 - factorized_top_k/top_100_categorical_accuracy: 0.9454 - loss: 1348.8674 - regularization_loss: 0.0000e+00 - total_loss: 1348.8674\n"
          ]
        },
        {
          "output_type": "execute_result",
          "data": {
            "text/plain": [
              "{'factorized_top_k/top_100_categorical_accuracy': 0.9453850388526917,\n",
              " 'factorized_top_k/top_10_categorical_accuracy': 0.23539049923419952,\n",
              " 'factorized_top_k/top_1_categorical_accuracy': 0.10067358613014221,\n",
              " 'factorized_top_k/top_50_categorical_accuracy': 0.6379027962684631,\n",
              " 'factorized_top_k/top_5_categorical_accuracy': 0.1452758014202118,\n",
              " 'loss': 558.7587280273438,\n",
              " 'regularization_loss': 0,\n",
              " 'root_mean_squared_error': 0.5109630823135376,\n",
              " 'total_loss': 558.7587280273438}"
            ]
          },
          "metadata": {},
          "execution_count": 14
        }
      ]
    },
    {
      "cell_type": "code",
      "source": [
        "index = tfrs.layers.factorized_top_k.BruteForce(model.user_model)\n",
        "# recommends movies out of the entire movies dataset.\n",
        "index.index_from_dataset(\n",
        "  tf.data.Dataset.zip((locations.batch(100), locations.batch(100).map(model.location_model)))\n",
        ")\n",
        "\n",
        "# Get recommendations.\n",
        "user_id = \"183\"\n",
        "_, titles = index(tf.constant([user_id]))\n",
        "print(f\"Recommendations for Dimas : {titles[0, :7]}\")"
      ],
      "metadata": {
        "colab": {
          "base_uri": "https://localhost:8080/"
        },
        "id": "9ik9IDPRr8dX",
        "outputId": "d11f3b05-737c-4a76-9d25-255d4f55d9e8"
      },
      "execution_count": 15,
      "outputs": [
        {
          "output_type": "stream",
          "name": "stdout",
          "text": [
            "Recommendations for Dimas : [b'GUNUNG FUJI' b'WAKATOBI' b'PRANCIS' b'LABUAN BAJO' b'TAWANGMANGU'\n",
            " b'BALI TOWER' b'NUSA TENGGARA BARAT']\n"
          ]
        }
      ]
    },
    {
      "cell_type": "markdown",
      "source": [
        "### Joint model\n",
        "\n",
        "Let's now train a model that assigns positive weights to both tasks."
      ],
      "metadata": {
        "id": "mzsVCjY-ZQy7"
      }
    },
    {
      "cell_type": "code",
      "source": [
        "model = MovielensModel(rating_weight=1.0, retrieval_weight=1.0)\n",
        "model.compile(optimizer=tf.keras.optimizers.Adagrad(0.1))"
      ],
      "metadata": {
        "id": "ss0ZFo-0ZRK-"
      },
      "execution_count": null,
      "outputs": []
    },
    {
      "cell_type": "code",
      "source": [
        "model.fit(cached_train, epochs=3)\n",
        "metrics = model.evaluate(cached_test, return_dict=True)\n",
        "\n",
        "print(f\"Retrieval top-100 accuracy: {metrics['factorized_top_k/top_100_categorical_accuracy']:.3f}.\")\n",
        "print(f\"Ranking RMSE: {metrics['root_mean_squared_error']:.3f}.\")"
      ],
      "metadata": {
        "colab": {
          "base_uri": "https://localhost:8080/"
        },
        "id": "4bCxEhoFZT8o",
        "outputId": "618ac0c8-7807-4167-abf6-678bfba8a5ae"
      },
      "execution_count": null,
      "outputs": [
        {
          "output_type": "stream",
          "name": "stdout",
          "text": [
            "Epoch 1/3\n",
            "43/43 [==============================] - 4s 69ms/step - root_mean_squared_error: 0.4551 - factorized_top_k/top_1_categorical_accuracy: 0.0099 - factorized_top_k/top_5_categorical_accuracy: 0.0650 - factorized_top_k/top_10_categorical_accuracy: 0.1283 - factorized_top_k/top_50_categorical_accuracy: 0.5032 - factorized_top_k/top_100_categorical_accuracy: 0.8166 - loss: 3176.1545 - regularization_loss: 0.0000e+00 - total_loss: 3176.1545\n",
            "Epoch 2/3\n",
            "43/43 [==============================] - 3s 71ms/step - root_mean_squared_error: 0.4460 - factorized_top_k/top_1_categorical_accuracy: 0.0100 - factorized_top_k/top_5_categorical_accuracy: 0.0776 - factorized_top_k/top_10_categorical_accuracy: 0.2163 - factorized_top_k/top_50_categorical_accuracy: 0.6746 - factorized_top_k/top_100_categorical_accuracy: 0.9475 - loss: 3176.1255 - regularization_loss: 0.0000e+00 - total_loss: 3176.1255\n",
            "Epoch 3/3\n",
            "43/43 [==============================] - 3s 69ms/step - root_mean_squared_error: 0.4460 - factorized_top_k/top_1_categorical_accuracy: 0.1427 - factorized_top_k/top_5_categorical_accuracy: 0.2344 - factorized_top_k/top_10_categorical_accuracy: 0.4920 - factorized_top_k/top_50_categorical_accuracy: 0.8597 - factorized_top_k/top_100_categorical_accuracy: 0.9830 - loss: 3175.7151 - regularization_loss: 0.0000e+00 - total_loss: 3175.7151\n",
            "22/22 [==============================] - 2s 61ms/step - root_mean_squared_error: 0.4467 - factorized_top_k/top_1_categorical_accuracy: 0.1503 - factorized_top_k/top_5_categorical_accuracy: 0.2337 - factorized_top_k/top_10_categorical_accuracy: 0.2616 - factorized_top_k/top_50_categorical_accuracy: 0.8386 - factorized_top_k/top_100_categorical_accuracy: 0.9650 - loss: 1344.1808 - regularization_loss: 0.0000e+00 - total_loss: 1344.1808\n",
            "Retrieval top-100 accuracy: 0.965.\n",
            "Ranking RMSE: 0.447.\n"
          ]
        }
      ]
    },
    {
      "cell_type": "markdown",
      "source": [
        "## INTERFACE FOR NEW USER"
      ],
      "metadata": {
        "id": "cDnTAKradwOP"
      }
    },
    {
      "cell_type": "code",
      "source": [
        "worksheetCat = gc.open('capstone_dataset').worksheet('category')\n",
        "rows = worksheetCat.get_all_values()\n",
        "dfCategories = pd.DataFrame.from_records(rows[1:], columns=rows[0])\n",
        "list_categories = [i for i in dfCategories['category'] if i != '']\n",
        "worksheetUserFeat = gc.open('capstone_dataset').worksheet('userFeatures(coldstartsol)')\n",
        "rows = worksheetUserFeat.get_all_values()\n",
        "dfUserFeat = pd.DataFrame.from_records(rows[1:], columns=rows[0])"
      ],
      "metadata": {
        "id": "jNQ7bLGed0Z7"
      },
      "execution_count": 16,
      "outputs": []
    },
    {
      "cell_type": "code",
      "source": [
        "last_user_id = dfUserFeat['user_id'].to_list()\n",
        "last_user_id = int(last_user_id[-1]) + 1 \n",
        "\n",
        "def input_user_data():\n",
        "  user_data = {}\n",
        "  # input_name = input(\"Nama: \")\n",
        "  user_data['user_id'] = str(last_user_id)\n",
        "  last_user_ids = last_user_id + 1\n",
        "  user_categories = list()\n",
        "  for i in list_categories:\n",
        "    input_category = int(input(\"{} ? (1: yes, 0: no) : \".format(i)))\n",
        "    if input_category == 1:\n",
        "      user_categories.append(i)\n",
        "  user_data[\"categories\"] = user_categories\n",
        "  return user_data, last_user_ids\n",
        "user_data, last_user_id = input_user_data()"
      ],
      "metadata": {
        "id": "rTmPsti6mnNe"
      },
      "execution_count": null,
      "outputs": []
    },
    {
      "cell_type": "code",
      "source": [
        "def encode_dummy_category(location):\n",
        "  if location == \"beach\":\n",
        "    return 121\n",
        "  if location == \"mountain\":\n",
        "    return 123\n",
        "  if location == \"lake\":\n",
        "    return 124\n",
        "  if location == \"zoo\":\n",
        "    return 125\n",
        "  if location == \"river\":\n",
        "    return 126\n",
        "  if location == \"conservation\":\n",
        "    return 127\n",
        "  if location == \"waterpark\":\n",
        "    return 128\n",
        "  if location == \"waterfall\":\n",
        "    return 129\n",
        "  if location == \"artGallery\":\n",
        "    return 130\n",
        "  if location == \"amusementPark\":\n",
        "    return 131\n",
        "  if location == \"mall\":\n",
        "    return 132\n",
        "  if location == \"HistoricalPlace\":\n",
        "    return 133\n",
        "  if location == \"religious\":\n",
        "    return 134\n",
        "  if location == \"outbond\":\n",
        "    return 135\n",
        "  if location == \"culinary\":\n",
        "    return 136\n",
        "  if location == \"photoHunting\":\n",
        "    return 137\n",
        "  if location == \"sightSeeing\":\n",
        "    return 138\n",
        "  if location == \"shopping\":\n",
        "    return 139"
      ],
      "metadata": {
        "id": "gSkVFHcWtpg-"
      },
      "execution_count": 62,
      "outputs": []
    },
    {
      "cell_type": "code",
      "source": [
        "def create_data_frame(user_data, dfUserFeatcold):\n",
        "  user_id = [user_data['user_id'] for i in list_categories]\n",
        "  like = ['0' for i in list_categories]\n",
        "  categories = list_categories\n",
        "  location = categories\n",
        "  location_id = [encode_dummy_category(i) for i in list_categories]\n",
        "  add = list()\n",
        "  for i in list_categories:\n",
        "    if i in user_data['categories']:\n",
        "      add.append(\"1\")\n",
        "    else:\n",
        "      add.append(\"0\")\n",
        "  data = {'user_id' : user_id, 'like' : like, \"add\" : add, \"category\" : categories, \"location\" : location, \"location_id\" : location_id}\n",
        "  df = pd.DataFrame(data)\n",
        "  df_concat = pd.concat([dfUserFeatcold,df], ignore_index= True)\n",
        "  return df, df_concat   \n"
      ],
      "metadata": {
        "id": "EYFj9hd4qiyZ"
      },
      "execution_count": 81,
      "outputs": []
    },
    {
      "cell_type": "code",
      "source": [
        "df, df_concat = create_data_frame(user_data, dfUserFeat)\n",
        "worksheetUser = gc.open('capstone_dataset').worksheet('userFeatures')\n",
        "set_with_dataframe(worksheetUser, df_concat)"
      ],
      "metadata": {
        "id": "tfJda93yuN0S"
      },
      "execution_count": 84,
      "outputs": []
    }
  ]
}