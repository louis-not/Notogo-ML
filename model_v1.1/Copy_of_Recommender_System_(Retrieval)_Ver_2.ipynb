{
  "nbformat": 4,
  "nbformat_minor": 0,
  "metadata": {
    "colab": {
      "name": "Copy of Recommender System (Retrieval) Ver 2.ipynb",
      "provenance": [],
      "collapsed_sections": [
        "EONqdaBaiumH",
        "u9z7ySLJU-46",
        "Tf9xYlrnVBn8",
        "JmaqAWRnr0gi",
        "KykEIZ-7U7g2"
      ],
      "mount_file_id": "12kXJnwd6U0KVFicER7jFAiDkXbJ1uln7",
      "authorship_tag": "ABX9TyMr5sATeIgYleErUjKjWtpM",
      "include_colab_link": true
    },
    "kernelspec": {
      "name": "python3",
      "display_name": "Python 3"
    },
    "language_info": {
      "name": "python"
    },
    "widgets": {
      "application/vnd.jupyter.widget-state+json": {
        "1e4335471ae44c61ac3e84b0b04a714f": {
          "model_module": "@jupyter-widgets/controls",
          "model_name": "HBoxModel",
          "model_module_version": "1.5.0",
          "state": {
            "_dom_classes": [],
            "_model_module": "@jupyter-widgets/controls",
            "_model_module_version": "1.5.0",
            "_model_name": "HBoxModel",
            "_view_count": null,
            "_view_module": "@jupyter-widgets/controls",
            "_view_module_version": "1.5.0",
            "_view_name": "HBoxView",
            "box_style": "",
            "children": [
              "IPY_MODEL_68f70805798b4d66a76190990c7a0dd9",
              "IPY_MODEL_997f30c49beb4e209c3a4a42b1c25e9a",
              "IPY_MODEL_6eb75ed97c9248048ea39ba974feefd5"
            ],
            "layout": "IPY_MODEL_90229e46fc384e4eadb1f84a0ea892e4"
          }
        },
        "68f70805798b4d66a76190990c7a0dd9": {
          "model_module": "@jupyter-widgets/controls",
          "model_name": "HTMLModel",
          "model_module_version": "1.5.0",
          "state": {
            "_dom_classes": [],
            "_model_module": "@jupyter-widgets/controls",
            "_model_module_version": "1.5.0",
            "_model_name": "HTMLModel",
            "_view_count": null,
            "_view_module": "@jupyter-widgets/controls",
            "_view_module_version": "1.5.0",
            "_view_name": "HTMLView",
            "description": "",
            "description_tooltip": null,
            "layout": "IPY_MODEL_9a503d23da4244f1b3afabe3d511fed7",
            "placeholder": "​",
            "style": "IPY_MODEL_988b97b60c50480992b76fbed6729385",
            "value": "Generating splits...: 100%"
          }
        },
        "997f30c49beb4e209c3a4a42b1c25e9a": {
          "model_module": "@jupyter-widgets/controls",
          "model_name": "FloatProgressModel",
          "model_module_version": "1.5.0",
          "state": {
            "_dom_classes": [],
            "_model_module": "@jupyter-widgets/controls",
            "_model_module_version": "1.5.0",
            "_model_name": "FloatProgressModel",
            "_view_count": null,
            "_view_module": "@jupyter-widgets/controls",
            "_view_module_version": "1.5.0",
            "_view_name": "ProgressView",
            "bar_style": "",
            "description": "",
            "description_tooltip": null,
            "layout": "IPY_MODEL_a16e072f81f84dc18c73ad3783ee1863",
            "max": 2,
            "min": 0,
            "orientation": "horizontal",
            "style": "IPY_MODEL_707c54e575ca40fba32ff4b4af9fb302",
            "value": 2
          }
        },
        "6eb75ed97c9248048ea39ba974feefd5": {
          "model_module": "@jupyter-widgets/controls",
          "model_name": "HTMLModel",
          "model_module_version": "1.5.0",
          "state": {
            "_dom_classes": [],
            "_model_module": "@jupyter-widgets/controls",
            "_model_module_version": "1.5.0",
            "_model_name": "HTMLModel",
            "_view_count": null,
            "_view_module": "@jupyter-widgets/controls",
            "_view_module_version": "1.5.0",
            "_view_name": "HTMLView",
            "description": "",
            "description_tooltip": null,
            "layout": "IPY_MODEL_840a807772444a39acdb31573134777f",
            "placeholder": "​",
            "style": "IPY_MODEL_027b8b34947046f0848f99d9cd72947a",
            "value": " 2/2 [00:04&lt;00:00,  2.00s/ splits]"
          }
        },
        "90229e46fc384e4eadb1f84a0ea892e4": {
          "model_module": "@jupyter-widgets/base",
          "model_name": "LayoutModel",
          "model_module_version": "1.2.0",
          "state": {
            "_model_module": "@jupyter-widgets/base",
            "_model_module_version": "1.2.0",
            "_model_name": "LayoutModel",
            "_view_count": null,
            "_view_module": "@jupyter-widgets/base",
            "_view_module_version": "1.2.0",
            "_view_name": "LayoutView",
            "align_content": null,
            "align_items": null,
            "align_self": null,
            "border": null,
            "bottom": null,
            "display": null,
            "flex": null,
            "flex_flow": null,
            "grid_area": null,
            "grid_auto_columns": null,
            "grid_auto_flow": null,
            "grid_auto_rows": null,
            "grid_column": null,
            "grid_gap": null,
            "grid_row": null,
            "grid_template_areas": null,
            "grid_template_columns": null,
            "grid_template_rows": null,
            "height": null,
            "justify_content": null,
            "justify_items": null,
            "left": null,
            "margin": null,
            "max_height": null,
            "max_width": null,
            "min_height": null,
            "min_width": null,
            "object_fit": null,
            "object_position": null,
            "order": null,
            "overflow": null,
            "overflow_x": null,
            "overflow_y": null,
            "padding": null,
            "right": null,
            "top": null,
            "visibility": null,
            "width": null
          }
        },
        "9a503d23da4244f1b3afabe3d511fed7": {
          "model_module": "@jupyter-widgets/base",
          "model_name": "LayoutModel",
          "model_module_version": "1.2.0",
          "state": {
            "_model_module": "@jupyter-widgets/base",
            "_model_module_version": "1.2.0",
            "_model_name": "LayoutModel",
            "_view_count": null,
            "_view_module": "@jupyter-widgets/base",
            "_view_module_version": "1.2.0",
            "_view_name": "LayoutView",
            "align_content": null,
            "align_items": null,
            "align_self": null,
            "border": null,
            "bottom": null,
            "display": null,
            "flex": null,
            "flex_flow": null,
            "grid_area": null,
            "grid_auto_columns": null,
            "grid_auto_flow": null,
            "grid_auto_rows": null,
            "grid_column": null,
            "grid_gap": null,
            "grid_row": null,
            "grid_template_areas": null,
            "grid_template_columns": null,
            "grid_template_rows": null,
            "height": null,
            "justify_content": null,
            "justify_items": null,
            "left": null,
            "margin": null,
            "max_height": null,
            "max_width": null,
            "min_height": null,
            "min_width": null,
            "object_fit": null,
            "object_position": null,
            "order": null,
            "overflow": null,
            "overflow_x": null,
            "overflow_y": null,
            "padding": null,
            "right": null,
            "top": null,
            "visibility": null,
            "width": null
          }
        },
        "988b97b60c50480992b76fbed6729385": {
          "model_module": "@jupyter-widgets/controls",
          "model_name": "DescriptionStyleModel",
          "model_module_version": "1.5.0",
          "state": {
            "_model_module": "@jupyter-widgets/controls",
            "_model_module_version": "1.5.0",
            "_model_name": "DescriptionStyleModel",
            "_view_count": null,
            "_view_module": "@jupyter-widgets/base",
            "_view_module_version": "1.2.0",
            "_view_name": "StyleView",
            "description_width": ""
          }
        },
        "a16e072f81f84dc18c73ad3783ee1863": {
          "model_module": "@jupyter-widgets/base",
          "model_name": "LayoutModel",
          "model_module_version": "1.2.0",
          "state": {
            "_model_module": "@jupyter-widgets/base",
            "_model_module_version": "1.2.0",
            "_model_name": "LayoutModel",
            "_view_count": null,
            "_view_module": "@jupyter-widgets/base",
            "_view_module_version": "1.2.0",
            "_view_name": "LayoutView",
            "align_content": null,
            "align_items": null,
            "align_self": null,
            "border": null,
            "bottom": null,
            "display": null,
            "flex": null,
            "flex_flow": null,
            "grid_area": null,
            "grid_auto_columns": null,
            "grid_auto_flow": null,
            "grid_auto_rows": null,
            "grid_column": null,
            "grid_gap": null,
            "grid_row": null,
            "grid_template_areas": null,
            "grid_template_columns": null,
            "grid_template_rows": null,
            "height": null,
            "justify_content": null,
            "justify_items": null,
            "left": null,
            "margin": null,
            "max_height": null,
            "max_width": null,
            "min_height": null,
            "min_width": null,
            "object_fit": null,
            "object_position": null,
            "order": null,
            "overflow": null,
            "overflow_x": null,
            "overflow_y": null,
            "padding": null,
            "right": null,
            "top": null,
            "visibility": null,
            "width": null
          }
        },
        "707c54e575ca40fba32ff4b4af9fb302": {
          "model_module": "@jupyter-widgets/controls",
          "model_name": "ProgressStyleModel",
          "model_module_version": "1.5.0",
          "state": {
            "_model_module": "@jupyter-widgets/controls",
            "_model_module_version": "1.5.0",
            "_model_name": "ProgressStyleModel",
            "_view_count": null,
            "_view_module": "@jupyter-widgets/base",
            "_view_module_version": "1.2.0",
            "_view_name": "StyleView",
            "bar_color": null,
            "description_width": ""
          }
        },
        "840a807772444a39acdb31573134777f": {
          "model_module": "@jupyter-widgets/base",
          "model_name": "LayoutModel",
          "model_module_version": "1.2.0",
          "state": {
            "_model_module": "@jupyter-widgets/base",
            "_model_module_version": "1.2.0",
            "_model_name": "LayoutModel",
            "_view_count": null,
            "_view_module": "@jupyter-widgets/base",
            "_view_module_version": "1.2.0",
            "_view_name": "LayoutView",
            "align_content": null,
            "align_items": null,
            "align_self": null,
            "border": null,
            "bottom": null,
            "display": null,
            "flex": null,
            "flex_flow": null,
            "grid_area": null,
            "grid_auto_columns": null,
            "grid_auto_flow": null,
            "grid_auto_rows": null,
            "grid_column": null,
            "grid_gap": null,
            "grid_row": null,
            "grid_template_areas": null,
            "grid_template_columns": null,
            "grid_template_rows": null,
            "height": null,
            "justify_content": null,
            "justify_items": null,
            "left": null,
            "margin": null,
            "max_height": null,
            "max_width": null,
            "min_height": null,
            "min_width": null,
            "object_fit": null,
            "object_position": null,
            "order": null,
            "overflow": null,
            "overflow_x": null,
            "overflow_y": null,
            "padding": null,
            "right": null,
            "top": null,
            "visibility": null,
            "width": null
          }
        },
        "027b8b34947046f0848f99d9cd72947a": {
          "model_module": "@jupyter-widgets/controls",
          "model_name": "DescriptionStyleModel",
          "model_module_version": "1.5.0",
          "state": {
            "_model_module": "@jupyter-widgets/controls",
            "_model_module_version": "1.5.0",
            "_model_name": "DescriptionStyleModel",
            "_view_count": null,
            "_view_module": "@jupyter-widgets/base",
            "_view_module_version": "1.2.0",
            "_view_name": "StyleView",
            "description_width": ""
          }
        },
        "fb96dcf1b4b94c95ba3a62619bba0aed": {
          "model_module": "@jupyter-widgets/controls",
          "model_name": "HBoxModel",
          "model_module_version": "1.5.0",
          "state": {
            "_dom_classes": [],
            "_model_module": "@jupyter-widgets/controls",
            "_model_module_version": "1.5.0",
            "_model_name": "HBoxModel",
            "_view_count": null,
            "_view_module": "@jupyter-widgets/controls",
            "_view_module_version": "1.5.0",
            "_view_name": "HBoxView",
            "box_style": "",
            "children": [
              "IPY_MODEL_ba2dde1ebd2149719b56d99a8ce1640d",
              "IPY_MODEL_495350acbfa645fdb6dfecf07fa963bd",
              "IPY_MODEL_8f8af8fc0ae546f29723605cf23d0334"
            ],
            "layout": "IPY_MODEL_d955015912f642608a33d2bf5ee98f38"
          }
        },
        "ba2dde1ebd2149719b56d99a8ce1640d": {
          "model_module": "@jupyter-widgets/controls",
          "model_name": "HTMLModel",
          "model_module_version": "1.5.0",
          "state": {
            "_dom_classes": [],
            "_model_module": "@jupyter-widgets/controls",
            "_model_module_version": "1.5.0",
            "_model_name": "HTMLModel",
            "_view_count": null,
            "_view_module": "@jupyter-widgets/controls",
            "_view_module_version": "1.5.0",
            "_view_name": "HTMLView",
            "description": "",
            "description_tooltip": null,
            "layout": "IPY_MODEL_c859b2696eb84903afc47b53dd0f05ee",
            "placeholder": "​",
            "style": "IPY_MODEL_6cacd3b7e77c448780e8991b610d6986",
            "value": "Generating train examples...: "
          }
        },
        "495350acbfa645fdb6dfecf07fa963bd": {
          "model_module": "@jupyter-widgets/controls",
          "model_name": "FloatProgressModel",
          "model_module_version": "1.5.0",
          "state": {
            "_dom_classes": [],
            "_model_module": "@jupyter-widgets/controls",
            "_model_module_version": "1.5.0",
            "_model_name": "FloatProgressModel",
            "_view_count": null,
            "_view_module": "@jupyter-widgets/controls",
            "_view_module_version": "1.5.0",
            "_view_name": "ProgressView",
            "bar_style": "info",
            "description": "",
            "description_tooltip": null,
            "layout": "IPY_MODEL_432e18865e32466dbd9ba75ffb33c0ea",
            "max": 1,
            "min": 0,
            "orientation": "horizontal",
            "style": "IPY_MODEL_dcd5f7cdeab04559a6700ef766ddb59a",
            "value": 1
          }
        },
        "8f8af8fc0ae546f29723605cf23d0334": {
          "model_module": "@jupyter-widgets/controls",
          "model_name": "HTMLModel",
          "model_module_version": "1.5.0",
          "state": {
            "_dom_classes": [],
            "_model_module": "@jupyter-widgets/controls",
            "_model_module_version": "1.5.0",
            "_model_name": "HTMLModel",
            "_view_count": null,
            "_view_module": "@jupyter-widgets/controls",
            "_view_module_version": "1.5.0",
            "_view_name": "HTMLView",
            "description": "",
            "description_tooltip": null,
            "layout": "IPY_MODEL_75976a66e6604b6abc0127593bf70b62",
            "placeholder": "​",
            "style": "IPY_MODEL_6ac1681bf28840818cec60f5a20a9794",
            "value": " 9286/? [00:03&lt;00:00, 4088.42 examples/s]"
          }
        },
        "d955015912f642608a33d2bf5ee98f38": {
          "model_module": "@jupyter-widgets/base",
          "model_name": "LayoutModel",
          "model_module_version": "1.2.0",
          "state": {
            "_model_module": "@jupyter-widgets/base",
            "_model_module_version": "1.2.0",
            "_model_name": "LayoutModel",
            "_view_count": null,
            "_view_module": "@jupyter-widgets/base",
            "_view_module_version": "1.2.0",
            "_view_name": "LayoutView",
            "align_content": null,
            "align_items": null,
            "align_self": null,
            "border": null,
            "bottom": null,
            "display": null,
            "flex": null,
            "flex_flow": null,
            "grid_area": null,
            "grid_auto_columns": null,
            "grid_auto_flow": null,
            "grid_auto_rows": null,
            "grid_column": null,
            "grid_gap": null,
            "grid_row": null,
            "grid_template_areas": null,
            "grid_template_columns": null,
            "grid_template_rows": null,
            "height": null,
            "justify_content": null,
            "justify_items": null,
            "left": null,
            "margin": null,
            "max_height": null,
            "max_width": null,
            "min_height": null,
            "min_width": null,
            "object_fit": null,
            "object_position": null,
            "order": null,
            "overflow": null,
            "overflow_x": null,
            "overflow_y": null,
            "padding": null,
            "right": null,
            "top": null,
            "visibility": null,
            "width": null
          }
        },
        "c859b2696eb84903afc47b53dd0f05ee": {
          "model_module": "@jupyter-widgets/base",
          "model_name": "LayoutModel",
          "model_module_version": "1.2.0",
          "state": {
            "_model_module": "@jupyter-widgets/base",
            "_model_module_version": "1.2.0",
            "_model_name": "LayoutModel",
            "_view_count": null,
            "_view_module": "@jupyter-widgets/base",
            "_view_module_version": "1.2.0",
            "_view_name": "LayoutView",
            "align_content": null,
            "align_items": null,
            "align_self": null,
            "border": null,
            "bottom": null,
            "display": null,
            "flex": null,
            "flex_flow": null,
            "grid_area": null,
            "grid_auto_columns": null,
            "grid_auto_flow": null,
            "grid_auto_rows": null,
            "grid_column": null,
            "grid_gap": null,
            "grid_row": null,
            "grid_template_areas": null,
            "grid_template_columns": null,
            "grid_template_rows": null,
            "height": null,
            "justify_content": null,
            "justify_items": null,
            "left": null,
            "margin": null,
            "max_height": null,
            "max_width": null,
            "min_height": null,
            "min_width": null,
            "object_fit": null,
            "object_position": null,
            "order": null,
            "overflow": null,
            "overflow_x": null,
            "overflow_y": null,
            "padding": null,
            "right": null,
            "top": null,
            "visibility": null,
            "width": null
          }
        },
        "6cacd3b7e77c448780e8991b610d6986": {
          "model_module": "@jupyter-widgets/controls",
          "model_name": "DescriptionStyleModel",
          "model_module_version": "1.5.0",
          "state": {
            "_model_module": "@jupyter-widgets/controls",
            "_model_module_version": "1.5.0",
            "_model_name": "DescriptionStyleModel",
            "_view_count": null,
            "_view_module": "@jupyter-widgets/base",
            "_view_module_version": "1.2.0",
            "_view_name": "StyleView",
            "description_width": ""
          }
        },
        "432e18865e32466dbd9ba75ffb33c0ea": {
          "model_module": "@jupyter-widgets/base",
          "model_name": "LayoutModel",
          "model_module_version": "1.2.0",
          "state": {
            "_model_module": "@jupyter-widgets/base",
            "_model_module_version": "1.2.0",
            "_model_name": "LayoutModel",
            "_view_count": null,
            "_view_module": "@jupyter-widgets/base",
            "_view_module_version": "1.2.0",
            "_view_name": "LayoutView",
            "align_content": null,
            "align_items": null,
            "align_self": null,
            "border": null,
            "bottom": null,
            "display": null,
            "flex": null,
            "flex_flow": null,
            "grid_area": null,
            "grid_auto_columns": null,
            "grid_auto_flow": null,
            "grid_auto_rows": null,
            "grid_column": null,
            "grid_gap": null,
            "grid_row": null,
            "grid_template_areas": null,
            "grid_template_columns": null,
            "grid_template_rows": null,
            "height": null,
            "justify_content": null,
            "justify_items": null,
            "left": null,
            "margin": null,
            "max_height": null,
            "max_width": null,
            "min_height": null,
            "min_width": null,
            "object_fit": null,
            "object_position": null,
            "order": null,
            "overflow": null,
            "overflow_x": null,
            "overflow_y": null,
            "padding": null,
            "right": null,
            "top": null,
            "visibility": null,
            "width": "20px"
          }
        },
        "dcd5f7cdeab04559a6700ef766ddb59a": {
          "model_module": "@jupyter-widgets/controls",
          "model_name": "ProgressStyleModel",
          "model_module_version": "1.5.0",
          "state": {
            "_model_module": "@jupyter-widgets/controls",
            "_model_module_version": "1.5.0",
            "_model_name": "ProgressStyleModel",
            "_view_count": null,
            "_view_module": "@jupyter-widgets/base",
            "_view_module_version": "1.2.0",
            "_view_name": "StyleView",
            "bar_color": null,
            "description_width": ""
          }
        },
        "75976a66e6604b6abc0127593bf70b62": {
          "model_module": "@jupyter-widgets/base",
          "model_name": "LayoutModel",
          "model_module_version": "1.2.0",
          "state": {
            "_model_module": "@jupyter-widgets/base",
            "_model_module_version": "1.2.0",
            "_model_name": "LayoutModel",
            "_view_count": null,
            "_view_module": "@jupyter-widgets/base",
            "_view_module_version": "1.2.0",
            "_view_name": "LayoutView",
            "align_content": null,
            "align_items": null,
            "align_self": null,
            "border": null,
            "bottom": null,
            "display": null,
            "flex": null,
            "flex_flow": null,
            "grid_area": null,
            "grid_auto_columns": null,
            "grid_auto_flow": null,
            "grid_auto_rows": null,
            "grid_column": null,
            "grid_gap": null,
            "grid_row": null,
            "grid_template_areas": null,
            "grid_template_columns": null,
            "grid_template_rows": null,
            "height": null,
            "justify_content": null,
            "justify_items": null,
            "left": null,
            "margin": null,
            "max_height": null,
            "max_width": null,
            "min_height": null,
            "min_width": null,
            "object_fit": null,
            "object_position": null,
            "order": null,
            "overflow": null,
            "overflow_x": null,
            "overflow_y": null,
            "padding": null,
            "right": null,
            "top": null,
            "visibility": null,
            "width": null
          }
        },
        "6ac1681bf28840818cec60f5a20a9794": {
          "model_module": "@jupyter-widgets/controls",
          "model_name": "DescriptionStyleModel",
          "model_module_version": "1.5.0",
          "state": {
            "_model_module": "@jupyter-widgets/controls",
            "_model_module_version": "1.5.0",
            "_model_name": "DescriptionStyleModel",
            "_view_count": null,
            "_view_module": "@jupyter-widgets/base",
            "_view_module_version": "1.2.0",
            "_view_name": "StyleView",
            "description_width": ""
          }
        },
        "106ee8a109164ca9a18ff2a40f473c30": {
          "model_module": "@jupyter-widgets/controls",
          "model_name": "HBoxModel",
          "model_module_version": "1.5.0",
          "state": {
            "_dom_classes": [],
            "_model_module": "@jupyter-widgets/controls",
            "_model_module_version": "1.5.0",
            "_model_name": "HBoxModel",
            "_view_count": null,
            "_view_module": "@jupyter-widgets/controls",
            "_view_module_version": "1.5.0",
            "_view_name": "HBoxView",
            "box_style": "",
            "children": [
              "IPY_MODEL_a217ad515ee34a03a0e1bbf2a439e659",
              "IPY_MODEL_3ff123bc38d548a096f07f6a05d0ca77",
              "IPY_MODEL_e6388905401e4d60ad86713de544f132"
            ],
            "layout": "IPY_MODEL_0cf8d97dc1ee46349ee3a95edd6d0657"
          }
        },
        "a217ad515ee34a03a0e1bbf2a439e659": {
          "model_module": "@jupyter-widgets/controls",
          "model_name": "HTMLModel",
          "model_module_version": "1.5.0",
          "state": {
            "_dom_classes": [],
            "_model_module": "@jupyter-widgets/controls",
            "_model_module_version": "1.5.0",
            "_model_name": "HTMLModel",
            "_view_count": null,
            "_view_module": "@jupyter-widgets/controls",
            "_view_module_version": "1.5.0",
            "_view_name": "HTMLView",
            "description": "",
            "description_tooltip": null,
            "layout": "IPY_MODEL_fc1156f32b1843bcbdd90a08313980e2",
            "placeholder": "​",
            "style": "IPY_MODEL_4dd04f7e709e47f2bc9a02c1191817ef",
            "value": "Shuffling /root/tensorflow_datasets/my_dataset/1.0.0.incompleteTPKD04/my_dataset-train.tfrecord*...:   0%"
          }
        },
        "3ff123bc38d548a096f07f6a05d0ca77": {
          "model_module": "@jupyter-widgets/controls",
          "model_name": "FloatProgressModel",
          "model_module_version": "1.5.0",
          "state": {
            "_dom_classes": [],
            "_model_module": "@jupyter-widgets/controls",
            "_model_module_version": "1.5.0",
            "_model_name": "FloatProgressModel",
            "_view_count": null,
            "_view_module": "@jupyter-widgets/controls",
            "_view_module_version": "1.5.0",
            "_view_name": "ProgressView",
            "bar_style": "",
            "description": "",
            "description_tooltip": null,
            "layout": "IPY_MODEL_ed43eb8a3e6641f789e16303c5a2995a",
            "max": 10000,
            "min": 0,
            "orientation": "horizontal",
            "style": "IPY_MODEL_8f5e50e5354b4e96b267e205414f11a6",
            "value": 10000
          }
        },
        "e6388905401e4d60ad86713de544f132": {
          "model_module": "@jupyter-widgets/controls",
          "model_name": "HTMLModel",
          "model_module_version": "1.5.0",
          "state": {
            "_dom_classes": [],
            "_model_module": "@jupyter-widgets/controls",
            "_model_module_version": "1.5.0",
            "_model_name": "HTMLModel",
            "_view_count": null,
            "_view_module": "@jupyter-widgets/controls",
            "_view_module_version": "1.5.0",
            "_view_name": "HTMLView",
            "description": "",
            "description_tooltip": null,
            "layout": "IPY_MODEL_3e22ff9e7d8e4eebbc9dbbdc56082fd8",
            "placeholder": "​",
            "style": "IPY_MODEL_6b96a76232bb455a9ff40a2fe5b8b6c1",
            "value": " 0/10000 [00:00&lt;?, ? examples/s]"
          }
        },
        "0cf8d97dc1ee46349ee3a95edd6d0657": {
          "model_module": "@jupyter-widgets/base",
          "model_name": "LayoutModel",
          "model_module_version": "1.2.0",
          "state": {
            "_model_module": "@jupyter-widgets/base",
            "_model_module_version": "1.2.0",
            "_model_name": "LayoutModel",
            "_view_count": null,
            "_view_module": "@jupyter-widgets/base",
            "_view_module_version": "1.2.0",
            "_view_name": "LayoutView",
            "align_content": null,
            "align_items": null,
            "align_self": null,
            "border": null,
            "bottom": null,
            "display": null,
            "flex": null,
            "flex_flow": null,
            "grid_area": null,
            "grid_auto_columns": null,
            "grid_auto_flow": null,
            "grid_auto_rows": null,
            "grid_column": null,
            "grid_gap": null,
            "grid_row": null,
            "grid_template_areas": null,
            "grid_template_columns": null,
            "grid_template_rows": null,
            "height": null,
            "justify_content": null,
            "justify_items": null,
            "left": null,
            "margin": null,
            "max_height": null,
            "max_width": null,
            "min_height": null,
            "min_width": null,
            "object_fit": null,
            "object_position": null,
            "order": null,
            "overflow": null,
            "overflow_x": null,
            "overflow_y": null,
            "padding": null,
            "right": null,
            "top": null,
            "visibility": null,
            "width": null
          }
        },
        "fc1156f32b1843bcbdd90a08313980e2": {
          "model_module": "@jupyter-widgets/base",
          "model_name": "LayoutModel",
          "model_module_version": "1.2.0",
          "state": {
            "_model_module": "@jupyter-widgets/base",
            "_model_module_version": "1.2.0",
            "_model_name": "LayoutModel",
            "_view_count": null,
            "_view_module": "@jupyter-widgets/base",
            "_view_module_version": "1.2.0",
            "_view_name": "LayoutView",
            "align_content": null,
            "align_items": null,
            "align_self": null,
            "border": null,
            "bottom": null,
            "display": null,
            "flex": null,
            "flex_flow": null,
            "grid_area": null,
            "grid_auto_columns": null,
            "grid_auto_flow": null,
            "grid_auto_rows": null,
            "grid_column": null,
            "grid_gap": null,
            "grid_row": null,
            "grid_template_areas": null,
            "grid_template_columns": null,
            "grid_template_rows": null,
            "height": null,
            "justify_content": null,
            "justify_items": null,
            "left": null,
            "margin": null,
            "max_height": null,
            "max_width": null,
            "min_height": null,
            "min_width": null,
            "object_fit": null,
            "object_position": null,
            "order": null,
            "overflow": null,
            "overflow_x": null,
            "overflow_y": null,
            "padding": null,
            "right": null,
            "top": null,
            "visibility": null,
            "width": null
          }
        },
        "4dd04f7e709e47f2bc9a02c1191817ef": {
          "model_module": "@jupyter-widgets/controls",
          "model_name": "DescriptionStyleModel",
          "model_module_version": "1.5.0",
          "state": {
            "_model_module": "@jupyter-widgets/controls",
            "_model_module_version": "1.5.0",
            "_model_name": "DescriptionStyleModel",
            "_view_count": null,
            "_view_module": "@jupyter-widgets/base",
            "_view_module_version": "1.2.0",
            "_view_name": "StyleView",
            "description_width": ""
          }
        },
        "ed43eb8a3e6641f789e16303c5a2995a": {
          "model_module": "@jupyter-widgets/base",
          "model_name": "LayoutModel",
          "model_module_version": "1.2.0",
          "state": {
            "_model_module": "@jupyter-widgets/base",
            "_model_module_version": "1.2.0",
            "_model_name": "LayoutModel",
            "_view_count": null,
            "_view_module": "@jupyter-widgets/base",
            "_view_module_version": "1.2.0",
            "_view_name": "LayoutView",
            "align_content": null,
            "align_items": null,
            "align_self": null,
            "border": null,
            "bottom": null,
            "display": null,
            "flex": null,
            "flex_flow": null,
            "grid_area": null,
            "grid_auto_columns": null,
            "grid_auto_flow": null,
            "grid_auto_rows": null,
            "grid_column": null,
            "grid_gap": null,
            "grid_row": null,
            "grid_template_areas": null,
            "grid_template_columns": null,
            "grid_template_rows": null,
            "height": null,
            "justify_content": null,
            "justify_items": null,
            "left": null,
            "margin": null,
            "max_height": null,
            "max_width": null,
            "min_height": null,
            "min_width": null,
            "object_fit": null,
            "object_position": null,
            "order": null,
            "overflow": null,
            "overflow_x": null,
            "overflow_y": null,
            "padding": null,
            "right": null,
            "top": null,
            "visibility": null,
            "width": null
          }
        },
        "8f5e50e5354b4e96b267e205414f11a6": {
          "model_module": "@jupyter-widgets/controls",
          "model_name": "ProgressStyleModel",
          "model_module_version": "1.5.0",
          "state": {
            "_model_module": "@jupyter-widgets/controls",
            "_model_module_version": "1.5.0",
            "_model_name": "ProgressStyleModel",
            "_view_count": null,
            "_view_module": "@jupyter-widgets/base",
            "_view_module_version": "1.2.0",
            "_view_name": "StyleView",
            "bar_color": null,
            "description_width": ""
          }
        },
        "3e22ff9e7d8e4eebbc9dbbdc56082fd8": {
          "model_module": "@jupyter-widgets/base",
          "model_name": "LayoutModel",
          "model_module_version": "1.2.0",
          "state": {
            "_model_module": "@jupyter-widgets/base",
            "_model_module_version": "1.2.0",
            "_model_name": "LayoutModel",
            "_view_count": null,
            "_view_module": "@jupyter-widgets/base",
            "_view_module_version": "1.2.0",
            "_view_name": "LayoutView",
            "align_content": null,
            "align_items": null,
            "align_self": null,
            "border": null,
            "bottom": null,
            "display": null,
            "flex": null,
            "flex_flow": null,
            "grid_area": null,
            "grid_auto_columns": null,
            "grid_auto_flow": null,
            "grid_auto_rows": null,
            "grid_column": null,
            "grid_gap": null,
            "grid_row": null,
            "grid_template_areas": null,
            "grid_template_columns": null,
            "grid_template_rows": null,
            "height": null,
            "justify_content": null,
            "justify_items": null,
            "left": null,
            "margin": null,
            "max_height": null,
            "max_width": null,
            "min_height": null,
            "min_width": null,
            "object_fit": null,
            "object_position": null,
            "order": null,
            "overflow": null,
            "overflow_x": null,
            "overflow_y": null,
            "padding": null,
            "right": null,
            "top": null,
            "visibility": null,
            "width": null
          }
        },
        "6b96a76232bb455a9ff40a2fe5b8b6c1": {
          "model_module": "@jupyter-widgets/controls",
          "model_name": "DescriptionStyleModel",
          "model_module_version": "1.5.0",
          "state": {
            "_model_module": "@jupyter-widgets/controls",
            "_model_module_version": "1.5.0",
            "_model_name": "DescriptionStyleModel",
            "_view_count": null,
            "_view_module": "@jupyter-widgets/base",
            "_view_module_version": "1.2.0",
            "_view_name": "StyleView",
            "description_width": ""
          }
        },
        "7a9b76221e5d4edf962efa88ac23371e": {
          "model_module": "@jupyter-widgets/controls",
          "model_name": "HBoxModel",
          "model_module_version": "1.5.0",
          "state": {
            "_dom_classes": [],
            "_model_module": "@jupyter-widgets/controls",
            "_model_module_version": "1.5.0",
            "_model_name": "HBoxModel",
            "_view_count": null,
            "_view_module": "@jupyter-widgets/controls",
            "_view_module_version": "1.5.0",
            "_view_name": "HBoxView",
            "box_style": "",
            "children": [
              "IPY_MODEL_db66f318a98a4f79a45aedf41e1fedf3",
              "IPY_MODEL_7ba443e1f3a440fbb1c0253c75222470",
              "IPY_MODEL_060774759e214aceac1128fd19fc5caa"
            ],
            "layout": "IPY_MODEL_5eb98d26b32e426c82cc8b2bb8383e1a"
          }
        },
        "db66f318a98a4f79a45aedf41e1fedf3": {
          "model_module": "@jupyter-widgets/controls",
          "model_name": "HTMLModel",
          "model_module_version": "1.5.0",
          "state": {
            "_dom_classes": [],
            "_model_module": "@jupyter-widgets/controls",
            "_model_module_version": "1.5.0",
            "_model_name": "HTMLModel",
            "_view_count": null,
            "_view_module": "@jupyter-widgets/controls",
            "_view_module_version": "1.5.0",
            "_view_name": "HTMLView",
            "description": "",
            "description_tooltip": null,
            "layout": "IPY_MODEL_fccd7a0aa1ad4e51a27810c5dab60ac4",
            "placeholder": "​",
            "style": "IPY_MODEL_b4f2fb96e97243129882a452aea2d476",
            "value": "Generating test examples...: "
          }
        },
        "7ba443e1f3a440fbb1c0253c75222470": {
          "model_module": "@jupyter-widgets/controls",
          "model_name": "FloatProgressModel",
          "model_module_version": "1.5.0",
          "state": {
            "_dom_classes": [],
            "_model_module": "@jupyter-widgets/controls",
            "_model_module_version": "1.5.0",
            "_model_name": "FloatProgressModel",
            "_view_count": null,
            "_view_module": "@jupyter-widgets/controls",
            "_view_module_version": "1.5.0",
            "_view_name": "ProgressView",
            "bar_style": "info",
            "description": "",
            "description_tooltip": null,
            "layout": "IPY_MODEL_11bf47995058471dab7587708eb99ec2",
            "max": 1,
            "min": 0,
            "orientation": "horizontal",
            "style": "IPY_MODEL_a4636c419cef47248ea9334b1973d028",
            "value": 1
          }
        },
        "060774759e214aceac1128fd19fc5caa": {
          "model_module": "@jupyter-widgets/controls",
          "model_name": "HTMLModel",
          "model_module_version": "1.5.0",
          "state": {
            "_dom_classes": [],
            "_model_module": "@jupyter-widgets/controls",
            "_model_module_version": "1.5.0",
            "_model_name": "HTMLModel",
            "_view_count": null,
            "_view_module": "@jupyter-widgets/controls",
            "_view_module_version": "1.5.0",
            "_view_name": "HTMLView",
            "description": "",
            "description_tooltip": null,
            "layout": "IPY_MODEL_0ad12ea522ba4671bb9173af145e5d35",
            "placeholder": "​",
            "style": "IPY_MODEL_45fe813e5e684e6998617dc1fa760c2c",
            "value": " 9319/? [00:00&lt;00:00, 11628.88 examples/s]"
          }
        },
        "5eb98d26b32e426c82cc8b2bb8383e1a": {
          "model_module": "@jupyter-widgets/base",
          "model_name": "LayoutModel",
          "model_module_version": "1.2.0",
          "state": {
            "_model_module": "@jupyter-widgets/base",
            "_model_module_version": "1.2.0",
            "_model_name": "LayoutModel",
            "_view_count": null,
            "_view_module": "@jupyter-widgets/base",
            "_view_module_version": "1.2.0",
            "_view_name": "LayoutView",
            "align_content": null,
            "align_items": null,
            "align_self": null,
            "border": null,
            "bottom": null,
            "display": null,
            "flex": null,
            "flex_flow": null,
            "grid_area": null,
            "grid_auto_columns": null,
            "grid_auto_flow": null,
            "grid_auto_rows": null,
            "grid_column": null,
            "grid_gap": null,
            "grid_row": null,
            "grid_template_areas": null,
            "grid_template_columns": null,
            "grid_template_rows": null,
            "height": null,
            "justify_content": null,
            "justify_items": null,
            "left": null,
            "margin": null,
            "max_height": null,
            "max_width": null,
            "min_height": null,
            "min_width": null,
            "object_fit": null,
            "object_position": null,
            "order": null,
            "overflow": null,
            "overflow_x": null,
            "overflow_y": null,
            "padding": null,
            "right": null,
            "top": null,
            "visibility": null,
            "width": null
          }
        },
        "fccd7a0aa1ad4e51a27810c5dab60ac4": {
          "model_module": "@jupyter-widgets/base",
          "model_name": "LayoutModel",
          "model_module_version": "1.2.0",
          "state": {
            "_model_module": "@jupyter-widgets/base",
            "_model_module_version": "1.2.0",
            "_model_name": "LayoutModel",
            "_view_count": null,
            "_view_module": "@jupyter-widgets/base",
            "_view_module_version": "1.2.0",
            "_view_name": "LayoutView",
            "align_content": null,
            "align_items": null,
            "align_self": null,
            "border": null,
            "bottom": null,
            "display": null,
            "flex": null,
            "flex_flow": null,
            "grid_area": null,
            "grid_auto_columns": null,
            "grid_auto_flow": null,
            "grid_auto_rows": null,
            "grid_column": null,
            "grid_gap": null,
            "grid_row": null,
            "grid_template_areas": null,
            "grid_template_columns": null,
            "grid_template_rows": null,
            "height": null,
            "justify_content": null,
            "justify_items": null,
            "left": null,
            "margin": null,
            "max_height": null,
            "max_width": null,
            "min_height": null,
            "min_width": null,
            "object_fit": null,
            "object_position": null,
            "order": null,
            "overflow": null,
            "overflow_x": null,
            "overflow_y": null,
            "padding": null,
            "right": null,
            "top": null,
            "visibility": null,
            "width": null
          }
        },
        "b4f2fb96e97243129882a452aea2d476": {
          "model_module": "@jupyter-widgets/controls",
          "model_name": "DescriptionStyleModel",
          "model_module_version": "1.5.0",
          "state": {
            "_model_module": "@jupyter-widgets/controls",
            "_model_module_version": "1.5.0",
            "_model_name": "DescriptionStyleModel",
            "_view_count": null,
            "_view_module": "@jupyter-widgets/base",
            "_view_module_version": "1.2.0",
            "_view_name": "StyleView",
            "description_width": ""
          }
        },
        "11bf47995058471dab7587708eb99ec2": {
          "model_module": "@jupyter-widgets/base",
          "model_name": "LayoutModel",
          "model_module_version": "1.2.0",
          "state": {
            "_model_module": "@jupyter-widgets/base",
            "_model_module_version": "1.2.0",
            "_model_name": "LayoutModel",
            "_view_count": null,
            "_view_module": "@jupyter-widgets/base",
            "_view_module_version": "1.2.0",
            "_view_name": "LayoutView",
            "align_content": null,
            "align_items": null,
            "align_self": null,
            "border": null,
            "bottom": null,
            "display": null,
            "flex": null,
            "flex_flow": null,
            "grid_area": null,
            "grid_auto_columns": null,
            "grid_auto_flow": null,
            "grid_auto_rows": null,
            "grid_column": null,
            "grid_gap": null,
            "grid_row": null,
            "grid_template_areas": null,
            "grid_template_columns": null,
            "grid_template_rows": null,
            "height": null,
            "justify_content": null,
            "justify_items": null,
            "left": null,
            "margin": null,
            "max_height": null,
            "max_width": null,
            "min_height": null,
            "min_width": null,
            "object_fit": null,
            "object_position": null,
            "order": null,
            "overflow": null,
            "overflow_x": null,
            "overflow_y": null,
            "padding": null,
            "right": null,
            "top": null,
            "visibility": null,
            "width": "20px"
          }
        },
        "a4636c419cef47248ea9334b1973d028": {
          "model_module": "@jupyter-widgets/controls",
          "model_name": "ProgressStyleModel",
          "model_module_version": "1.5.0",
          "state": {
            "_model_module": "@jupyter-widgets/controls",
            "_model_module_version": "1.5.0",
            "_model_name": "ProgressStyleModel",
            "_view_count": null,
            "_view_module": "@jupyter-widgets/base",
            "_view_module_version": "1.2.0",
            "_view_name": "StyleView",
            "bar_color": null,
            "description_width": ""
          }
        },
        "0ad12ea522ba4671bb9173af145e5d35": {
          "model_module": "@jupyter-widgets/base",
          "model_name": "LayoutModel",
          "model_module_version": "1.2.0",
          "state": {
            "_model_module": "@jupyter-widgets/base",
            "_model_module_version": "1.2.0",
            "_model_name": "LayoutModel",
            "_view_count": null,
            "_view_module": "@jupyter-widgets/base",
            "_view_module_version": "1.2.0",
            "_view_name": "LayoutView",
            "align_content": null,
            "align_items": null,
            "align_self": null,
            "border": null,
            "bottom": null,
            "display": null,
            "flex": null,
            "flex_flow": null,
            "grid_area": null,
            "grid_auto_columns": null,
            "grid_auto_flow": null,
            "grid_auto_rows": null,
            "grid_column": null,
            "grid_gap": null,
            "grid_row": null,
            "grid_template_areas": null,
            "grid_template_columns": null,
            "grid_template_rows": null,
            "height": null,
            "justify_content": null,
            "justify_items": null,
            "left": null,
            "margin": null,
            "max_height": null,
            "max_width": null,
            "min_height": null,
            "min_width": null,
            "object_fit": null,
            "object_position": null,
            "order": null,
            "overflow": null,
            "overflow_x": null,
            "overflow_y": null,
            "padding": null,
            "right": null,
            "top": null,
            "visibility": null,
            "width": null
          }
        },
        "45fe813e5e684e6998617dc1fa760c2c": {
          "model_module": "@jupyter-widgets/controls",
          "model_name": "DescriptionStyleModel",
          "model_module_version": "1.5.0",
          "state": {
            "_model_module": "@jupyter-widgets/controls",
            "_model_module_version": "1.5.0",
            "_model_name": "DescriptionStyleModel",
            "_view_count": null,
            "_view_module": "@jupyter-widgets/base",
            "_view_module_version": "1.2.0",
            "_view_name": "StyleView",
            "description_width": ""
          }
        },
        "94f4e7005c8c4964967e14343cd158c5": {
          "model_module": "@jupyter-widgets/controls",
          "model_name": "HBoxModel",
          "model_module_version": "1.5.0",
          "state": {
            "_dom_classes": [],
            "_model_module": "@jupyter-widgets/controls",
            "_model_module_version": "1.5.0",
            "_model_name": "HBoxModel",
            "_view_count": null,
            "_view_module": "@jupyter-widgets/controls",
            "_view_module_version": "1.5.0",
            "_view_name": "HBoxView",
            "box_style": "",
            "children": [
              "IPY_MODEL_194a43c5b67a4fae9af11912acf6f006",
              "IPY_MODEL_8227bd826746473fa67076cf918c15e4",
              "IPY_MODEL_e7368cb5869a498982fbc6eebdbe1e12"
            ],
            "layout": "IPY_MODEL_daefbb51836d4d328b31b5f0aa9c9a8e"
          }
        },
        "194a43c5b67a4fae9af11912acf6f006": {
          "model_module": "@jupyter-widgets/controls",
          "model_name": "HTMLModel",
          "model_module_version": "1.5.0",
          "state": {
            "_dom_classes": [],
            "_model_module": "@jupyter-widgets/controls",
            "_model_module_version": "1.5.0",
            "_model_name": "HTMLModel",
            "_view_count": null,
            "_view_module": "@jupyter-widgets/controls",
            "_view_module_version": "1.5.0",
            "_view_name": "HTMLView",
            "description": "",
            "description_tooltip": null,
            "layout": "IPY_MODEL_54949fab0eba49c394f2393495f471a2",
            "placeholder": "​",
            "style": "IPY_MODEL_fc3acec0ca044c1faaddd5ccce611418",
            "value": "Shuffling /root/tensorflow_datasets/my_dataset/1.0.0.incompleteTPKD04/my_dataset-test.tfrecord*...:   0%"
          }
        },
        "8227bd826746473fa67076cf918c15e4": {
          "model_module": "@jupyter-widgets/controls",
          "model_name": "FloatProgressModel",
          "model_module_version": "1.5.0",
          "state": {
            "_dom_classes": [],
            "_model_module": "@jupyter-widgets/controls",
            "_model_module_version": "1.5.0",
            "_model_name": "FloatProgressModel",
            "_view_count": null,
            "_view_module": "@jupyter-widgets/controls",
            "_view_module_version": "1.5.0",
            "_view_name": "ProgressView",
            "bar_style": "",
            "description": "",
            "description_tooltip": null,
            "layout": "IPY_MODEL_df00f92241204907867bae4b00fd35e0",
            "max": 10000,
            "min": 0,
            "orientation": "horizontal",
            "style": "IPY_MODEL_27f31b815ea4406b9f65e745858c889e",
            "value": 10000
          }
        },
        "e7368cb5869a498982fbc6eebdbe1e12": {
          "model_module": "@jupyter-widgets/controls",
          "model_name": "HTMLModel",
          "model_module_version": "1.5.0",
          "state": {
            "_dom_classes": [],
            "_model_module": "@jupyter-widgets/controls",
            "_model_module_version": "1.5.0",
            "_model_name": "HTMLModel",
            "_view_count": null,
            "_view_module": "@jupyter-widgets/controls",
            "_view_module_version": "1.5.0",
            "_view_name": "HTMLView",
            "description": "",
            "description_tooltip": null,
            "layout": "IPY_MODEL_26d0347517ee4b7ca87c8170c0fa4a06",
            "placeholder": "​",
            "style": "IPY_MODEL_ba127dee1427400082e04c663bf5f2c8",
            "value": " 0/10000 [00:00&lt;?, ? examples/s]"
          }
        },
        "daefbb51836d4d328b31b5f0aa9c9a8e": {
          "model_module": "@jupyter-widgets/base",
          "model_name": "LayoutModel",
          "model_module_version": "1.2.0",
          "state": {
            "_model_module": "@jupyter-widgets/base",
            "_model_module_version": "1.2.0",
            "_model_name": "LayoutModel",
            "_view_count": null,
            "_view_module": "@jupyter-widgets/base",
            "_view_module_version": "1.2.0",
            "_view_name": "LayoutView",
            "align_content": null,
            "align_items": null,
            "align_self": null,
            "border": null,
            "bottom": null,
            "display": null,
            "flex": null,
            "flex_flow": null,
            "grid_area": null,
            "grid_auto_columns": null,
            "grid_auto_flow": null,
            "grid_auto_rows": null,
            "grid_column": null,
            "grid_gap": null,
            "grid_row": null,
            "grid_template_areas": null,
            "grid_template_columns": null,
            "grid_template_rows": null,
            "height": null,
            "justify_content": null,
            "justify_items": null,
            "left": null,
            "margin": null,
            "max_height": null,
            "max_width": null,
            "min_height": null,
            "min_width": null,
            "object_fit": null,
            "object_position": null,
            "order": null,
            "overflow": null,
            "overflow_x": null,
            "overflow_y": null,
            "padding": null,
            "right": null,
            "top": null,
            "visibility": null,
            "width": null
          }
        },
        "54949fab0eba49c394f2393495f471a2": {
          "model_module": "@jupyter-widgets/base",
          "model_name": "LayoutModel",
          "model_module_version": "1.2.0",
          "state": {
            "_model_module": "@jupyter-widgets/base",
            "_model_module_version": "1.2.0",
            "_model_name": "LayoutModel",
            "_view_count": null,
            "_view_module": "@jupyter-widgets/base",
            "_view_module_version": "1.2.0",
            "_view_name": "LayoutView",
            "align_content": null,
            "align_items": null,
            "align_self": null,
            "border": null,
            "bottom": null,
            "display": null,
            "flex": null,
            "flex_flow": null,
            "grid_area": null,
            "grid_auto_columns": null,
            "grid_auto_flow": null,
            "grid_auto_rows": null,
            "grid_column": null,
            "grid_gap": null,
            "grid_row": null,
            "grid_template_areas": null,
            "grid_template_columns": null,
            "grid_template_rows": null,
            "height": null,
            "justify_content": null,
            "justify_items": null,
            "left": null,
            "margin": null,
            "max_height": null,
            "max_width": null,
            "min_height": null,
            "min_width": null,
            "object_fit": null,
            "object_position": null,
            "order": null,
            "overflow": null,
            "overflow_x": null,
            "overflow_y": null,
            "padding": null,
            "right": null,
            "top": null,
            "visibility": null,
            "width": null
          }
        },
        "fc3acec0ca044c1faaddd5ccce611418": {
          "model_module": "@jupyter-widgets/controls",
          "model_name": "DescriptionStyleModel",
          "model_module_version": "1.5.0",
          "state": {
            "_model_module": "@jupyter-widgets/controls",
            "_model_module_version": "1.5.0",
            "_model_name": "DescriptionStyleModel",
            "_view_count": null,
            "_view_module": "@jupyter-widgets/base",
            "_view_module_version": "1.2.0",
            "_view_name": "StyleView",
            "description_width": ""
          }
        },
        "df00f92241204907867bae4b00fd35e0": {
          "model_module": "@jupyter-widgets/base",
          "model_name": "LayoutModel",
          "model_module_version": "1.2.0",
          "state": {
            "_model_module": "@jupyter-widgets/base",
            "_model_module_version": "1.2.0",
            "_model_name": "LayoutModel",
            "_view_count": null,
            "_view_module": "@jupyter-widgets/base",
            "_view_module_version": "1.2.0",
            "_view_name": "LayoutView",
            "align_content": null,
            "align_items": null,
            "align_self": null,
            "border": null,
            "bottom": null,
            "display": null,
            "flex": null,
            "flex_flow": null,
            "grid_area": null,
            "grid_auto_columns": null,
            "grid_auto_flow": null,
            "grid_auto_rows": null,
            "grid_column": null,
            "grid_gap": null,
            "grid_row": null,
            "grid_template_areas": null,
            "grid_template_columns": null,
            "grid_template_rows": null,
            "height": null,
            "justify_content": null,
            "justify_items": null,
            "left": null,
            "margin": null,
            "max_height": null,
            "max_width": null,
            "min_height": null,
            "min_width": null,
            "object_fit": null,
            "object_position": null,
            "order": null,
            "overflow": null,
            "overflow_x": null,
            "overflow_y": null,
            "padding": null,
            "right": null,
            "top": null,
            "visibility": null,
            "width": null
          }
        },
        "27f31b815ea4406b9f65e745858c889e": {
          "model_module": "@jupyter-widgets/controls",
          "model_name": "ProgressStyleModel",
          "model_module_version": "1.5.0",
          "state": {
            "_model_module": "@jupyter-widgets/controls",
            "_model_module_version": "1.5.0",
            "_model_name": "ProgressStyleModel",
            "_view_count": null,
            "_view_module": "@jupyter-widgets/base",
            "_view_module_version": "1.2.0",
            "_view_name": "StyleView",
            "bar_color": null,
            "description_width": ""
          }
        },
        "26d0347517ee4b7ca87c8170c0fa4a06": {
          "model_module": "@jupyter-widgets/base",
          "model_name": "LayoutModel",
          "model_module_version": "1.2.0",
          "state": {
            "_model_module": "@jupyter-widgets/base",
            "_model_module_version": "1.2.0",
            "_model_name": "LayoutModel",
            "_view_count": null,
            "_view_module": "@jupyter-widgets/base",
            "_view_module_version": "1.2.0",
            "_view_name": "LayoutView",
            "align_content": null,
            "align_items": null,
            "align_self": null,
            "border": null,
            "bottom": null,
            "display": null,
            "flex": null,
            "flex_flow": null,
            "grid_area": null,
            "grid_auto_columns": null,
            "grid_auto_flow": null,
            "grid_auto_rows": null,
            "grid_column": null,
            "grid_gap": null,
            "grid_row": null,
            "grid_template_areas": null,
            "grid_template_columns": null,
            "grid_template_rows": null,
            "height": null,
            "justify_content": null,
            "justify_items": null,
            "left": null,
            "margin": null,
            "max_height": null,
            "max_width": null,
            "min_height": null,
            "min_width": null,
            "object_fit": null,
            "object_position": null,
            "order": null,
            "overflow": null,
            "overflow_x": null,
            "overflow_y": null,
            "padding": null,
            "right": null,
            "top": null,
            "visibility": null,
            "width": null
          }
        },
        "ba127dee1427400082e04c663bf5f2c8": {
          "model_module": "@jupyter-widgets/controls",
          "model_name": "DescriptionStyleModel",
          "model_module_version": "1.5.0",
          "state": {
            "_model_module": "@jupyter-widgets/controls",
            "_model_module_version": "1.5.0",
            "_model_name": "DescriptionStyleModel",
            "_view_count": null,
            "_view_module": "@jupyter-widgets/base",
            "_view_module_version": "1.2.0",
            "_view_name": "StyleView",
            "description_width": ""
          }
        },
        "4a6b4f8620d246189b94f6e270783797": {
          "model_module": "@jupyter-widgets/controls",
          "model_name": "HBoxModel",
          "model_module_version": "1.5.0",
          "state": {
            "_dom_classes": [],
            "_model_module": "@jupyter-widgets/controls",
            "_model_module_version": "1.5.0",
            "_model_name": "HBoxModel",
            "_view_count": null,
            "_view_module": "@jupyter-widgets/controls",
            "_view_module_version": "1.5.0",
            "_view_name": "HBoxView",
            "box_style": "",
            "children": [
              "IPY_MODEL_67592ce317304fa9b055a150a9d7949e",
              "IPY_MODEL_2468f9c3a71b4c7b9b3dcf6051de49a0",
              "IPY_MODEL_2007e1908aaf4477a0363faadd12f4f4"
            ],
            "layout": "IPY_MODEL_b52c5a0fa4164879b3a21b86f4b9abae"
          }
        },
        "67592ce317304fa9b055a150a9d7949e": {
          "model_module": "@jupyter-widgets/controls",
          "model_name": "HTMLModel",
          "model_module_version": "1.5.0",
          "state": {
            "_dom_classes": [],
            "_model_module": "@jupyter-widgets/controls",
            "_model_module_version": "1.5.0",
            "_model_name": "HTMLModel",
            "_view_count": null,
            "_view_module": "@jupyter-widgets/controls",
            "_view_module_version": "1.5.0",
            "_view_name": "HTMLView",
            "description": "",
            "description_tooltip": null,
            "layout": "IPY_MODEL_a9dab1bf8b88473daa3a28e411729b3e",
            "placeholder": "​",
            "style": "IPY_MODEL_8dd925c856444c998e764f51bfb75455",
            "value": "Generating splits...: 100%"
          }
        },
        "2468f9c3a71b4c7b9b3dcf6051de49a0": {
          "model_module": "@jupyter-widgets/controls",
          "model_name": "FloatProgressModel",
          "model_module_version": "1.5.0",
          "state": {
            "_dom_classes": [],
            "_model_module": "@jupyter-widgets/controls",
            "_model_module_version": "1.5.0",
            "_model_name": "FloatProgressModel",
            "_view_count": null,
            "_view_module": "@jupyter-widgets/controls",
            "_view_module_version": "1.5.0",
            "_view_name": "ProgressView",
            "bar_style": "",
            "description": "",
            "description_tooltip": null,
            "layout": "IPY_MODEL_44a9695e581449b088cfd85e509985e3",
            "max": 1,
            "min": 0,
            "orientation": "horizontal",
            "style": "IPY_MODEL_8eb29f0a96bb4f4ba230a015d5cb897e",
            "value": 1
          }
        },
        "2007e1908aaf4477a0363faadd12f4f4": {
          "model_module": "@jupyter-widgets/controls",
          "model_name": "HTMLModel",
          "model_module_version": "1.5.0",
          "state": {
            "_dom_classes": [],
            "_model_module": "@jupyter-widgets/controls",
            "_model_module_version": "1.5.0",
            "_model_name": "HTMLModel",
            "_view_count": null,
            "_view_module": "@jupyter-widgets/controls",
            "_view_module_version": "1.5.0",
            "_view_name": "HTMLView",
            "description": "",
            "description_tooltip": null,
            "layout": "IPY_MODEL_337d2beaf6d54e5da0223ddccc43a877",
            "placeholder": "​",
            "style": "IPY_MODEL_a434ba9cdcd540c6a590822646843191",
            "value": " 1/1 [00:00&lt;00:00,  5.28 splits/s]"
          }
        },
        "b52c5a0fa4164879b3a21b86f4b9abae": {
          "model_module": "@jupyter-widgets/base",
          "model_name": "LayoutModel",
          "model_module_version": "1.2.0",
          "state": {
            "_model_module": "@jupyter-widgets/base",
            "_model_module_version": "1.2.0",
            "_model_name": "LayoutModel",
            "_view_count": null,
            "_view_module": "@jupyter-widgets/base",
            "_view_module_version": "1.2.0",
            "_view_name": "LayoutView",
            "align_content": null,
            "align_items": null,
            "align_self": null,
            "border": null,
            "bottom": null,
            "display": null,
            "flex": null,
            "flex_flow": null,
            "grid_area": null,
            "grid_auto_columns": null,
            "grid_auto_flow": null,
            "grid_auto_rows": null,
            "grid_column": null,
            "grid_gap": null,
            "grid_row": null,
            "grid_template_areas": null,
            "grid_template_columns": null,
            "grid_template_rows": null,
            "height": null,
            "justify_content": null,
            "justify_items": null,
            "left": null,
            "margin": null,
            "max_height": null,
            "max_width": null,
            "min_height": null,
            "min_width": null,
            "object_fit": null,
            "object_position": null,
            "order": null,
            "overflow": null,
            "overflow_x": null,
            "overflow_y": null,
            "padding": null,
            "right": null,
            "top": null,
            "visibility": null,
            "width": null
          }
        },
        "a9dab1bf8b88473daa3a28e411729b3e": {
          "model_module": "@jupyter-widgets/base",
          "model_name": "LayoutModel",
          "model_module_version": "1.2.0",
          "state": {
            "_model_module": "@jupyter-widgets/base",
            "_model_module_version": "1.2.0",
            "_model_name": "LayoutModel",
            "_view_count": null,
            "_view_module": "@jupyter-widgets/base",
            "_view_module_version": "1.2.0",
            "_view_name": "LayoutView",
            "align_content": null,
            "align_items": null,
            "align_self": null,
            "border": null,
            "bottom": null,
            "display": null,
            "flex": null,
            "flex_flow": null,
            "grid_area": null,
            "grid_auto_columns": null,
            "grid_auto_flow": null,
            "grid_auto_rows": null,
            "grid_column": null,
            "grid_gap": null,
            "grid_row": null,
            "grid_template_areas": null,
            "grid_template_columns": null,
            "grid_template_rows": null,
            "height": null,
            "justify_content": null,
            "justify_items": null,
            "left": null,
            "margin": null,
            "max_height": null,
            "max_width": null,
            "min_height": null,
            "min_width": null,
            "object_fit": null,
            "object_position": null,
            "order": null,
            "overflow": null,
            "overflow_x": null,
            "overflow_y": null,
            "padding": null,
            "right": null,
            "top": null,
            "visibility": null,
            "width": null
          }
        },
        "8dd925c856444c998e764f51bfb75455": {
          "model_module": "@jupyter-widgets/controls",
          "model_name": "DescriptionStyleModel",
          "model_module_version": "1.5.0",
          "state": {
            "_model_module": "@jupyter-widgets/controls",
            "_model_module_version": "1.5.0",
            "_model_name": "DescriptionStyleModel",
            "_view_count": null,
            "_view_module": "@jupyter-widgets/base",
            "_view_module_version": "1.2.0",
            "_view_name": "StyleView",
            "description_width": ""
          }
        },
        "44a9695e581449b088cfd85e509985e3": {
          "model_module": "@jupyter-widgets/base",
          "model_name": "LayoutModel",
          "model_module_version": "1.2.0",
          "state": {
            "_model_module": "@jupyter-widgets/base",
            "_model_module_version": "1.2.0",
            "_model_name": "LayoutModel",
            "_view_count": null,
            "_view_module": "@jupyter-widgets/base",
            "_view_module_version": "1.2.0",
            "_view_name": "LayoutView",
            "align_content": null,
            "align_items": null,
            "align_self": null,
            "border": null,
            "bottom": null,
            "display": null,
            "flex": null,
            "flex_flow": null,
            "grid_area": null,
            "grid_auto_columns": null,
            "grid_auto_flow": null,
            "grid_auto_rows": null,
            "grid_column": null,
            "grid_gap": null,
            "grid_row": null,
            "grid_template_areas": null,
            "grid_template_columns": null,
            "grid_template_rows": null,
            "height": null,
            "justify_content": null,
            "justify_items": null,
            "left": null,
            "margin": null,
            "max_height": null,
            "max_width": null,
            "min_height": null,
            "min_width": null,
            "object_fit": null,
            "object_position": null,
            "order": null,
            "overflow": null,
            "overflow_x": null,
            "overflow_y": null,
            "padding": null,
            "right": null,
            "top": null,
            "visibility": null,
            "width": null
          }
        },
        "8eb29f0a96bb4f4ba230a015d5cb897e": {
          "model_module": "@jupyter-widgets/controls",
          "model_name": "ProgressStyleModel",
          "model_module_version": "1.5.0",
          "state": {
            "_model_module": "@jupyter-widgets/controls",
            "_model_module_version": "1.5.0",
            "_model_name": "ProgressStyleModel",
            "_view_count": null,
            "_view_module": "@jupyter-widgets/base",
            "_view_module_version": "1.2.0",
            "_view_name": "StyleView",
            "bar_color": null,
            "description_width": ""
          }
        },
        "337d2beaf6d54e5da0223ddccc43a877": {
          "model_module": "@jupyter-widgets/base",
          "model_name": "LayoutModel",
          "model_module_version": "1.2.0",
          "state": {
            "_model_module": "@jupyter-widgets/base",
            "_model_module_version": "1.2.0",
            "_model_name": "LayoutModel",
            "_view_count": null,
            "_view_module": "@jupyter-widgets/base",
            "_view_module_version": "1.2.0",
            "_view_name": "LayoutView",
            "align_content": null,
            "align_items": null,
            "align_self": null,
            "border": null,
            "bottom": null,
            "display": null,
            "flex": null,
            "flex_flow": null,
            "grid_area": null,
            "grid_auto_columns": null,
            "grid_auto_flow": null,
            "grid_auto_rows": null,
            "grid_column": null,
            "grid_gap": null,
            "grid_row": null,
            "grid_template_areas": null,
            "grid_template_columns": null,
            "grid_template_rows": null,
            "height": null,
            "justify_content": null,
            "justify_items": null,
            "left": null,
            "margin": null,
            "max_height": null,
            "max_width": null,
            "min_height": null,
            "min_width": null,
            "object_fit": null,
            "object_position": null,
            "order": null,
            "overflow": null,
            "overflow_x": null,
            "overflow_y": null,
            "padding": null,
            "right": null,
            "top": null,
            "visibility": null,
            "width": null
          }
        },
        "a434ba9cdcd540c6a590822646843191": {
          "model_module": "@jupyter-widgets/controls",
          "model_name": "DescriptionStyleModel",
          "model_module_version": "1.5.0",
          "state": {
            "_model_module": "@jupyter-widgets/controls",
            "_model_module_version": "1.5.0",
            "_model_name": "DescriptionStyleModel",
            "_view_count": null,
            "_view_module": "@jupyter-widgets/base",
            "_view_module_version": "1.2.0",
            "_view_name": "StyleView",
            "description_width": ""
          }
        },
        "9ae1c6a408fc495483352f202e41cdc9": {
          "model_module": "@jupyter-widgets/controls",
          "model_name": "HBoxModel",
          "model_module_version": "1.5.0",
          "state": {
            "_dom_classes": [],
            "_model_module": "@jupyter-widgets/controls",
            "_model_module_version": "1.5.0",
            "_model_name": "HBoxModel",
            "_view_count": null,
            "_view_module": "@jupyter-widgets/controls",
            "_view_module_version": "1.5.0",
            "_view_name": "HBoxView",
            "box_style": "",
            "children": [
              "IPY_MODEL_42516c11cac54c1baef13cf7db146ed9",
              "IPY_MODEL_7a8a0668b61748beb58beed0c3daf97d",
              "IPY_MODEL_1400561622f84a869aaa30ba4657b24b"
            ],
            "layout": "IPY_MODEL_c62f7a5f9cbf4bcf844652cb68841f3e"
          }
        },
        "42516c11cac54c1baef13cf7db146ed9": {
          "model_module": "@jupyter-widgets/controls",
          "model_name": "HTMLModel",
          "model_module_version": "1.5.0",
          "state": {
            "_dom_classes": [],
            "_model_module": "@jupyter-widgets/controls",
            "_model_module_version": "1.5.0",
            "_model_name": "HTMLModel",
            "_view_count": null,
            "_view_module": "@jupyter-widgets/controls",
            "_view_module_version": "1.5.0",
            "_view_name": "HTMLView",
            "description": "",
            "description_tooltip": null,
            "layout": "IPY_MODEL_d55785c595004e92906bf79c51fcd474",
            "placeholder": "​",
            "style": "IPY_MODEL_dab97183bd95446195feddd84ad52d6d",
            "value": "Generating train examples...: "
          }
        },
        "7a8a0668b61748beb58beed0c3daf97d": {
          "model_module": "@jupyter-widgets/controls",
          "model_name": "FloatProgressModel",
          "model_module_version": "1.5.0",
          "state": {
            "_dom_classes": [],
            "_model_module": "@jupyter-widgets/controls",
            "_model_module_version": "1.5.0",
            "_model_name": "FloatProgressModel",
            "_view_count": null,
            "_view_module": "@jupyter-widgets/controls",
            "_view_module_version": "1.5.0",
            "_view_name": "ProgressView",
            "bar_style": "info",
            "description": "",
            "description_tooltip": null,
            "layout": "IPY_MODEL_9a6b3691d57945deb6dd0c76e4690c26",
            "max": 1,
            "min": 0,
            "orientation": "horizontal",
            "style": "IPY_MODEL_01b812afc1254199a0dd69456918eb07",
            "value": 1
          }
        },
        "1400561622f84a869aaa30ba4657b24b": {
          "model_module": "@jupyter-widgets/controls",
          "model_name": "HTMLModel",
          "model_module_version": "1.5.0",
          "state": {
            "_dom_classes": [],
            "_model_module": "@jupyter-widgets/controls",
            "_model_module_version": "1.5.0",
            "_model_name": "HTMLModel",
            "_view_count": null,
            "_view_module": "@jupyter-widgets/controls",
            "_view_module_version": "1.5.0",
            "_view_name": "HTMLView",
            "description": "",
            "description_tooltip": null,
            "layout": "IPY_MODEL_e87155209d2c4376932dbc56c8d00f61",
            "placeholder": "​",
            "style": "IPY_MODEL_5d6c9d19fbbb44c5952f192e6feaa44e",
            "value": " 0/? [00:00&lt;?, ? examples/s]"
          }
        },
        "c62f7a5f9cbf4bcf844652cb68841f3e": {
          "model_module": "@jupyter-widgets/base",
          "model_name": "LayoutModel",
          "model_module_version": "1.2.0",
          "state": {
            "_model_module": "@jupyter-widgets/base",
            "_model_module_version": "1.2.0",
            "_model_name": "LayoutModel",
            "_view_count": null,
            "_view_module": "@jupyter-widgets/base",
            "_view_module_version": "1.2.0",
            "_view_name": "LayoutView",
            "align_content": null,
            "align_items": null,
            "align_self": null,
            "border": null,
            "bottom": null,
            "display": null,
            "flex": null,
            "flex_flow": null,
            "grid_area": null,
            "grid_auto_columns": null,
            "grid_auto_flow": null,
            "grid_auto_rows": null,
            "grid_column": null,
            "grid_gap": null,
            "grid_row": null,
            "grid_template_areas": null,
            "grid_template_columns": null,
            "grid_template_rows": null,
            "height": null,
            "justify_content": null,
            "justify_items": null,
            "left": null,
            "margin": null,
            "max_height": null,
            "max_width": null,
            "min_height": null,
            "min_width": null,
            "object_fit": null,
            "object_position": null,
            "order": null,
            "overflow": null,
            "overflow_x": null,
            "overflow_y": null,
            "padding": null,
            "right": null,
            "top": null,
            "visibility": null,
            "width": null
          }
        },
        "d55785c595004e92906bf79c51fcd474": {
          "model_module": "@jupyter-widgets/base",
          "model_name": "LayoutModel",
          "model_module_version": "1.2.0",
          "state": {
            "_model_module": "@jupyter-widgets/base",
            "_model_module_version": "1.2.0",
            "_model_name": "LayoutModel",
            "_view_count": null,
            "_view_module": "@jupyter-widgets/base",
            "_view_module_version": "1.2.0",
            "_view_name": "LayoutView",
            "align_content": null,
            "align_items": null,
            "align_self": null,
            "border": null,
            "bottom": null,
            "display": null,
            "flex": null,
            "flex_flow": null,
            "grid_area": null,
            "grid_auto_columns": null,
            "grid_auto_flow": null,
            "grid_auto_rows": null,
            "grid_column": null,
            "grid_gap": null,
            "grid_row": null,
            "grid_template_areas": null,
            "grid_template_columns": null,
            "grid_template_rows": null,
            "height": null,
            "justify_content": null,
            "justify_items": null,
            "left": null,
            "margin": null,
            "max_height": null,
            "max_width": null,
            "min_height": null,
            "min_width": null,
            "object_fit": null,
            "object_position": null,
            "order": null,
            "overflow": null,
            "overflow_x": null,
            "overflow_y": null,
            "padding": null,
            "right": null,
            "top": null,
            "visibility": null,
            "width": null
          }
        },
        "dab97183bd95446195feddd84ad52d6d": {
          "model_module": "@jupyter-widgets/controls",
          "model_name": "DescriptionStyleModel",
          "model_module_version": "1.5.0",
          "state": {
            "_model_module": "@jupyter-widgets/controls",
            "_model_module_version": "1.5.0",
            "_model_name": "DescriptionStyleModel",
            "_view_count": null,
            "_view_module": "@jupyter-widgets/base",
            "_view_module_version": "1.2.0",
            "_view_name": "StyleView",
            "description_width": ""
          }
        },
        "9a6b3691d57945deb6dd0c76e4690c26": {
          "model_module": "@jupyter-widgets/base",
          "model_name": "LayoutModel",
          "model_module_version": "1.2.0",
          "state": {
            "_model_module": "@jupyter-widgets/base",
            "_model_module_version": "1.2.0",
            "_model_name": "LayoutModel",
            "_view_count": null,
            "_view_module": "@jupyter-widgets/base",
            "_view_module_version": "1.2.0",
            "_view_name": "LayoutView",
            "align_content": null,
            "align_items": null,
            "align_self": null,
            "border": null,
            "bottom": null,
            "display": null,
            "flex": null,
            "flex_flow": null,
            "grid_area": null,
            "grid_auto_columns": null,
            "grid_auto_flow": null,
            "grid_auto_rows": null,
            "grid_column": null,
            "grid_gap": null,
            "grid_row": null,
            "grid_template_areas": null,
            "grid_template_columns": null,
            "grid_template_rows": null,
            "height": null,
            "justify_content": null,
            "justify_items": null,
            "left": null,
            "margin": null,
            "max_height": null,
            "max_width": null,
            "min_height": null,
            "min_width": null,
            "object_fit": null,
            "object_position": null,
            "order": null,
            "overflow": null,
            "overflow_x": null,
            "overflow_y": null,
            "padding": null,
            "right": null,
            "top": null,
            "visibility": null,
            "width": "20px"
          }
        },
        "01b812afc1254199a0dd69456918eb07": {
          "model_module": "@jupyter-widgets/controls",
          "model_name": "ProgressStyleModel",
          "model_module_version": "1.5.0",
          "state": {
            "_model_module": "@jupyter-widgets/controls",
            "_model_module_version": "1.5.0",
            "_model_name": "ProgressStyleModel",
            "_view_count": null,
            "_view_module": "@jupyter-widgets/base",
            "_view_module_version": "1.2.0",
            "_view_name": "StyleView",
            "bar_color": null,
            "description_width": ""
          }
        },
        "e87155209d2c4376932dbc56c8d00f61": {
          "model_module": "@jupyter-widgets/base",
          "model_name": "LayoutModel",
          "model_module_version": "1.2.0",
          "state": {
            "_model_module": "@jupyter-widgets/base",
            "_model_module_version": "1.2.0",
            "_model_name": "LayoutModel",
            "_view_count": null,
            "_view_module": "@jupyter-widgets/base",
            "_view_module_version": "1.2.0",
            "_view_name": "LayoutView",
            "align_content": null,
            "align_items": null,
            "align_self": null,
            "border": null,
            "bottom": null,
            "display": null,
            "flex": null,
            "flex_flow": null,
            "grid_area": null,
            "grid_auto_columns": null,
            "grid_auto_flow": null,
            "grid_auto_rows": null,
            "grid_column": null,
            "grid_gap": null,
            "grid_row": null,
            "grid_template_areas": null,
            "grid_template_columns": null,
            "grid_template_rows": null,
            "height": null,
            "justify_content": null,
            "justify_items": null,
            "left": null,
            "margin": null,
            "max_height": null,
            "max_width": null,
            "min_height": null,
            "min_width": null,
            "object_fit": null,
            "object_position": null,
            "order": null,
            "overflow": null,
            "overflow_x": null,
            "overflow_y": null,
            "padding": null,
            "right": null,
            "top": null,
            "visibility": null,
            "width": null
          }
        },
        "5d6c9d19fbbb44c5952f192e6feaa44e": {
          "model_module": "@jupyter-widgets/controls",
          "model_name": "DescriptionStyleModel",
          "model_module_version": "1.5.0",
          "state": {
            "_model_module": "@jupyter-widgets/controls",
            "_model_module_version": "1.5.0",
            "_model_name": "DescriptionStyleModel",
            "_view_count": null,
            "_view_module": "@jupyter-widgets/base",
            "_view_module_version": "1.2.0",
            "_view_name": "StyleView",
            "description_width": ""
          }
        },
        "b18bcc0bdbab4eea9414b58ba7801f13": {
          "model_module": "@jupyter-widgets/controls",
          "model_name": "HBoxModel",
          "model_module_version": "1.5.0",
          "state": {
            "_dom_classes": [],
            "_model_module": "@jupyter-widgets/controls",
            "_model_module_version": "1.5.0",
            "_model_name": "HBoxModel",
            "_view_count": null,
            "_view_module": "@jupyter-widgets/controls",
            "_view_module_version": "1.5.0",
            "_view_name": "HBoxView",
            "box_style": "",
            "children": [
              "IPY_MODEL_2e76e6c066b441dbb466d7ec378642e7",
              "IPY_MODEL_39d8a7befefe46c7b76190bec1472236",
              "IPY_MODEL_155b709af824401eaf51a6adb2c3a6d2"
            ],
            "layout": "IPY_MODEL_0664de092488469e8c782442bfa05e7b"
          }
        },
        "2e76e6c066b441dbb466d7ec378642e7": {
          "model_module": "@jupyter-widgets/controls",
          "model_name": "HTMLModel",
          "model_module_version": "1.5.0",
          "state": {
            "_dom_classes": [],
            "_model_module": "@jupyter-widgets/controls",
            "_model_module_version": "1.5.0",
            "_model_name": "HTMLModel",
            "_view_count": null,
            "_view_module": "@jupyter-widgets/controls",
            "_view_module_version": "1.5.0",
            "_view_name": "HTMLView",
            "description": "",
            "description_tooltip": null,
            "layout": "IPY_MODEL_a1b20209f31d41829b4bbfad0b424f73",
            "placeholder": "​",
            "style": "IPY_MODEL_d10d27dc9de9488b91ac77537f2d1595",
            "value": "Shuffling /root/tensorflow_datasets/wishembedding/1.0.0.incompleteZQQDPY/wishembedding-train.tfrecord*...:   0%"
          }
        },
        "39d8a7befefe46c7b76190bec1472236": {
          "model_module": "@jupyter-widgets/controls",
          "model_name": "FloatProgressModel",
          "model_module_version": "1.5.0",
          "state": {
            "_dom_classes": [],
            "_model_module": "@jupyter-widgets/controls",
            "_model_module_version": "1.5.0",
            "_model_name": "FloatProgressModel",
            "_view_count": null,
            "_view_module": "@jupyter-widgets/controls",
            "_view_module_version": "1.5.0",
            "_view_name": "ProgressView",
            "bar_style": "",
            "description": "",
            "description_tooltip": null,
            "layout": "IPY_MODEL_3fb97870dc8a460e921e9ea024cbd0a9",
            "max": 121,
            "min": 0,
            "orientation": "horizontal",
            "style": "IPY_MODEL_f8294d87357b4e29a64b0b6f2c643afa",
            "value": 121
          }
        },
        "155b709af824401eaf51a6adb2c3a6d2": {
          "model_module": "@jupyter-widgets/controls",
          "model_name": "HTMLModel",
          "model_module_version": "1.5.0",
          "state": {
            "_dom_classes": [],
            "_model_module": "@jupyter-widgets/controls",
            "_model_module_version": "1.5.0",
            "_model_name": "HTMLModel",
            "_view_count": null,
            "_view_module": "@jupyter-widgets/controls",
            "_view_module_version": "1.5.0",
            "_view_name": "HTMLView",
            "description": "",
            "description_tooltip": null,
            "layout": "IPY_MODEL_716eed03fd2d49cfbd645ffe43aef24a",
            "placeholder": "​",
            "style": "IPY_MODEL_3b408e92a2c0430db3189311b91b6901",
            "value": " 0/121 [00:00&lt;?, ? examples/s]"
          }
        },
        "0664de092488469e8c782442bfa05e7b": {
          "model_module": "@jupyter-widgets/base",
          "model_name": "LayoutModel",
          "model_module_version": "1.2.0",
          "state": {
            "_model_module": "@jupyter-widgets/base",
            "_model_module_version": "1.2.0",
            "_model_name": "LayoutModel",
            "_view_count": null,
            "_view_module": "@jupyter-widgets/base",
            "_view_module_version": "1.2.0",
            "_view_name": "LayoutView",
            "align_content": null,
            "align_items": null,
            "align_self": null,
            "border": null,
            "bottom": null,
            "display": null,
            "flex": null,
            "flex_flow": null,
            "grid_area": null,
            "grid_auto_columns": null,
            "grid_auto_flow": null,
            "grid_auto_rows": null,
            "grid_column": null,
            "grid_gap": null,
            "grid_row": null,
            "grid_template_areas": null,
            "grid_template_columns": null,
            "grid_template_rows": null,
            "height": null,
            "justify_content": null,
            "justify_items": null,
            "left": null,
            "margin": null,
            "max_height": null,
            "max_width": null,
            "min_height": null,
            "min_width": null,
            "object_fit": null,
            "object_position": null,
            "order": null,
            "overflow": null,
            "overflow_x": null,
            "overflow_y": null,
            "padding": null,
            "right": null,
            "top": null,
            "visibility": null,
            "width": null
          }
        },
        "a1b20209f31d41829b4bbfad0b424f73": {
          "model_module": "@jupyter-widgets/base",
          "model_name": "LayoutModel",
          "model_module_version": "1.2.0",
          "state": {
            "_model_module": "@jupyter-widgets/base",
            "_model_module_version": "1.2.0",
            "_model_name": "LayoutModel",
            "_view_count": null,
            "_view_module": "@jupyter-widgets/base",
            "_view_module_version": "1.2.0",
            "_view_name": "LayoutView",
            "align_content": null,
            "align_items": null,
            "align_self": null,
            "border": null,
            "bottom": null,
            "display": null,
            "flex": null,
            "flex_flow": null,
            "grid_area": null,
            "grid_auto_columns": null,
            "grid_auto_flow": null,
            "grid_auto_rows": null,
            "grid_column": null,
            "grid_gap": null,
            "grid_row": null,
            "grid_template_areas": null,
            "grid_template_columns": null,
            "grid_template_rows": null,
            "height": null,
            "justify_content": null,
            "justify_items": null,
            "left": null,
            "margin": null,
            "max_height": null,
            "max_width": null,
            "min_height": null,
            "min_width": null,
            "object_fit": null,
            "object_position": null,
            "order": null,
            "overflow": null,
            "overflow_x": null,
            "overflow_y": null,
            "padding": null,
            "right": null,
            "top": null,
            "visibility": null,
            "width": null
          }
        },
        "d10d27dc9de9488b91ac77537f2d1595": {
          "model_module": "@jupyter-widgets/controls",
          "model_name": "DescriptionStyleModel",
          "model_module_version": "1.5.0",
          "state": {
            "_model_module": "@jupyter-widgets/controls",
            "_model_module_version": "1.5.0",
            "_model_name": "DescriptionStyleModel",
            "_view_count": null,
            "_view_module": "@jupyter-widgets/base",
            "_view_module_version": "1.2.0",
            "_view_name": "StyleView",
            "description_width": ""
          }
        },
        "3fb97870dc8a460e921e9ea024cbd0a9": {
          "model_module": "@jupyter-widgets/base",
          "model_name": "LayoutModel",
          "model_module_version": "1.2.0",
          "state": {
            "_model_module": "@jupyter-widgets/base",
            "_model_module_version": "1.2.0",
            "_model_name": "LayoutModel",
            "_view_count": null,
            "_view_module": "@jupyter-widgets/base",
            "_view_module_version": "1.2.0",
            "_view_name": "LayoutView",
            "align_content": null,
            "align_items": null,
            "align_self": null,
            "border": null,
            "bottom": null,
            "display": null,
            "flex": null,
            "flex_flow": null,
            "grid_area": null,
            "grid_auto_columns": null,
            "grid_auto_flow": null,
            "grid_auto_rows": null,
            "grid_column": null,
            "grid_gap": null,
            "grid_row": null,
            "grid_template_areas": null,
            "grid_template_columns": null,
            "grid_template_rows": null,
            "height": null,
            "justify_content": null,
            "justify_items": null,
            "left": null,
            "margin": null,
            "max_height": null,
            "max_width": null,
            "min_height": null,
            "min_width": null,
            "object_fit": null,
            "object_position": null,
            "order": null,
            "overflow": null,
            "overflow_x": null,
            "overflow_y": null,
            "padding": null,
            "right": null,
            "top": null,
            "visibility": null,
            "width": null
          }
        },
        "f8294d87357b4e29a64b0b6f2c643afa": {
          "model_module": "@jupyter-widgets/controls",
          "model_name": "ProgressStyleModel",
          "model_module_version": "1.5.0",
          "state": {
            "_model_module": "@jupyter-widgets/controls",
            "_model_module_version": "1.5.0",
            "_model_name": "ProgressStyleModel",
            "_view_count": null,
            "_view_module": "@jupyter-widgets/base",
            "_view_module_version": "1.2.0",
            "_view_name": "StyleView",
            "bar_color": null,
            "description_width": ""
          }
        },
        "716eed03fd2d49cfbd645ffe43aef24a": {
          "model_module": "@jupyter-widgets/base",
          "model_name": "LayoutModel",
          "model_module_version": "1.2.0",
          "state": {
            "_model_module": "@jupyter-widgets/base",
            "_model_module_version": "1.2.0",
            "_model_name": "LayoutModel",
            "_view_count": null,
            "_view_module": "@jupyter-widgets/base",
            "_view_module_version": "1.2.0",
            "_view_name": "LayoutView",
            "align_content": null,
            "align_items": null,
            "align_self": null,
            "border": null,
            "bottom": null,
            "display": null,
            "flex": null,
            "flex_flow": null,
            "grid_area": null,
            "grid_auto_columns": null,
            "grid_auto_flow": null,
            "grid_auto_rows": null,
            "grid_column": null,
            "grid_gap": null,
            "grid_row": null,
            "grid_template_areas": null,
            "grid_template_columns": null,
            "grid_template_rows": null,
            "height": null,
            "justify_content": null,
            "justify_items": null,
            "left": null,
            "margin": null,
            "max_height": null,
            "max_width": null,
            "min_height": null,
            "min_width": null,
            "object_fit": null,
            "object_position": null,
            "order": null,
            "overflow": null,
            "overflow_x": null,
            "overflow_y": null,
            "padding": null,
            "right": null,
            "top": null,
            "visibility": null,
            "width": null
          }
        },
        "3b408e92a2c0430db3189311b91b6901": {
          "model_module": "@jupyter-widgets/controls",
          "model_name": "DescriptionStyleModel",
          "model_module_version": "1.5.0",
          "state": {
            "_model_module": "@jupyter-widgets/controls",
            "_model_module_version": "1.5.0",
            "_model_name": "DescriptionStyleModel",
            "_view_count": null,
            "_view_module": "@jupyter-widgets/base",
            "_view_module_version": "1.2.0",
            "_view_name": "StyleView",
            "description_width": ""
          }
        }
      }
    }
  },
  "cells": [
    {
      "cell_type": "markdown",
      "metadata": {
        "id": "view-in-github",
        "colab_type": "text"
      },
      "source": [
        "<a href=\"https://colab.research.google.com/github/louis-not/Notogo-ML/blob/main/model_v1.1/Copy_of_Recommender_System_(Retrieval)_Ver_2.ipynb\" target=\"_parent\"><img src=\"https://colab.research.google.com/assets/colab-badge.svg\" alt=\"Open In Colab\"/></a>"
      ]
    },
    {
      "cell_type": "markdown",
      "source": [
        "## START"
      ],
      "metadata": {
        "id": "EONqdaBaiumH"
      }
    },
    {
      "cell_type": "code",
      "source": [
        "!pip install -q tensorflow-recommenders\n",
        "!pip install -q --upgrade tensorflow-datasets"
      ],
      "metadata": {
        "id": "tG_QupJrzrME",
        "colab": {
          "base_uri": "https://localhost:8080/"
        },
        "outputId": "8acc537c-10ae-4a6b-e496-3eed10e79875"
      },
      "execution_count": 1,
      "outputs": [
        {
          "output_type": "stream",
          "name": "stdout",
          "text": [
            "\u001b[K     |████████████████████████████████| 85 kB 4.3 MB/s \n",
            "\u001b[K     |████████████████████████████████| 462 kB 36.5 MB/s \n",
            "\u001b[K     |████████████████████████████████| 4.2 MB 15.7 MB/s \n",
            "\u001b[?25h"
          ]
        }
      ]
    },
    {
      "cell_type": "code",
      "execution_count": 2,
      "metadata": {
        "id": "xFwvErlgyikG"
      },
      "outputs": [],
      "source": [
        "from typing import Dict, Text\n",
        "\n",
        "import numpy as np\n",
        "import tensorflow as tf\n",
        "\n",
        "import tensorflow_datasets as tfds\n",
        "import tensorflow_recommenders as tfrs\n",
        "\n",
        "import os\n",
        "import pandas as pd\n",
        "import pprint"
      ]
    },
    {
      "cell_type": "code",
      "source": [
        "from google.colab import drive\n",
        "drive.mount('/content/drive')"
      ],
      "metadata": {
        "colab": {
          "base_uri": "https://localhost:8080/"
        },
        "id": "D7cvYqClRJQQ",
        "outputId": "6fd17e3b-48d3-4664-a6ff-7a613b7e8fd7"
      },
      "execution_count": 3,
      "outputs": [
        {
          "output_type": "stream",
          "name": "stdout",
          "text": [
            "Drive already mounted at /content/drive; to attempt to forcibly remount, call drive.mount(\"/content/drive\", force_remount=True).\n"
          ]
        }
      ]
    },
    {
      "cell_type": "code",
      "source": [
        "cd /content/drive/Othercomputers/My Laptop/Bangkit/Capstone/Recommender system"
      ],
      "metadata": {
        "colab": {
          "base_uri": "https://localhost:8080/"
        },
        "id": "OpK2_wI5zlB2",
        "outputId": "8500c081-b32e-49b1-bd26-e49f559cc5d4"
      },
      "execution_count": 4,
      "outputs": [
        {
          "output_type": "stream",
          "name": "stdout",
          "text": [
            "/content/drive/Othercomputers/My Laptop/Bangkit/Capstone/Recommender system\n"
          ]
        }
      ]
    },
    {
      "cell_type": "code",
      "source": [
        "print(os.getcwd())"
      ],
      "metadata": {
        "colab": {
          "base_uri": "https://localhost:8080/"
        },
        "id": "OKnRlkqJz7zM",
        "outputId": "b4640698-22dc-4fe4-d3ae-e59251b4d7e3"
      },
      "execution_count": 5,
      "outputs": [
        {
          "output_type": "stream",
          "name": "stdout",
          "text": [
            "/content/drive/Othercomputers/My Laptop/Bangkit/Capstone/Recommender system\n"
          ]
        }
      ]
    },
    {
      "cell_type": "markdown",
      "source": [
        "## SKIP"
      ],
      "metadata": {
        "id": "u9z7ySLJU-46"
      }
    },
    {
      "cell_type": "code",
      "source": [
        "# Ratings data.\n",
        "ratings = tfds.load('movielens/100k-ratings', split=\"train\")\n",
        "# Features of all the available movies.\n",
        "movies = tfds.load('movielens/100k-movies', split=\"train\")"
      ],
      "metadata": {
        "id": "Sojln3Ae0Vkh"
      },
      "execution_count": null,
      "outputs": []
    },
    {
      "cell_type": "code",
      "source": [
        "# Select the basic features.\n",
        "ratings = ratings.map(lambda x: {\n",
        "    \"movie_title\": x[\"movie_title\"],\n",
        "    \"user_id\": x[\"user_id\"]\n",
        "})\n",
        "movies = movies.map(lambda x: x[\"movie_title\"])"
      ],
      "metadata": {
        "id": "5UomFqo00yZ8"
      },
      "execution_count": null,
      "outputs": []
    },
    {
      "cell_type": "code",
      "source": [
        "for i in ratings.take(5).as_numpy_iterator():\n",
        "  print(i)"
      ],
      "metadata": {
        "colab": {
          "base_uri": "https://localhost:8080/"
        },
        "id": "WeUtxFlm1q1g",
        "outputId": "e71a6522-69cc-455e-fd97-1d6985143b82"
      },
      "execution_count": null,
      "outputs": [
        {
          "output_type": "stream",
          "name": "stdout",
          "text": [
            "{'movie_title': b\"One Flew Over the Cuckoo's Nest (1975)\", 'user_id': b'138'}\n",
            "{'movie_title': b'Strictly Ballroom (1992)', 'user_id': b'92'}\n",
            "{'movie_title': b'Very Brady Sequel, A (1996)', 'user_id': b'301'}\n",
            "{'movie_title': b'Pulp Fiction (1994)', 'user_id': b'60'}\n",
            "{'movie_title': b'Scream 2 (1997)', 'user_id': b'197'}\n"
          ]
        }
      ]
    },
    {
      "cell_type": "code",
      "source": [
        "list(movies.as_numpy_iterator())"
      ],
      "metadata": {
        "id": "YjY9pNVz1wnH"
      },
      "execution_count": null,
      "outputs": []
    },
    {
      "cell_type": "code",
      "source": [
        "user_ids_vocabulary = tf.keras.layers.StringLookup(mask_token=None)\n",
        "user_ids_vocabulary.adapt(ratings.map(lambda x: x[\"user_id\"]))\n",
        "\n",
        "movie_titles_vocabulary = tf.keras.layers.StringLookup(mask_token=None, output_mode =  'one_hot')\n",
        "movie_titles_vocabulary.adapt(movies)"
      ],
      "metadata": {
        "id": "MA1YSBGa2HCE"
      },
      "execution_count": null,
      "outputs": []
    },
    {
      "cell_type": "code",
      "source": [
        "test_data = tf.constant([['One Flew Over the Cuckoo\\'s Nest (1975)'], ['Strictly Ballroom (1992)'], ['Very Brady Sequel, A (1996)']])\n",
        "encoded_data = movie_titles_vocabulary(test_data)\n",
        "encoded_data.numpy()[:,576]"
      ],
      "metadata": {
        "colab": {
          "base_uri": "https://localhost:8080/"
        },
        "id": "jmPOtDMbbMts",
        "outputId": "09ea2c8b-c030-4c32-93ed-91fb8deb8d8e"
      },
      "execution_count": null,
      "outputs": [
        {
          "output_type": "execute_result",
          "data": {
            "text/plain": [
              "array([1., 0., 0.], dtype=float32)"
            ]
          },
          "metadata": {},
          "execution_count": 64
        }
      ]
    },
    {
      "cell_type": "code",
      "source": [
        "test_data = tf.constant([['One Flew Over the Cuckoo\\'s Nest (1975)'], ['Strictly Ballroom (1992)'], ['Very Brady Sequel, A (1996)']])\n",
        "encoded_data = movie_titles_vocabulary(test_data)\n",
        "# encoded_data.numpy()[:,365]\n",
        "encoded_data"
      ],
      "metadata": {
        "colab": {
          "base_uri": "https://localhost:8080/"
        },
        "id": "QrBS3r2YZhHI",
        "outputId": "90d0233b-a3c7-4427-da40-48a0cf41402e"
      },
      "execution_count": null,
      "outputs": [
        {
          "output_type": "execute_result",
          "data": {
            "text/plain": [
              "<tf.Tensor: shape=(3, 1), dtype=int64, numpy=\n",
              "array([[576],\n",
              "       [263],\n",
              "       [101]])>"
            ]
          },
          "metadata": {},
          "execution_count": 61
        }
      ]
    },
    {
      "cell_type": "code",
      "source": [
        "class MovieLensModel(tfrs.Model):\n",
        "  # We derive from a custom base class to help reduce boilerplate. Under the hood,\n",
        "  # these are still plain Keras Models.\n",
        "\n",
        "  def __init__(\n",
        "      self,\n",
        "      user_model: tf.keras.Model,\n",
        "      movie_model: tf.keras.Model,\n",
        "      task: tfrs.tasks.Retrieval):\n",
        "    super().__init__()\n",
        "\n",
        "    # Set up user and movie representations.\n",
        "    self.user_model = user_model\n",
        "    self.movie_model = movie_model\n",
        "\n",
        "    # Set up a retrieval task.\n",
        "    self.task = task\n",
        "\n",
        "  def compute_loss(self, features: Dict[Text, tf.Tensor], training=False) -> tf.Tensor:\n",
        "    # Define how the loss is computed.\n",
        "\n",
        "    user_embeddings = self.user_model(features[\"user_id\"])\n",
        "    movie_embeddings = self.movie_model(features[\"movie_title\"])\n",
        "\n",
        "    return self.task(user_embeddings, movie_embeddings)"
      ],
      "metadata": {
        "id": "qOlf8o3V3ngF"
      },
      "execution_count": null,
      "outputs": []
    },
    {
      "cell_type": "code",
      "source": [
        "# Define user and movie models.\n",
        "user_model = tf.keras.Sequential([\n",
        "    user_ids_vocabulary,\n",
        "    tf.keras.layers.Embedding(user_ids_vocabulary.vocabulary_size(), 64)\n",
        "])\n",
        "movie_model = tf.keras.Sequential([\n",
        "    movie_titles_vocabulary,\n",
        "    tf.keras.layers.Embedding(movie_titles_vocabulary.vocabulary_size(), 64)\n",
        "])\n",
        "\n",
        "# Define your objectives.\n",
        "task = tfrs.tasks.Retrieval(metrics=tfrs.metrics.FactorizedTopK(\n",
        "    movies.batch(128).map(movie_model)\n",
        "  )\n",
        ")"
      ],
      "metadata": {
        "id": "15WYyEGB5Ne8"
      },
      "execution_count": null,
      "outputs": []
    },
    {
      "cell_type": "code",
      "source": [
        "# Create a retrieval model.\n",
        "model = MovieLensModel(user_model, movie_model, task)\n",
        "model.compile(optimizer=tf.keras.optimizers.Adagrad(0.5))\n",
        "\n",
        "# Train for 3 epochs.\n",
        "model.fit(ratings.batch(4096), epochs=3)\n",
        "\n",
        "# Use brute-force search to set up retrieval using the trained representations.\n",
        "index = tfrs.layers.factorized_top_k.BruteForce(model.user_model)\n",
        "index.index_from_dataset(\n",
        "    movies.batch(100).map(lambda title: (title, model.movie_model(title))))\n",
        "\n",
        "# Get some recommendations.\n",
        "_, titles = index(np.array([\"42\"]))\n",
        "print(f\"Top 3 recommendations for user 42: {titles[0, :3]}\")"
      ],
      "metadata": {
        "colab": {
          "base_uri": "https://localhost:8080/"
        },
        "id": "z63O54oz5PLW",
        "outputId": "82575bcc-e7da-4b7c-ea5c-f084197ed747"
      },
      "execution_count": null,
      "outputs": [
        {
          "output_type": "stream",
          "name": "stdout",
          "text": [
            "Epoch 1/3\n",
            "25/25 [==============================] - 31s 1s/step - factorized_top_k/top_1_categorical_accuracy: 9.0000e-05 - factorized_top_k/top_5_categorical_accuracy: 0.0014 - factorized_top_k/top_10_categorical_accuracy: 0.0047 - factorized_top_k/top_50_categorical_accuracy: 0.0447 - factorized_top_k/top_100_categorical_accuracy: 0.1012 - loss: 33100.0545 - regularization_loss: 0.0000e+00 - total_loss: 33100.0545\n",
            "Epoch 2/3\n",
            "25/25 [==============================] - 28s 1s/step - factorized_top_k/top_1_categorical_accuracy: 2.7000e-04 - factorized_top_k/top_5_categorical_accuracy: 0.0051 - factorized_top_k/top_10_categorical_accuracy: 0.0143 - factorized_top_k/top_50_categorical_accuracy: 0.1045 - factorized_top_k/top_100_categorical_accuracy: 0.2110 - loss: 31014.0403 - regularization_loss: 0.0000e+00 - total_loss: 31014.0403\n",
            "Epoch 3/3\n",
            "25/25 [==============================] - 28s 1s/step - factorized_top_k/top_1_categorical_accuracy: 5.6000e-04 - factorized_top_k/top_5_categorical_accuracy: 0.0081 - factorized_top_k/top_10_categorical_accuracy: 0.0216 - factorized_top_k/top_50_categorical_accuracy: 0.1435 - factorized_top_k/top_100_categorical_accuracy: 0.2682 - loss: 30419.8881 - regularization_loss: 0.0000e+00 - total_loss: 30419.8881\n",
            "Top 3 recommendations for user 42: [b'Rent-a-Kid (1995)' b'Just Cause (1995)'\n",
            " b'All Dogs Go to Heaven 2 (1996)']\n"
          ]
        }
      ]
    },
    {
      "cell_type": "markdown",
      "source": [
        "## RUN EXAMPLE"
      ],
      "metadata": {
        "id": "Tf9xYlrnVBn8"
      }
    },
    {
      "cell_type": "code",
      "source": [
        "tourism_rating = pd.read_csv(\"https://raw.githubusercontent.com/AgungP88/getloc-apps/machine-learning/dataset/tourism_rating.csv\")"
      ],
      "metadata": {
        "id": "qHiVNFx75_iC"
      },
      "execution_count": null,
      "outputs": []
    },
    {
      "cell_type": "code",
      "source": [
        "tourism_rating.head(10)"
      ],
      "metadata": {
        "id": "Gp0ZlfY18aO1",
        "colab": {
          "base_uri": "https://localhost:8080/",
          "height": 363
        },
        "outputId": "4f578ea9-f04b-44aa-964b-088b77f9b2c7"
      },
      "execution_count": null,
      "outputs": [
        {
          "output_type": "execute_result",
          "data": {
            "text/plain": [
              "   User_Id  Place_Id  Place_Ratings\n",
              "0        1       179              3\n",
              "1        1       344              2\n",
              "2        1         5              5\n",
              "3        1       373              3\n",
              "4        1       101              4\n",
              "5        1       312              2\n",
              "6        1       258              5\n",
              "7        1        20              4\n",
              "8        1       154              2\n",
              "9        1       393              5"
            ],
            "text/html": [
              "\n",
              "  <div id=\"df-ac3d5657-40bd-466a-982c-895792a43881\">\n",
              "    <div class=\"colab-df-container\">\n",
              "      <div>\n",
              "<style scoped>\n",
              "    .dataframe tbody tr th:only-of-type {\n",
              "        vertical-align: middle;\n",
              "    }\n",
              "\n",
              "    .dataframe tbody tr th {\n",
              "        vertical-align: top;\n",
              "    }\n",
              "\n",
              "    .dataframe thead th {\n",
              "        text-align: right;\n",
              "    }\n",
              "</style>\n",
              "<table border=\"1\" class=\"dataframe\">\n",
              "  <thead>\n",
              "    <tr style=\"text-align: right;\">\n",
              "      <th></th>\n",
              "      <th>User_Id</th>\n",
              "      <th>Place_Id</th>\n",
              "      <th>Place_Ratings</th>\n",
              "    </tr>\n",
              "  </thead>\n",
              "  <tbody>\n",
              "    <tr>\n",
              "      <th>0</th>\n",
              "      <td>1</td>\n",
              "      <td>179</td>\n",
              "      <td>3</td>\n",
              "    </tr>\n",
              "    <tr>\n",
              "      <th>1</th>\n",
              "      <td>1</td>\n",
              "      <td>344</td>\n",
              "      <td>2</td>\n",
              "    </tr>\n",
              "    <tr>\n",
              "      <th>2</th>\n",
              "      <td>1</td>\n",
              "      <td>5</td>\n",
              "      <td>5</td>\n",
              "    </tr>\n",
              "    <tr>\n",
              "      <th>3</th>\n",
              "      <td>1</td>\n",
              "      <td>373</td>\n",
              "      <td>3</td>\n",
              "    </tr>\n",
              "    <tr>\n",
              "      <th>4</th>\n",
              "      <td>1</td>\n",
              "      <td>101</td>\n",
              "      <td>4</td>\n",
              "    </tr>\n",
              "    <tr>\n",
              "      <th>5</th>\n",
              "      <td>1</td>\n",
              "      <td>312</td>\n",
              "      <td>2</td>\n",
              "    </tr>\n",
              "    <tr>\n",
              "      <th>6</th>\n",
              "      <td>1</td>\n",
              "      <td>258</td>\n",
              "      <td>5</td>\n",
              "    </tr>\n",
              "    <tr>\n",
              "      <th>7</th>\n",
              "      <td>1</td>\n",
              "      <td>20</td>\n",
              "      <td>4</td>\n",
              "    </tr>\n",
              "    <tr>\n",
              "      <th>8</th>\n",
              "      <td>1</td>\n",
              "      <td>154</td>\n",
              "      <td>2</td>\n",
              "    </tr>\n",
              "    <tr>\n",
              "      <th>9</th>\n",
              "      <td>1</td>\n",
              "      <td>393</td>\n",
              "      <td>5</td>\n",
              "    </tr>\n",
              "  </tbody>\n",
              "</table>\n",
              "</div>\n",
              "      <button class=\"colab-df-convert\" onclick=\"convertToInteractive('df-ac3d5657-40bd-466a-982c-895792a43881')\"\n",
              "              title=\"Convert this dataframe to an interactive table.\"\n",
              "              style=\"display:none;\">\n",
              "        \n",
              "  <svg xmlns=\"http://www.w3.org/2000/svg\" height=\"24px\"viewBox=\"0 0 24 24\"\n",
              "       width=\"24px\">\n",
              "    <path d=\"M0 0h24v24H0V0z\" fill=\"none\"/>\n",
              "    <path d=\"M18.56 5.44l.94 2.06.94-2.06 2.06-.94-2.06-.94-.94-2.06-.94 2.06-2.06.94zm-11 1L8.5 8.5l.94-2.06 2.06-.94-2.06-.94L8.5 2.5l-.94 2.06-2.06.94zm10 10l.94 2.06.94-2.06 2.06-.94-2.06-.94-.94-2.06-.94 2.06-2.06.94z\"/><path d=\"M17.41 7.96l-1.37-1.37c-.4-.4-.92-.59-1.43-.59-.52 0-1.04.2-1.43.59L10.3 9.45l-7.72 7.72c-.78.78-.78 2.05 0 2.83L4 21.41c.39.39.9.59 1.41.59.51 0 1.02-.2 1.41-.59l7.78-7.78 2.81-2.81c.8-.78.8-2.07 0-2.86zM5.41 20L4 18.59l7.72-7.72 1.47 1.35L5.41 20z\"/>\n",
              "  </svg>\n",
              "      </button>\n",
              "      \n",
              "  <style>\n",
              "    .colab-df-container {\n",
              "      display:flex;\n",
              "      flex-wrap:wrap;\n",
              "      gap: 12px;\n",
              "    }\n",
              "\n",
              "    .colab-df-convert {\n",
              "      background-color: #E8F0FE;\n",
              "      border: none;\n",
              "      border-radius: 50%;\n",
              "      cursor: pointer;\n",
              "      display: none;\n",
              "      fill: #1967D2;\n",
              "      height: 32px;\n",
              "      padding: 0 0 0 0;\n",
              "      width: 32px;\n",
              "    }\n",
              "\n",
              "    .colab-df-convert:hover {\n",
              "      background-color: #E2EBFA;\n",
              "      box-shadow: 0px 1px 2px rgba(60, 64, 67, 0.3), 0px 1px 3px 1px rgba(60, 64, 67, 0.15);\n",
              "      fill: #174EA6;\n",
              "    }\n",
              "\n",
              "    [theme=dark] .colab-df-convert {\n",
              "      background-color: #3B4455;\n",
              "      fill: #D2E3FC;\n",
              "    }\n",
              "\n",
              "    [theme=dark] .colab-df-convert:hover {\n",
              "      background-color: #434B5C;\n",
              "      box-shadow: 0px 1px 3px 1px rgba(0, 0, 0, 0.15);\n",
              "      filter: drop-shadow(0px 1px 2px rgba(0, 0, 0, 0.3));\n",
              "      fill: #FFFFFF;\n",
              "    }\n",
              "  </style>\n",
              "\n",
              "      <script>\n",
              "        const buttonEl =\n",
              "          document.querySelector('#df-ac3d5657-40bd-466a-982c-895792a43881 button.colab-df-convert');\n",
              "        buttonEl.style.display =\n",
              "          google.colab.kernel.accessAllowed ? 'block' : 'none';\n",
              "\n",
              "        async function convertToInteractive(key) {\n",
              "          const element = document.querySelector('#df-ac3d5657-40bd-466a-982c-895792a43881');\n",
              "          const dataTable =\n",
              "            await google.colab.kernel.invokeFunction('convertToInteractive',\n",
              "                                                     [key], {});\n",
              "          if (!dataTable) return;\n",
              "\n",
              "          const docLinkHtml = 'Like what you see? Visit the ' +\n",
              "            '<a target=\"_blank\" href=https://colab.research.google.com/notebooks/data_table.ipynb>data table notebook</a>'\n",
              "            + ' to learn more about interactive tables.';\n",
              "          element.innerHTML = '';\n",
              "          dataTable['output_type'] = 'display_data';\n",
              "          await google.colab.output.renderOutput(dataTable, element);\n",
              "          const docLink = document.createElement('div');\n",
              "          docLink.innerHTML = docLinkHtml;\n",
              "          element.appendChild(docLink);\n",
              "        }\n",
              "      </script>\n",
              "    </div>\n",
              "  </div>\n",
              "  "
            ]
          },
          "metadata": {},
          "execution_count": 7
        }
      ]
    },
    {
      "cell_type": "code",
      "source": [
        "tourism_rating.tail()"
      ],
      "metadata": {
        "id": "JydM-3vc2nU_",
        "outputId": "7ce03c60-ef1a-4f05-9a4c-07a4913d072f",
        "colab": {
          "base_uri": "https://localhost:8080/",
          "height": 206
        }
      },
      "execution_count": null,
      "outputs": [
        {
          "output_type": "execute_result",
          "data": {
            "text/plain": [
              "      User_Id  Place_Id  Place_Ratings\n",
              "9995      300       425              2\n",
              "9996      300        64              4\n",
              "9997      300       311              3\n",
              "9998      300       279              4\n",
              "9999      300       163              2"
            ],
            "text/html": [
              "\n",
              "  <div id=\"df-0931dcdf-d652-4725-a964-05c413eeae58\">\n",
              "    <div class=\"colab-df-container\">\n",
              "      <div>\n",
              "<style scoped>\n",
              "    .dataframe tbody tr th:only-of-type {\n",
              "        vertical-align: middle;\n",
              "    }\n",
              "\n",
              "    .dataframe tbody tr th {\n",
              "        vertical-align: top;\n",
              "    }\n",
              "\n",
              "    .dataframe thead th {\n",
              "        text-align: right;\n",
              "    }\n",
              "</style>\n",
              "<table border=\"1\" class=\"dataframe\">\n",
              "  <thead>\n",
              "    <tr style=\"text-align: right;\">\n",
              "      <th></th>\n",
              "      <th>User_Id</th>\n",
              "      <th>Place_Id</th>\n",
              "      <th>Place_Ratings</th>\n",
              "    </tr>\n",
              "  </thead>\n",
              "  <tbody>\n",
              "    <tr>\n",
              "      <th>9995</th>\n",
              "      <td>300</td>\n",
              "      <td>425</td>\n",
              "      <td>2</td>\n",
              "    </tr>\n",
              "    <tr>\n",
              "      <th>9996</th>\n",
              "      <td>300</td>\n",
              "      <td>64</td>\n",
              "      <td>4</td>\n",
              "    </tr>\n",
              "    <tr>\n",
              "      <th>9997</th>\n",
              "      <td>300</td>\n",
              "      <td>311</td>\n",
              "      <td>3</td>\n",
              "    </tr>\n",
              "    <tr>\n",
              "      <th>9998</th>\n",
              "      <td>300</td>\n",
              "      <td>279</td>\n",
              "      <td>4</td>\n",
              "    </tr>\n",
              "    <tr>\n",
              "      <th>9999</th>\n",
              "      <td>300</td>\n",
              "      <td>163</td>\n",
              "      <td>2</td>\n",
              "    </tr>\n",
              "  </tbody>\n",
              "</table>\n",
              "</div>\n",
              "      <button class=\"colab-df-convert\" onclick=\"convertToInteractive('df-0931dcdf-d652-4725-a964-05c413eeae58')\"\n",
              "              title=\"Convert this dataframe to an interactive table.\"\n",
              "              style=\"display:none;\">\n",
              "        \n",
              "  <svg xmlns=\"http://www.w3.org/2000/svg\" height=\"24px\"viewBox=\"0 0 24 24\"\n",
              "       width=\"24px\">\n",
              "    <path d=\"M0 0h24v24H0V0z\" fill=\"none\"/>\n",
              "    <path d=\"M18.56 5.44l.94 2.06.94-2.06 2.06-.94-2.06-.94-.94-2.06-.94 2.06-2.06.94zm-11 1L8.5 8.5l.94-2.06 2.06-.94-2.06-.94L8.5 2.5l-.94 2.06-2.06.94zm10 10l.94 2.06.94-2.06 2.06-.94-2.06-.94-.94-2.06-.94 2.06-2.06.94z\"/><path d=\"M17.41 7.96l-1.37-1.37c-.4-.4-.92-.59-1.43-.59-.52 0-1.04.2-1.43.59L10.3 9.45l-7.72 7.72c-.78.78-.78 2.05 0 2.83L4 21.41c.39.39.9.59 1.41.59.51 0 1.02-.2 1.41-.59l7.78-7.78 2.81-2.81c.8-.78.8-2.07 0-2.86zM5.41 20L4 18.59l7.72-7.72 1.47 1.35L5.41 20z\"/>\n",
              "  </svg>\n",
              "      </button>\n",
              "      \n",
              "  <style>\n",
              "    .colab-df-container {\n",
              "      display:flex;\n",
              "      flex-wrap:wrap;\n",
              "      gap: 12px;\n",
              "    }\n",
              "\n",
              "    .colab-df-convert {\n",
              "      background-color: #E8F0FE;\n",
              "      border: none;\n",
              "      border-radius: 50%;\n",
              "      cursor: pointer;\n",
              "      display: none;\n",
              "      fill: #1967D2;\n",
              "      height: 32px;\n",
              "      padding: 0 0 0 0;\n",
              "      width: 32px;\n",
              "    }\n",
              "\n",
              "    .colab-df-convert:hover {\n",
              "      background-color: #E2EBFA;\n",
              "      box-shadow: 0px 1px 2px rgba(60, 64, 67, 0.3), 0px 1px 3px 1px rgba(60, 64, 67, 0.15);\n",
              "      fill: #174EA6;\n",
              "    }\n",
              "\n",
              "    [theme=dark] .colab-df-convert {\n",
              "      background-color: #3B4455;\n",
              "      fill: #D2E3FC;\n",
              "    }\n",
              "\n",
              "    [theme=dark] .colab-df-convert:hover {\n",
              "      background-color: #434B5C;\n",
              "      box-shadow: 0px 1px 3px 1px rgba(0, 0, 0, 0.15);\n",
              "      filter: drop-shadow(0px 1px 2px rgba(0, 0, 0, 0.3));\n",
              "      fill: #FFFFFF;\n",
              "    }\n",
              "  </style>\n",
              "\n",
              "      <script>\n",
              "        const buttonEl =\n",
              "          document.querySelector('#df-0931dcdf-d652-4725-a964-05c413eeae58 button.colab-df-convert');\n",
              "        buttonEl.style.display =\n",
              "          google.colab.kernel.accessAllowed ? 'block' : 'none';\n",
              "\n",
              "        async function convertToInteractive(key) {\n",
              "          const element = document.querySelector('#df-0931dcdf-d652-4725-a964-05c413eeae58');\n",
              "          const dataTable =\n",
              "            await google.colab.kernel.invokeFunction('convertToInteractive',\n",
              "                                                     [key], {});\n",
              "          if (!dataTable) return;\n",
              "\n",
              "          const docLinkHtml = 'Like what you see? Visit the ' +\n",
              "            '<a target=\"_blank\" href=https://colab.research.google.com/notebooks/data_table.ipynb>data table notebook</a>'\n",
              "            + ' to learn more about interactive tables.';\n",
              "          element.innerHTML = '';\n",
              "          dataTable['output_type'] = 'display_data';\n",
              "          await google.colab.output.renderOutput(dataTable, element);\n",
              "          const docLink = document.createElement('div');\n",
              "          docLink.innerHTML = docLinkHtml;\n",
              "          element.appendChild(docLink);\n",
              "        }\n",
              "      </script>\n",
              "    </div>\n",
              "  </div>\n",
              "  "
            ]
          },
          "metadata": {},
          "execution_count": 8
        }
      ]
    },
    {
      "cell_type": "code",
      "source": [
        "tourism_rating.dtypes"
      ],
      "metadata": {
        "colab": {
          "base_uri": "https://localhost:8080/"
        },
        "id": "vcJWnLBH8gxr",
        "outputId": "776f16a4-2e30-4ee6-966a-638739a459c8"
      },
      "execution_count": null,
      "outputs": [
        {
          "output_type": "execute_result",
          "data": {
            "text/plain": [
              "User_Id          int64\n",
              "Place_Id         int64\n",
              "Place_Ratings    int64\n",
              "dtype: object"
            ]
          },
          "metadata": {},
          "execution_count": 9
        }
      ]
    },
    {
      "cell_type": "markdown",
      "source": [
        "We need a library that can parallelized input streams such as text embedding and tokenization, data normalization, and data sparsity altogether such that they can be processed seamlessly without over-exhausting the computing capacity"
      ],
      "metadata": {
        "id": "yRRVIEnsTt7y"
      }
    },
    {
      "cell_type": "code",
      "source": [
        "tourism_id = pd.read_csv(\"https://raw.githubusercontent.com/AgungP88/getloc-apps/machine-learning/dataset/tourism_with_id.csv\")"
      ],
      "metadata": {
        "id": "Nkf0n9bXTwER"
      },
      "execution_count": null,
      "outputs": []
    },
    {
      "cell_type": "code",
      "source": [
        "tourism_id.head()"
      ],
      "metadata": {
        "colab": {
          "base_uri": "https://localhost:8080/",
          "height": 634
        },
        "id": "7SgMXmP6byC4",
        "outputId": "9bac0bed-410f-4eb5-c8ce-a4967b05cbf3"
      },
      "execution_count": null,
      "outputs": [
        {
          "output_type": "execute_result",
          "data": {
            "text/plain": [
              "   Place_Id                         Place_Name  \\\n",
              "0         1                   Monumen Nasional   \n",
              "1         2                           Kota Tua   \n",
              "2         3                      Dunia Fantasi   \n",
              "3         4  Taman Mini Indonesia Indah (TMII)   \n",
              "4         5           Atlantis Water Adventure   \n",
              "\n",
              "                                         Description       Category     City  \\\n",
              "0  Monumen Nasional atau yang populer disingkat d...         Budaya  Jakarta   \n",
              "1  Kota tua di Jakarta, yang juga bernama Kota Tu...         Budaya  Jakarta   \n",
              "2  Dunia Fantasi atau disebut juga Dufan adalah t...  Taman Hiburan  Jakarta   \n",
              "3  Taman Mini Indonesia Indah merupakan suatu kaw...  Taman Hiburan  Jakarta   \n",
              "4  Atlantis Water Adventure atau dikenal dengan A...  Taman Hiburan  Jakarta   \n",
              "\n",
              "    Price  Rating  Time_Minutes  \\\n",
              "0   20000     4.6          15.0   \n",
              "1       0     4.6          90.0   \n",
              "2  270000     4.6         360.0   \n",
              "3   10000     4.5           NaN   \n",
              "4   94000     4.5          60.0   \n",
              "\n",
              "                                        Coordinate       Lat        Long  \\\n",
              "0          {'lat': -6.1753924, 'lng': 106.8271528} -6.175392  106.827153   \n",
              "1  {'lat': -6.137644799999999, 'lng': 106.8171245} -6.137645  106.817125   \n",
              "2  {'lat': -6.125312399999999, 'lng': 106.8335377} -6.125312  106.833538   \n",
              "3  {'lat': -6.302445899999999, 'lng': 106.8951559} -6.302446  106.895156   \n",
              "4             {'lat': -6.12419, 'lng': 106.839134} -6.124190  106.839134   \n",
              "\n",
              "   Unnamed: 11  Unnamed: 12  \n",
              "0          NaN            1  \n",
              "1          NaN            2  \n",
              "2          NaN            3  \n",
              "3          NaN            4  \n",
              "4          NaN            5  "
            ],
            "text/html": [
              "\n",
              "  <div id=\"df-79b56950-214c-4cc0-b508-01cffd749d9c\">\n",
              "    <div class=\"colab-df-container\">\n",
              "      <div>\n",
              "<style scoped>\n",
              "    .dataframe tbody tr th:only-of-type {\n",
              "        vertical-align: middle;\n",
              "    }\n",
              "\n",
              "    .dataframe tbody tr th {\n",
              "        vertical-align: top;\n",
              "    }\n",
              "\n",
              "    .dataframe thead th {\n",
              "        text-align: right;\n",
              "    }\n",
              "</style>\n",
              "<table border=\"1\" class=\"dataframe\">\n",
              "  <thead>\n",
              "    <tr style=\"text-align: right;\">\n",
              "      <th></th>\n",
              "      <th>Place_Id</th>\n",
              "      <th>Place_Name</th>\n",
              "      <th>Description</th>\n",
              "      <th>Category</th>\n",
              "      <th>City</th>\n",
              "      <th>Price</th>\n",
              "      <th>Rating</th>\n",
              "      <th>Time_Minutes</th>\n",
              "      <th>Coordinate</th>\n",
              "      <th>Lat</th>\n",
              "      <th>Long</th>\n",
              "      <th>Unnamed: 11</th>\n",
              "      <th>Unnamed: 12</th>\n",
              "    </tr>\n",
              "  </thead>\n",
              "  <tbody>\n",
              "    <tr>\n",
              "      <th>0</th>\n",
              "      <td>1</td>\n",
              "      <td>Monumen Nasional</td>\n",
              "      <td>Monumen Nasional atau yang populer disingkat d...</td>\n",
              "      <td>Budaya</td>\n",
              "      <td>Jakarta</td>\n",
              "      <td>20000</td>\n",
              "      <td>4.6</td>\n",
              "      <td>15.0</td>\n",
              "      <td>{'lat': -6.1753924, 'lng': 106.8271528}</td>\n",
              "      <td>-6.175392</td>\n",
              "      <td>106.827153</td>\n",
              "      <td>NaN</td>\n",
              "      <td>1</td>\n",
              "    </tr>\n",
              "    <tr>\n",
              "      <th>1</th>\n",
              "      <td>2</td>\n",
              "      <td>Kota Tua</td>\n",
              "      <td>Kota tua di Jakarta, yang juga bernama Kota Tu...</td>\n",
              "      <td>Budaya</td>\n",
              "      <td>Jakarta</td>\n",
              "      <td>0</td>\n",
              "      <td>4.6</td>\n",
              "      <td>90.0</td>\n",
              "      <td>{'lat': -6.137644799999999, 'lng': 106.8171245}</td>\n",
              "      <td>-6.137645</td>\n",
              "      <td>106.817125</td>\n",
              "      <td>NaN</td>\n",
              "      <td>2</td>\n",
              "    </tr>\n",
              "    <tr>\n",
              "      <th>2</th>\n",
              "      <td>3</td>\n",
              "      <td>Dunia Fantasi</td>\n",
              "      <td>Dunia Fantasi atau disebut juga Dufan adalah t...</td>\n",
              "      <td>Taman Hiburan</td>\n",
              "      <td>Jakarta</td>\n",
              "      <td>270000</td>\n",
              "      <td>4.6</td>\n",
              "      <td>360.0</td>\n",
              "      <td>{'lat': -6.125312399999999, 'lng': 106.8335377}</td>\n",
              "      <td>-6.125312</td>\n",
              "      <td>106.833538</td>\n",
              "      <td>NaN</td>\n",
              "      <td>3</td>\n",
              "    </tr>\n",
              "    <tr>\n",
              "      <th>3</th>\n",
              "      <td>4</td>\n",
              "      <td>Taman Mini Indonesia Indah (TMII)</td>\n",
              "      <td>Taman Mini Indonesia Indah merupakan suatu kaw...</td>\n",
              "      <td>Taman Hiburan</td>\n",
              "      <td>Jakarta</td>\n",
              "      <td>10000</td>\n",
              "      <td>4.5</td>\n",
              "      <td>NaN</td>\n",
              "      <td>{'lat': -6.302445899999999, 'lng': 106.8951559}</td>\n",
              "      <td>-6.302446</td>\n",
              "      <td>106.895156</td>\n",
              "      <td>NaN</td>\n",
              "      <td>4</td>\n",
              "    </tr>\n",
              "    <tr>\n",
              "      <th>4</th>\n",
              "      <td>5</td>\n",
              "      <td>Atlantis Water Adventure</td>\n",
              "      <td>Atlantis Water Adventure atau dikenal dengan A...</td>\n",
              "      <td>Taman Hiburan</td>\n",
              "      <td>Jakarta</td>\n",
              "      <td>94000</td>\n",
              "      <td>4.5</td>\n",
              "      <td>60.0</td>\n",
              "      <td>{'lat': -6.12419, 'lng': 106.839134}</td>\n",
              "      <td>-6.124190</td>\n",
              "      <td>106.839134</td>\n",
              "      <td>NaN</td>\n",
              "      <td>5</td>\n",
              "    </tr>\n",
              "  </tbody>\n",
              "</table>\n",
              "</div>\n",
              "      <button class=\"colab-df-convert\" onclick=\"convertToInteractive('df-79b56950-214c-4cc0-b508-01cffd749d9c')\"\n",
              "              title=\"Convert this dataframe to an interactive table.\"\n",
              "              style=\"display:none;\">\n",
              "        \n",
              "  <svg xmlns=\"http://www.w3.org/2000/svg\" height=\"24px\"viewBox=\"0 0 24 24\"\n",
              "       width=\"24px\">\n",
              "    <path d=\"M0 0h24v24H0V0z\" fill=\"none\"/>\n",
              "    <path d=\"M18.56 5.44l.94 2.06.94-2.06 2.06-.94-2.06-.94-.94-2.06-.94 2.06-2.06.94zm-11 1L8.5 8.5l.94-2.06 2.06-.94-2.06-.94L8.5 2.5l-.94 2.06-2.06.94zm10 10l.94 2.06.94-2.06 2.06-.94-2.06-.94-.94-2.06-.94 2.06-2.06.94z\"/><path d=\"M17.41 7.96l-1.37-1.37c-.4-.4-.92-.59-1.43-.59-.52 0-1.04.2-1.43.59L10.3 9.45l-7.72 7.72c-.78.78-.78 2.05 0 2.83L4 21.41c.39.39.9.59 1.41.59.51 0 1.02-.2 1.41-.59l7.78-7.78 2.81-2.81c.8-.78.8-2.07 0-2.86zM5.41 20L4 18.59l7.72-7.72 1.47 1.35L5.41 20z\"/>\n",
              "  </svg>\n",
              "      </button>\n",
              "      \n",
              "  <style>\n",
              "    .colab-df-container {\n",
              "      display:flex;\n",
              "      flex-wrap:wrap;\n",
              "      gap: 12px;\n",
              "    }\n",
              "\n",
              "    .colab-df-convert {\n",
              "      background-color: #E8F0FE;\n",
              "      border: none;\n",
              "      border-radius: 50%;\n",
              "      cursor: pointer;\n",
              "      display: none;\n",
              "      fill: #1967D2;\n",
              "      height: 32px;\n",
              "      padding: 0 0 0 0;\n",
              "      width: 32px;\n",
              "    }\n",
              "\n",
              "    .colab-df-convert:hover {\n",
              "      background-color: #E2EBFA;\n",
              "      box-shadow: 0px 1px 2px rgba(60, 64, 67, 0.3), 0px 1px 3px 1px rgba(60, 64, 67, 0.15);\n",
              "      fill: #174EA6;\n",
              "    }\n",
              "\n",
              "    [theme=dark] .colab-df-convert {\n",
              "      background-color: #3B4455;\n",
              "      fill: #D2E3FC;\n",
              "    }\n",
              "\n",
              "    [theme=dark] .colab-df-convert:hover {\n",
              "      background-color: #434B5C;\n",
              "      box-shadow: 0px 1px 3px 1px rgba(0, 0, 0, 0.15);\n",
              "      filter: drop-shadow(0px 1px 2px rgba(0, 0, 0, 0.3));\n",
              "      fill: #FFFFFF;\n",
              "    }\n",
              "  </style>\n",
              "\n",
              "      <script>\n",
              "        const buttonEl =\n",
              "          document.querySelector('#df-79b56950-214c-4cc0-b508-01cffd749d9c button.colab-df-convert');\n",
              "        buttonEl.style.display =\n",
              "          google.colab.kernel.accessAllowed ? 'block' : 'none';\n",
              "\n",
              "        async function convertToInteractive(key) {\n",
              "          const element = document.querySelector('#df-79b56950-214c-4cc0-b508-01cffd749d9c');\n",
              "          const dataTable =\n",
              "            await google.colab.kernel.invokeFunction('convertToInteractive',\n",
              "                                                     [key], {});\n",
              "          if (!dataTable) return;\n",
              "\n",
              "          const docLinkHtml = 'Like what you see? Visit the ' +\n",
              "            '<a target=\"_blank\" href=https://colab.research.google.com/notebooks/data_table.ipynb>data table notebook</a>'\n",
              "            + ' to learn more about interactive tables.';\n",
              "          element.innerHTML = '';\n",
              "          dataTable['output_type'] = 'display_data';\n",
              "          await google.colab.output.renderOutput(dataTable, element);\n",
              "          const docLink = document.createElement('div');\n",
              "          docLink.innerHTML = docLinkHtml;\n",
              "          element.appendChild(docLink);\n",
              "        }\n",
              "      </script>\n",
              "    </div>\n",
              "  </div>\n",
              "  "
            ]
          },
          "metadata": {},
          "execution_count": 11
        }
      ]
    },
    {
      "cell_type": "code",
      "source": [
        "tourism_id['Category'].unique()"
      ],
      "metadata": {
        "colab": {
          "base_uri": "https://localhost:8080/"
        },
        "id": "EFD6fYiIYo8_",
        "outputId": "69fb7de6-f56b-49ed-871a-80c95321ae49"
      },
      "execution_count": null,
      "outputs": [
        {
          "output_type": "execute_result",
          "data": {
            "text/plain": [
              "array(['Budaya', 'Taman Hiburan', 'Cagar Alam', 'Bahari',\n",
              "       'Pusat Perbelanjaan', 'Tempat Ibadah'], dtype=object)"
            ]
          },
          "metadata": {},
          "execution_count": 12
        }
      ]
    },
    {
      "cell_type": "code",
      "source": [
        ""
      ],
      "metadata": {
        "id": "UEnLx0yIP658"
      },
      "execution_count": null,
      "outputs": []
    },
    {
      "cell_type": "code",
      "source": [
        "tourism_id.dtypes"
      ],
      "metadata": {
        "colab": {
          "base_uri": "https://localhost:8080/"
        },
        "id": "f-LW2-MqeJ9O",
        "outputId": "f8f4df4b-8331-4869-e4b3-5145a177f8b6"
      },
      "execution_count": null,
      "outputs": [
        {
          "output_type": "execute_result",
          "data": {
            "text/plain": [
              "Place_Id          int64\n",
              "Place_Name       object\n",
              "Description      object\n",
              "Category         object\n",
              "City             object\n",
              "Price             int64\n",
              "Rating          float64\n",
              "Time_Minutes    float64\n",
              "Coordinate       object\n",
              "Lat             float64\n",
              "Long            float64\n",
              "Unnamed: 11     float64\n",
              "Unnamed: 12       int64\n",
              "dtype: object"
            ]
          },
          "metadata": {},
          "execution_count": 13
        }
      ]
    },
    {
      "cell_type": "code",
      "source": [
        "tourism_id[tourism_id[\"Place_Id\"] == 1][\"Category\"]"
      ],
      "metadata": {
        "colab": {
          "base_uri": "https://localhost:8080/"
        },
        "id": "XhoD0pTTfBlg",
        "outputId": "3ed3138f-e003-472f-febe-8e18bc93331d"
      },
      "execution_count": null,
      "outputs": [
        {
          "output_type": "execute_result",
          "data": {
            "text/plain": [
              "0    Budaya\n",
              "Name: Category, dtype: object"
            ]
          },
          "metadata": {},
          "execution_count": 14
        }
      ]
    },
    {
      "cell_type": "code",
      "source": [
        "tourism_id.loc[1][\"Category\"]"
      ],
      "metadata": {
        "colab": {
          "base_uri": "https://localhost:8080/",
          "height": 36
        },
        "id": "rU1yDAzWf7Bk",
        "outputId": "6601bbe2-d518-4032-8e8f-f824868d8d95"
      },
      "execution_count": null,
      "outputs": [
        {
          "output_type": "execute_result",
          "data": {
            "text/plain": [
              "'Budaya'"
            ],
            "application/vnd.google.colaboratory.intrinsic+json": {
              "type": "string"
            }
          },
          "metadata": {},
          "execution_count": 15
        }
      ]
    },
    {
      "cell_type": "code",
      "source": [
        "tourism_rating[\"Place_Category\"] = tourism_rating[\"Place_Id\"].map(lambda x: tourism_id.loc[x-1][\"Category\"])"
      ],
      "metadata": {
        "id": "Lwcw_bvzb02e"
      },
      "execution_count": null,
      "outputs": []
    },
    {
      "cell_type": "code",
      "source": [
        "tourism_rating.head()"
      ],
      "metadata": {
        "colab": {
          "base_uri": "https://localhost:8080/",
          "height": 206
        },
        "id": "pGFaMRi_eXPD",
        "outputId": "478657c5-ac3c-4d72-8126-b308bb720265"
      },
      "execution_count": null,
      "outputs": [
        {
          "output_type": "execute_result",
          "data": {
            "text/plain": [
              "   User_Id  Place_Id  Place_Ratings Place_Category\n",
              "0        1       179              3         Budaya\n",
              "1        1       344              2         Bahari\n",
              "2        1         5              5  Taman Hiburan\n",
              "3        1       373              3         Budaya\n",
              "4        1       101              4         Budaya"
            ],
            "text/html": [
              "\n",
              "  <div id=\"df-f69cde85-728e-433c-9a3a-21402126cd70\">\n",
              "    <div class=\"colab-df-container\">\n",
              "      <div>\n",
              "<style scoped>\n",
              "    .dataframe tbody tr th:only-of-type {\n",
              "        vertical-align: middle;\n",
              "    }\n",
              "\n",
              "    .dataframe tbody tr th {\n",
              "        vertical-align: top;\n",
              "    }\n",
              "\n",
              "    .dataframe thead th {\n",
              "        text-align: right;\n",
              "    }\n",
              "</style>\n",
              "<table border=\"1\" class=\"dataframe\">\n",
              "  <thead>\n",
              "    <tr style=\"text-align: right;\">\n",
              "      <th></th>\n",
              "      <th>User_Id</th>\n",
              "      <th>Place_Id</th>\n",
              "      <th>Place_Ratings</th>\n",
              "      <th>Place_Category</th>\n",
              "    </tr>\n",
              "  </thead>\n",
              "  <tbody>\n",
              "    <tr>\n",
              "      <th>0</th>\n",
              "      <td>1</td>\n",
              "      <td>179</td>\n",
              "      <td>3</td>\n",
              "      <td>Budaya</td>\n",
              "    </tr>\n",
              "    <tr>\n",
              "      <th>1</th>\n",
              "      <td>1</td>\n",
              "      <td>344</td>\n",
              "      <td>2</td>\n",
              "      <td>Bahari</td>\n",
              "    </tr>\n",
              "    <tr>\n",
              "      <th>2</th>\n",
              "      <td>1</td>\n",
              "      <td>5</td>\n",
              "      <td>5</td>\n",
              "      <td>Taman Hiburan</td>\n",
              "    </tr>\n",
              "    <tr>\n",
              "      <th>3</th>\n",
              "      <td>1</td>\n",
              "      <td>373</td>\n",
              "      <td>3</td>\n",
              "      <td>Budaya</td>\n",
              "    </tr>\n",
              "    <tr>\n",
              "      <th>4</th>\n",
              "      <td>1</td>\n",
              "      <td>101</td>\n",
              "      <td>4</td>\n",
              "      <td>Budaya</td>\n",
              "    </tr>\n",
              "  </tbody>\n",
              "</table>\n",
              "</div>\n",
              "      <button class=\"colab-df-convert\" onclick=\"convertToInteractive('df-f69cde85-728e-433c-9a3a-21402126cd70')\"\n",
              "              title=\"Convert this dataframe to an interactive table.\"\n",
              "              style=\"display:none;\">\n",
              "        \n",
              "  <svg xmlns=\"http://www.w3.org/2000/svg\" height=\"24px\"viewBox=\"0 0 24 24\"\n",
              "       width=\"24px\">\n",
              "    <path d=\"M0 0h24v24H0V0z\" fill=\"none\"/>\n",
              "    <path d=\"M18.56 5.44l.94 2.06.94-2.06 2.06-.94-2.06-.94-.94-2.06-.94 2.06-2.06.94zm-11 1L8.5 8.5l.94-2.06 2.06-.94-2.06-.94L8.5 2.5l-.94 2.06-2.06.94zm10 10l.94 2.06.94-2.06 2.06-.94-2.06-.94-.94-2.06-.94 2.06-2.06.94z\"/><path d=\"M17.41 7.96l-1.37-1.37c-.4-.4-.92-.59-1.43-.59-.52 0-1.04.2-1.43.59L10.3 9.45l-7.72 7.72c-.78.78-.78 2.05 0 2.83L4 21.41c.39.39.9.59 1.41.59.51 0 1.02-.2 1.41-.59l7.78-7.78 2.81-2.81c.8-.78.8-2.07 0-2.86zM5.41 20L4 18.59l7.72-7.72 1.47 1.35L5.41 20z\"/>\n",
              "  </svg>\n",
              "      </button>\n",
              "      \n",
              "  <style>\n",
              "    .colab-df-container {\n",
              "      display:flex;\n",
              "      flex-wrap:wrap;\n",
              "      gap: 12px;\n",
              "    }\n",
              "\n",
              "    .colab-df-convert {\n",
              "      background-color: #E8F0FE;\n",
              "      border: none;\n",
              "      border-radius: 50%;\n",
              "      cursor: pointer;\n",
              "      display: none;\n",
              "      fill: #1967D2;\n",
              "      height: 32px;\n",
              "      padding: 0 0 0 0;\n",
              "      width: 32px;\n",
              "    }\n",
              "\n",
              "    .colab-df-convert:hover {\n",
              "      background-color: #E2EBFA;\n",
              "      box-shadow: 0px 1px 2px rgba(60, 64, 67, 0.3), 0px 1px 3px 1px rgba(60, 64, 67, 0.15);\n",
              "      fill: #174EA6;\n",
              "    }\n",
              "\n",
              "    [theme=dark] .colab-df-convert {\n",
              "      background-color: #3B4455;\n",
              "      fill: #D2E3FC;\n",
              "    }\n",
              "\n",
              "    [theme=dark] .colab-df-convert:hover {\n",
              "      background-color: #434B5C;\n",
              "      box-shadow: 0px 1px 3px 1px rgba(0, 0, 0, 0.15);\n",
              "      filter: drop-shadow(0px 1px 2px rgba(0, 0, 0, 0.3));\n",
              "      fill: #FFFFFF;\n",
              "    }\n",
              "  </style>\n",
              "\n",
              "      <script>\n",
              "        const buttonEl =\n",
              "          document.querySelector('#df-f69cde85-728e-433c-9a3a-21402126cd70 button.colab-df-convert');\n",
              "        buttonEl.style.display =\n",
              "          google.colab.kernel.accessAllowed ? 'block' : 'none';\n",
              "\n",
              "        async function convertToInteractive(key) {\n",
              "          const element = document.querySelector('#df-f69cde85-728e-433c-9a3a-21402126cd70');\n",
              "          const dataTable =\n",
              "            await google.colab.kernel.invokeFunction('convertToInteractive',\n",
              "                                                     [key], {});\n",
              "          if (!dataTable) return;\n",
              "\n",
              "          const docLinkHtml = 'Like what you see? Visit the ' +\n",
              "            '<a target=\"_blank\" href=https://colab.research.google.com/notebooks/data_table.ipynb>data table notebook</a>'\n",
              "            + ' to learn more about interactive tables.';\n",
              "          element.innerHTML = '';\n",
              "          dataTable['output_type'] = 'display_data';\n",
              "          await google.colab.output.renderOutput(dataTable, element);\n",
              "          const docLink = document.createElement('div');\n",
              "          docLink.innerHTML = docLinkHtml;\n",
              "          element.appendChild(docLink);\n",
              "        }\n",
              "      </script>\n",
              "    </div>\n",
              "  </div>\n",
              "  "
            ]
          },
          "metadata": {},
          "execution_count": 17
        }
      ]
    },
    {
      "cell_type": "code",
      "source": [
        "tourism_rating[[\"Place_Id\",\"User_Id\"]] = tourism_rating[[\"Place_Id\",\"User_Id\"]].astype(str)"
      ],
      "metadata": {
        "id": "DlBOc5flu4vC"
      },
      "execution_count": null,
      "outputs": []
    },
    {
      "cell_type": "code",
      "source": [
        "# !tfds new my_dataset"
      ],
      "metadata": {
        "id": "UD8VrlJkWNbR"
      },
      "execution_count": null,
      "outputs": []
    },
    {
      "cell_type": "code",
      "source": [
        "place = tourism_id[[\"Place_Id\",\"Place_Name\",\"Category\"]]\n",
        "place.to_csv(os.path.join('/content/drive/Othercomputers/My Laptop/Bangkit/Capstone/Recommender system/my_dataset','place.csv'), header=False,index=False)"
      ],
      "metadata": {
        "id": "BbAAtnz0QiM-"
      },
      "execution_count": null,
      "outputs": []
    },
    {
      "cell_type": "code",
      "source": [
        "rating = tourism_rating[['User_Id','Place_Id']].astype(str)\n",
        "# place_id = tourism_rating[['Place_Id']]\n",
        "rating.to_csv(os.path.join('/content/drive/Othercomputers/My Laptop/Bangkit/Capstone/Recommender system/my_dataset','rating.csv'), header=False,index=False)\n",
        "# place_id.to_csv(os.path.join('/content/my_dataset','place_id.csv'), header=False,index=False)"
      ],
      "metadata": {
        "id": "cS5RpWUTfd4C"
      },
      "execution_count": null,
      "outputs": []
    },
    {
      "cell_type": "code",
      "source": [
        "# import csv\n",
        "# def fn():\n",
        "#   with open(\"/content/my_dataset/user_id.csv\", 'r') as file:\n",
        "#       csvreader = csv.reader(file)\n",
        "#       # header = next(csvreader)\n",
        "#       for i,row in enumerate(csvreader):\n",
        "#         print(row[0])\n",
        "# fn()"
      ],
      "metadata": {
        "id": "o4XIZfBokX7z"
      },
      "execution_count": null,
      "outputs": []
    },
    {
      "cell_type": "markdown",
      "source": [
        "## CUSTOM DATASET"
      ],
      "metadata": {
        "id": "9PoH3RTnVfRA"
      }
    },
    {
      "cell_type": "code",
      "source": [
        "# !tfds new my_dataset"
      ],
      "metadata": {
        "id": "psZDS835Vh-o",
        "colab": {
          "base_uri": "https://localhost:8080/"
        },
        "outputId": "22e2c7dc-64bf-444f-8d7b-bef277504b2b"
      },
      "execution_count": null,
      "outputs": [
        {
          "output_type": "stream",
          "name": "stdout",
          "text": [
            "2022-05-12 17:30:25.812563: E tensorflow/stream_executor/cuda/cuda_driver.cc:271] failed call to cuInit: CUDA_ERROR_NO_DEVICE: no CUDA-capable device is detected\n",
            "Dataset generated at /content/my_dataset\n",
            "You can start searching `TODO(my_dataset)` to complete the implementation.\n",
            "Please check https://www.tensorflow.org/datasets/add_dataset for additional details.\n"
          ]
        }
      ]
    },
    {
      "cell_type": "code",
      "source": [
        "# !tfds new place"
      ],
      "metadata": {
        "colab": {
          "base_uri": "https://localhost:8080/"
        },
        "id": "2udNYYlvRGNa",
        "outputId": "2ae03ea6-a312-4042-fa9f-ca7a215096f5"
      },
      "execution_count": null,
      "outputs": [
        {
          "output_type": "stream",
          "name": "stdout",
          "text": [
            "2022-05-14 15:51:33.849731: E tensorflow/stream_executor/cuda/cuda_driver.cc:271] failed call to cuInit: CUDA_ERROR_NO_DEVICE: no CUDA-capable device is detected\n",
            "Dataset generated at /content/drive/Othercomputers/My Laptop/Bangkit/Capstone/Recommender system/place\n",
            "You can start searching `TODO(place)` to complete the implementation.\n",
            "Please check https://www.tensorflow.org/datasets/add_dataset for additional details.\n"
          ]
        }
      ]
    },
    {
      "cell_type": "code",
      "source": [
        "import my_dataset\n",
        "builder = tfds.builder('my_dataset')\n",
        "ds = tfds.load('my_dataset',split='train')"
      ],
      "metadata": {
        "id": "sEjJqchJwtsu",
        "colab": {
          "base_uri": "https://localhost:8080/",
          "height": 52,
          "referenced_widgets": [
            "1e4335471ae44c61ac3e84b0b04a714f",
            "68f70805798b4d66a76190990c7a0dd9",
            "997f30c49beb4e209c3a4a42b1c25e9a",
            "6eb75ed97c9248048ea39ba974feefd5",
            "90229e46fc384e4eadb1f84a0ea892e4",
            "9a503d23da4244f1b3afabe3d511fed7",
            "988b97b60c50480992b76fbed6729385",
            "a16e072f81f84dc18c73ad3783ee1863",
            "707c54e575ca40fba32ff4b4af9fb302",
            "840a807772444a39acdb31573134777f",
            "027b8b34947046f0848f99d9cd72947a",
            "fb96dcf1b4b94c95ba3a62619bba0aed",
            "ba2dde1ebd2149719b56d99a8ce1640d",
            "495350acbfa645fdb6dfecf07fa963bd",
            "8f8af8fc0ae546f29723605cf23d0334",
            "d955015912f642608a33d2bf5ee98f38",
            "c859b2696eb84903afc47b53dd0f05ee",
            "6cacd3b7e77c448780e8991b610d6986",
            "432e18865e32466dbd9ba75ffb33c0ea",
            "dcd5f7cdeab04559a6700ef766ddb59a",
            "75976a66e6604b6abc0127593bf70b62",
            "6ac1681bf28840818cec60f5a20a9794",
            "106ee8a109164ca9a18ff2a40f473c30",
            "a217ad515ee34a03a0e1bbf2a439e659",
            "3ff123bc38d548a096f07f6a05d0ca77",
            "e6388905401e4d60ad86713de544f132",
            "0cf8d97dc1ee46349ee3a95edd6d0657",
            "fc1156f32b1843bcbdd90a08313980e2",
            "4dd04f7e709e47f2bc9a02c1191817ef",
            "ed43eb8a3e6641f789e16303c5a2995a",
            "8f5e50e5354b4e96b267e205414f11a6",
            "3e22ff9e7d8e4eebbc9dbbdc56082fd8",
            "6b96a76232bb455a9ff40a2fe5b8b6c1",
            "7a9b76221e5d4edf962efa88ac23371e",
            "db66f318a98a4f79a45aedf41e1fedf3",
            "7ba443e1f3a440fbb1c0253c75222470",
            "060774759e214aceac1128fd19fc5caa",
            "5eb98d26b32e426c82cc8b2bb8383e1a",
            "fccd7a0aa1ad4e51a27810c5dab60ac4",
            "b4f2fb96e97243129882a452aea2d476",
            "11bf47995058471dab7587708eb99ec2",
            "a4636c419cef47248ea9334b1973d028",
            "0ad12ea522ba4671bb9173af145e5d35",
            "45fe813e5e684e6998617dc1fa760c2c",
            "94f4e7005c8c4964967e14343cd158c5",
            "194a43c5b67a4fae9af11912acf6f006",
            "8227bd826746473fa67076cf918c15e4",
            "e7368cb5869a498982fbc6eebdbe1e12",
            "daefbb51836d4d328b31b5f0aa9c9a8e",
            "54949fab0eba49c394f2393495f471a2",
            "fc3acec0ca044c1faaddd5ccce611418",
            "df00f92241204907867bae4b00fd35e0",
            "27f31b815ea4406b9f65e745858c889e",
            "26d0347517ee4b7ca87c8170c0fa4a06",
            "ba127dee1427400082e04c663bf5f2c8"
          ]
        },
        "outputId": "ea66f92c-acff-4fc3-b1e7-5e73685cdce0"
      },
      "execution_count": null,
      "outputs": [
        {
          "output_type": "stream",
          "name": "stdout",
          "text": [
            "\u001b[1mDownloading and preparing dataset Unknown size (download: Unknown size, generated: Unknown size, total: Unknown size) to /root/tensorflow_datasets/my_dataset/1.0.0...\u001b[0m\n"
          ]
        },
        {
          "output_type": "display_data",
          "data": {
            "text/plain": [
              "Generating splits...:   0%|          | 0/2 [00:00<?, ? splits/s]"
            ],
            "application/vnd.jupyter.widget-view+json": {
              "version_major": 2,
              "version_minor": 0,
              "model_id": "1e4335471ae44c61ac3e84b0b04a714f"
            }
          },
          "metadata": {}
        },
        {
          "output_type": "display_data",
          "data": {
            "text/plain": [
              "Generating train examples...: 0 examples [00:00, ? examples/s]"
            ],
            "application/vnd.jupyter.widget-view+json": {
              "version_major": 2,
              "version_minor": 0,
              "model_id": "fb96dcf1b4b94c95ba3a62619bba0aed"
            }
          },
          "metadata": {}
        },
        {
          "output_type": "display_data",
          "data": {
            "text/plain": [
              "Shuffling /root/tensorflow_datasets/my_dataset/1.0.0.incompleteTPKD04/my_dataset-train.tfrecord*...:   0%|    …"
            ],
            "application/vnd.jupyter.widget-view+json": {
              "version_major": 2,
              "version_minor": 0,
              "model_id": "106ee8a109164ca9a18ff2a40f473c30"
            }
          },
          "metadata": {}
        },
        {
          "output_type": "display_data",
          "data": {
            "text/plain": [
              "Generating test examples...: 0 examples [00:00, ? examples/s]"
            ],
            "application/vnd.jupyter.widget-view+json": {
              "version_major": 2,
              "version_minor": 0,
              "model_id": "7a9b76221e5d4edf962efa88ac23371e"
            }
          },
          "metadata": {}
        },
        {
          "output_type": "display_data",
          "data": {
            "text/plain": [
              "Shuffling /root/tensorflow_datasets/my_dataset/1.0.0.incompleteTPKD04/my_dataset-test.tfrecord*...:   0%|     …"
            ],
            "application/vnd.jupyter.widget-view+json": {
              "version_major": 2,
              "version_minor": 0,
              "model_id": "94f4e7005c8c4964967e14343cd158c5"
            }
          },
          "metadata": {}
        },
        {
          "output_type": "stream",
          "name": "stdout",
          "text": [
            "\u001b[1mDataset my_dataset downloaded and prepared to /root/tensorflow_datasets/my_dataset/1.0.0. Subsequent calls will reuse this data.\u001b[0m\n"
          ]
        }
      ]
    },
    {
      "cell_type": "code",
      "source": [
        "ratings_dataset = ds.map(\n",
        "    lambda rating: {\n",
        "        # `user_id` is useful as a user identifier.\n",
        "        'user_id': rating['user_id'],\n",
        "        # `movie_id` is useful as a movie identifier.\n",
        "        'place_id': rating['place_id']\n",
        "    }\n",
        ")\n",
        "\n",
        "tf.random.set_seed(42)"
      ],
      "metadata": {
        "id": "Smki-OiXa8aq"
      },
      "execution_count": null,
      "outputs": []
    },
    {
      "cell_type": "code",
      "source": [
        "for x in ds.take(5).as_numpy_iterator():\n",
        "  pprint.pprint(x)"
      ],
      "metadata": {
        "colab": {
          "base_uri": "https://localhost:8080/"
        },
        "id": "vg8HAuRfOjhC",
        "outputId": "8df5175d-ab68-430e-836f-24d52484ae19"
      },
      "execution_count": null,
      "outputs": [
        {
          "output_type": "stream",
          "name": "stdout",
          "text": [
            "{'place_id': b'331', 'user_id': b'52'}\n",
            "{'place_id': b'147', 'user_id': b'45'}\n",
            "{'place_id': b'336', 'user_id': b'129'}\n",
            "{'place_id': b'430', 'user_id': b'125'}\n",
            "{'place_id': b'318', 'user_id': b'214'}\n"
          ]
        }
      ]
    },
    {
      "cell_type": "code",
      "source": [
        "ratings_dataset_shuffled = ratings_dataset.shuffle(\n",
        "    # the new dataset will be sampled from a buffer window of first `buffer_size`\n",
        "    # elements of the dataset\n",
        "    buffer_size=1000,\n",
        "    # set the random seed that will be used to create the distribution.\n",
        "    seed=42,\n",
        "    # `list(dataset.as_numpy_iterator()` yields different result for each call\n",
        "    # Because reshuffle_each_iteration defaults to True.\n",
        "    reshuffle_each_iteration=False\n",
        ")"
      ],
      "metadata": {
        "id": "DPCJgkCSnJZd"
      },
      "execution_count": null,
      "outputs": []
    },
    {
      "cell_type": "code",
      "source": [
        "trainset_size = 0.8 * ratings_dataset.__len__().numpy()\n",
        "ratings_trainset = ratings_dataset_shuffled.take(trainset_size)\n",
        "ratings_testset = ratings_dataset_shuffled.skip(trainset_size)"
      ],
      "metadata": {
        "id": "8mBSTHIQnYey"
      },
      "execution_count": null,
      "outputs": []
    },
    {
      "cell_type": "code",
      "source": [
        "# Make a Keras StringLookup layer as the mapping (lookup)\n",
        "user_id_lookup_layer = \\\n",
        "    tf.keras.layers.experimental.preprocessing.StringLookup(mask_token=None)\n",
        "\n",
        "# StringLookup layer is a non-trainable layer and its state (the vocabulary)\n",
        "# must be constructed and set before training in a step called \"adaptation\".\n",
        "user_id_lookup_layer.adapt(\n",
        "    ratings_trainset.map(\n",
        "        lambda x: x['user_id']\n",
        "    )\n",
        ")\n",
        "\n",
        "# print(\n",
        "#     f\"Vocabulary[:10] -> {user_id_lookup_layer.get_vocabulary()[:10]}\"\n",
        "#     # Vocabulary: ['[UNK]', '405', '655', '13', ...]\n",
        "#     # The vocabulary includes one (or more!) unknown (or \"out of vocabulary\", OOV)\n",
        "#     # tokens. So the layer can handle categorical values that are not in the\n",
        "#     # vocabulary and the model can continue to learn about and make\n",
        "#     # recommendations even using features that have not been seen during\n",
        "#     # vocabulary construction.\n",
        "# )\n",
        "\n",
        "# print(\n",
        "#     \"Mapped integer for user ids: ['-2', '13', '655', 'xxx']\\n\",\n",
        "#     user_id_lookup_layer(\n",
        "#         ['-2', '13', '655', 'xxx']\n",
        "#     )\n",
        "# )\n",
        "\n",
        "user_id_embedding_dim = 32\n",
        "# The larger it is, the higher the capacity of the model, but the slower it is\n",
        "# to fit and serve and more prone to overfitting.\n",
        "\n",
        "user_id_embedding_layer = tf.keras.layers.Embedding(\n",
        "    # Size of the vocabulary\n",
        "    input_dim=user_id_lookup_layer.vocabulary_size(),\n",
        "    # Dimension of the dense embedding\n",
        "    output_dim=user_id_embedding_dim\n",
        ")\n",
        " \n",
        "# A model that takes raw string feature values (user_id) in and yields embeddings\n",
        "user_id_model = tf.keras.Sequential(\n",
        "    [\n",
        "        user_id_lookup_layer,\n",
        "        user_id_embedding_layer\n",
        "    ]\n",
        ")\n",
        " \n",
        "# print(\n",
        "#     \"Embeddings for user ids: ['-2', '13', '655', 'xxx']\\n\",\n",
        "#     user_id_model(\n",
        "#         ['-2', '13', '655', 'xxx']\n",
        "#     )\n",
        "# )\n",
        "\n",
        "\n",
        "place_id_lookup_layer = \\\n",
        "    tf.keras.layers.experimental.preprocessing.StringLookup(mask_token=None)\n",
        "place_id_lookup_layer.adapt(\n",
        "    ratings_trainset.map(\n",
        "        lambda x: x['place_id']\n",
        "    )\n",
        ")\n",
        "\n",
        "# Same as user_id_embedding_dim to be able to measure the similarity\n",
        "place_id_embedding_dim = 32\n",
        "\n",
        "place_id_embedding_layer = tf.keras.layers.Embedding(\n",
        "    input_dim=place_id_lookup_layer.vocabulary_size(),\n",
        "    output_dim=place_id_embedding_dim\n",
        ")\n",
        " \n",
        "place_id_model = tf.keras.Sequential(\n",
        "    [\n",
        "        place_id_lookup_layer,\n",
        "        place_id_embedding_layer\n",
        "    ]\n",
        ")\n",
        "\n",
        "# print(\n",
        "#     f\"Embedding for the movie 898:\\n {movie_id_model('898')}\"\n",
        "# )"
      ],
      "metadata": {
        "id": "GLTnISknnd7N"
      },
      "execution_count": null,
      "outputs": []
    },
    {
      "cell_type": "code",
      "source": [
        "# Query tower\n",
        "query_model = user_id_model\n",
        " \n",
        "# Candidate tower\n",
        "candidate_model = place_id_model"
      ],
      "metadata": {
        "id": "0C1d298ZoJC4"
      },
      "execution_count": null,
      "outputs": []
    },
    {
      "cell_type": "code",
      "source": [
        "retrieval_ratings_trainset = ratings_trainset.map(\n",
        "    lambda rating: {\n",
        "        'user_id': rating['user_id'],\n",
        "        'place_id': rating['place_id'],\n",
        "    }\n",
        ")\n",
        " \n",
        "retrieval_ratings_testset = ratings_testset.map(\n",
        "    lambda rating: {\n",
        "        'user_id': rating['user_id'],\n",
        "        'place_id': rating['place_id'],\n",
        "    }\n",
        ")"
      ],
      "metadata": {
        "id": "-rqovPTfoMyy"
      },
      "execution_count": null,
      "outputs": []
    },
    {
      "cell_type": "code",
      "source": [
        "# x= ratings_dataset.map(lambda x: x['user_id'])\n",
        "# for i in x:\n",
        "#   print(i)"
      ],
      "metadata": {
        "id": "nhgcZQpebEtD"
      },
      "execution_count": null,
      "outputs": []
    },
    {
      "cell_type": "markdown",
      "source": [
        "## MODEL REAL"
      ],
      "metadata": {
        "id": "Leo3OCcAWXfx"
      }
    },
    {
      "cell_type": "code",
      "source": [
        "from google.colab import auth\n",
        "import gspread\n",
        "from google.auth import default\n",
        "from gspread_dataframe import get_as_dataframe, set_with_dataframe\n",
        "\n",
        "auth.authenticate_user()\n",
        "creds, _ = default()"
      ],
      "metadata": {
        "id": "a37LZp8rWZYu",
        "colab": {
          "base_uri": "https://localhost:8080/"
        },
        "outputId": "b74e6aca-2343-4e6b-87fc-d459fb45d8c2"
      },
      "execution_count": 8,
      "outputs": [
        {
          "output_type": "stream",
          "name": "stderr",
          "text": [
            "WARNING:google.auth._default:No project ID could be determined. Consider running `gcloud config set project` or setting the GOOGLE_CLOUD_PROJECT environment variable\n"
          ]
        }
      ]
    },
    {
      "cell_type": "code",
      "source": [
        "gc = gspread.authorize(creds)"
      ],
      "metadata": {
        "id": "dgo2t9CaW8EJ"
      },
      "execution_count": 9,
      "outputs": []
    },
    {
      "cell_type": "code",
      "source": [
        "feature = gc.open('capstone_dataset').worksheet('userFeatures')\n",
        "rows = feature.get_all_values()\n",
        "dfFeature = pd.DataFrame.from_records(rows[1:], columns=rows[0])"
      ],
      "metadata": {
        "id": "uw1NAK5UXBpR"
      },
      "execution_count": 9,
      "outputs": []
    },
    {
      "cell_type": "code",
      "source": [
        "dfFeature.head()"
      ],
      "metadata": {
        "id": "HYB5yxB8eQFf",
        "colab": {
          "base_uri": "https://localhost:8080/",
          "height": 206
        },
        "outputId": "9b53abc9-ff7e-4a98-8f03-0a51d574dd18"
      },
      "execution_count": 10,
      "outputs": [
        {
          "output_type": "execute_result",
          "data": {
            "text/plain": [
              "  user_id like add category         location location_id\n",
              "0       0    1   0    beach      LABUAN BAJO          31\n",
              "1       0    1   0    beach  TAPANULI TENGAH          54\n",
              "2       0    1   0    beach      UJUNG KULON          85\n",
              "3       0    1   0    beach   PANTAI SELATAN          57\n",
              "4       0    1   0    beach         MALDIVES          36"
            ],
            "text/html": [
              "\n",
              "  <div id=\"df-353503a8-7345-452d-90bf-dbc22273991e\">\n",
              "    <div class=\"colab-df-container\">\n",
              "      <div>\n",
              "<style scoped>\n",
              "    .dataframe tbody tr th:only-of-type {\n",
              "        vertical-align: middle;\n",
              "    }\n",
              "\n",
              "    .dataframe tbody tr th {\n",
              "        vertical-align: top;\n",
              "    }\n",
              "\n",
              "    .dataframe thead th {\n",
              "        text-align: right;\n",
              "    }\n",
              "</style>\n",
              "<table border=\"1\" class=\"dataframe\">\n",
              "  <thead>\n",
              "    <tr style=\"text-align: right;\">\n",
              "      <th></th>\n",
              "      <th>user_id</th>\n",
              "      <th>like</th>\n",
              "      <th>add</th>\n",
              "      <th>category</th>\n",
              "      <th>location</th>\n",
              "      <th>location_id</th>\n",
              "    </tr>\n",
              "  </thead>\n",
              "  <tbody>\n",
              "    <tr>\n",
              "      <th>0</th>\n",
              "      <td>0</td>\n",
              "      <td>1</td>\n",
              "      <td>0</td>\n",
              "      <td>beach</td>\n",
              "      <td>LABUAN BAJO</td>\n",
              "      <td>31</td>\n",
              "    </tr>\n",
              "    <tr>\n",
              "      <th>1</th>\n",
              "      <td>0</td>\n",
              "      <td>1</td>\n",
              "      <td>0</td>\n",
              "      <td>beach</td>\n",
              "      <td>TAPANULI TENGAH</td>\n",
              "      <td>54</td>\n",
              "    </tr>\n",
              "    <tr>\n",
              "      <th>2</th>\n",
              "      <td>0</td>\n",
              "      <td>1</td>\n",
              "      <td>0</td>\n",
              "      <td>beach</td>\n",
              "      <td>UJUNG KULON</td>\n",
              "      <td>85</td>\n",
              "    </tr>\n",
              "    <tr>\n",
              "      <th>3</th>\n",
              "      <td>0</td>\n",
              "      <td>1</td>\n",
              "      <td>0</td>\n",
              "      <td>beach</td>\n",
              "      <td>PANTAI SELATAN</td>\n",
              "      <td>57</td>\n",
              "    </tr>\n",
              "    <tr>\n",
              "      <th>4</th>\n",
              "      <td>0</td>\n",
              "      <td>1</td>\n",
              "      <td>0</td>\n",
              "      <td>beach</td>\n",
              "      <td>MALDIVES</td>\n",
              "      <td>36</td>\n",
              "    </tr>\n",
              "  </tbody>\n",
              "</table>\n",
              "</div>\n",
              "      <button class=\"colab-df-convert\" onclick=\"convertToInteractive('df-353503a8-7345-452d-90bf-dbc22273991e')\"\n",
              "              title=\"Convert this dataframe to an interactive table.\"\n",
              "              style=\"display:none;\">\n",
              "        \n",
              "  <svg xmlns=\"http://www.w3.org/2000/svg\" height=\"24px\"viewBox=\"0 0 24 24\"\n",
              "       width=\"24px\">\n",
              "    <path d=\"M0 0h24v24H0V0z\" fill=\"none\"/>\n",
              "    <path d=\"M18.56 5.44l.94 2.06.94-2.06 2.06-.94-2.06-.94-.94-2.06-.94 2.06-2.06.94zm-11 1L8.5 8.5l.94-2.06 2.06-.94-2.06-.94L8.5 2.5l-.94 2.06-2.06.94zm10 10l.94 2.06.94-2.06 2.06-.94-2.06-.94-.94-2.06-.94 2.06-2.06.94z\"/><path d=\"M17.41 7.96l-1.37-1.37c-.4-.4-.92-.59-1.43-.59-.52 0-1.04.2-1.43.59L10.3 9.45l-7.72 7.72c-.78.78-.78 2.05 0 2.83L4 21.41c.39.39.9.59 1.41.59.51 0 1.02-.2 1.41-.59l7.78-7.78 2.81-2.81c.8-.78.8-2.07 0-2.86zM5.41 20L4 18.59l7.72-7.72 1.47 1.35L5.41 20z\"/>\n",
              "  </svg>\n",
              "      </button>\n",
              "      \n",
              "  <style>\n",
              "    .colab-df-container {\n",
              "      display:flex;\n",
              "      flex-wrap:wrap;\n",
              "      gap: 12px;\n",
              "    }\n",
              "\n",
              "    .colab-df-convert {\n",
              "      background-color: #E8F0FE;\n",
              "      border: none;\n",
              "      border-radius: 50%;\n",
              "      cursor: pointer;\n",
              "      display: none;\n",
              "      fill: #1967D2;\n",
              "      height: 32px;\n",
              "      padding: 0 0 0 0;\n",
              "      width: 32px;\n",
              "    }\n",
              "\n",
              "    .colab-df-convert:hover {\n",
              "      background-color: #E2EBFA;\n",
              "      box-shadow: 0px 1px 2px rgba(60, 64, 67, 0.3), 0px 1px 3px 1px rgba(60, 64, 67, 0.15);\n",
              "      fill: #174EA6;\n",
              "    }\n",
              "\n",
              "    [theme=dark] .colab-df-convert {\n",
              "      background-color: #3B4455;\n",
              "      fill: #D2E3FC;\n",
              "    }\n",
              "\n",
              "    [theme=dark] .colab-df-convert:hover {\n",
              "      background-color: #434B5C;\n",
              "      box-shadow: 0px 1px 3px 1px rgba(0, 0, 0, 0.15);\n",
              "      filter: drop-shadow(0px 1px 2px rgba(0, 0, 0, 0.3));\n",
              "      fill: #FFFFFF;\n",
              "    }\n",
              "  </style>\n",
              "\n",
              "      <script>\n",
              "        const buttonEl =\n",
              "          document.querySelector('#df-353503a8-7345-452d-90bf-dbc22273991e button.colab-df-convert');\n",
              "        buttonEl.style.display =\n",
              "          google.colab.kernel.accessAllowed ? 'block' : 'none';\n",
              "\n",
              "        async function convertToInteractive(key) {\n",
              "          const element = document.querySelector('#df-353503a8-7345-452d-90bf-dbc22273991e');\n",
              "          const dataTable =\n",
              "            await google.colab.kernel.invokeFunction('convertToInteractive',\n",
              "                                                     [key], {});\n",
              "          if (!dataTable) return;\n",
              "\n",
              "          const docLinkHtml = 'Like what you see? Visit the ' +\n",
              "            '<a target=\"_blank\" href=https://colab.research.google.com/notebooks/data_table.ipynb>data table notebook</a>'\n",
              "            + ' to learn more about interactive tables.';\n",
              "          element.innerHTML = '';\n",
              "          dataTable['output_type'] = 'display_data';\n",
              "          await google.colab.output.renderOutput(dataTable, element);\n",
              "          const docLink = document.createElement('div');\n",
              "          docLink.innerHTML = docLinkHtml;\n",
              "          element.appendChild(docLink);\n",
              "        }\n",
              "      </script>\n",
              "    </div>\n",
              "  </div>\n",
              "  "
            ]
          },
          "metadata": {},
          "execution_count": 10
        }
      ]
    },
    {
      "cell_type": "code",
      "source": [
        "# dfFeature.dtypes"
      ],
      "metadata": {
        "id": "PTcUrtbMXXjF"
      },
      "execution_count": null,
      "outputs": []
    },
    {
      "cell_type": "code",
      "source": [
        "dfFeature = dfFeature[['user_id','location','location_id']].values"
      ],
      "metadata": {
        "id": "V9K5FE8BZ40y"
      },
      "execution_count": 11,
      "outputs": []
    },
    {
      "cell_type": "code",
      "source": [
        "for i in dfFeature:\n",
        "  print(type(i[0]))"
      ],
      "metadata": {
        "id": "iskcli8uZ9wD"
      },
      "execution_count": null,
      "outputs": []
    },
    {
      "cell_type": "code",
      "source": [
        "dfFeature[:,0]"
      ],
      "metadata": {
        "colab": {
          "base_uri": "https://localhost:8080/"
        },
        "id": "h--5r4eMaTS2",
        "outputId": "d7828a28-1950-4837-c710-1c0cf12c9ece"
      },
      "execution_count": 14,
      "outputs": [
        {
          "output_type": "execute_result",
          "data": {
            "text/plain": [
              "array(['0', '0', '0', ..., '182', '182', '182'], dtype=object)"
            ]
          },
          "metadata": {},
          "execution_count": 14
        }
      ]
    },
    {
      "cell_type": "code",
      "source": [
        "dfFeature[['user_id','location','location_id']].to_csv(os.path.join('/content/drive/Othercomputers/My Laptop/Bangkit/Capstone/Recommender system/userFeatures','userFeaturesV2.csv'), header=False,index=False)"
      ],
      "metadata": {
        "id": "rJtNVDpUXdoM"
      },
      "execution_count": 11,
      "outputs": []
    },
    {
      "cell_type": "code",
      "source": [
        ""
      ],
      "metadata": {
        "id": "9OuHLE82YIDb"
      },
      "execution_count": null,
      "outputs": []
    },
    {
      "cell_type": "code",
      "source": [
        "# dff = pd.read_csv(\"userFeatures/userFeatures.csv\")\n",
        "# dff.head()"
      ],
      "metadata": {
        "id": "h4UYAc9bh0cV"
      },
      "execution_count": null,
      "outputs": []
    },
    {
      "cell_type": "code",
      "source": [
        "wishFeature = gc.open('capstone_dataset').worksheet('wishEmbedding')\n",
        "rows = wishFeature.get_all_values()\n",
        "dfWishFeature = pd.DataFrame.from_records(rows[1:], columns=rows[0])"
      ],
      "metadata": {
        "id": "eQCbLxHeX_P5"
      },
      "execution_count": 10,
      "outputs": []
    },
    {
      "cell_type": "code",
      "source": [
        "dfWishFeature.head()"
      ],
      "metadata": {
        "id": "E2Kk3QAdYw4Q",
        "colab": {
          "base_uri": "https://localhost:8080/",
          "height": 250
        },
        "outputId": "7b0a6484-4126-4427-da48-6af4fce8f1d9"
      },
      "execution_count": 11,
      "outputs": [
        {
          "output_type": "execute_result",
          "data": {
            "text/plain": [
              "  location_id        location coordinates  \\\n",
              "0           0     GUNUNG GEDE               \n",
              "1           1  ES KRIM RAGUSA               \n",
              "2           2      RAJA AMPAT               \n",
              "3           3      DANAU TOBA               \n",
              "4           4    GUNUNG BROMO               \n",
              "\n",
              "                                categories  \n",
              "0                  ['outbond', 'mountain']  \n",
              "1         ['mall', 'culinary', 'shopping']  \n",
              "2    ['mountain', 'beach', 'photoHunting']  \n",
              "3      ['outbond', 'lake', 'conservation']  \n",
              "4  ['outbond', 'mountain', 'conservation']  "
            ],
            "text/html": [
              "\n",
              "  <div id=\"df-705852d8-2aaf-456d-a3b8-c1fb071578b4\">\n",
              "    <div class=\"colab-df-container\">\n",
              "      <div>\n",
              "<style scoped>\n",
              "    .dataframe tbody tr th:only-of-type {\n",
              "        vertical-align: middle;\n",
              "    }\n",
              "\n",
              "    .dataframe tbody tr th {\n",
              "        vertical-align: top;\n",
              "    }\n",
              "\n",
              "    .dataframe thead th {\n",
              "        text-align: right;\n",
              "    }\n",
              "</style>\n",
              "<table border=\"1\" class=\"dataframe\">\n",
              "  <thead>\n",
              "    <tr style=\"text-align: right;\">\n",
              "      <th></th>\n",
              "      <th>location_id</th>\n",
              "      <th>location</th>\n",
              "      <th>coordinates</th>\n",
              "      <th>categories</th>\n",
              "    </tr>\n",
              "  </thead>\n",
              "  <tbody>\n",
              "    <tr>\n",
              "      <th>0</th>\n",
              "      <td>0</td>\n",
              "      <td>GUNUNG GEDE</td>\n",
              "      <td></td>\n",
              "      <td>['outbond', 'mountain']</td>\n",
              "    </tr>\n",
              "    <tr>\n",
              "      <th>1</th>\n",
              "      <td>1</td>\n",
              "      <td>ES KRIM RAGUSA</td>\n",
              "      <td></td>\n",
              "      <td>['mall', 'culinary', 'shopping']</td>\n",
              "    </tr>\n",
              "    <tr>\n",
              "      <th>2</th>\n",
              "      <td>2</td>\n",
              "      <td>RAJA AMPAT</td>\n",
              "      <td></td>\n",
              "      <td>['mountain', 'beach', 'photoHunting']</td>\n",
              "    </tr>\n",
              "    <tr>\n",
              "      <th>3</th>\n",
              "      <td>3</td>\n",
              "      <td>DANAU TOBA</td>\n",
              "      <td></td>\n",
              "      <td>['outbond', 'lake', 'conservation']</td>\n",
              "    </tr>\n",
              "    <tr>\n",
              "      <th>4</th>\n",
              "      <td>4</td>\n",
              "      <td>GUNUNG BROMO</td>\n",
              "      <td></td>\n",
              "      <td>['outbond', 'mountain', 'conservation']</td>\n",
              "    </tr>\n",
              "  </tbody>\n",
              "</table>\n",
              "</div>\n",
              "      <button class=\"colab-df-convert\" onclick=\"convertToInteractive('df-705852d8-2aaf-456d-a3b8-c1fb071578b4')\"\n",
              "              title=\"Convert this dataframe to an interactive table.\"\n",
              "              style=\"display:none;\">\n",
              "        \n",
              "  <svg xmlns=\"http://www.w3.org/2000/svg\" height=\"24px\"viewBox=\"0 0 24 24\"\n",
              "       width=\"24px\">\n",
              "    <path d=\"M0 0h24v24H0V0z\" fill=\"none\"/>\n",
              "    <path d=\"M18.56 5.44l.94 2.06.94-2.06 2.06-.94-2.06-.94-.94-2.06-.94 2.06-2.06.94zm-11 1L8.5 8.5l.94-2.06 2.06-.94-2.06-.94L8.5 2.5l-.94 2.06-2.06.94zm10 10l.94 2.06.94-2.06 2.06-.94-2.06-.94-.94-2.06-.94 2.06-2.06.94z\"/><path d=\"M17.41 7.96l-1.37-1.37c-.4-.4-.92-.59-1.43-.59-.52 0-1.04.2-1.43.59L10.3 9.45l-7.72 7.72c-.78.78-.78 2.05 0 2.83L4 21.41c.39.39.9.59 1.41.59.51 0 1.02-.2 1.41-.59l7.78-7.78 2.81-2.81c.8-.78.8-2.07 0-2.86zM5.41 20L4 18.59l7.72-7.72 1.47 1.35L5.41 20z\"/>\n",
              "  </svg>\n",
              "      </button>\n",
              "      \n",
              "  <style>\n",
              "    .colab-df-container {\n",
              "      display:flex;\n",
              "      flex-wrap:wrap;\n",
              "      gap: 12px;\n",
              "    }\n",
              "\n",
              "    .colab-df-convert {\n",
              "      background-color: #E8F0FE;\n",
              "      border: none;\n",
              "      border-radius: 50%;\n",
              "      cursor: pointer;\n",
              "      display: none;\n",
              "      fill: #1967D2;\n",
              "      height: 32px;\n",
              "      padding: 0 0 0 0;\n",
              "      width: 32px;\n",
              "    }\n",
              "\n",
              "    .colab-df-convert:hover {\n",
              "      background-color: #E2EBFA;\n",
              "      box-shadow: 0px 1px 2px rgba(60, 64, 67, 0.3), 0px 1px 3px 1px rgba(60, 64, 67, 0.15);\n",
              "      fill: #174EA6;\n",
              "    }\n",
              "\n",
              "    [theme=dark] .colab-df-convert {\n",
              "      background-color: #3B4455;\n",
              "      fill: #D2E3FC;\n",
              "    }\n",
              "\n",
              "    [theme=dark] .colab-df-convert:hover {\n",
              "      background-color: #434B5C;\n",
              "      box-shadow: 0px 1px 3px 1px rgba(0, 0, 0, 0.15);\n",
              "      filter: drop-shadow(0px 1px 2px rgba(0, 0, 0, 0.3));\n",
              "      fill: #FFFFFF;\n",
              "    }\n",
              "  </style>\n",
              "\n",
              "      <script>\n",
              "        const buttonEl =\n",
              "          document.querySelector('#df-705852d8-2aaf-456d-a3b8-c1fb071578b4 button.colab-df-convert');\n",
              "        buttonEl.style.display =\n",
              "          google.colab.kernel.accessAllowed ? 'block' : 'none';\n",
              "\n",
              "        async function convertToInteractive(key) {\n",
              "          const element = document.querySelector('#df-705852d8-2aaf-456d-a3b8-c1fb071578b4');\n",
              "          const dataTable =\n",
              "            await google.colab.kernel.invokeFunction('convertToInteractive',\n",
              "                                                     [key], {});\n",
              "          if (!dataTable) return;\n",
              "\n",
              "          const docLinkHtml = 'Like what you see? Visit the ' +\n",
              "            '<a target=\"_blank\" href=https://colab.research.google.com/notebooks/data_table.ipynb>data table notebook</a>'\n",
              "            + ' to learn more about interactive tables.';\n",
              "          element.innerHTML = '';\n",
              "          dataTable['output_type'] = 'display_data';\n",
              "          await google.colab.output.renderOutput(dataTable, element);\n",
              "          const docLink = document.createElement('div');\n",
              "          docLink.innerHTML = docLinkHtml;\n",
              "          element.appendChild(docLink);\n",
              "        }\n",
              "      </script>\n",
              "    </div>\n",
              "  </div>\n",
              "  "
            ]
          },
          "metadata": {},
          "execution_count": 11
        }
      ]
    },
    {
      "cell_type": "code",
      "source": [
        "# dfWishFeature[dfWishFeature[\"location\"] == 'Gunung Bromo']"
      ],
      "metadata": {
        "id": "xKSFBBDPcW0G"
      },
      "execution_count": null,
      "outputs": []
    },
    {
      "cell_type": "code",
      "source": [
        "dfWishFeature.to_csv(os.path.join('/content/drive/Othercomputers/My Laptop/Bangkit/Capstone/Recommender system/userFeatures','wishEmbedding.csv'), header=False,index=False)"
      ],
      "metadata": {
        "id": "lIaD4NcmYT8L"
      },
      "execution_count": null,
      "outputs": []
    },
    {
      "cell_type": "code",
      "source": [
        "# dff = pd.read_csv(\"userFeatures/wishEmbedding.csv\")\n",
        "# dff.head()"
      ],
      "metadata": {
        "id": "Gkprw9LKWy7d"
      },
      "execution_count": null,
      "outputs": []
    },
    {
      "cell_type": "code",
      "source": [
        "# !tfds new userFeatures\n",
        "# !tfds new wishEmbedding"
      ],
      "metadata": {
        "colab": {
          "base_uri": "https://localhost:8080/"
        },
        "id": "nsQC71e_Yl_w",
        "outputId": "47184022-a528-40dd-c149-46ffec6704a8"
      },
      "execution_count": null,
      "outputs": [
        {
          "output_type": "stream",
          "name": "stdout",
          "text": [
            "2022-05-14 16:24:38.623810: E tensorflow/stream_executor/cuda/cuda_driver.cc:271] failed call to cuInit: CUDA_ERROR_NO_DEVICE: no CUDA-capable device is detected\n",
            "Dataset generated at /content/drive/Othercomputers/My Laptop/Bangkit/Capstone/Recommender system/userFeatures\n",
            "You can start searching `TODO(userFeatures)` to complete the implementation.\n",
            "Please check https://www.tensorflow.org/datasets/add_dataset for additional details.\n",
            "2022-05-14 16:24:42.491837: E tensorflow/stream_executor/cuda/cuda_driver.cc:271] failed call to cuInit: CUDA_ERROR_NO_DEVICE: no CUDA-capable device is detected\n",
            "Dataset generated at /content/drive/Othercomputers/My Laptop/Bangkit/Capstone/Recommender system/wishEmbedding\n",
            "You can start searching `TODO(wishEmbedding)` to complete the implementation.\n",
            "Please check https://www.tensorflow.org/datasets/add_dataset for additional details.\n"
          ]
        }
      ]
    },
    {
      "cell_type": "code",
      "source": [
        "# print(os.getcwd())"
      ],
      "metadata": {
        "colab": {
          "base_uri": "https://localhost:8080/"
        },
        "id": "CRWQxJDIfiCR",
        "outputId": "9bef8bd2-d6e0-49cc-be3b-17c8839e5d18"
      },
      "execution_count": null,
      "outputs": [
        {
          "output_type": "stream",
          "name": "stdout",
          "text": [
            "/content/drive/Othercomputers/My Laptop/Bangkit/Capstone/Recommender system\n"
          ]
        }
      ]
    },
    {
      "cell_type": "code",
      "source": [
        "import userFeatures\n",
        "builder = tfds.builder('Userfeatures')\n",
        "userFeatureDs = tfds.load('Userfeatures',split='train')"
      ],
      "metadata": {
        "id": "sDV4gnWxe3QI"
      },
      "execution_count": 12,
      "outputs": []
    },
    {
      "cell_type": "code",
      "source": [
        "import wishEmbedding\n",
        "builder = tfds.builder('Wishembedding')\n",
        "wishEmbeddingDs = tfds.load('Wishembedding',split='train')"
      ],
      "metadata": {
        "id": "Yxn2B41bo7II",
        "colab": {
          "base_uri": "https://localhost:8080/",
          "height": 89,
          "referenced_widgets": [
            "4a6b4f8620d246189b94f6e270783797",
            "67592ce317304fa9b055a150a9d7949e",
            "2468f9c3a71b4c7b9b3dcf6051de49a0",
            "2007e1908aaf4477a0363faadd12f4f4",
            "b52c5a0fa4164879b3a21b86f4b9abae",
            "a9dab1bf8b88473daa3a28e411729b3e",
            "8dd925c856444c998e764f51bfb75455",
            "44a9695e581449b088cfd85e509985e3",
            "8eb29f0a96bb4f4ba230a015d5cb897e",
            "337d2beaf6d54e5da0223ddccc43a877",
            "a434ba9cdcd540c6a590822646843191",
            "9ae1c6a408fc495483352f202e41cdc9",
            "42516c11cac54c1baef13cf7db146ed9",
            "7a8a0668b61748beb58beed0c3daf97d",
            "1400561622f84a869aaa30ba4657b24b",
            "c62f7a5f9cbf4bcf844652cb68841f3e",
            "d55785c595004e92906bf79c51fcd474",
            "dab97183bd95446195feddd84ad52d6d",
            "9a6b3691d57945deb6dd0c76e4690c26",
            "01b812afc1254199a0dd69456918eb07",
            "e87155209d2c4376932dbc56c8d00f61",
            "5d6c9d19fbbb44c5952f192e6feaa44e",
            "b18bcc0bdbab4eea9414b58ba7801f13",
            "2e76e6c066b441dbb466d7ec378642e7",
            "39d8a7befefe46c7b76190bec1472236",
            "155b709af824401eaf51a6adb2c3a6d2",
            "0664de092488469e8c782442bfa05e7b",
            "a1b20209f31d41829b4bbfad0b424f73",
            "d10d27dc9de9488b91ac77537f2d1595",
            "3fb97870dc8a460e921e9ea024cbd0a9",
            "f8294d87357b4e29a64b0b6f2c643afa",
            "716eed03fd2d49cfbd645ffe43aef24a",
            "3b408e92a2c0430db3189311b91b6901"
          ]
        },
        "outputId": "165f6fe1-7c85-450b-8149-be4ddc7e1ccd"
      },
      "execution_count": 13,
      "outputs": [
        {
          "output_type": "stream",
          "name": "stdout",
          "text": [
            "\u001b[1mDownloading and preparing dataset Unknown size (download: Unknown size, generated: Unknown size, total: Unknown size) to /root/tensorflow_datasets/wishembedding/1.0.0...\u001b[0m\n"
          ]
        },
        {
          "output_type": "stream",
          "name": "stderr",
          "text": [
            "WARNING:google.auth._default:No project ID could be determined. Consider running `gcloud config set project` or setting the GOOGLE_CLOUD_PROJECT environment variable\n"
          ]
        },
        {
          "output_type": "display_data",
          "data": {
            "text/plain": [
              "Generating splits...:   0%|          | 0/1 [00:00<?, ? splits/s]"
            ],
            "application/vnd.jupyter.widget-view+json": {
              "version_major": 2,
              "version_minor": 0,
              "model_id": "4a6b4f8620d246189b94f6e270783797"
            }
          },
          "metadata": {}
        },
        {
          "output_type": "display_data",
          "data": {
            "text/plain": [
              "Generating train examples...: 0 examples [00:00, ? examples/s]"
            ],
            "application/vnd.jupyter.widget-view+json": {
              "version_major": 2,
              "version_minor": 0,
              "model_id": "9ae1c6a408fc495483352f202e41cdc9"
            }
          },
          "metadata": {}
        },
        {
          "output_type": "display_data",
          "data": {
            "text/plain": [
              "Shuffling /root/tensorflow_datasets/wishembedding/1.0.0.incompleteZQQDPY/wishembedding-train.tfrecord*...:   0…"
            ],
            "application/vnd.jupyter.widget-view+json": {
              "version_major": 2,
              "version_minor": 0,
              "model_id": "b18bcc0bdbab4eea9414b58ba7801f13"
            }
          },
          "metadata": {}
        },
        {
          "output_type": "stream",
          "name": "stdout",
          "text": [
            "\u001b[1mDataset wishembedding downloaded and prepared to /root/tensorflow_datasets/wishembedding/1.0.0. Subsequent calls will reuse this data.\u001b[0m\n"
          ]
        }
      ]
    },
    {
      "cell_type": "code",
      "source": [
        "for x in userFeatureDs.take(2).as_numpy_iterator():\n",
        "  pprint.pprint(x)"
      ],
      "metadata": {
        "colab": {
          "base_uri": "https://localhost:8080/"
        },
        "id": "bFM1ooL2p1OZ",
        "outputId": "91b52803-8c59-4edc-fa30-45da56d4e255"
      },
      "execution_count": 14,
      "outputs": [
        {
          "output_type": "stream",
          "name": "stdout",
          "text": [
            "{'location_id': b'61', 'location_name': b'JAKARTA', 'user_id': b'93'}\n",
            "{'location_id': b'53', 'location_name': b'DUBAI', 'user_id': b'112'}\n"
          ]
        }
      ]
    },
    {
      "cell_type": "code",
      "source": [
        "for x in wishEmbeddingDs.take(2).as_numpy_iterator():\n",
        "  pprint.pprint(x)"
      ],
      "metadata": {
        "colab": {
          "base_uri": "https://localhost:8080/"
        },
        "id": "C-xa6GIumA6-",
        "outputId": "c9629f49-0501-47e4-8d51-db51d296bb11"
      },
      "execution_count": 15,
      "outputs": [
        {
          "output_type": "stream",
          "name": "stdout",
          "text": [
            "{'location_id': b'39', 'location_name': b'PRANCIS'}\n",
            "{'location_id': b'55', 'location_name': b'MEDAN'}\n"
          ]
        }
      ]
    },
    {
      "cell_type": "code",
      "source": [
        "rating = userFeatureDs.map(lambda x: {\n",
        "    \"location_name\": x[\"location_name\"],\n",
        "    \"user_id\": x[\"user_id\"],\n",
        "})\n",
        "location = wishEmbeddingDs.map(lambda x: x[\"location_name\"])"
      ],
      "metadata": {
        "id": "YrZl2_CmpxRh"
      },
      "execution_count": null,
      "outputs": []
    },
    {
      "cell_type": "code",
      "source": [
        "trainset_size = 0.8 * rating.__len__().numpy()\n",
        "tf.random.set_seed(42)\n",
        "shuffled = rating.shuffle(1000, seed=42, reshuffle_each_iteration=False)\n",
        "\n",
        "train = shuffled.take(trainset_size)\n",
        "test = shuffled.skip(trainset_size).take(rating.__len__().numpy() - trainset_size)"
      ],
      "metadata": {
        "id": "DERBjYt9qfVR"
      },
      "execution_count": null,
      "outputs": []
    },
    {
      "cell_type": "code",
      "source": [
        "location_name = location.batch(1000)\n",
        "user_ids = rating.batch(1000).map(lambda x: x[\"user_id\"])\n",
        "\n",
        "unique_location_name = np.unique(np.concatenate(list(location_name)))\n",
        "unique_user_ids = np.unique(np.concatenate(list(user_ids)))\n",
        "\n",
        "unique_location_name[:10]"
      ],
      "metadata": {
        "colab": {
          "base_uri": "https://localhost:8080/"
        },
        "id": "QwC4KusSrcPd",
        "outputId": "bbfa2e0d-5d43-4a75-adfa-fa44d03fba20"
      },
      "execution_count": null,
      "outputs": [
        {
          "output_type": "execute_result",
          "data": {
            "text/plain": [
              "array([b'Air Terjun Sipiso-piso', b'Akihabara', b'Alaska',\n",
              "       b'Amerika Serikat', b'Ancol', b'Asia Timur', b'Bali',\n",
              "       b'Bali Tower', b'Bandung', b'Bangka Belitung'], dtype=object)"
            ]
          },
          "metadata": {},
          "execution_count": 31
        }
      ]
    },
    {
      "cell_type": "markdown",
      "source": [
        "### Implementing a model\n",
        "\n",
        "Choosing the architecture of our model is a key part of modelling.\n",
        "\n",
        "Because we are building a two-tower retrieval model, we can build each tower separately and then combine them in the final model."
      ],
      "metadata": {
        "id": "JmaqAWRnr0gi"
      }
    },
    {
      "cell_type": "markdown",
      "source": [
        "#### The query tower"
      ],
      "metadata": {
        "id": "0yzM_f_1sF_Y"
      }
    },
    {
      "cell_type": "code",
      "source": [
        "# embedding_dimension = 32\n",
        "embedding_dimension = 16"
      ],
      "metadata": {
        "id": "XvnjUXVKsHlX"
      },
      "execution_count": null,
      "outputs": []
    },
    {
      "cell_type": "code",
      "source": [
        "user_model = tf.keras.Sequential([\n",
        "  tf.keras.layers.StringLookup(\n",
        "      vocabulary=unique_user_ids, mask_token=None),\n",
        "  # We add an additional embedding to account for unknown tokens.\n",
        "  tf.keras.layers.Embedding(len(unique_user_ids) + 1, embedding_dimension)\n",
        "])"
      ],
      "metadata": {
        "id": "w09EO2ImsN_k"
      },
      "execution_count": null,
      "outputs": []
    },
    {
      "cell_type": "code",
      "source": [
        "location_model = tf.keras.Sequential([\n",
        "  tf.keras.layers.StringLookup(\n",
        "      vocabulary=unique_location_name, mask_token=None),\n",
        "  tf.keras.layers.Embedding(len(unique_location_name) + 1, embedding_dimension)\n",
        "])"
      ],
      "metadata": {
        "id": "tw9gCNzZsQvd"
      },
      "execution_count": null,
      "outputs": []
    },
    {
      "cell_type": "code",
      "source": [
        ""
      ],
      "metadata": {
        "id": "nq1lueYVsXCT"
      },
      "execution_count": null,
      "outputs": []
    },
    {
      "cell_type": "markdown",
      "source": [
        "#### Metrics\n",
        "\n",
        "In our training data we have positive (user, movie) pairs. To figure out how good our model is, we need to compare the affinity score that the model calculates for this pair to the scores of all the other possible candidates: if the score for the positive pair is higher than for all other candidates, our model is highly accurate.\n",
        "\n",
        "To do this, we can use the `tfrs.metrics.FactorizedTopK` metric. The metric has one required argument: the dataset of candidates that are used as implicit negatives for evaluation.\n",
        "\n",
        "In our case, that's the `movies` dataset, converted into embeddings via our movie model:"
      ],
      "metadata": {
        "id": "UOHSnarYsZcj"
      }
    },
    {
      "cell_type": "code",
      "source": [
        "metrics = tfrs.metrics.FactorizedTopK(\n",
        "  candidates=location.batch(128).map(location_model)\n",
        ")"
      ],
      "metadata": {
        "id": "6SekMWlHsbqk"
      },
      "execution_count": null,
      "outputs": []
    },
    {
      "cell_type": "code",
      "source": [
        "task = tfrs.tasks.Retrieval(\n",
        "  metrics=metrics\n",
        ")"
      ],
      "metadata": {
        "id": "xuMtLVltso4L"
      },
      "execution_count": null,
      "outputs": []
    },
    {
      "cell_type": "markdown",
      "source": [
        "#### Loss\n",
        "\n",
        "The next component is the loss used to train our model. TFRS has several loss layers and tasks to make this easy.\n",
        "\n",
        "In this instance, we'll make use of the `Retrieval` task object: a convenience wrapper that bundles together the loss function and metric computation:"
      ],
      "metadata": {
        "id": "otTHeY1Xsr--"
      }
    },
    {
      "cell_type": "code",
      "source": [
        ""
      ],
      "metadata": {
        "id": "6nsvR2FHstjM"
      },
      "execution_count": null,
      "outputs": []
    },
    {
      "cell_type": "markdown",
      "source": [
        "#### The full model\n",
        "\n",
        "We can now put it all together into a model. TFRS exposes a base model class (`tfrs.models.Model`) which streamlines building models: all we need to do is to set up the components in the `__init__` method, and implement the `compute_loss` method, taking in the raw features and returning a loss value.\n",
        "\n",
        "The base model will then take care of creating the appropriate training loop to fit our model."
      ],
      "metadata": {
        "id": "wy8Bmkcis2Ka"
      }
    },
    {
      "cell_type": "code",
      "source": [
        "class Model(tfrs.Model):\n",
        "\n",
        "  def __init__(self, user_model, location_model):\n",
        "    super().__init__()\n",
        "    self.location_model: tf.keras.Model = location_model\n",
        "    self.user_model: tf.keras.Model = user_model\n",
        "    self.task: tf.keras.layers.Layer = task\n",
        "\n",
        "  def compute_loss(self, features: Dict[Text, tf.Tensor], training=False) -> tf.Tensor:\n",
        "    # We pick out the user features and pass them into the user model.\n",
        "    user_embeddings = self.user_model(features[\"user_id\"])\n",
        "    # And pick out the movie features and pass them into the movie model,\n",
        "    # getting embeddings back.\n",
        "    positive_location_embeddings = self.location_model(features[\"location_name\"])\n",
        "\n",
        "    # The task computes the loss and the metrics.\n",
        "    return self.task(user_embeddings, positive_location_embeddings)"
      ],
      "metadata": {
        "id": "nfwXjy5-s3P2"
      },
      "execution_count": null,
      "outputs": []
    },
    {
      "cell_type": "code",
      "source": [
        "class NoBaseClassMovielensModel(tf.keras.Model):\n",
        "\n",
        "  def __init__(self, user_model, location_model):\n",
        "    super().__init__()\n",
        "    self.location_model: tf.keras.Model = location_model\n",
        "    self.user_model: tf.keras.Model = user_model\n",
        "    self.task: tf.keras.layers.Layer = task\n",
        "\n",
        "  def train_step(self, features: Dict[Text, tf.Tensor]) -> tf.Tensor:\n",
        "\n",
        "    # Set up a gradient tape to record gradients.\n",
        "    with tf.GradientTape() as tape:\n",
        "\n",
        "      # Loss computation.\n",
        "      user_embeddings = self.user_model(features[\"user_id\"])\n",
        "      # positive_movie_embeddings = self.movie_model(features[\"movie_title\"])\n",
        "      positive_location_embeddings = self.location_model(features[\"location_name\"])\n",
        "      loss = self.task(user_embeddings, positive_location_embeddings)\n",
        "\n",
        "      # Handle regularization losses as well.\n",
        "      regularization_loss = sum(self.losses)\n",
        "\n",
        "      total_loss = loss + regularization_loss\n",
        "\n",
        "    gradients = tape.gradient(total_loss, self.trainable_variables)\n",
        "    self.optimizer.apply_gradients(zip(gradients, self.trainable_variables))\n",
        "\n",
        "    metrics = {metric.name: metric.result() for metric in self.metrics}\n",
        "    metrics[\"loss\"] = loss\n",
        "    metrics[\"regularization_loss\"] = regularization_loss\n",
        "    metrics[\"total_loss\"] = total_loss\n",
        "\n",
        "    return metrics\n",
        "\n",
        "  def test_step(self, features: Dict[Text, tf.Tensor]) -> tf.Tensor:\n",
        "\n",
        "    # Loss computation.\n",
        "    user_embeddings = self.user_model(features[\"user_id\"])\n",
        "    # positive_movie_embeddings = self.movie_model(features[\"movie_title\"])\n",
        "    positive_location_embeddings = self.location_model(features[\"location_name\"])\n",
        "    loss = self.task(user_embeddings, positive_location_embeddings)\n",
        "\n",
        "    # Handle regularization losses as well.\n",
        "    regularization_loss = sum(self.losses)\n",
        "\n",
        "    total_loss = loss + regularization_loss\n",
        "\n",
        "    metrics = {metric.name: metric.result() for metric in self.metrics}\n",
        "    metrics[\"loss\"] = loss\n",
        "    metrics[\"regularization_loss\"] = regularization_loss\n",
        "    metrics[\"total_loss\"] = total_loss\n",
        "\n",
        "    return metrics"
      ],
      "metadata": {
        "id": "kZk3Xak7tP5P"
      },
      "execution_count": null,
      "outputs": []
    },
    {
      "cell_type": "code",
      "source": [
        ""
      ],
      "metadata": {
        "id": "Z8mTKd8stuUK"
      },
      "execution_count": null,
      "outputs": []
    },
    {
      "cell_type": "markdown",
      "source": [
        "### Fitting and evaluating\n",
        "\n",
        "After defining the model, we can use standard Keras fitting and evaluation routines to fit and evaluate the model.\n",
        "\n",
        "Let's first instantiate the model."
      ],
      "metadata": {
        "id": "s7CsQiWutw3i"
      }
    },
    {
      "cell_type": "code",
      "source": [
        "model = Model(user_model, location_model)\n",
        "model.compile(optimizer=tf.keras.optimizers.Adagrad(learning_rate=0.1))\n",
        "# model.compile(optimizer=tf.keras.optimizers.RMSprop(learning_rate=0.001))"
      ],
      "metadata": {
        "id": "eAg9T61ztzXD"
      },
      "execution_count": null,
      "outputs": []
    },
    {
      "cell_type": "code",
      "source": [
        "cached_train = train.shuffle(1000).batch(256).cache()\n",
        "cached_test = test.batch(1000).cache()"
      ],
      "metadata": {
        "id": "EHRrT84puI8c"
      },
      "execution_count": null,
      "outputs": []
    },
    {
      "cell_type": "code",
      "source": [
        "model.fit(cached_train, epochs=40)"
      ],
      "metadata": {
        "colab": {
          "base_uri": "https://localhost:8080/"
        },
        "id": "NWGrVH3guTa5",
        "outputId": "c212a72a-ed39-450b-e880-00503085f359"
      },
      "execution_count": null,
      "outputs": [
        {
          "output_type": "stream",
          "name": "stdout",
          "text": [
            "Epoch 1/40\n",
            "64/64 [==============================] - 8s 124ms/step - factorized_top_k/top_1_categorical_accuracy: 3.0819e-04 - factorized_top_k/top_5_categorical_accuracy: 0.0394 - factorized_top_k/top_10_categorical_accuracy: 0.0884 - factorized_top_k/top_50_categorical_accuracy: 0.4904 - factorized_top_k/top_100_categorical_accuracy: 0.9652 - loss: 1388.7585 - regularization_loss: 0.0000e+00 - total_loss: 1388.7585\n",
            "Epoch 2/40\n",
            "64/64 [==============================] - 4s 62ms/step - factorized_top_k/top_1_categorical_accuracy: 1.2327e-04 - factorized_top_k/top_5_categorical_accuracy: 0.0445 - factorized_top_k/top_10_categorical_accuracy: 0.1029 - factorized_top_k/top_50_categorical_accuracy: 0.5390 - factorized_top_k/top_100_categorical_accuracy: 0.9772 - loss: 1385.7815 - regularization_loss: 0.0000e+00 - total_loss: 1385.7815\n",
            "Epoch 3/40\n",
            "64/64 [==============================] - 4s 62ms/step - factorized_top_k/top_1_categorical_accuracy: 2.4655e-04 - factorized_top_k/top_5_categorical_accuracy: 0.0484 - factorized_top_k/top_10_categorical_accuracy: 0.1110 - factorized_top_k/top_50_categorical_accuracy: 0.5671 - factorized_top_k/top_100_categorical_accuracy: 0.9805 - loss: 1382.4287 - regularization_loss: 0.0000e+00 - total_loss: 1382.4287\n",
            "Epoch 4/40\n",
            "64/64 [==============================] - 4s 61ms/step - factorized_top_k/top_1_categorical_accuracy: 4.3146e-04 - factorized_top_k/top_5_categorical_accuracy: 0.0509 - factorized_top_k/top_10_categorical_accuracy: 0.1159 - factorized_top_k/top_50_categorical_accuracy: 0.5848 - factorized_top_k/top_100_categorical_accuracy: 0.9824 - loss: 1379.4784 - regularization_loss: 0.0000e+00 - total_loss: 1379.4784\n",
            "Epoch 5/40\n",
            "64/64 [==============================] - 4s 61ms/step - factorized_top_k/top_1_categorical_accuracy: 3.0819e-04 - factorized_top_k/top_5_categorical_accuracy: 0.0523 - factorized_top_k/top_10_categorical_accuracy: 0.1214 - factorized_top_k/top_50_categorical_accuracy: 0.5954 - factorized_top_k/top_100_categorical_accuracy: 0.9835 - loss: 1377.1554 - regularization_loss: 0.0000e+00 - total_loss: 1377.1554\n",
            "Epoch 6/40\n",
            "64/64 [==============================] - 4s 61ms/step - factorized_top_k/top_1_categorical_accuracy: 1.8491e-04 - factorized_top_k/top_5_categorical_accuracy: 0.0531 - factorized_top_k/top_10_categorical_accuracy: 0.1235 - factorized_top_k/top_50_categorical_accuracy: 0.6043 - factorized_top_k/top_100_categorical_accuracy: 0.9852 - loss: 1375.3880 - regularization_loss: 0.0000e+00 - total_loss: 1375.3880\n",
            "Epoch 7/40\n",
            "64/64 [==============================] - 4s 62ms/step - factorized_top_k/top_1_categorical_accuracy: 1.2327e-04 - factorized_top_k/top_5_categorical_accuracy: 0.0541 - factorized_top_k/top_10_categorical_accuracy: 0.1252 - factorized_top_k/top_50_categorical_accuracy: 0.6102 - factorized_top_k/top_100_categorical_accuracy: 0.9864 - loss: 1374.0463 - regularization_loss: 0.0000e+00 - total_loss: 1374.0463\n",
            "Epoch 8/40\n",
            "64/64 [==============================] - 4s 62ms/step - factorized_top_k/top_1_categorical_accuracy: 1.2327e-04 - factorized_top_k/top_5_categorical_accuracy: 0.0548 - factorized_top_k/top_10_categorical_accuracy: 0.1278 - factorized_top_k/top_50_categorical_accuracy: 0.6146 - factorized_top_k/top_100_categorical_accuracy: 0.9874 - loss: 1373.0168 - regularization_loss: 0.0000e+00 - total_loss: 1373.0168\n",
            "Epoch 9/40\n",
            "64/64 [==============================] - 4s 63ms/step - factorized_top_k/top_1_categorical_accuracy: 1.2327e-04 - factorized_top_k/top_5_categorical_accuracy: 0.0559 - factorized_top_k/top_10_categorical_accuracy: 0.1278 - factorized_top_k/top_50_categorical_accuracy: 0.6185 - factorized_top_k/top_100_categorical_accuracy: 0.9879 - loss: 1372.2138 - regularization_loss: 0.0000e+00 - total_loss: 1372.2138\n",
            "Epoch 10/40\n",
            "64/64 [==============================] - 4s 62ms/step - factorized_top_k/top_1_categorical_accuracy: 1.2327e-04 - factorized_top_k/top_5_categorical_accuracy: 0.0569 - factorized_top_k/top_10_categorical_accuracy: 0.1287 - factorized_top_k/top_50_categorical_accuracy: 0.6199 - factorized_top_k/top_100_categorical_accuracy: 0.9878 - loss: 1371.5758 - regularization_loss: 0.0000e+00 - total_loss: 1371.5758\n",
            "Epoch 11/40\n",
            "64/64 [==============================] - 4s 63ms/step - factorized_top_k/top_1_categorical_accuracy: 6.1637e-05 - factorized_top_k/top_5_categorical_accuracy: 0.0578 - factorized_top_k/top_10_categorical_accuracy: 0.1280 - factorized_top_k/top_50_categorical_accuracy: 0.6218 - factorized_top_k/top_100_categorical_accuracy: 0.9882 - loss: 1371.0592 - regularization_loss: 0.0000e+00 - total_loss: 1371.0592\n",
            "Epoch 12/40\n",
            "64/64 [==============================] - 4s 63ms/step - factorized_top_k/top_1_categorical_accuracy: 6.1637e-05 - factorized_top_k/top_5_categorical_accuracy: 0.0586 - factorized_top_k/top_10_categorical_accuracy: 0.1278 - factorized_top_k/top_50_categorical_accuracy: 0.6237 - factorized_top_k/top_100_categorical_accuracy: 0.9886 - loss: 1370.6330 - regularization_loss: 0.0000e+00 - total_loss: 1370.6330\n",
            "Epoch 13/40\n",
            "64/64 [==============================] - 4s 64ms/step - factorized_top_k/top_1_categorical_accuracy: 6.1637e-05 - factorized_top_k/top_5_categorical_accuracy: 0.0588 - factorized_top_k/top_10_categorical_accuracy: 0.1279 - factorized_top_k/top_50_categorical_accuracy: 0.6250 - factorized_top_k/top_100_categorical_accuracy: 0.9889 - loss: 1370.2751 - regularization_loss: 0.0000e+00 - total_loss: 1370.2751\n",
            "Epoch 14/40\n",
            "64/64 [==============================] - 4s 62ms/step - factorized_top_k/top_1_categorical_accuracy: 6.1637e-05 - factorized_top_k/top_5_categorical_accuracy: 0.0585 - factorized_top_k/top_10_categorical_accuracy: 0.1277 - factorized_top_k/top_50_categorical_accuracy: 0.6264 - factorized_top_k/top_100_categorical_accuracy: 0.9893 - loss: 1369.9698 - regularization_loss: 0.0000e+00 - total_loss: 1369.9698\n",
            "Epoch 15/40\n",
            "64/64 [==============================] - 4s 63ms/step - factorized_top_k/top_1_categorical_accuracy: 6.1637e-05 - factorized_top_k/top_5_categorical_accuracy: 0.0579 - factorized_top_k/top_10_categorical_accuracy: 0.1289 - factorized_top_k/top_50_categorical_accuracy: 0.6279 - factorized_top_k/top_100_categorical_accuracy: 0.9895 - loss: 1369.7055 - regularization_loss: 0.0000e+00 - total_loss: 1369.7055\n",
            "Epoch 16/40\n",
            "64/64 [==============================] - 4s 63ms/step - factorized_top_k/top_1_categorical_accuracy: 6.1637e-05 - factorized_top_k/top_5_categorical_accuracy: 0.0574 - factorized_top_k/top_10_categorical_accuracy: 0.1285 - factorized_top_k/top_50_categorical_accuracy: 0.6286 - factorized_top_k/top_100_categorical_accuracy: 0.9895 - loss: 1369.4740 - regularization_loss: 0.0000e+00 - total_loss: 1369.4740\n",
            "Epoch 17/40\n",
            "64/64 [==============================] - 4s 62ms/step - factorized_top_k/top_1_categorical_accuracy: 6.1637e-05 - factorized_top_k/top_5_categorical_accuracy: 0.0578 - factorized_top_k/top_10_categorical_accuracy: 0.1286 - factorized_top_k/top_50_categorical_accuracy: 0.6300 - factorized_top_k/top_100_categorical_accuracy: 0.9895 - loss: 1369.2688 - regularization_loss: 0.0000e+00 - total_loss: 1369.2688\n",
            "Epoch 18/40\n",
            "64/64 [==============================] - 4s 62ms/step - factorized_top_k/top_1_categorical_accuracy: 6.1637e-05 - factorized_top_k/top_5_categorical_accuracy: 0.0573 - factorized_top_k/top_10_categorical_accuracy: 0.1282 - factorized_top_k/top_50_categorical_accuracy: 0.6301 - factorized_top_k/top_100_categorical_accuracy: 0.9895 - loss: 1369.0854 - regularization_loss: 0.0000e+00 - total_loss: 1369.0854\n",
            "Epoch 19/40\n",
            "64/64 [==============================] - 4s 62ms/step - factorized_top_k/top_1_categorical_accuracy: 1.2327e-04 - factorized_top_k/top_5_categorical_accuracy: 0.0569 - factorized_top_k/top_10_categorical_accuracy: 0.1284 - factorized_top_k/top_50_categorical_accuracy: 0.6302 - factorized_top_k/top_100_categorical_accuracy: 0.9896 - loss: 1368.9201 - regularization_loss: 0.0000e+00 - total_loss: 1368.9201\n",
            "Epoch 20/40\n",
            "64/64 [==============================] - 11s 173ms/step - factorized_top_k/top_1_categorical_accuracy: 1.2327e-04 - factorized_top_k/top_5_categorical_accuracy: 0.0566 - factorized_top_k/top_10_categorical_accuracy: 0.1286 - factorized_top_k/top_50_categorical_accuracy: 0.6309 - factorized_top_k/top_100_categorical_accuracy: 0.9895 - loss: 1368.7700 - regularization_loss: 0.0000e+00 - total_loss: 1368.7700\n",
            "Epoch 21/40\n",
            "64/64 [==============================] - 4s 63ms/step - factorized_top_k/top_1_categorical_accuracy: 1.2327e-04 - factorized_top_k/top_5_categorical_accuracy: 0.0566 - factorized_top_k/top_10_categorical_accuracy: 0.1288 - factorized_top_k/top_50_categorical_accuracy: 0.6320 - factorized_top_k/top_100_categorical_accuracy: 0.9894 - loss: 1368.6329 - regularization_loss: 0.0000e+00 - total_loss: 1368.6329\n",
            "Epoch 22/40\n",
            "64/64 [==============================] - 4s 62ms/step - factorized_top_k/top_1_categorical_accuracy: 1.2327e-04 - factorized_top_k/top_5_categorical_accuracy: 0.0565 - factorized_top_k/top_10_categorical_accuracy: 0.1290 - factorized_top_k/top_50_categorical_accuracy: 0.6322 - factorized_top_k/top_100_categorical_accuracy: 0.9893 - loss: 1368.5070 - regularization_loss: 0.0000e+00 - total_loss: 1368.5070\n",
            "Epoch 23/40\n",
            "64/64 [==============================] - 7s 106ms/step - factorized_top_k/top_1_categorical_accuracy: 1.2327e-04 - factorized_top_k/top_5_categorical_accuracy: 0.0563 - factorized_top_k/top_10_categorical_accuracy: 0.1292 - factorized_top_k/top_50_categorical_accuracy: 0.6331 - factorized_top_k/top_100_categorical_accuracy: 0.9895 - loss: 1368.3907 - regularization_loss: 0.0000e+00 - total_loss: 1368.3907\n",
            "Epoch 24/40\n",
            "64/64 [==============================] - 6s 91ms/step - factorized_top_k/top_1_categorical_accuracy: 1.2327e-04 - factorized_top_k/top_5_categorical_accuracy: 0.0563 - factorized_top_k/top_10_categorical_accuracy: 0.1295 - factorized_top_k/top_50_categorical_accuracy: 0.6335 - factorized_top_k/top_100_categorical_accuracy: 0.9895 - loss: 1368.2830 - regularization_loss: 0.0000e+00 - total_loss: 1368.2830\n",
            "Epoch 25/40\n",
            "64/64 [==============================] - 4s 63ms/step - factorized_top_k/top_1_categorical_accuracy: 1.2327e-04 - factorized_top_k/top_5_categorical_accuracy: 0.0564 - factorized_top_k/top_10_categorical_accuracy: 0.1291 - factorized_top_k/top_50_categorical_accuracy: 0.6338 - factorized_top_k/top_100_categorical_accuracy: 0.9894 - loss: 1368.1828 - regularization_loss: 0.0000e+00 - total_loss: 1368.1828\n",
            "Epoch 26/40\n",
            "64/64 [==============================] - 4s 63ms/step - factorized_top_k/top_1_categorical_accuracy: 1.2327e-04 - factorized_top_k/top_5_categorical_accuracy: 0.0570 - factorized_top_k/top_10_categorical_accuracy: 0.1298 - factorized_top_k/top_50_categorical_accuracy: 0.6338 - factorized_top_k/top_100_categorical_accuracy: 0.9896 - loss: 1368.0892 - regularization_loss: 0.0000e+00 - total_loss: 1368.0892\n",
            "Epoch 27/40\n",
            "64/64 [==============================] - 4s 62ms/step - factorized_top_k/top_1_categorical_accuracy: 1.2327e-04 - factorized_top_k/top_5_categorical_accuracy: 0.0573 - factorized_top_k/top_10_categorical_accuracy: 0.1297 - factorized_top_k/top_50_categorical_accuracy: 0.6342 - factorized_top_k/top_100_categorical_accuracy: 0.9897 - loss: 1368.0016 - regularization_loss: 0.0000e+00 - total_loss: 1368.0016\n",
            "Epoch 28/40\n",
            "64/64 [==============================] - 4s 62ms/step - factorized_top_k/top_1_categorical_accuracy: 1.2327e-04 - factorized_top_k/top_5_categorical_accuracy: 0.0575 - factorized_top_k/top_10_categorical_accuracy: 0.1297 - factorized_top_k/top_50_categorical_accuracy: 0.6344 - factorized_top_k/top_100_categorical_accuracy: 0.9899 - loss: 1367.9192 - regularization_loss: 0.0000e+00 - total_loss: 1367.9192\n",
            "Epoch 29/40\n",
            "64/64 [==============================] - 4s 62ms/step - factorized_top_k/top_1_categorical_accuracy: 1.2327e-04 - factorized_top_k/top_5_categorical_accuracy: 0.0571 - factorized_top_k/top_10_categorical_accuracy: 0.1299 - factorized_top_k/top_50_categorical_accuracy: 0.6347 - factorized_top_k/top_100_categorical_accuracy: 0.9899 - loss: 1367.8417 - regularization_loss: 0.0000e+00 - total_loss: 1367.8417\n",
            "Epoch 30/40\n",
            "64/64 [==============================] - 4s 63ms/step - factorized_top_k/top_1_categorical_accuracy: 6.1637e-05 - factorized_top_k/top_5_categorical_accuracy: 0.0571 - factorized_top_k/top_10_categorical_accuracy: 0.1296 - factorized_top_k/top_50_categorical_accuracy: 0.6352 - factorized_top_k/top_100_categorical_accuracy: 0.9900 - loss: 1367.7684 - regularization_loss: 0.0000e+00 - total_loss: 1367.7684\n",
            "Epoch 31/40\n",
            "64/64 [==============================] - 4s 62ms/step - factorized_top_k/top_1_categorical_accuracy: 1.2327e-04 - factorized_top_k/top_5_categorical_accuracy: 0.0572 - factorized_top_k/top_10_categorical_accuracy: 0.1298 - factorized_top_k/top_50_categorical_accuracy: 0.6358 - factorized_top_k/top_100_categorical_accuracy: 0.9899 - loss: 1367.6992 - regularization_loss: 0.0000e+00 - total_loss: 1367.6992\n",
            "Epoch 32/40\n",
            "64/64 [==============================] - 4s 62ms/step - factorized_top_k/top_1_categorical_accuracy: 1.2327e-04 - factorized_top_k/top_5_categorical_accuracy: 0.0570 - factorized_top_k/top_10_categorical_accuracy: 0.1302 - factorized_top_k/top_50_categorical_accuracy: 0.6361 - factorized_top_k/top_100_categorical_accuracy: 0.9903 - loss: 1367.6335 - regularization_loss: 0.0000e+00 - total_loss: 1367.6335\n",
            "Epoch 33/40\n",
            "64/64 [==============================] - 4s 64ms/step - factorized_top_k/top_1_categorical_accuracy: 1.2327e-04 - factorized_top_k/top_5_categorical_accuracy: 0.0570 - factorized_top_k/top_10_categorical_accuracy: 0.1297 - factorized_top_k/top_50_categorical_accuracy: 0.6360 - factorized_top_k/top_100_categorical_accuracy: 0.9904 - loss: 1367.5711 - regularization_loss: 0.0000e+00 - total_loss: 1367.5711\n",
            "Epoch 34/40\n",
            "64/64 [==============================] - 4s 64ms/step - factorized_top_k/top_1_categorical_accuracy: 1.2327e-04 - factorized_top_k/top_5_categorical_accuracy: 0.0568 - factorized_top_k/top_10_categorical_accuracy: 0.1298 - factorized_top_k/top_50_categorical_accuracy: 0.6362 - factorized_top_k/top_100_categorical_accuracy: 0.9903 - loss: 1367.5117 - regularization_loss: 0.0000e+00 - total_loss: 1367.5117\n",
            "Epoch 35/40\n",
            "64/64 [==============================] - 4s 62ms/step - factorized_top_k/top_1_categorical_accuracy: 1.2327e-04 - factorized_top_k/top_5_categorical_accuracy: 0.0570 - factorized_top_k/top_10_categorical_accuracy: 0.1297 - factorized_top_k/top_50_categorical_accuracy: 0.6354 - factorized_top_k/top_100_categorical_accuracy: 0.9904 - loss: 1367.4551 - regularization_loss: 0.0000e+00 - total_loss: 1367.4551\n",
            "Epoch 36/40\n",
            "64/64 [==============================] - 4s 64ms/step - factorized_top_k/top_1_categorical_accuracy: 1.8491e-04 - factorized_top_k/top_5_categorical_accuracy: 0.0573 - factorized_top_k/top_10_categorical_accuracy: 0.1301 - factorized_top_k/top_50_categorical_accuracy: 0.6357 - factorized_top_k/top_100_categorical_accuracy: 0.9904 - loss: 1367.4010 - regularization_loss: 0.0000e+00 - total_loss: 1367.4010\n",
            "Epoch 37/40\n",
            "64/64 [==============================] - 4s 63ms/step - factorized_top_k/top_1_categorical_accuracy: 1.8491e-04 - factorized_top_k/top_5_categorical_accuracy: 0.0570 - factorized_top_k/top_10_categorical_accuracy: 0.1301 - factorized_top_k/top_50_categorical_accuracy: 0.6358 - factorized_top_k/top_100_categorical_accuracy: 0.9903 - loss: 1367.3494 - regularization_loss: 0.0000e+00 - total_loss: 1367.3494\n",
            "Epoch 38/40\n",
            "64/64 [==============================] - 4s 63ms/step - factorized_top_k/top_1_categorical_accuracy: 1.8491e-04 - factorized_top_k/top_5_categorical_accuracy: 0.0568 - factorized_top_k/top_10_categorical_accuracy: 0.1303 - factorized_top_k/top_50_categorical_accuracy: 0.6362 - factorized_top_k/top_100_categorical_accuracy: 0.9904 - loss: 1367.2999 - regularization_loss: 0.0000e+00 - total_loss: 1367.2999\n",
            "Epoch 39/40\n",
            "64/64 [==============================] - 4s 63ms/step - factorized_top_k/top_1_categorical_accuracy: 1.8491e-04 - factorized_top_k/top_5_categorical_accuracy: 0.0567 - factorized_top_k/top_10_categorical_accuracy: 0.1301 - factorized_top_k/top_50_categorical_accuracy: 0.6365 - factorized_top_k/top_100_categorical_accuracy: 0.9906 - loss: 1367.2524 - regularization_loss: 0.0000e+00 - total_loss: 1367.2524\n",
            "Epoch 40/40\n",
            "64/64 [==============================] - 4s 63ms/step - factorized_top_k/top_1_categorical_accuracy: 1.8491e-04 - factorized_top_k/top_5_categorical_accuracy: 0.0562 - factorized_top_k/top_10_categorical_accuracy: 0.1302 - factorized_top_k/top_50_categorical_accuracy: 0.6367 - factorized_top_k/top_100_categorical_accuracy: 0.9908 - loss: 1367.2069 - regularization_loss: 0.0000e+00 - total_loss: 1367.2069\n"
          ]
        },
        {
          "output_type": "execute_result",
          "data": {
            "text/plain": [
              "<keras.callbacks.History at 0x7fae01be4e50>"
            ]
          },
          "metadata": {},
          "execution_count": 42
        }
      ]
    },
    {
      "cell_type": "code",
      "source": [
        "model.evaluate(cached_test, return_dict=True)"
      ],
      "metadata": {
        "colab": {
          "base_uri": "https://localhost:8080/"
        },
        "id": "bJC74ZGxxVbe",
        "outputId": "dc12d44b-68a9-4d1a-9c41-dde1c80beb95"
      },
      "execution_count": null,
      "outputs": [
        {
          "output_type": "stream",
          "name": "stdout",
          "text": [
            "5/5 [==============================] - 1s 85ms/step - factorized_top_k/top_1_categorical_accuracy: 2.4655e-04 - factorized_top_k/top_5_categorical_accuracy: 0.0133 - factorized_top_k/top_10_categorical_accuracy: 0.0394 - factorized_top_k/top_50_categorical_accuracy: 0.3550 - factorized_top_k/top_100_categorical_accuracy: 0.9519 - loss: 4837.4407 - regularization_loss: 0.0000e+00 - total_loss: 4837.4407\n"
          ]
        },
        {
          "output_type": "execute_result",
          "data": {
            "text/plain": [
              "{'factorized_top_k/top_100_categorical_accuracy': 0.9519230723381042,\n",
              " 'factorized_top_k/top_10_categorical_accuracy': 0.03944773226976395,\n",
              " 'factorized_top_k/top_1_categorical_accuracy': 0.00024654832668602467,\n",
              " 'factorized_top_k/top_50_categorical_accuracy': 0.3550295829772949,\n",
              " 'factorized_top_k/top_5_categorical_accuracy': 0.013313609175384045,\n",
              " 'loss': 234.52996826171875,\n",
              " 'regularization_loss': 0,\n",
              " 'total_loss': 234.52996826171875}"
            ]
          },
          "metadata": {},
          "execution_count": 43
        }
      ]
    },
    {
      "cell_type": "code",
      "source": [
        "# Create a model that takes in raw query features, and\n",
        "index = tfrs.layers.factorized_top_k.BruteForce(model.user_model)\n",
        "# recommends movies out of the entire movies dataset.\n",
        "index.index_from_dataset(\n",
        "  tf.data.Dataset.zip((location.batch(100), location.batch(100).map(model.location_model)))\n",
        ")\n",
        "\n",
        "# Get recommendations.\n",
        "user_id = \"5\"\n",
        "_, titles = index(tf.constant([user_id]))\n",
        "print(f\"Recommendations for Rolas : {titles[0, :10]}\")"
      ],
      "metadata": {
        "colab": {
          "base_uri": "https://localhost:8080/"
        },
        "id": "MLBysrDJxtoD",
        "outputId": "de3ff667-95d8-4234-ef4a-cb3d5296b026"
      },
      "execution_count": null,
      "outputs": [
        {
          "output_type": "stream",
          "name": "stdout",
          "text": [
            "Recommendations for Rolas : [b'Ancol' b'Bhutan' b'Alaska' b'Dufan' b'Gumuk Pasir Parangkusumo'\n",
            " b'tegal' b'singapore' b'Maldives' b'Branchsto BSD' b'New Zealand']\n"
          ]
        }
      ]
    },
    {
      "cell_type": "markdown",
      "source": [
        "Recommendations for Louis: [b'Branchsto BSD' b'Eropa' b'Ponorogo' b'europe'\n",
        " b'Museum Nasional ImersifA' b'Gunung' b'Sumbar' b'Gunung Semeru'\n",
        " b'Maldives' b'Malang']"
      ],
      "metadata": {
        "id": "s6hDAlADYRwL"
      }
    },
    {
      "cell_type": "markdown",
      "source": [
        "## SKIP"
      ],
      "metadata": {
        "id": "KykEIZ-7U7g2"
      }
    },
    {
      "cell_type": "code",
      "source": [
        "interact = tourism_rating.groupby(['User_Id', 'Place_Id'])['Place_Ratings'].sum().reset_index()"
      ],
      "metadata": {
        "id": "vSxDdcjReu5Q"
      },
      "execution_count": null,
      "outputs": []
    },
    {
      "cell_type": "code",
      "source": [
        "interact"
      ],
      "metadata": {
        "colab": {
          "base_uri": "https://localhost:8080/",
          "height": 424
        },
        "id": "6fIoxiMUjRf8",
        "outputId": "dc9ba7e6-65e7-4ecc-fd04-63eaf5692b59"
      },
      "execution_count": null,
      "outputs": [
        {
          "output_type": "execute_result",
          "data": {
            "text/plain": [
              "     User_Id Place_Id  Place_Ratings\n",
              "0          1      101              4\n",
              "1          1      103              3\n",
              "2          1       15              3\n",
              "3          1      154              2\n",
              "4          1      179              3\n",
              "...      ...      ...            ...\n",
              "9592      99       68              5\n",
              "9593      99       70              3\n",
              "9594      99       76              4\n",
              "9595      99       84              5\n",
              "9596      99       94              3\n",
              "\n",
              "[9597 rows x 3 columns]"
            ],
            "text/html": [
              "\n",
              "  <div id=\"df-7ebfa362-a34f-4031-875e-c864a91477b4\">\n",
              "    <div class=\"colab-df-container\">\n",
              "      <div>\n",
              "<style scoped>\n",
              "    .dataframe tbody tr th:only-of-type {\n",
              "        vertical-align: middle;\n",
              "    }\n",
              "\n",
              "    .dataframe tbody tr th {\n",
              "        vertical-align: top;\n",
              "    }\n",
              "\n",
              "    .dataframe thead th {\n",
              "        text-align: right;\n",
              "    }\n",
              "</style>\n",
              "<table border=\"1\" class=\"dataframe\">\n",
              "  <thead>\n",
              "    <tr style=\"text-align: right;\">\n",
              "      <th></th>\n",
              "      <th>User_Id</th>\n",
              "      <th>Place_Id</th>\n",
              "      <th>Place_Ratings</th>\n",
              "    </tr>\n",
              "  </thead>\n",
              "  <tbody>\n",
              "    <tr>\n",
              "      <th>0</th>\n",
              "      <td>1</td>\n",
              "      <td>101</td>\n",
              "      <td>4</td>\n",
              "    </tr>\n",
              "    <tr>\n",
              "      <th>1</th>\n",
              "      <td>1</td>\n",
              "      <td>103</td>\n",
              "      <td>3</td>\n",
              "    </tr>\n",
              "    <tr>\n",
              "      <th>2</th>\n",
              "      <td>1</td>\n",
              "      <td>15</td>\n",
              "      <td>3</td>\n",
              "    </tr>\n",
              "    <tr>\n",
              "      <th>3</th>\n",
              "      <td>1</td>\n",
              "      <td>154</td>\n",
              "      <td>2</td>\n",
              "    </tr>\n",
              "    <tr>\n",
              "      <th>4</th>\n",
              "      <td>1</td>\n",
              "      <td>179</td>\n",
              "      <td>3</td>\n",
              "    </tr>\n",
              "    <tr>\n",
              "      <th>...</th>\n",
              "      <td>...</td>\n",
              "      <td>...</td>\n",
              "      <td>...</td>\n",
              "    </tr>\n",
              "    <tr>\n",
              "      <th>9592</th>\n",
              "      <td>99</td>\n",
              "      <td>68</td>\n",
              "      <td>5</td>\n",
              "    </tr>\n",
              "    <tr>\n",
              "      <th>9593</th>\n",
              "      <td>99</td>\n",
              "      <td>70</td>\n",
              "      <td>3</td>\n",
              "    </tr>\n",
              "    <tr>\n",
              "      <th>9594</th>\n",
              "      <td>99</td>\n",
              "      <td>76</td>\n",
              "      <td>4</td>\n",
              "    </tr>\n",
              "    <tr>\n",
              "      <th>9595</th>\n",
              "      <td>99</td>\n",
              "      <td>84</td>\n",
              "      <td>5</td>\n",
              "    </tr>\n",
              "    <tr>\n",
              "      <th>9596</th>\n",
              "      <td>99</td>\n",
              "      <td>94</td>\n",
              "      <td>3</td>\n",
              "    </tr>\n",
              "  </tbody>\n",
              "</table>\n",
              "<p>9597 rows × 3 columns</p>\n",
              "</div>\n",
              "      <button class=\"colab-df-convert\" onclick=\"convertToInteractive('df-7ebfa362-a34f-4031-875e-c864a91477b4')\"\n",
              "              title=\"Convert this dataframe to an interactive table.\"\n",
              "              style=\"display:none;\">\n",
              "        \n",
              "  <svg xmlns=\"http://www.w3.org/2000/svg\" height=\"24px\"viewBox=\"0 0 24 24\"\n",
              "       width=\"24px\">\n",
              "    <path d=\"M0 0h24v24H0V0z\" fill=\"none\"/>\n",
              "    <path d=\"M18.56 5.44l.94 2.06.94-2.06 2.06-.94-2.06-.94-.94-2.06-.94 2.06-2.06.94zm-11 1L8.5 8.5l.94-2.06 2.06-.94-2.06-.94L8.5 2.5l-.94 2.06-2.06.94zm10 10l.94 2.06.94-2.06 2.06-.94-2.06-.94-.94-2.06-.94 2.06-2.06.94z\"/><path d=\"M17.41 7.96l-1.37-1.37c-.4-.4-.92-.59-1.43-.59-.52 0-1.04.2-1.43.59L10.3 9.45l-7.72 7.72c-.78.78-.78 2.05 0 2.83L4 21.41c.39.39.9.59 1.41.59.51 0 1.02-.2 1.41-.59l7.78-7.78 2.81-2.81c.8-.78.8-2.07 0-2.86zM5.41 20L4 18.59l7.72-7.72 1.47 1.35L5.41 20z\"/>\n",
              "  </svg>\n",
              "      </button>\n",
              "      \n",
              "  <style>\n",
              "    .colab-df-container {\n",
              "      display:flex;\n",
              "      flex-wrap:wrap;\n",
              "      gap: 12px;\n",
              "    }\n",
              "\n",
              "    .colab-df-convert {\n",
              "      background-color: #E8F0FE;\n",
              "      border: none;\n",
              "      border-radius: 50%;\n",
              "      cursor: pointer;\n",
              "      display: none;\n",
              "      fill: #1967D2;\n",
              "      height: 32px;\n",
              "      padding: 0 0 0 0;\n",
              "      width: 32px;\n",
              "    }\n",
              "\n",
              "    .colab-df-convert:hover {\n",
              "      background-color: #E2EBFA;\n",
              "      box-shadow: 0px 1px 2px rgba(60, 64, 67, 0.3), 0px 1px 3px 1px rgba(60, 64, 67, 0.15);\n",
              "      fill: #174EA6;\n",
              "    }\n",
              "\n",
              "    [theme=dark] .colab-df-convert {\n",
              "      background-color: #3B4455;\n",
              "      fill: #D2E3FC;\n",
              "    }\n",
              "\n",
              "    [theme=dark] .colab-df-convert:hover {\n",
              "      background-color: #434B5C;\n",
              "      box-shadow: 0px 1px 3px 1px rgba(0, 0, 0, 0.15);\n",
              "      filter: drop-shadow(0px 1px 2px rgba(0, 0, 0, 0.3));\n",
              "      fill: #FFFFFF;\n",
              "    }\n",
              "  </style>\n",
              "\n",
              "      <script>\n",
              "        const buttonEl =\n",
              "          document.querySelector('#df-7ebfa362-a34f-4031-875e-c864a91477b4 button.colab-df-convert');\n",
              "        buttonEl.style.display =\n",
              "          google.colab.kernel.accessAllowed ? 'block' : 'none';\n",
              "\n",
              "        async function convertToInteractive(key) {\n",
              "          const element = document.querySelector('#df-7ebfa362-a34f-4031-875e-c864a91477b4');\n",
              "          const dataTable =\n",
              "            await google.colab.kernel.invokeFunction('convertToInteractive',\n",
              "                                                     [key], {});\n",
              "          if (!dataTable) return;\n",
              "\n",
              "          const docLinkHtml = 'Like what you see? Visit the ' +\n",
              "            '<a target=\"_blank\" href=https://colab.research.google.com/notebooks/data_table.ipynb>data table notebook</a>'\n",
              "            + ' to learn more about interactive tables.';\n",
              "          element.innerHTML = '';\n",
              "          dataTable['output_type'] = 'display_data';\n",
              "          await google.colab.output.renderOutput(dataTable, element);\n",
              "          const docLink = document.createElement('div');\n",
              "          docLink.innerHTML = docLinkHtml;\n",
              "          element.appendChild(docLink);\n",
              "        }\n",
              "      </script>\n",
              "    </div>\n",
              "  </div>\n",
              "  "
            ]
          },
          "metadata": {},
          "execution_count": 79
        }
      ]
    },
    {
      "cell_type": "code",
      "source": [
        "interactions_dict = {name: np.array(value) for name, value in interact.items()}"
      ],
      "metadata": {
        "id": "AmzvloL9jSby"
      },
      "execution_count": null,
      "outputs": []
    },
    {
      "cell_type": "code",
      "source": [
        "interactions_dict"
      ],
      "metadata": {
        "colab": {
          "base_uri": "https://localhost:8080/"
        },
        "id": "s1ScYLH3lRHA",
        "outputId": "559c0b3a-514e-4926-c3a0-9bf00e022eaf"
      },
      "execution_count": null,
      "outputs": [
        {
          "output_type": "execute_result",
          "data": {
            "text/plain": [
              "{'Place_Id': array(['101', '103', '15', ..., '76', '84', '94'], dtype=object),\n",
              " 'Place_Ratings': array([4, 3, 3, ..., 4, 5, 3]),\n",
              " 'User_Id': array(['1', '1', '1', ..., '99', '99', '99'], dtype=object)}"
            ]
          },
          "metadata": {},
          "execution_count": 81
        }
      ]
    },
    {
      "cell_type": "code",
      "source": [
        "interactions = tf.data.Dataset.from_tensor_slices(interactions_dict)"
      ],
      "metadata": {
        "id": "4TOnNzwQlSR4"
      },
      "execution_count": null,
      "outputs": []
    },
    {
      "cell_type": "code",
      "source": [
        "for i in interactions_dict:\n",
        "  print(i)"
      ],
      "metadata": {
        "colab": {
          "base_uri": "https://localhost:8080/"
        },
        "id": "HU3V0SMrltQR",
        "outputId": "f6c619ef-9362-4547-c926-a893ae38baef"
      },
      "execution_count": null,
      "outputs": [
        {
          "output_type": "stream",
          "name": "stdout",
          "text": [
            "User_Id\n",
            "Place_Id\n",
            "Place_Ratings\n"
          ]
        }
      ]
    },
    {
      "cell_type": "code",
      "source": [
        "items_dict = tourism_rating[['Place_Id']].drop_duplicates()\n",
        "items_dict = {name: np.array(value) for name, value in items_dict.items()}\n",
        "items = tf.data.Dataset.from_tensor_slices(items_dict)"
      ],
      "metadata": {
        "id": "Y3F7t3uMlzEX"
      },
      "execution_count": null,
      "outputs": []
    },
    {
      "cell_type": "code",
      "source": [
        "interactions = interactions.map(lambda x: {\n",
        "    'User_Id' : x['User_Id'], \n",
        "    'Place_Id' : x['Place_Id'], \n",
        "    'Place_Ratings' : float(x['Place_Ratings']),\n",
        "\n",
        "})"
      ],
      "metadata": {
        "id": "I6lsxOzfoQzG"
      },
      "execution_count": null,
      "outputs": []
    },
    {
      "cell_type": "code",
      "source": [
        "items = items.map(lambda x: x['Place_Id'])"
      ],
      "metadata": {
        "id": "M5pfmqvHoZtD"
      },
      "execution_count": null,
      "outputs": []
    },
    {
      "cell_type": "code",
      "source": [
        "unique_item_titles = np.unique(np.concatenate(list(items.batch(1000))))\n",
        "unique_user_ids = np.unique(np.concatenate(list(interactions.batch(1_000).map(lambda x: x[\"User_Id\"]))))"
      ],
      "metadata": {
        "id": "gq1ETlzUob2b"
      },
      "execution_count": null,
      "outputs": []
    },
    {
      "cell_type": "code",
      "source": [
        "unique_item_titles = np.unique(np.concatenate(list(items.batch(1000))))\n",
        "unique_user_ids = np.unique(np.concatenate(list(interactions.batch(1_000).map(lambda x: x[\"User_Id\"]))))\n",
        "\n",
        "# Randomly shuffle data and split between train and test.\n",
        "tf.random.set_seed(42)\n",
        "shuffled = interactions.shuffle(100_000, seed=42, reshuffle_each_iteration=False)\n",
        "\n",
        "train = shuffled.take(60_000)\n",
        "test = shuffled.skip(60_000).take(20_000)"
      ],
      "metadata": {
        "id": "x-delawhoqBQ"
      },
      "execution_count": null,
      "outputs": []
    },
    {
      "cell_type": "code",
      "source": [
        "train"
      ],
      "metadata": {
        "colab": {
          "base_uri": "https://localhost:8080/"
        },
        "id": "3NwWrnSipJhQ",
        "outputId": "4e7b3682-1113-4cde-ed1e-94767577b300"
      },
      "execution_count": null,
      "outputs": [
        {
          "output_type": "execute_result",
          "data": {
            "text/plain": [
              "<TakeDataset element_spec={'User_Id': TensorSpec(shape=(), dtype=tf.int64, name=None), 'Place_Id': TensorSpec(shape=(), dtype=tf.int64, name=None), 'Place_Ratings': TensorSpec(shape=(), dtype=tf.float32, name=None)}>"
            ]
          },
          "metadata": {},
          "execution_count": 52
        }
      ]
    },
    {
      "cell_type": "code",
      "source": [
        "for i in train:\n",
        "  print(i)"
      ],
      "metadata": {
        "id": "gnDvtSeTpP8S"
      },
      "execution_count": null,
      "outputs": []
    },
    {
      "cell_type": "code",
      "source": [
        "class RetailModel(tfrs.Model):\n",
        "\n",
        "    def __init__(self, user_model, item_model):\n",
        "        super().__init__()\n",
        "        \n",
        "        ### Candidate model (item)\n",
        "        ### This is Keras preprocessing layers to first convert user ids to integers, \n",
        "        ### and then convert those to user embeddings via an Embedding layer. \n",
        "        ### We use the list of unique user ids we computed earlier as a vocabulary:\n",
        "        item_model = tf.keras.Sequential([\n",
        "                                        tf.keras.layers.experimental.preprocessing.StringLookup(\n",
        "                                        vocabulary=unique_item_titles, mask_token=None),\n",
        "                                        tf.keras.layers.Embedding(len(unique_item_titles) + 1, embedding_dimension)\n",
        "                                        ])\n",
        "        ### we pass the embedding layer into item model\n",
        "        self.item_model: tf.keras.Model = item_model\n",
        "            \n",
        "        ### Query model (users)    \n",
        "        user_model = tf.keras.Sequential([\n",
        "                                        tf.keras.layers.experimental.preprocessing.StringLookup(\n",
        "                                        vocabulary=unique_user_ids, mask_token=None),\n",
        "                                        # We add an additional embedding to account for unknown tokens.\n",
        "                                        tf.keras.layers.Embedding(len(unique_user_ids) + 1, embedding_dimension)\n",
        "                                        ])\n",
        "        self.user_model: tf.keras.Model = user_model\n",
        "        \n",
        "        ### for retrieval model. we take top-k accuracy as metrics\n",
        "        metrics = tfrs.metrics.FactorizedTopK(candidates=items.batch(128).map(item_model))\n",
        "        \n",
        "        # define the task, which is retrieval)    \n",
        "        task = tfrs.tasks.Retrieval(metrics=metrics)\n",
        "       \n",
        "        self.task: tf.keras.layers.Layer = task\n",
        "\n",
        "    def compute_loss(self, features: Dict[Text, tf.Tensor], training=False) -> tf.Tensor:\n",
        "        # We pick out the user features and pass them into the user model.\n",
        "        user_embeddings = self.user_model(features[\"User_Id\"])\n",
        "        # And pick out the movie features and pass them into the movie model,\n",
        "        # getting embeddings back.\n",
        "        positive_movie_embeddings = self.item_model(features['Place_Id'])\n",
        "\n",
        "        # The task computes the loss and the metrics.\n",
        "        return self.task(user_embeddings, positive_movie_embeddings)"
      ],
      "metadata": {
        "id": "XZSZ9MgfpShb"
      },
      "execution_count": null,
      "outputs": []
    },
    {
      "cell_type": "code",
      "source": [
        "### Fitting and evaluating\n",
        "\n",
        "### we choose the dimensionality of the query and candicate representation.\n",
        "embedding_dimension = 32\n",
        "\n",
        "## we pass the model, which is the same model we created in the query and candidate tower, into the model\n",
        "item_model = tf.keras.Sequential([\n",
        "                                tf.keras.layers.experimental.preprocessing.StringLookup(\n",
        "                                vocabulary=unique_item_titles, mask_token=None),\n",
        "                                tf.keras.layers.Embedding(len(unique_item_titles) + 1, embedding_dimension)\n",
        "                                ])\n",
        "\n",
        "user_model = tf.keras.Sequential([\n",
        "                                tf.keras.layers.experimental.preprocessing.StringLookup(\n",
        "                                vocabulary=unique_user_ids, mask_token=None),\n",
        "                                # We add an additional embedding to account for unknown tokens.\n",
        "                                tf.keras.layers.Embedding(len(unique_user_ids) + 1, embedding_dimension)\n",
        "                                ])\n",
        "\n",
        "model = RetailModel(user_model, item_model)\n",
        "\n",
        "# a smaller learning rate may make the model move slower and prone to overfitting, so we stick to 0.1\n",
        "# other optimizers, such as SGD and Adam, are listed here https://www.tensorflow.org/api_docs/python/tf/keras/optimizers\n",
        "model.compile(optimizer=tf.keras.optimizers.Adagrad(learning_rate=0.1))\n",
        "\n",
        "cached_train = train.shuffle(1000).batch(500).cache()\n",
        "cached_test = test.batch(250).cache()\n",
        "\n",
        "## fit the model with ten epochs\n",
        "model_hist = model.fit(cached_train, epochs=10)\n",
        "\n",
        "#evaluate the model\n",
        "model.evaluate(cached_test, return_dict=True)"
      ],
      "metadata": {
        "colab": {
          "base_uri": "https://localhost:8080/",
          "height": 747
        },
        "id": "Ov-HENkWpbmS",
        "outputId": "1fe53403-bbaf-4fa5-abf9-f2d9bda952e0"
      },
      "execution_count": null,
      "outputs": [
        {
          "output_type": "stream",
          "name": "stdout",
          "text": [
            "Epoch 1/10\n",
            "20/20 [==============================] - 3s 75ms/step - factorized_top_k/top_1_categorical_accuracy: 0.0000e+00 - factorized_top_k/top_5_categorical_accuracy: 0.0028 - factorized_top_k/top_10_categorical_accuracy: 0.0095 - factorized_top_k/top_50_categorical_accuracy: 0.0826 - factorized_top_k/top_100_categorical_accuracy: 0.1956 - loss: 2854.2029 - regularization_loss: 0.0000e+00 - total_loss: 2854.2029\n",
            "Epoch 2/10\n",
            "20/20 [==============================] - 1s 73ms/step - factorized_top_k/top_1_categorical_accuracy: 0.0000e+00 - factorized_top_k/top_5_categorical_accuracy: 0.0128 - factorized_top_k/top_10_categorical_accuracy: 0.0347 - factorized_top_k/top_50_categorical_accuracy: 0.2400 - factorized_top_k/top_100_categorical_accuracy: 0.4476 - loss: 2828.0044 - regularization_loss: 0.0000e+00 - total_loss: 2828.0044\n",
            "Epoch 3/10\n",
            "20/20 [==============================] - 1s 73ms/step - factorized_top_k/top_1_categorical_accuracy: 0.0000e+00 - factorized_top_k/top_5_categorical_accuracy: 0.0346 - factorized_top_k/top_10_categorical_accuracy: 0.0876 - factorized_top_k/top_50_categorical_accuracy: 0.4127 - factorized_top_k/top_100_categorical_accuracy: 0.6374 - loss: 2720.3923 - regularization_loss: 0.0000e+00 - total_loss: 2720.3923\n",
            "Epoch 4/10\n",
            "20/20 [==============================] - 2s 78ms/step - factorized_top_k/top_1_categorical_accuracy: 0.0000e+00 - factorized_top_k/top_5_categorical_accuracy: 0.0587 - factorized_top_k/top_10_categorical_accuracy: 0.1330 - factorized_top_k/top_50_categorical_accuracy: 0.5275 - factorized_top_k/top_100_categorical_accuracy: 0.7507 - loss: 2580.8799 - regularization_loss: 0.0000e+00 - total_loss: 2580.8799\n",
            "Epoch 5/10\n",
            "20/20 [==============================] - 1s 75ms/step - factorized_top_k/top_1_categorical_accuracy: 0.0000e+00 - factorized_top_k/top_5_categorical_accuracy: 0.0696 - factorized_top_k/top_10_categorical_accuracy: 0.1616 - factorized_top_k/top_50_categorical_accuracy: 0.6005 - factorized_top_k/top_100_categorical_accuracy: 0.8079 - loss: 2475.4599 - regularization_loss: 0.0000e+00 - total_loss: 2475.4599\n",
            "Epoch 6/10\n",
            "20/20 [==============================] - 2s 77ms/step - factorized_top_k/top_1_categorical_accuracy: 0.0000e+00 - factorized_top_k/top_5_categorical_accuracy: 0.0785 - factorized_top_k/top_10_categorical_accuracy: 0.1789 - factorized_top_k/top_50_categorical_accuracy: 0.6457 - factorized_top_k/top_100_categorical_accuracy: 0.8427 - loss: 2403.4487 - regularization_loss: 0.0000e+00 - total_loss: 2403.4487\n",
            "Epoch 7/10\n",
            "20/20 [==============================] - 2s 78ms/step - factorized_top_k/top_1_categorical_accuracy: 0.0000e+00 - factorized_top_k/top_5_categorical_accuracy: 0.0821 - factorized_top_k/top_10_categorical_accuracy: 0.1933 - factorized_top_k/top_50_categorical_accuracy: 0.6807 - factorized_top_k/top_100_categorical_accuracy: 0.8670 - loss: 2352.4303 - regularization_loss: 0.0000e+00 - total_loss: 2352.4303\n",
            "Epoch 8/10\n",
            "20/20 [==============================] - 2s 78ms/step - factorized_top_k/top_1_categorical_accuracy: 0.0000e+00 - factorized_top_k/top_5_categorical_accuracy: 0.0842 - factorized_top_k/top_10_categorical_accuracy: 0.1970 - factorized_top_k/top_50_categorical_accuracy: 0.7058 - factorized_top_k/top_100_categorical_accuracy: 0.8817 - loss: 2314.3146 - regularization_loss: 0.0000e+00 - total_loss: 2314.3146\n",
            "Epoch 9/10\n",
            "20/20 [==============================] - 1s 74ms/step - factorized_top_k/top_1_categorical_accuracy: 0.0000e+00 - factorized_top_k/top_5_categorical_accuracy: 0.0863 - factorized_top_k/top_10_categorical_accuracy: 0.2029 - factorized_top_k/top_50_categorical_accuracy: 0.7242 - factorized_top_k/top_100_categorical_accuracy: 0.8930 - loss: 2284.5421 - regularization_loss: 0.0000e+00 - total_loss: 2284.5421\n",
            "Epoch 10/10\n",
            "20/20 [==============================] - 2s 78ms/step - factorized_top_k/top_1_categorical_accuracy: 1.0420e-04 - factorized_top_k/top_5_categorical_accuracy: 0.0877 - factorized_top_k/top_10_categorical_accuracy: 0.2073 - factorized_top_k/top_50_categorical_accuracy: 0.7403 - factorized_top_k/top_100_categorical_accuracy: 0.9022 - loss: 2260.4747 - regularization_loss: 0.0000e+00 - total_loss: 2260.4747\n"
          ]
        },
        {
          "output_type": "stream",
          "name": "stderr",
          "text": [
            "/usr/local/lib/python3.7/dist-packages/keras/utils/generic_utils.py:923: RuntimeWarning: divide by zero encountered in log10\n",
            "  numdigits = int(np.log10(self.target)) + 1\n"
          ]
        },
        {
          "output_type": "error",
          "ename": "OverflowError",
          "evalue": "ignored",
          "traceback": [
            "\u001b[0;31m---------------------------------------------------------------------------\u001b[0m",
            "\u001b[0;31mOverflowError\u001b[0m                             Traceback (most recent call last)",
            "\u001b[0;32m<ipython-input-92-4fbd44d0574d>\u001b[0m in \u001b[0;36m<module>\u001b[0;34m()\u001b[0m\n\u001b[1;32m     31\u001b[0m \u001b[0;34m\u001b[0m\u001b[0m\n\u001b[1;32m     32\u001b[0m \u001b[0;31m#evaluate the model\u001b[0m\u001b[0;34m\u001b[0m\u001b[0;34m\u001b[0m\u001b[0;34m\u001b[0m\u001b[0m\n\u001b[0;32m---> 33\u001b[0;31m \u001b[0mmodel\u001b[0m\u001b[0;34m.\u001b[0m\u001b[0mevaluate\u001b[0m\u001b[0;34m(\u001b[0m\u001b[0mcached_test\u001b[0m\u001b[0;34m,\u001b[0m \u001b[0mreturn_dict\u001b[0m\u001b[0;34m=\u001b[0m\u001b[0;32mTrue\u001b[0m\u001b[0;34m)\u001b[0m\u001b[0;34m\u001b[0m\u001b[0;34m\u001b[0m\u001b[0m\n\u001b[0m",
            "\u001b[0;32m/usr/local/lib/python3.7/dist-packages/keras/utils/traceback_utils.py\u001b[0m in \u001b[0;36merror_handler\u001b[0;34m(*args, **kwargs)\u001b[0m\n\u001b[1;32m     65\u001b[0m     \u001b[0;32mexcept\u001b[0m \u001b[0mException\u001b[0m \u001b[0;32mas\u001b[0m \u001b[0me\u001b[0m\u001b[0;34m:\u001b[0m  \u001b[0;31m# pylint: disable=broad-except\u001b[0m\u001b[0;34m\u001b[0m\u001b[0;34m\u001b[0m\u001b[0m\n\u001b[1;32m     66\u001b[0m       \u001b[0mfiltered_tb\u001b[0m \u001b[0;34m=\u001b[0m \u001b[0m_process_traceback_frames\u001b[0m\u001b[0;34m(\u001b[0m\u001b[0me\u001b[0m\u001b[0;34m.\u001b[0m\u001b[0m__traceback__\u001b[0m\u001b[0;34m)\u001b[0m\u001b[0;34m\u001b[0m\u001b[0;34m\u001b[0m\u001b[0m\n\u001b[0;32m---> 67\u001b[0;31m       \u001b[0;32mraise\u001b[0m \u001b[0me\u001b[0m\u001b[0;34m.\u001b[0m\u001b[0mwith_traceback\u001b[0m\u001b[0;34m(\u001b[0m\u001b[0mfiltered_tb\u001b[0m\u001b[0;34m)\u001b[0m \u001b[0;32mfrom\u001b[0m \u001b[0;32mNone\u001b[0m\u001b[0;34m\u001b[0m\u001b[0;34m\u001b[0m\u001b[0m\n\u001b[0m\u001b[1;32m     68\u001b[0m     \u001b[0;32mfinally\u001b[0m\u001b[0;34m:\u001b[0m\u001b[0;34m\u001b[0m\u001b[0;34m\u001b[0m\u001b[0m\n\u001b[1;32m     69\u001b[0m       \u001b[0;32mdel\u001b[0m \u001b[0mfiltered_tb\u001b[0m\u001b[0;34m\u001b[0m\u001b[0;34m\u001b[0m\u001b[0m\n",
            "\u001b[0;32m/usr/local/lib/python3.7/dist-packages/keras/utils/generic_utils.py\u001b[0m in \u001b[0;36mupdate\u001b[0;34m(self, current, values, finalize)\u001b[0m\n\u001b[1;32m    921\u001b[0m \u001b[0;34m\u001b[0m\u001b[0m\n\u001b[1;32m    922\u001b[0m       \u001b[0;32mif\u001b[0m \u001b[0mself\u001b[0m\u001b[0;34m.\u001b[0m\u001b[0mtarget\u001b[0m \u001b[0;32mis\u001b[0m \u001b[0;32mnot\u001b[0m \u001b[0;32mNone\u001b[0m\u001b[0;34m:\u001b[0m\u001b[0;34m\u001b[0m\u001b[0;34m\u001b[0m\u001b[0m\n\u001b[0;32m--> 923\u001b[0;31m         \u001b[0mnumdigits\u001b[0m \u001b[0;34m=\u001b[0m \u001b[0mint\u001b[0m\u001b[0;34m(\u001b[0m\u001b[0mnp\u001b[0m\u001b[0;34m.\u001b[0m\u001b[0mlog10\u001b[0m\u001b[0;34m(\u001b[0m\u001b[0mself\u001b[0m\u001b[0;34m.\u001b[0m\u001b[0mtarget\u001b[0m\u001b[0;34m)\u001b[0m\u001b[0;34m)\u001b[0m \u001b[0;34m+\u001b[0m \u001b[0;36m1\u001b[0m\u001b[0;34m\u001b[0m\u001b[0;34m\u001b[0m\u001b[0m\n\u001b[0m\u001b[1;32m    924\u001b[0m         \u001b[0mbar\u001b[0m \u001b[0;34m=\u001b[0m \u001b[0;34m(\u001b[0m\u001b[0;34m'%'\u001b[0m \u001b[0;34m+\u001b[0m \u001b[0mstr\u001b[0m\u001b[0;34m(\u001b[0m\u001b[0mnumdigits\u001b[0m\u001b[0;34m)\u001b[0m \u001b[0;34m+\u001b[0m \u001b[0;34m'd/%d ['\u001b[0m\u001b[0;34m)\u001b[0m \u001b[0;34m%\u001b[0m \u001b[0;34m(\u001b[0m\u001b[0mcurrent\u001b[0m\u001b[0;34m,\u001b[0m \u001b[0mself\u001b[0m\u001b[0;34m.\u001b[0m\u001b[0mtarget\u001b[0m\u001b[0;34m)\u001b[0m\u001b[0;34m\u001b[0m\u001b[0;34m\u001b[0m\u001b[0m\n\u001b[1;32m    925\u001b[0m         \u001b[0mprog\u001b[0m \u001b[0;34m=\u001b[0m \u001b[0mfloat\u001b[0m\u001b[0;34m(\u001b[0m\u001b[0mcurrent\u001b[0m\u001b[0;34m)\u001b[0m \u001b[0;34m/\u001b[0m \u001b[0mself\u001b[0m\u001b[0;34m.\u001b[0m\u001b[0mtarget\u001b[0m\u001b[0;34m\u001b[0m\u001b[0;34m\u001b[0m\u001b[0m\n",
            "\u001b[0;31mOverflowError\u001b[0m: cannot convert float infinity to integer"
          ]
        }
      ]
    },
    {
      "cell_type": "code",
      "source": [
        "# num_validation_runs = len(one_layer_history.history[\"val_factorized_top_k/top_100_categorical_accuracy\"])\n",
        "import matplotlib.pyplot as plt\n",
        "epochs = [i for i in range(10)]\n",
        "\n",
        "plt.plot(epochs, model_hist.history[\"factorized_top_k/top_100_categorical_accuracy\"], label=\"accuracy\")\n",
        "plt.title(\"Accuracy vs epoch\")\n",
        "plt.xlabel(\"epoch\")\n",
        "plt.ylabel(\"Top-100 accuracy\");\n",
        "plt.legend()"
      ],
      "metadata": {
        "colab": {
          "base_uri": "https://localhost:8080/",
          "height": 312
        },
        "id": "MQyy2qR_p_co",
        "outputId": "1748f0b9-9004-48ed-aa40-c66bef715652"
      },
      "execution_count": null,
      "outputs": [
        {
          "output_type": "execute_result",
          "data": {
            "text/plain": [
              "<matplotlib.legend.Legend at 0x7f4a2a8c6710>"
            ]
          },
          "metadata": {},
          "execution_count": 94
        },
        {
          "output_type": "display_data",
          "data": {
            "text/plain": [
              "<Figure size 432x288 with 1 Axes>"
            ],
            "image/png": "[encoded data removed]"
          },
          "metadata": {
            "needs_background": "light"
          }
        }
      ]
    },
    {
      "cell_type": "code",
      "source": [
        "# Create a model that takes in raw query features, and\n",
        "index = tfrs.layers.factorized_top_k.BruteForce(model.user_model)\n",
        "# recommends movies out of the entire movies dataset.\n",
        "index.index_from_dataset(items.batch(10).map(model.item_model))\n",
        "\n",
        "# Get recommendations.\n",
        "j = str(40)\n",
        "_, titles = index(tf.constant([j]))\n",
        "print(f\"Recommendations for user %s: {titles[0]}\" %(j))"
      ],
      "metadata": {
        "colab": {
          "base_uri": "https://localhost:8080/"
        },
        "id": "AM5JpzAo0OnD",
        "outputId": "74188b5f-b1f7-46c8-adb0-f197963dbd4f"
      },
      "execution_count": null,
      "outputs": [
        {
          "output_type": "stream",
          "name": "stdout",
          "text": [
            "Recommendations for user 40: [143 412 158 298 410 292 114  10  74   0]\n"
          ]
        }
      ]
    },
    {
      "cell_type": "code",
      "source": [
        "tourism_id.loc[[143, 412, 158, 298, 410, 292, 114,  10,  74 ,  0]][\"Place_Name\"]"
      ],
      "metadata": {
        "colab": {
          "base_uri": "https://localhost:8080/"
        },
        "id": "yHypWpus0Y6b",
        "outputId": "c66a04f3-841a-42ce-c926-39bb673bffb7"
      },
      "execution_count": null,
      "outputs": [
        {
          "output_type": "execute_result",
          "data": {
            "text/plain": [
              "143                     Goa Jomblang\n",
              "412    Museum TNI AL Loka Jala Crana\n",
              "158                 Hutan Pinus Asri\n",
              "298         Sendang Geulis Kahuripan\n",
              "410        Masjid Muhammad Cheng Hoo\n",
              "292                      Taman Badak\n",
              "114                 Monumen Sanapati\n",
              "10                    Pulau Bidadari\n",
              "74                 SnowBay Waterpark\n",
              "0                   Monumen Nasional\n",
              "Name: Place_Name, dtype: object"
            ]
          },
          "metadata": {},
          "execution_count": 101
        }
      ]
    },
    {
      "cell_type": "code",
      "source": [
        "# Create a model that takes in raw query features, and\n",
        "index = tfrs.layers.factorized_top_k.BruteForce(model.user_model)\n",
        "# recommends movies out of the entire movies dataset.\n",
        "index.index_from_dataset(items.batch(10).map(model.item_model))\n",
        "\n",
        "# Get recommendations.\n",
        "j = str(1)\n",
        "_, titles = index(tf.constant([j]))\n",
        "print(f\"Recommendations for user %s: {titles[0]}\" %(j))"
      ],
      "metadata": {
        "colab": {
          "base_uri": "https://localhost:8080/"
        },
        "id": "jwFv3GfD04_S",
        "outputId": "7e200583-f2e0-4667-c791-dcd6b4980384"
      },
      "execution_count": null,
      "outputs": [
        {
          "output_type": "stream",
          "name": "stdout",
          "text": [
            "Recommendations for user 1: [ 18  24  28  23   6  20  17  11 364 381]\n"
          ]
        }
      ]
    },
    {
      "cell_type": "code",
      "source": [
        "tourism_id.loc[[ 18 , 24 , 28 , 23 ,  6 , 20 , 17 , 11, 364 ,381]][\"Place_Name\"]"
      ],
      "metadata": {
        "colab": {
          "base_uri": "https://localhost:8080/"
        },
        "id": "dTuaR_D91Ec-",
        "outputId": "c452019d-f6a1-47a0-e2cd-1fe4791025a2"
      },
      "execution_count": null,
      "outputs": [
        {
          "output_type": "execute_result",
          "data": {
            "text/plain": [
              "18                      Kidzania\n",
              "24             Pasar Tanah Abang\n",
              "28     Wisata Kuliner Pecenongan\n",
              "23               Museum Nasional\n",
              "6         Kebun Binatang Ragunan\n",
              "20                 Museum Wayang\n",
              "17         Museum Bank Indonesia\n",
              "11                    Pulau Pari\n",
              "364             Waduk Jatibarang\n",
              "381        Kampoeng Kopi Banaran\n",
              "Name: Place_Name, dtype: object"
            ]
          },
          "metadata": {},
          "execution_count": 103
        }
      ]
    },
    {
      "cell_type": "code",
      "source": [
        ""
      ],
      "metadata": {
        "id": "qd1wEtb-1KkC"
      },
      "execution_count": null,
      "outputs": []
    }
  ]
}